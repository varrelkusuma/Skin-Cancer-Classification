{
 "cells": [
  {
   "cell_type": "code",
   "execution_count": 1,
   "metadata": {},
   "outputs": [],
   "source": [
    "import numpy as np\n",
    "import pandas as pd\n",
    "import matplotlib.pyplot as plt"
   ]
  },
  {
   "cell_type": "code",
   "execution_count": 2,
   "metadata": {},
   "outputs": [],
   "source": [
    "dataset = pd.read_csv('C:/Users/ravee/Jupyter/Skin-Cancer-Classification/data/glcm3.csv', header=None)\n",
    "X = dataset.iloc[:, 0:24].values\n",
    "Y = dataset.iloc[:, 24].values"
   ]
  },
  {
   "cell_type": "code",
   "execution_count": 7,
   "metadata": {},
   "outputs": [
    {
     "data": {
      "text/html": [
       "<div>\n",
       "<style scoped>\n",
       "    .dataframe tbody tr th:only-of-type {\n",
       "        vertical-align: middle;\n",
       "    }\n",
       "\n",
       "    .dataframe tbody tr th {\n",
       "        vertical-align: top;\n",
       "    }\n",
       "\n",
       "    .dataframe thead th {\n",
       "        text-align: right;\n",
       "    }\n",
       "</style>\n",
       "<table border=\"1\" class=\"dataframe\">\n",
       "  <thead>\n",
       "    <tr style=\"text-align: right;\">\n",
       "      <th></th>\n",
       "      <th>0</th>\n",
       "      <th>1</th>\n",
       "      <th>2</th>\n",
       "      <th>3</th>\n",
       "      <th>4</th>\n",
       "      <th>5</th>\n",
       "      <th>6</th>\n",
       "      <th>7</th>\n",
       "      <th>8</th>\n",
       "      <th>9</th>\n",
       "      <th>...</th>\n",
       "      <th>15</th>\n",
       "      <th>16</th>\n",
       "      <th>17</th>\n",
       "      <th>18</th>\n",
       "      <th>19</th>\n",
       "      <th>20</th>\n",
       "      <th>21</th>\n",
       "      <th>22</th>\n",
       "      <th>23</th>\n",
       "      <th>24</th>\n",
       "    </tr>\n",
       "  </thead>\n",
       "  <tbody>\n",
       "    <tr>\n",
       "      <th>0</th>\n",
       "      <td>0.111339</td>\n",
       "      <td>0.152491</td>\n",
       "      <td>0.114248</td>\n",
       "      <td>0.153011</td>\n",
       "      <td>0.109154</td>\n",
       "      <td>0.147662</td>\n",
       "      <td>0.112359</td>\n",
       "      <td>0.148381</td>\n",
       "      <td>0.945635</td>\n",
       "      <td>0.926633</td>\n",
       "      <td>...</td>\n",
       "      <td>0.265834</td>\n",
       "      <td>0.995359</td>\n",
       "      <td>0.993634</td>\n",
       "      <td>0.995237</td>\n",
       "      <td>0.993613</td>\n",
       "      <td>0.076647</td>\n",
       "      <td>0.070833</td>\n",
       "      <td>0.076181</td>\n",
       "      <td>0.070668</td>\n",
       "      <td>1</td>\n",
       "    </tr>\n",
       "    <tr>\n",
       "      <th>1</th>\n",
       "      <td>0.118241</td>\n",
       "      <td>0.158798</td>\n",
       "      <td>0.123516</td>\n",
       "      <td>0.164937</td>\n",
       "      <td>0.118169</td>\n",
       "      <td>0.158605</td>\n",
       "      <td>0.123435</td>\n",
       "      <td>0.164563</td>\n",
       "      <td>0.940922</td>\n",
       "      <td>0.920717</td>\n",
       "      <td>...</td>\n",
       "      <td>0.273114</td>\n",
       "      <td>0.992255</td>\n",
       "      <td>0.989582</td>\n",
       "      <td>0.991906</td>\n",
       "      <td>0.989182</td>\n",
       "      <td>0.082170</td>\n",
       "      <td>0.075512</td>\n",
       "      <td>0.081259</td>\n",
       "      <td>0.074591</td>\n",
       "      <td>1</td>\n",
       "    </tr>\n",
       "    <tr>\n",
       "      <th>2</th>\n",
       "      <td>0.096371</td>\n",
       "      <td>0.152091</td>\n",
       "      <td>0.117267</td>\n",
       "      <td>0.141002</td>\n",
       "      <td>0.095205</td>\n",
       "      <td>0.145822</td>\n",
       "      <td>0.114591</td>\n",
       "      <td>0.138458</td>\n",
       "      <td>0.952510</td>\n",
       "      <td>0.927680</td>\n",
       "      <td>...</td>\n",
       "      <td>0.301113</td>\n",
       "      <td>0.994811</td>\n",
       "      <td>0.991801</td>\n",
       "      <td>0.993681</td>\n",
       "      <td>0.992398</td>\n",
       "      <td>0.099094</td>\n",
       "      <td>0.089396</td>\n",
       "      <td>0.095389</td>\n",
       "      <td>0.090669</td>\n",
       "      <td>1</td>\n",
       "    </tr>\n",
       "    <tr>\n",
       "      <th>3</th>\n",
       "      <td>0.088059</td>\n",
       "      <td>0.119696</td>\n",
       "      <td>0.088056</td>\n",
       "      <td>0.115000</td>\n",
       "      <td>0.088009</td>\n",
       "      <td>0.119331</td>\n",
       "      <td>0.087956</td>\n",
       "      <td>0.114751</td>\n",
       "      <td>0.956000</td>\n",
       "      <td>0.940371</td>\n",
       "      <td>...</td>\n",
       "      <td>0.423064</td>\n",
       "      <td>0.987305</td>\n",
       "      <td>0.982757</td>\n",
       "      <td>0.987311</td>\n",
       "      <td>0.983433</td>\n",
       "      <td>0.187850</td>\n",
       "      <td>0.178278</td>\n",
       "      <td>0.187297</td>\n",
       "      <td>0.178983</td>\n",
       "      <td>1</td>\n",
       "    </tr>\n",
       "    <tr>\n",
       "      <th>4</th>\n",
       "      <td>0.183870</td>\n",
       "      <td>0.254857</td>\n",
       "      <td>0.172721</td>\n",
       "      <td>0.237534</td>\n",
       "      <td>0.175467</td>\n",
       "      <td>0.231480</td>\n",
       "      <td>0.166016</td>\n",
       "      <td>0.220323</td>\n",
       "      <td>0.913104</td>\n",
       "      <td>0.886569</td>\n",
       "      <td>...</td>\n",
       "      <td>0.304045</td>\n",
       "      <td>0.977174</td>\n",
       "      <td>0.968355</td>\n",
       "      <td>0.978547</td>\n",
       "      <td>0.970506</td>\n",
       "      <td>0.100605</td>\n",
       "      <td>0.090623</td>\n",
       "      <td>0.102176</td>\n",
       "      <td>0.092443</td>\n",
       "      <td>1</td>\n",
       "    </tr>\n",
       "    <tr>\n",
       "      <th>...</th>\n",
       "      <td>...</td>\n",
       "      <td>...</td>\n",
       "      <td>...</td>\n",
       "      <td>...</td>\n",
       "      <td>...</td>\n",
       "      <td>...</td>\n",
       "      <td>...</td>\n",
       "      <td>...</td>\n",
       "      <td>...</td>\n",
       "      <td>...</td>\n",
       "      <td>...</td>\n",
       "      <td>...</td>\n",
       "      <td>...</td>\n",
       "      <td>...</td>\n",
       "      <td>...</td>\n",
       "      <td>...</td>\n",
       "      <td>...</td>\n",
       "      <td>...</td>\n",
       "      <td>...</td>\n",
       "      <td>...</td>\n",
       "      <td>...</td>\n",
       "    </tr>\n",
       "    <tr>\n",
       "      <th>916</th>\n",
       "      <td>0.136390</td>\n",
       "      <td>0.188860</td>\n",
       "      <td>0.145767</td>\n",
       "      <td>0.186687</td>\n",
       "      <td>0.136127</td>\n",
       "      <td>0.187470</td>\n",
       "      <td>0.145519</td>\n",
       "      <td>0.185561</td>\n",
       "      <td>0.931963</td>\n",
       "      <td>0.906404</td>\n",
       "      <td>...</td>\n",
       "      <td>0.307004</td>\n",
       "      <td>0.986611</td>\n",
       "      <td>0.981444</td>\n",
       "      <td>0.985685</td>\n",
       "      <td>0.981658</td>\n",
       "      <td>0.103888</td>\n",
       "      <td>0.093887</td>\n",
       "      <td>0.101714</td>\n",
       "      <td>0.094251</td>\n",
       "      <td>3</td>\n",
       "    </tr>\n",
       "    <tr>\n",
       "      <th>917</th>\n",
       "      <td>0.204086</td>\n",
       "      <td>0.261437</td>\n",
       "      <td>0.198129</td>\n",
       "      <td>0.275890</td>\n",
       "      <td>0.201532</td>\n",
       "      <td>0.253912</td>\n",
       "      <td>0.196466</td>\n",
       "      <td>0.268425</td>\n",
       "      <td>0.899489</td>\n",
       "      <td>0.873792</td>\n",
       "      <td>...</td>\n",
       "      <td>0.259094</td>\n",
       "      <td>0.985333</td>\n",
       "      <td>0.981057</td>\n",
       "      <td>0.985738</td>\n",
       "      <td>0.980027</td>\n",
       "      <td>0.075938</td>\n",
       "      <td>0.068317</td>\n",
       "      <td>0.076629</td>\n",
       "      <td>0.067130</td>\n",
       "      <td>3</td>\n",
       "    </tr>\n",
       "    <tr>\n",
       "      <th>918</th>\n",
       "      <td>0.172552</td>\n",
       "      <td>0.215125</td>\n",
       "      <td>0.161815</td>\n",
       "      <td>0.229059</td>\n",
       "      <td>0.171038</td>\n",
       "      <td>0.211278</td>\n",
       "      <td>0.160423</td>\n",
       "      <td>0.224471</td>\n",
       "      <td>0.914632</td>\n",
       "      <td>0.894745</td>\n",
       "      <td>...</td>\n",
       "      <td>0.240843</td>\n",
       "      <td>0.990387</td>\n",
       "      <td>0.987980</td>\n",
       "      <td>0.990964</td>\n",
       "      <td>0.987218</td>\n",
       "      <td>0.064741</td>\n",
       "      <td>0.059560</td>\n",
       "      <td>0.066223</td>\n",
       "      <td>0.058005</td>\n",
       "      <td>3</td>\n",
       "    </tr>\n",
       "    <tr>\n",
       "      <th>919</th>\n",
       "      <td>0.254489</td>\n",
       "      <td>0.335740</td>\n",
       "      <td>0.268282</td>\n",
       "      <td>0.366426</td>\n",
       "      <td>0.242730</td>\n",
       "      <td>0.305959</td>\n",
       "      <td>0.249562</td>\n",
       "      <td>0.326843</td>\n",
       "      <td>0.879803</td>\n",
       "      <td>0.849980</td>\n",
       "      <td>...</td>\n",
       "      <td>0.216076</td>\n",
       "      <td>0.987113</td>\n",
       "      <td>0.982953</td>\n",
       "      <td>0.986366</td>\n",
       "      <td>0.981405</td>\n",
       "      <td>0.054408</td>\n",
       "      <td>0.048588</td>\n",
       "      <td>0.053877</td>\n",
       "      <td>0.046689</td>\n",
       "      <td>3</td>\n",
       "    </tr>\n",
       "    <tr>\n",
       "      <th>920</th>\n",
       "      <td>0.117896</td>\n",
       "      <td>0.170018</td>\n",
       "      <td>0.134327</td>\n",
       "      <td>0.168698</td>\n",
       "      <td>0.117804</td>\n",
       "      <td>0.168893</td>\n",
       "      <td>0.133915</td>\n",
       "      <td>0.167872</td>\n",
       "      <td>0.941107</td>\n",
       "      <td>0.915666</td>\n",
       "      <td>...</td>\n",
       "      <td>0.469022</td>\n",
       "      <td>0.957642</td>\n",
       "      <td>0.939005</td>\n",
       "      <td>0.951739</td>\n",
       "      <td>0.939479</td>\n",
       "      <td>0.240873</td>\n",
       "      <td>0.220280</td>\n",
       "      <td>0.233988</td>\n",
       "      <td>0.219982</td>\n",
       "      <td>3</td>\n",
       "    </tr>\n",
       "  </tbody>\n",
       "</table>\n",
       "<p>921 rows × 25 columns</p>\n",
       "</div>"
      ],
      "text/plain": [
       "           0         1         2         3         4         5         6   \\\n",
       "0    0.111339  0.152491  0.114248  0.153011  0.109154  0.147662  0.112359   \n",
       "1    0.118241  0.158798  0.123516  0.164937  0.118169  0.158605  0.123435   \n",
       "2    0.096371  0.152091  0.117267  0.141002  0.095205  0.145822  0.114591   \n",
       "3    0.088059  0.119696  0.088056  0.115000  0.088009  0.119331  0.087956   \n",
       "4    0.183870  0.254857  0.172721  0.237534  0.175467  0.231480  0.166016   \n",
       "..        ...       ...       ...       ...       ...       ...       ...   \n",
       "916  0.136390  0.188860  0.145767  0.186687  0.136127  0.187470  0.145519   \n",
       "917  0.204086  0.261437  0.198129  0.275890  0.201532  0.253912  0.196466   \n",
       "918  0.172552  0.215125  0.161815  0.229059  0.171038  0.211278  0.160423   \n",
       "919  0.254489  0.335740  0.268282  0.366426  0.242730  0.305959  0.249562   \n",
       "920  0.117896  0.170018  0.134327  0.168698  0.117804  0.168893  0.133915   \n",
       "\n",
       "           7         8         9   ...        15        16        17  \\\n",
       "0    0.148381  0.945635  0.926633  ...  0.265834  0.995359  0.993634   \n",
       "1    0.164563  0.940922  0.920717  ...  0.273114  0.992255  0.989582   \n",
       "2    0.138458  0.952510  0.927680  ...  0.301113  0.994811  0.991801   \n",
       "3    0.114751  0.956000  0.940371  ...  0.423064  0.987305  0.982757   \n",
       "4    0.220323  0.913104  0.886569  ...  0.304045  0.977174  0.968355   \n",
       "..        ...       ...       ...  ...       ...       ...       ...   \n",
       "916  0.185561  0.931963  0.906404  ...  0.307004  0.986611  0.981444   \n",
       "917  0.268425  0.899489  0.873792  ...  0.259094  0.985333  0.981057   \n",
       "918  0.224471  0.914632  0.894745  ...  0.240843  0.990387  0.987980   \n",
       "919  0.326843  0.879803  0.849980  ...  0.216076  0.987113  0.982953   \n",
       "920  0.167872  0.941107  0.915666  ...  0.469022  0.957642  0.939005   \n",
       "\n",
       "           18        19        20        21        22        23  24  \n",
       "0    0.995237  0.993613  0.076647  0.070833  0.076181  0.070668   1  \n",
       "1    0.991906  0.989182  0.082170  0.075512  0.081259  0.074591   1  \n",
       "2    0.993681  0.992398  0.099094  0.089396  0.095389  0.090669   1  \n",
       "3    0.987311  0.983433  0.187850  0.178278  0.187297  0.178983   1  \n",
       "4    0.978547  0.970506  0.100605  0.090623  0.102176  0.092443   1  \n",
       "..        ...       ...       ...       ...       ...       ...  ..  \n",
       "916  0.985685  0.981658  0.103888  0.093887  0.101714  0.094251   3  \n",
       "917  0.985738  0.980027  0.075938  0.068317  0.076629  0.067130   3  \n",
       "918  0.990964  0.987218  0.064741  0.059560  0.066223  0.058005   3  \n",
       "919  0.986366  0.981405  0.054408  0.048588  0.053877  0.046689   3  \n",
       "920  0.951739  0.939479  0.240873  0.220280  0.233988  0.219982   3  \n",
       "\n",
       "[921 rows x 25 columns]"
      ]
     },
     "execution_count": 7,
     "metadata": {},
     "output_type": "execute_result"
    }
   ],
   "source": [
    "dataset"
   ]
  },
  {
   "cell_type": "code",
   "execution_count": 3,
   "metadata": {},
   "outputs": [],
   "source": [
    "# Splitting the dataset\n",
    "from sklearn.model_selection import train_test_split\n",
    "X_train, X_test, y_train, y_test = train_test_split(X, Y, test_size = 0.2, random_state = 0)"
   ]
  },
  {
   "cell_type": "code",
   "execution_count": 4,
   "metadata": {},
   "outputs": [
    {
     "data": {
      "text/plain": [
       "736"
      ]
     },
     "execution_count": 4,
     "metadata": {},
     "output_type": "execute_result"
    }
   ],
   "source": [
    "len(X_train)"
   ]
  },
  {
   "cell_type": "code",
   "execution_count": 5,
   "metadata": {},
   "outputs": [
    {
     "data": {
      "text/plain": [
       "185"
      ]
     },
     "execution_count": 5,
     "metadata": {},
     "output_type": "execute_result"
    }
   ],
   "source": [
    "len(X_test)"
   ]
  },
  {
   "cell_type": "code",
   "execution_count": 6,
   "metadata": {},
   "outputs": [],
   "source": [
    "# Feature Scaling\n",
    "from sklearn.preprocessing import StandardScaler\n",
    "sc_X = StandardScaler()\n",
    "X_train = sc_X.fit_transform(X_train)\n",
    "X_test = sc_X.transform(X_test)"
   ]
  },
  {
   "cell_type": "markdown",
   "metadata": {},
   "source": [
    "# Naive Bayes"
   ]
  },
  {
   "cell_type": "code",
   "execution_count": 7,
   "metadata": {},
   "outputs": [
    {
     "data": {
      "text/plain": [
       "GaussianNB(priors=None, var_smoothing=1e-09)"
      ]
     },
     "execution_count": 7,
     "metadata": {},
     "output_type": "execute_result"
    }
   ],
   "source": [
    "# Implementation of Naive Bayes\n",
    "# Fitting Naive Bayes to the training set\n",
    "\n",
    "from sklearn.naive_bayes import GaussianNB\n",
    "nb = GaussianNB()\n",
    "nb.fit(X_train, y_train)"
   ]
  },
  {
   "cell_type": "code",
   "execution_count": 8,
   "metadata": {},
   "outputs": [
    {
     "data": {
      "text/plain": [
       "array([[62, 14,  3],\n",
       "       [30, 23,  7],\n",
       "       [28, 14,  4]], dtype=int64)"
      ]
     },
     "execution_count": 8,
     "metadata": {},
     "output_type": "execute_result"
    }
   ],
   "source": [
    "# Predicting the test set result\n",
    "y_pred = nb.predict(X_test)\n",
    "\n",
    "# Making the confusion matrix\n",
    "from sklearn.metrics import confusion_matrix\n",
    "from sklearn.metrics import multilabel_confusion_matrix\n",
    "\n",
    "cm = confusion_matrix(y_test, y_pred)\n",
    "cm2 = multilabel_confusion_matrix(y_test, y_pred)\n",
    "\n",
    "cm"
   ]
  },
  {
   "cell_type": "code",
   "execution_count": 9,
   "metadata": {},
   "outputs": [
    {
     "name": "stdout",
     "output_type": "stream",
     "text": [
      "0.5217697149203998\n"
     ]
    }
   ],
   "source": [
    "# Applying K-Fold Cross Validation\n",
    "\n",
    "from sklearn.model_selection import cross_val_score\n",
    "accuracies = cross_val_score(estimator = nb, X = X_train, y = y_train, cv = 10)\n",
    "print(np.mean(accuracies))"
   ]
  },
  {
   "cell_type": "code",
   "execution_count": 10,
   "metadata": {},
   "outputs": [
    {
     "name": "stdout",
     "output_type": "stream",
     "text": [
      "              precision    recall  f1-score   support\n",
      "\n",
      "           1       0.52      0.78      0.62        40\n",
      "           2       0.33      0.22      0.26        32\n",
      "           3       0.50      0.29      0.36        21\n",
      "\n",
      "    accuracy                           0.47        93\n",
      "   macro avg       0.45      0.43      0.42        93\n",
      "weighted avg       0.45      0.47      0.44        93\n",
      "\n",
      "              precision    recall  f1-score   support\n",
      "\n",
      "           1       0.58      0.87      0.69        39\n",
      "           2       0.72      0.64      0.68        33\n",
      "           3       0.50      0.10      0.17        20\n",
      "\n",
      "    accuracy                           0.62        92\n",
      "   macro avg       0.60      0.54      0.51        92\n",
      "weighted avg       0.61      0.62      0.57        92\n",
      "\n",
      "              precision    recall  f1-score   support\n",
      "\n",
      "           1       0.54      0.82      0.65        39\n",
      "           2       0.61      0.42      0.50        33\n",
      "           3       0.40      0.20      0.27        20\n",
      "\n",
      "    accuracy                           0.54        92\n",
      "   macro avg       0.52      0.48      0.47        92\n",
      "weighted avg       0.54      0.54      0.51        92\n",
      "\n",
      "              precision    recall  f1-score   support\n",
      "\n",
      "           1       0.55      0.87      0.67        39\n",
      "           2       0.55      0.36      0.44        33\n",
      "           3       0.38      0.15      0.21        20\n",
      "\n",
      "    accuracy                           0.53        92\n",
      "   macro avg       0.49      0.46      0.44        92\n",
      "weighted avg       0.51      0.53      0.49        92\n",
      "\n",
      "              precision    recall  f1-score   support\n",
      "\n",
      "           1       0.58      0.77      0.66        39\n",
      "           2       0.66      0.66      0.66        32\n",
      "           3       0.25      0.10      0.14        21\n",
      "\n",
      "    accuracy                           0.58        92\n",
      "   macro avg       0.49      0.51      0.48        92\n",
      "weighted avg       0.53      0.58      0.54        92\n",
      "\n",
      "              precision    recall  f1-score   support\n",
      "\n",
      "           1       0.53      0.82      0.65        39\n",
      "           2       0.43      0.31      0.36        32\n",
      "           3       0.11      0.05      0.07        21\n",
      "\n",
      "    accuracy                           0.47        92\n",
      "   macro avg       0.36      0.39      0.36        92\n",
      "weighted avg       0.40      0.47      0.42        92\n",
      "\n",
      "              precision    recall  f1-score   support\n",
      "\n",
      "           1       0.48      0.74      0.58        39\n",
      "           2       0.50      0.41      0.45        32\n",
      "           3       0.20      0.05      0.08        21\n",
      "\n",
      "    accuracy                           0.47        92\n",
      "   macro avg       0.39      0.40      0.37        92\n",
      "weighted avg       0.42      0.47      0.42        92\n",
      "\n",
      "              precision    recall  f1-score   support\n",
      "\n",
      "           1       0.49      0.82      0.62        39\n",
      "           2       0.48      0.31      0.38        32\n",
      "           3       0.17      0.05      0.07        21\n",
      "\n",
      "    accuracy                           0.47        92\n",
      "   macro avg       0.38      0.39      0.36        92\n",
      "weighted avg       0.41      0.47      0.41        92\n",
      "\n",
      "              precision    recall  f1-score   support\n",
      "\n",
      "           1       0.56      0.72      0.63        39\n",
      "           2       0.55      0.53      0.54        32\n",
      "           3       0.27      0.14      0.19        21\n",
      "\n",
      "    accuracy                           0.52        92\n",
      "   macro avg       0.46      0.46      0.45        92\n",
      "weighted avg       0.49      0.52      0.50        92\n",
      "\n",
      "              precision    recall  f1-score   support\n",
      "\n",
      "           1       0.49      0.69      0.57        39\n",
      "           2       0.46      0.41      0.43        32\n",
      "           3       0.44      0.19      0.27        21\n",
      "\n",
      "    accuracy                           0.48        92\n",
      "   macro avg       0.47      0.43      0.42        92\n",
      "weighted avg       0.47      0.48      0.46        92\n",
      "\n"
     ]
    }
   ],
   "source": [
    "# Calculating the accuracy and other metrics\n",
    "\n",
    "from sklearn.metrics import f1_score, accuracy_score, precision_score, recall_score, make_scorer\n",
    "from sklearn.metrics import accuracy_score\n",
    "from sklearn.metrics import classification_report\n",
    "from sklearn.model_selection import cross_val_score\n",
    "from sklearn.model_selection import StratifiedKFold, KFold\n",
    "\n",
    "target_names = ['melanoma', 'bcc', 'scc']\n",
    "\n",
    "# Variables for average classification report\n",
    "originalclass = []\n",
    "predictedclass = []\n",
    "\n",
    "#Make our customer score\n",
    "def classification_report_with_accuracy_score(y_test, y_pred):\n",
    "    originalclass.extend(y_test)\n",
    "    predictedclass.extend(y_pred)\n",
    "    print(classification_report(y_test, y_pred))\n",
    "    return accuracy_score(y_test, y_pred) # return accuracy score\n",
    "\n",
    "outer_cv = StratifiedKFold(n_splits=10, shuffle=True, random_state=0)\n",
    "\n",
    "# Nested CV with parameter optimization\n",
    "nested_score = cross_val_score(estimator = nb, X = X, y = Y, cv=outer_cv, scoring=make_scorer(classification_report_with_accuracy_score))"
   ]
  },
  {
   "cell_type": "code",
   "execution_count": 11,
   "metadata": {},
   "outputs": [
    {
     "name": "stdout",
     "output_type": "stream",
     "text": [
      "              precision    recall  f1-score   support\n",
      "\n",
      "    melanoma       0.53      0.79      0.63       391\n",
      "         bcc       0.54      0.43      0.48       323\n",
      "         scc       0.33      0.13      0.19       207\n",
      "\n",
      "    accuracy                           0.51       921\n",
      "   macro avg       0.47      0.45      0.43       921\n",
      "weighted avg       0.49      0.51      0.48       921\n",
      "\n"
     ]
    }
   ],
   "source": [
    "# Average values in classification report for all folds in a K-fold Cross-validation  \n",
    "print(classification_report(originalclass, predictedclass, target_names=target_names))"
   ]
  },
  {
   "cell_type": "markdown",
   "metadata": {},
   "source": [
    "# K-Nearest Neighbor"
   ]
  },
  {
   "cell_type": "code",
   "execution_count": 12,
   "metadata": {},
   "outputs": [
    {
     "data": {
      "text/plain": [
       "KNeighborsClassifier(algorithm='auto', leaf_size=30, metric='minkowski',\n",
       "                     metric_params=None, n_jobs=None, n_neighbors=25, p=1,\n",
       "                     weights='distance')"
      ]
     },
     "execution_count": 12,
     "metadata": {},
     "output_type": "execute_result"
    }
   ],
   "source": [
    "from sklearn.neighbors import KNeighborsClassifier\n",
    "knn = KNeighborsClassifier(n_neighbors = 25, metric = 'minkowski', p = 1, weights = 'distance')\n",
    "knn.fit(X_train, y_train)"
   ]
  },
  {
   "cell_type": "code",
   "execution_count": 13,
   "metadata": {},
   "outputs": [
    {
     "data": {
      "text/plain": [
       "array([[56, 17,  6],\n",
       "       [23, 32,  5],\n",
       "       [18, 20,  8]], dtype=int64)"
      ]
     },
     "execution_count": 13,
     "metadata": {},
     "output_type": "execute_result"
    }
   ],
   "source": [
    "# Predicting the test set result\n",
    "y_pred = knn.predict(X_test)\n",
    "\n",
    "# Making the confusion matrix\n",
    "from sklearn.metrics import confusion_matrix\n",
    "from sklearn.metrics import multilabel_confusion_matrix\n",
    "\n",
    "cm = confusion_matrix(y_test, y_pred)\n",
    "cm2 = multilabel_confusion_matrix(y_test, y_pred)\n",
    "\n",
    "cm"
   ]
  },
  {
   "cell_type": "code",
   "execution_count": 14,
   "metadata": {},
   "outputs": [
    {
     "name": "stdout",
     "output_type": "stream",
     "text": [
      "0.578822658274713\n"
     ]
    }
   ],
   "source": [
    "# Applying K-Fold Cross Validation\n",
    "\n",
    "from sklearn.model_selection import cross_val_score\n",
    "accuracies = cross_val_score(estimator = knn, X = X_train, y = y_train, cv = 10)\n",
    "print(np.mean(accuracies))"
   ]
  },
  {
   "cell_type": "code",
   "execution_count": 15,
   "metadata": {},
   "outputs": [
    {
     "name": "stdout",
     "output_type": "stream",
     "text": [
      "0.58\n",
      "{'metric': 'minkowski', 'n_neighbors': 25, 'p': 1, 'weights': 'distance'}\n"
     ]
    }
   ],
   "source": [
    "# Applying Grid Search to Find the Best Hyperparameter\n",
    "\n",
    "from sklearn.model_selection import GridSearchCV\n",
    "parameters = [\n",
    "    {'n_neighbors': [21, 23, 25, 27, 29], 'weights': ['uniform', 'distance'], 'p': [1, 2, 3], 'metric': ['minkowski']},\n",
    "]\n",
    "\n",
    "grid_search = GridSearchCV(estimator = knn, param_grid = parameters, scoring = 'accuracy', cv = 10, n_jobs = -1)\n",
    "grid_search = grid_search.fit(X_train, y_train)\n",
    "\n",
    "best_accuracy = grid_search.best_score_\n",
    "best_parameters = grid_search.best_params_\n",
    "\n",
    "print(round(best_accuracy, 2))\n",
    "print(best_parameters)"
   ]
  },
  {
   "cell_type": "code",
   "execution_count": 16,
   "metadata": {},
   "outputs": [
    {
     "name": "stdout",
     "output_type": "stream",
     "text": [
      "              precision    recall  f1-score   support\n",
      "\n",
      "           1       0.60      0.75      0.67        40\n",
      "           2       0.46      0.50      0.48        32\n",
      "           3       0.62      0.24      0.34        21\n",
      "\n",
      "    accuracy                           0.55        93\n",
      "   macro avg       0.56      0.50      0.50        93\n",
      "weighted avg       0.56      0.55      0.53        93\n",
      "\n",
      "              precision    recall  f1-score   support\n",
      "\n",
      "           1       0.64      0.69      0.67        39\n",
      "           2       0.59      0.79      0.68        33\n",
      "           3       0.50      0.15      0.23        20\n",
      "\n",
      "    accuracy                           0.61        92\n",
      "   macro avg       0.58      0.54      0.52        92\n",
      "weighted avg       0.59      0.61      0.58        92\n",
      "\n",
      "              precision    recall  f1-score   support\n",
      "\n",
      "           1       0.65      0.72      0.68        39\n",
      "           2       0.52      0.67      0.59        33\n",
      "           3       0.71      0.25      0.37        20\n",
      "\n",
      "    accuracy                           0.60        92\n",
      "   macro avg       0.63      0.54      0.55        92\n",
      "weighted avg       0.62      0.60      0.58        92\n",
      "\n",
      "              precision    recall  f1-score   support\n",
      "\n",
      "           1       0.57      0.79      0.67        39\n",
      "           2       0.50      0.48      0.49        33\n",
      "           3       0.67      0.20      0.31        20\n",
      "\n",
      "    accuracy                           0.55        92\n",
      "   macro avg       0.58      0.49      0.49        92\n",
      "weighted avg       0.57      0.55      0.53        92\n",
      "\n",
      "              precision    recall  f1-score   support\n",
      "\n",
      "           1       0.61      0.69      0.65        39\n",
      "           2       0.53      0.59      0.56        32\n",
      "           3       0.42      0.24      0.30        21\n",
      "\n",
      "    accuracy                           0.55        92\n",
      "   macro avg       0.52      0.51      0.50        92\n",
      "weighted avg       0.54      0.55      0.54        92\n",
      "\n",
      "              precision    recall  f1-score   support\n",
      "\n",
      "           1       0.55      0.59      0.57        39\n",
      "           2       0.46      0.50      0.48        32\n",
      "           3       0.53      0.38      0.44        21\n",
      "\n",
      "    accuracy                           0.51        92\n",
      "   macro avg       0.51      0.49      0.50        92\n",
      "weighted avg       0.51      0.51      0.51        92\n",
      "\n",
      "              precision    recall  f1-score   support\n",
      "\n",
      "           1       0.67      0.79      0.73        39\n",
      "           2       0.58      0.66      0.62        32\n",
      "           3       0.50      0.24      0.32        21\n",
      "\n",
      "    accuracy                           0.62        92\n",
      "   macro avg       0.59      0.56      0.56        92\n",
      "weighted avg       0.60      0.62      0.60        92\n",
      "\n",
      "              precision    recall  f1-score   support\n",
      "\n",
      "           1       0.59      0.77      0.67        39\n",
      "           2       0.58      0.59      0.58        32\n",
      "           3       0.38      0.14      0.21        21\n",
      "\n",
      "    accuracy                           0.57        92\n",
      "   macro avg       0.51      0.50      0.49        92\n",
      "weighted avg       0.54      0.57      0.53        92\n",
      "\n",
      "              precision    recall  f1-score   support\n",
      "\n",
      "           1       0.62      0.79      0.70        39\n",
      "           2       0.59      0.69      0.64        32\n",
      "           3       0.60      0.14      0.23        21\n",
      "\n",
      "    accuracy                           0.61        92\n",
      "   macro avg       0.60      0.54      0.52        92\n",
      "weighted avg       0.61      0.61      0.57        92\n",
      "\n",
      "              precision    recall  f1-score   support\n",
      "\n",
      "           1       0.62      0.59      0.61        39\n",
      "           2       0.50      0.69      0.58        32\n",
      "           3       0.36      0.19      0.25        21\n",
      "\n",
      "    accuracy                           0.53        92\n",
      "   macro avg       0.50      0.49      0.48        92\n",
      "weighted avg       0.52      0.53      0.52        92\n",
      "\n"
     ]
    }
   ],
   "source": [
    "# Calculating the accuracy and other metrics\n",
    "\n",
    "from sklearn.metrics import f1_score, accuracy_score, precision_score, recall_score, make_scorer\n",
    "from sklearn.metrics import accuracy_score\n",
    "from sklearn.metrics import classification_report\n",
    "from sklearn.model_selection import cross_val_score\n",
    "from sklearn.model_selection import StratifiedKFold, KFold\n",
    "\n",
    "target_names = ['melanoma', 'bcc', 'scc']\n",
    "\n",
    "# Variables for average classification report\n",
    "originalclass = []\n",
    "predictedclass = []\n",
    "\n",
    "#Make our customer score\n",
    "def classification_report_with_accuracy_score(y_test, y_pred):\n",
    "    originalclass.extend(y_test)\n",
    "    predictedclass.extend(y_pred)\n",
    "    print(classification_report(y_test, y_pred))\n",
    "    return accuracy_score(y_test, y_pred) # return accuracy score\n",
    "\n",
    "outer_cv = StratifiedKFold(n_splits=10, shuffle=True, random_state=0)\n",
    "\n",
    "# Nested CV with parameter optimization\n",
    "nested_score = cross_val_score(estimator = knn, X = X, y = Y, cv=outer_cv, scoring=make_scorer(classification_report_with_accuracy_score))"
   ]
  },
  {
   "cell_type": "code",
   "execution_count": 17,
   "metadata": {},
   "outputs": [
    {
     "name": "stdout",
     "output_type": "stream",
     "text": [
      "              precision    recall  f1-score   support\n",
      "\n",
      "    melanoma       0.61      0.72      0.66       391\n",
      "         bcc       0.53      0.62      0.57       323\n",
      "         scc       0.51      0.22      0.31       207\n",
      "\n",
      "    accuracy                           0.57       921\n",
      "   macro avg       0.55      0.52      0.51       921\n",
      "weighted avg       0.56      0.57      0.55       921\n",
      "\n"
     ]
    }
   ],
   "source": [
    "# Average values in classification report for all folds in a K-fold Cross-validation  \n",
    "print(classification_report(originalclass, predictedclass, target_names=target_names))"
   ]
  },
  {
   "cell_type": "markdown",
   "metadata": {},
   "source": [
    "# Support Vector Machine"
   ]
  },
  {
   "cell_type": "code",
   "execution_count": 18,
   "metadata": {},
   "outputs": [
    {
     "data": {
      "text/plain": [
       "SVC(C=100, break_ties=False, cache_size=200, class_weight=None, coef0=0.0,\n",
       "    decision_function_shape='ovr', degree=3, gamma=0.01, kernel='rbf',\n",
       "    max_iter=-1, probability=False, random_state=0, shrinking=True, tol=0.001,\n",
       "    verbose=False)"
      ]
     },
     "execution_count": 18,
     "metadata": {},
     "output_type": "execute_result"
    }
   ],
   "source": [
    "# Implementation of Support Vector Machine (SVM)\n",
    "# Fitting SVM to the training set\n",
    "\n",
    "from sklearn.svm import SVC\n",
    "svm = SVC(C = 100, kernel = 'rbf', gamma = 0.01, random_state = 0)\n",
    "#classifier = SVC(C = 1, kernel = 'poly', degree = 30, random_state = 0)\n",
    "svm.fit(X_train, y_train)"
   ]
  },
  {
   "cell_type": "code",
   "execution_count": 19,
   "metadata": {},
   "outputs": [
    {
     "data": {
      "text/plain": [
       "array([[58, 21,  0],\n",
       "       [21, 38,  1],\n",
       "       [18, 27,  1]], dtype=int64)"
      ]
     },
     "execution_count": 19,
     "metadata": {},
     "output_type": "execute_result"
    }
   ],
   "source": [
    "# Predicting the test set result\n",
    "y_pred = svm.predict(X_test)\n",
    "\n",
    "# Making the confusion matrix\n",
    "from sklearn.metrics import confusion_matrix\n",
    "from sklearn.metrics import multilabel_confusion_matrix\n",
    "\n",
    "cm = confusion_matrix(y_test, y_pred)\n",
    "cm2 = multilabel_confusion_matrix(y_test, y_pred)\n",
    "\n",
    "cm"
   ]
  },
  {
   "cell_type": "code",
   "execution_count": 20,
   "metadata": {},
   "outputs": [
    {
     "name": "stdout",
     "output_type": "stream",
     "text": [
      "0.5856349500185116\n"
     ]
    }
   ],
   "source": [
    "# Applying K-Fold Cross Validation\n",
    "\n",
    "from sklearn.model_selection import cross_val_score\n",
    "accuracies = cross_val_score(estimator = svm, X = X_train, y = y_train, cv = 10)\n",
    "print(np.mean(accuracies))"
   ]
  },
  {
   "cell_type": "code",
   "execution_count": 10,
   "metadata": {},
   "outputs": [
    {
     "name": "stdout",
     "output_type": "stream",
     "text": [
      "0.59\n",
      "{'C': 100, 'gamma': 0.01, 'kernel': 'rbf'}\n"
     ]
    }
   ],
   "source": [
    "# Applying Grid Search to Find the Best Hyperparameter\n",
    "\n",
    "from sklearn.model_selection import GridSearchCV\n",
    "parameters = [\n",
    "    {'C': [1, 10, 100], 'kernel': ['rbf', 'sigmoid'], 'gamma': [0.001, 0.01, 0.1]},\n",
    "]\n",
    "\n",
    "grid_search = GridSearchCV(estimator = svm, param_grid = parameters, scoring = 'accuracy', cv = 10, n_jobs = -1)\n",
    "grid_search = grid_search.fit(X_train, y_train)\n",
    "\n",
    "best_accuracy = grid_search.best_score_\n",
    "best_parameters = grid_search.best_params_\n",
    "\n",
    "print(round(best_accuracy, 2))\n",
    "print(best_parameters)"
   ]
  },
  {
   "cell_type": "code",
   "execution_count": 21,
   "metadata": {},
   "outputs": [
    {
     "name": "stdout",
     "output_type": "stream",
     "text": [
      "              precision    recall  f1-score   support\n",
      "\n",
      "           1       0.49      0.82      0.61        40\n",
      "           2       0.40      0.31      0.35        32\n",
      "           3       0.00      0.00      0.00        21\n",
      "\n",
      "    accuracy                           0.46        93\n",
      "   macro avg       0.30      0.38      0.32        93\n",
      "weighted avg       0.35      0.46      0.38        93\n",
      "\n",
      "              precision    recall  f1-score   support\n",
      "\n",
      "           1       0.59      0.90      0.71        39\n",
      "           2       0.73      0.73      0.73        33\n",
      "           3       0.00      0.00      0.00        20\n",
      "\n",
      "    accuracy                           0.64        92\n",
      "   macro avg       0.44      0.54      0.48        92\n",
      "weighted avg       0.51      0.64      0.56        92\n",
      "\n",
      "              precision    recall  f1-score   support\n",
      "\n",
      "           1       0.51      0.87      0.64        39\n",
      "           2       0.52      0.39      0.45        33\n",
      "           3       0.00      0.00      0.00        20\n",
      "\n",
      "    accuracy                           0.51        92\n",
      "   macro avg       0.34      0.42      0.36        92\n",
      "weighted avg       0.40      0.51      0.43        92\n",
      "\n",
      "              precision    recall  f1-score   support\n",
      "\n",
      "           1       0.53      0.90      0.67        39\n",
      "           2       0.62      0.48      0.54        33\n",
      "           3       0.00      0.00      0.00        20\n",
      "\n",
      "    accuracy                           0.55        92\n",
      "   macro avg       0.38      0.46      0.40        92\n",
      "weighted avg       0.45      0.55      0.48        92\n",
      "\n",
      "              precision    recall  f1-score   support\n",
      "\n",
      "           1       0.55      0.82      0.66        39\n",
      "           2       0.59      0.62      0.61        32\n",
      "           3       0.00      0.00      0.00        21\n",
      "\n",
      "    accuracy                           0.57        92\n",
      "   macro avg       0.38      0.48      0.42        92\n",
      "weighted avg       0.44      0.57      0.49        92\n",
      "\n",
      "              precision    recall  f1-score   support\n",
      "\n",
      "           1       0.52      0.85      0.64        39\n",
      "           2       0.46      0.41      0.43        32\n",
      "           3       0.00      0.00      0.00        21\n",
      "\n",
      "    accuracy                           0.50        92\n",
      "   macro avg       0.33      0.42      0.36        92\n",
      "weighted avg       0.38      0.50      0.42        92\n",
      "\n",
      "              precision    recall  f1-score   support\n",
      "\n",
      "           1       0.50      0.82      0.62        39\n",
      "           2       0.50      0.44      0.47        32\n",
      "           3       0.00      0.00      0.00        21\n",
      "\n",
      "    accuracy                           0.50        92\n",
      "   macro avg       0.33      0.42      0.36        92\n",
      "weighted avg       0.39      0.50      0.43        92\n",
      "\n",
      "              precision    recall  f1-score   support\n",
      "\n",
      "           1       0.48      0.85      0.61        39\n",
      "           2       0.48      0.34      0.40        32\n",
      "           3       0.00      0.00      0.00        21\n",
      "\n",
      "    accuracy                           0.48        92\n",
      "   macro avg       0.32      0.40      0.34        92\n",
      "weighted avg       0.37      0.48      0.40        92\n",
      "\n",
      "              precision    recall  f1-score   support\n",
      "\n",
      "           1       0.52      0.77      0.62        39\n",
      "           2       0.56      0.59      0.58        32\n",
      "           3       0.00      0.00      0.00        21\n",
      "\n",
      "    accuracy                           0.53        92\n",
      "   macro avg       0.36      0.45      0.40        92\n",
      "weighted avg       0.41      0.53      0.46        92\n",
      "\n",
      "              precision    recall  f1-score   support\n",
      "\n",
      "           1       0.50      0.82      0.62        39\n",
      "           2       0.54      0.47      0.50        32\n",
      "           3       0.00      0.00      0.00        21\n",
      "\n",
      "    accuracy                           0.51        92\n",
      "   macro avg       0.35      0.43      0.37        92\n",
      "weighted avg       0.40      0.51      0.44        92\n",
      "\n"
     ]
    }
   ],
   "source": [
    "# Calculating the accuracy and other metrics\n",
    "\n",
    "from sklearn.metrics import f1_score, accuracy_score, precision_score, recall_score, make_scorer\n",
    "from sklearn.metrics import accuracy_score\n",
    "from sklearn.metrics import classification_report\n",
    "from sklearn.model_selection import cross_val_score\n",
    "from sklearn.model_selection import StratifiedKFold, KFold\n",
    "\n",
    "target_names = ['melanoma', 'bcc', 'scc']\n",
    "\n",
    "# Variables for average classification report\n",
    "originalclass = []\n",
    "predictedclass = []\n",
    "\n",
    "#Make our customer score\n",
    "def classification_report_with_accuracy_score(y_test, y_pred):\n",
    "    originalclass.extend(y_test)\n",
    "    predictedclass.extend(y_pred)\n",
    "    print(classification_report(y_test, y_pred, zero_division = 0))\n",
    "    return accuracy_score(y_test, y_pred) # return accuracy score\n",
    "\n",
    "outer_cv = StratifiedKFold(n_splits=10, shuffle=True, random_state=0)\n",
    "\n",
    "# Nested CV with parameter optimization\n",
    "nested_score = cross_val_score(estimator = svm, X = X, y = Y, cv=outer_cv, scoring=make_scorer(classification_report_with_accuracy_score))"
   ]
  },
  {
   "cell_type": "code",
   "execution_count": 22,
   "metadata": {},
   "outputs": [
    {
     "name": "stdout",
     "output_type": "stream",
     "text": [
      "              precision    recall  f1-score   support\n",
      "\n",
      "    melanoma       0.52      0.84      0.64       391\n",
      "         bcc       0.55      0.48      0.51       323\n",
      "         scc       0.00      0.00      0.00       207\n",
      "\n",
      "    accuracy                           0.53       921\n",
      "   macro avg       0.35      0.44      0.38       921\n",
      "weighted avg       0.41      0.53      0.45       921\n",
      "\n"
     ]
    }
   ],
   "source": [
    "# Average values in classification report for all folds in a K-fold Cross-validation  \n",
    "print(classification_report(originalclass, predictedclass, target_names=target_names, zero_division = 0))"
   ]
  },
  {
   "cell_type": "markdown",
   "metadata": {},
   "source": [
    "# Decision Tree"
   ]
  },
  {
   "cell_type": "code",
   "execution_count": 23,
   "metadata": {},
   "outputs": [
    {
     "data": {
      "text/plain": [
       "DecisionTreeClassifier(ccp_alpha=0.0, class_weight=None, criterion='entropy',\n",
       "                       max_depth=10, max_features=None, max_leaf_nodes=None,\n",
       "                       min_impurity_decrease=0.0, min_impurity_split=None,\n",
       "                       min_samples_leaf=1, min_samples_split=2,\n",
       "                       min_weight_fraction_leaf=0.0, presort='deprecated',\n",
       "                       random_state=0, splitter='random')"
      ]
     },
     "execution_count": 23,
     "metadata": {},
     "output_type": "execute_result"
    }
   ],
   "source": [
    "# Some important notes here, before running the Decision Tree Classifier, it's ok to not scale the features, as this model\n",
    "# does not work using euclidian distance, so it's fine as it is\n",
    "\n",
    "from sklearn.tree import DecisionTreeClassifier\n",
    "tree = DecisionTreeClassifier(criterion = 'entropy', max_depth = 10, random_state = 0, splitter = 'random')\n",
    "tree.fit(X_train, y_train)"
   ]
  },
  {
   "cell_type": "code",
   "execution_count": 24,
   "metadata": {},
   "outputs": [
    {
     "data": {
      "text/plain": [
       "array([[43, 26, 10],\n",
       "       [15, 33, 12],\n",
       "       [18, 20,  8]], dtype=int64)"
      ]
     },
     "execution_count": 24,
     "metadata": {},
     "output_type": "execute_result"
    }
   ],
   "source": [
    "# Predicting the test set result\n",
    "y_pred = tree.predict(X_test)\n",
    "\n",
    "# Making the confusion matrix\n",
    "from sklearn.metrics import confusion_matrix\n",
    "from sklearn.metrics import multilabel_confusion_matrix\n",
    "\n",
    "cm = confusion_matrix(y_test, y_pred)\n",
    "cm2 = multilabel_confusion_matrix(y_test, y_pred)\n",
    "\n",
    "cm"
   ]
  },
  {
   "cell_type": "code",
   "execution_count": 25,
   "metadata": {},
   "outputs": [
    {
     "name": "stdout",
     "output_type": "stream",
     "text": [
      "0.5287671232876712\n"
     ]
    }
   ],
   "source": [
    "# Applying K-Fold Cross Validation\n",
    "\n",
    "from sklearn.model_selection import cross_val_score\n",
    "accuracies = cross_val_score(estimator = tree, X = X_train, y = y_train, cv = 10)\n",
    "print(np.mean(accuracies))"
   ]
  },
  {
   "cell_type": "code",
   "execution_count": 36,
   "metadata": {},
   "outputs": [
    {
     "name": "stdout",
     "output_type": "stream",
     "text": [
      "0.53\n",
      "{'ccp_alpha': 0.05, 'criterion': 'entropy', 'max_depth': 10, 'splitter': 'random'}\n"
     ]
    }
   ],
   "source": [
    "# Applying Grid Search to Find the Best Hyperparameter\n",
    "\n",
    "from sklearn.model_selection import GridSearchCV\n",
    "parameters = [\n",
    "    {'criterion': ['entropy', 'gini'], 'splitter': ['best', 'random'], 'ccp_alpha': [0.0, 0.05, 0.1], 'max_depth': [10, 100, 200]}\n",
    "]\n",
    "\n",
    "grid_search = GridSearchCV(estimator = tree, param_grid = parameters, scoring = 'accuracy', cv = 10, n_jobs = -1)\n",
    "grid_search = grid_search.fit(X_train, y_train)\n",
    "\n",
    "best_accuracy = grid_search.best_score_\n",
    "best_parameters = grid_search.best_params_\n",
    "\n",
    "print(round(best_accuracy, 2))\n",
    "print(best_parameters)"
   ]
  },
  {
   "cell_type": "code",
   "execution_count": 26,
   "metadata": {},
   "outputs": [
    {
     "name": "stdout",
     "output_type": "stream",
     "text": [
      "              precision    recall  f1-score   support\n",
      "\n",
      "           1       0.58      0.72      0.64        40\n",
      "           2       0.46      0.41      0.43        32\n",
      "           3       0.27      0.19      0.22        21\n",
      "\n",
      "    accuracy                           0.49        93\n",
      "   macro avg       0.44      0.44      0.43        93\n",
      "weighted avg       0.47      0.49      0.48        93\n",
      "\n",
      "              precision    recall  f1-score   support\n",
      "\n",
      "           1       0.57      0.54      0.55        39\n",
      "           2       0.57      0.61      0.59        33\n",
      "           3       0.30      0.30      0.30        20\n",
      "\n",
      "    accuracy                           0.51        92\n",
      "   macro avg       0.48      0.48      0.48        92\n",
      "weighted avg       0.51      0.51      0.51        92\n",
      "\n",
      "              precision    recall  f1-score   support\n",
      "\n",
      "           1       0.51      0.54      0.53        39\n",
      "           2       0.44      0.58      0.50        33\n",
      "           3       0.38      0.15      0.21        20\n",
      "\n",
      "    accuracy                           0.47        92\n",
      "   macro avg       0.44      0.42      0.41        92\n",
      "weighted avg       0.46      0.47      0.45        92\n",
      "\n",
      "              precision    recall  f1-score   support\n",
      "\n",
      "           1       0.60      0.74      0.67        39\n",
      "           2       0.48      0.39      0.43        33\n",
      "           3       0.35      0.30      0.32        20\n",
      "\n",
      "    accuracy                           0.52        92\n",
      "   macro avg       0.48      0.48      0.47        92\n",
      "weighted avg       0.51      0.52      0.51        92\n",
      "\n",
      "              precision    recall  f1-score   support\n",
      "\n",
      "           1       0.59      0.51      0.55        39\n",
      "           2       0.43      0.62      0.51        32\n",
      "           3       0.18      0.10      0.12        21\n",
      "\n",
      "    accuracy                           0.46        92\n",
      "   macro avg       0.40      0.41      0.39        92\n",
      "weighted avg       0.44      0.46      0.44        92\n",
      "\n",
      "              precision    recall  f1-score   support\n",
      "\n",
      "           1       0.51      0.51      0.51        39\n",
      "           2       0.34      0.41      0.37        32\n",
      "           3       0.27      0.19      0.22        21\n",
      "\n",
      "    accuracy                           0.40        92\n",
      "   macro avg       0.37      0.37      0.37        92\n",
      "weighted avg       0.40      0.40      0.40        92\n",
      "\n",
      "              precision    recall  f1-score   support\n",
      "\n",
      "           1       0.61      0.72      0.66        39\n",
      "           2       0.47      0.47      0.47        32\n",
      "           3       0.21      0.14      0.17        21\n",
      "\n",
      "    accuracy                           0.50        92\n",
      "   macro avg       0.43      0.44      0.43        92\n",
      "weighted avg       0.47      0.50      0.48        92\n",
      "\n",
      "              precision    recall  f1-score   support\n",
      "\n",
      "           1       0.60      0.46      0.52        39\n",
      "           2       0.45      0.62      0.53        32\n",
      "           3       0.11      0.10      0.10        21\n",
      "\n",
      "    accuracy                           0.43        92\n",
      "   macro avg       0.39      0.39      0.38        92\n",
      "weighted avg       0.44      0.43      0.43        92\n",
      "\n",
      "              precision    recall  f1-score   support\n",
      "\n",
      "           1       0.57      0.62      0.59        39\n",
      "           2       0.47      0.50      0.48        32\n",
      "           3       0.25      0.19      0.22        21\n",
      "\n",
      "    accuracy                           0.48        92\n",
      "   macro avg       0.43      0.44      0.43        92\n",
      "weighted avg       0.46      0.48      0.47        92\n",
      "\n",
      "              precision    recall  f1-score   support\n",
      "\n",
      "           1       0.59      0.44      0.50        39\n",
      "           2       0.44      0.66      0.53        32\n",
      "           3       0.13      0.10      0.11        21\n",
      "\n",
      "    accuracy                           0.43        92\n",
      "   macro avg       0.39      0.40      0.38        92\n",
      "weighted avg       0.43      0.43      0.42        92\n",
      "\n"
     ]
    }
   ],
   "source": [
    "# Calculating the accuracy and other metrics\n",
    "\n",
    "from sklearn.metrics import f1_score, accuracy_score, precision_score, recall_score, make_scorer\n",
    "from sklearn.metrics import accuracy_score\n",
    "from sklearn.metrics import classification_report\n",
    "from sklearn.model_selection import cross_val_score\n",
    "from sklearn.model_selection import StratifiedKFold, KFold\n",
    "\n",
    "target_names = ['melanoma', 'bcc', 'scc']\n",
    "\n",
    "# Variables for average classification report\n",
    "originalclass = []\n",
    "predictedclass = []\n",
    "\n",
    "#Make our customer score\n",
    "def classification_report_with_accuracy_score(y_test, y_pred):\n",
    "    originalclass.extend(y_test)\n",
    "    predictedclass.extend(y_pred)\n",
    "    print(classification_report(y_test, y_pred))\n",
    "    return accuracy_score(y_test, y_pred) # return accuracy score\n",
    "\n",
    "outer_cv = StratifiedKFold(n_splits=10, shuffle=True, random_state=0)\n",
    "\n",
    "# Nested CV with parameter optimization\n",
    "nested_score = cross_val_score(estimator = tree, X = X, y = Y, cv=outer_cv, scoring=make_scorer(classification_report_with_accuracy_score))"
   ]
  },
  {
   "cell_type": "code",
   "execution_count": 27,
   "metadata": {},
   "outputs": [
    {
     "name": "stdout",
     "output_type": "stream",
     "text": [
      "              precision    recall  f1-score   support\n",
      "\n",
      "    melanoma       0.57      0.58      0.58       391\n",
      "         bcc       0.45      0.53      0.49       323\n",
      "         scc       0.24      0.17      0.20       207\n",
      "\n",
      "    accuracy                           0.47       921\n",
      "   macro avg       0.42      0.43      0.42       921\n",
      "weighted avg       0.46      0.47      0.46       921\n",
      "\n"
     ]
    }
   ],
   "source": [
    "# Average values in classification report for all folds in a K-fold Cross-validation  \n",
    "print(classification_report(originalclass, predictedclass, target_names=target_names))"
   ]
  },
  {
   "cell_type": "markdown",
   "metadata": {},
   "source": [
    "# Random Forest"
   ]
  },
  {
   "cell_type": "code",
   "execution_count": 28,
   "metadata": {},
   "outputs": [
    {
     "data": {
      "text/plain": [
       "RandomForestClassifier(bootstrap=True, ccp_alpha=0.0,\n",
       "                       class_weight='balanced_subsample', criterion='entropy',\n",
       "                       max_depth=None, max_features='auto', max_leaf_nodes=None,\n",
       "                       max_samples=None, min_impurity_decrease=0.0,\n",
       "                       min_impurity_split=None, min_samples_leaf=1,\n",
       "                       min_samples_split=2, min_weight_fraction_leaf=0.0,\n",
       "                       n_estimators=50, n_jobs=None, oob_score=False,\n",
       "                       random_state=0, verbose=0, warm_start=False)"
      ]
     },
     "execution_count": 28,
     "metadata": {},
     "output_type": "execute_result"
    }
   ],
   "source": [
    "from sklearn.ensemble import RandomForestClassifier\n",
    "forest = RandomForestClassifier(n_estimators = 50, max_depth = None, criterion = 'entropy', class_weight = 'balanced_subsample', random_state = 0)\n",
    "forest.fit(X_train, y_train)"
   ]
  },
  {
   "cell_type": "code",
   "execution_count": 29,
   "metadata": {},
   "outputs": [
    {
     "data": {
      "text/plain": [
       "array([[57, 17,  5],\n",
       "       [20, 33,  7],\n",
       "       [20, 17,  9]], dtype=int64)"
      ]
     },
     "execution_count": 29,
     "metadata": {},
     "output_type": "execute_result"
    }
   ],
   "source": [
    "# Predicting the test set result\n",
    "y_pred = forest.predict(X_test)\n",
    "\n",
    "# Making the confusion matrix\n",
    "from sklearn.metrics import confusion_matrix\n",
    "from sklearn.metrics import multilabel_confusion_matrix\n",
    "\n",
    "cm = confusion_matrix(y_test, y_pred)\n",
    "cm2 = multilabel_confusion_matrix(y_test, y_pred)\n",
    "\n",
    "cm"
   ]
  },
  {
   "cell_type": "code",
   "execution_count": 30,
   "metadata": {},
   "outputs": [
    {
     "name": "stdout",
     "output_type": "stream",
     "text": [
      "0.5584228063680119\n"
     ]
    }
   ],
   "source": [
    "# Applying K-Fold Cross Validation\n",
    "\n",
    "from sklearn.model_selection import cross_val_score\n",
    "accuracies = cross_val_score(estimator = forest, X = X_train, y = y_train, cv = 10, n_jobs = -1)\n",
    "print(np.mean(accuracies))"
   ]
  },
  {
   "cell_type": "code",
   "execution_count": 41,
   "metadata": {},
   "outputs": [
    {
     "name": "stdout",
     "output_type": "stream",
     "text": [
      "0.57\n",
      "{'class_weight': None, 'criterion': 'entropy', 'max_depth': None, 'n_estimators': 50}\n"
     ]
    }
   ],
   "source": [
    "# Applying Grid Search to Find the Best Hyperparameter\n",
    "\n",
    "from sklearn.model_selection import GridSearchCV\n",
    "parameters = [\n",
    "    {'criterion': ['entropy'], 'max_depth': [None, 10], 'n_estimators': [50, 100, 150], 'class_weight': [None, 'balanced', 'balanced_subsample']},\n",
    "    {'criterion': ['gini'], 'max_depth': [None, 10], 'n_estimators': [50, 100, 150], 'class_weight': [None, 'balanced', 'balanced_subsample']}\n",
    "]\n",
    "\n",
    "grid_search = GridSearchCV(estimator = forest, param_grid = parameters, scoring = 'accuracy', cv = 10, n_jobs = -1)\n",
    "grid_search = grid_search.fit(X_train, y_train)\n",
    "\n",
    "best_accuracy = grid_search.best_score_\n",
    "best_parameters = grid_search.best_params_\n",
    "\n",
    "print(round(best_accuracy, 2))\n",
    "print(best_parameters)"
   ]
  },
  {
   "cell_type": "code",
   "execution_count": 31,
   "metadata": {},
   "outputs": [
    {
     "name": "stdout",
     "output_type": "stream",
     "text": [
      "              precision    recall  f1-score   support\n",
      "\n",
      "           1       0.50      0.55      0.52        40\n",
      "           2       0.30      0.31      0.31        32\n",
      "           3       0.25      0.19      0.22        21\n",
      "\n",
      "    accuracy                           0.39        93\n",
      "   macro avg       0.35      0.35      0.35        93\n",
      "weighted avg       0.38      0.39      0.38        93\n",
      "\n",
      "              precision    recall  f1-score   support\n",
      "\n",
      "           1       0.64      0.69      0.67        39\n",
      "           2       0.68      0.76      0.71        33\n",
      "           3       0.46      0.30      0.36        20\n",
      "\n",
      "    accuracy                           0.63        92\n",
      "   macro avg       0.59      0.58      0.58        92\n",
      "weighted avg       0.62      0.63      0.62        92\n",
      "\n",
      "              precision    recall  f1-score   support\n",
      "\n",
      "           1       0.73      0.56      0.64        39\n",
      "           2       0.50      0.64      0.56        33\n",
      "           3       0.50      0.50      0.50        20\n",
      "\n",
      "    accuracy                           0.58        92\n",
      "   macro avg       0.58      0.57      0.57        92\n",
      "weighted avg       0.60      0.58      0.58        92\n",
      "\n",
      "              precision    recall  f1-score   support\n",
      "\n",
      "           1       0.57      0.74      0.64        39\n",
      "           2       0.47      0.42      0.44        33\n",
      "           3       0.45      0.25      0.32        20\n",
      "\n",
      "    accuracy                           0.52        92\n",
      "   macro avg       0.50      0.47      0.47        92\n",
      "weighted avg       0.51      0.52      0.50        92\n",
      "\n",
      "              precision    recall  f1-score   support\n",
      "\n",
      "           1       0.63      0.69      0.66        39\n",
      "           2       0.60      0.66      0.63        32\n",
      "           3       0.36      0.24      0.29        21\n",
      "\n",
      "    accuracy                           0.58        92\n",
      "   macro avg       0.53      0.53      0.52        92\n",
      "weighted avg       0.56      0.58      0.56        92\n",
      "\n",
      "              precision    recall  f1-score   support\n",
      "\n",
      "           1       0.52      0.59      0.55        39\n",
      "           2       0.43      0.38      0.40        32\n",
      "           3       0.45      0.43      0.44        21\n",
      "\n",
      "    accuracy                           0.48        92\n",
      "   macro avg       0.47      0.46      0.46        92\n",
      "weighted avg       0.47      0.48      0.47        92\n",
      "\n",
      "              precision    recall  f1-score   support\n",
      "\n",
      "           1       0.64      0.69      0.67        39\n",
      "           2       0.57      0.62      0.60        32\n",
      "           3       0.40      0.29      0.33        21\n",
      "\n",
      "    accuracy                           0.58        92\n",
      "   macro avg       0.54      0.53      0.53        92\n",
      "weighted avg       0.56      0.58      0.57        92\n",
      "\n",
      "              precision    recall  f1-score   support\n",
      "\n",
      "           1       0.59      0.77      0.67        39\n",
      "           2       0.59      0.59      0.59        32\n",
      "           3       0.44      0.19      0.27        21\n",
      "\n",
      "    accuracy                           0.58        92\n",
      "   macro avg       0.54      0.52      0.51        92\n",
      "weighted avg       0.56      0.58      0.55        92\n",
      "\n",
      "              precision    recall  f1-score   support\n",
      "\n",
      "           1       0.65      0.72      0.68        39\n",
      "           2       0.51      0.59      0.55        32\n",
      "           3       0.42      0.24      0.30        21\n",
      "\n",
      "    accuracy                           0.57        92\n",
      "   macro avg       0.53      0.52      0.51        92\n",
      "weighted avg       0.55      0.57      0.55        92\n",
      "\n",
      "              precision    recall  f1-score   support\n",
      "\n",
      "           1       0.65      0.62      0.63        39\n",
      "           2       0.56      0.75      0.64        32\n",
      "           3       0.50      0.29      0.36        21\n",
      "\n",
      "    accuracy                           0.59        92\n",
      "   macro avg       0.57      0.55      0.55        92\n",
      "weighted avg       0.58      0.59      0.57        92\n",
      "\n"
     ]
    }
   ],
   "source": [
    "# Calculating the accuracy and other metrics\n",
    "\n",
    "from sklearn.metrics import f1_score, accuracy_score, precision_score, recall_score, make_scorer\n",
    "from sklearn.metrics import accuracy_score\n",
    "from sklearn.metrics import classification_report\n",
    "from sklearn.model_selection import cross_val_score\n",
    "from sklearn.model_selection import StratifiedKFold, KFold\n",
    "\n",
    "target_names = ['melanoma', 'bcc', 'scc']\n",
    "\n",
    "# Variables for average classification report\n",
    "originalclass = []\n",
    "predictedclass = []\n",
    "\n",
    "#Make our customer score\n",
    "def classification_report_with_accuracy_score(y_test, y_pred):\n",
    "    originalclass.extend(y_test)\n",
    "    predictedclass.extend(y_pred)\n",
    "    print(classification_report(y_test, y_pred))\n",
    "    return accuracy_score(y_test, y_pred) # return accuracy score\n",
    "\n",
    "outer_cv = StratifiedKFold(n_splits=10, shuffle=True, random_state=0)\n",
    "\n",
    "# Nested CV with parameter optimization\n",
    "nested_score = cross_val_score(estimator = forest, X = X, y = Y, cv=outer_cv, scoring=make_scorer(classification_report_with_accuracy_score))"
   ]
  },
  {
   "cell_type": "code",
   "execution_count": 32,
   "metadata": {},
   "outputs": [
    {
     "name": "stdout",
     "output_type": "stream",
     "text": [
      "              precision    recall  f1-score   support\n",
      "\n",
      "    melanoma       0.61      0.66      0.63       391\n",
      "         bcc       0.53      0.57      0.55       323\n",
      "         scc       0.42      0.29      0.34       207\n",
      "\n",
      "    accuracy                           0.55       921\n",
      "   macro avg       0.52      0.51      0.51       921\n",
      "weighted avg       0.54      0.55      0.54       921\n",
      "\n"
     ]
    }
   ],
   "source": [
    "# Average values in classification report for all folds in a K-fold Cross-validation  \n",
    "print(classification_report(originalclass, predictedclass, target_names=target_names))"
   ]
  },
  {
   "cell_type": "markdown",
   "metadata": {},
   "source": [
    "# Artificial Neural Network"
   ]
  },
  {
   "cell_type": "code",
   "execution_count": 38,
   "metadata": {},
   "outputs": [
    {
     "name": "stderr",
     "output_type": "stream",
     "text": [
      "Using TensorFlow backend.\n"
     ]
    }
   ],
   "source": [
    "# Importing the Keras libraries and packages\n",
    "import keras\n",
    "import sys\n",
    "from keras.models import Sequential\n",
    "from keras.layers import Dense\n",
    "from keras.utils import to_categorical\n",
    "from keras.callbacks import EarlyStopping, ModelCheckpoint"
   ]
  },
  {
   "cell_type": "code",
   "execution_count": 39,
   "metadata": {},
   "outputs": [],
   "source": [
    "# Create categorical input for predictor\n",
    "\n",
    "from sklearn.preprocessing import OneHotEncoder\n",
    "onehotencoder = OneHotEncoder(handle_unknown='ignore')\n",
    "Y = Y.reshape(-1, 1)\n",
    "y_train = y_train.reshape(-1, 1)\n",
    "y_test = y_test.reshape(-1, 1)\n",
    "y_use = onehotencoder.fit_transform(Y).toarray()\n",
    "y_binary = onehotencoder.fit_transform(y_train).toarray()\n",
    "y_compare = onehotencoder.fit_transform(y_test).toarray()"
   ]
  },
  {
   "cell_type": "code",
   "execution_count": 40,
   "metadata": {},
   "outputs": [
    {
     "name": "stdout",
     "output_type": "stream",
     "text": [
      "Epoch 1/100\n",
      "736/736 [==============================] - 0s 214us/step - loss: 1.0257 - accuracy: 0.5054\n",
      "Epoch 2/100\n",
      "736/736 [==============================] - 0s 95us/step - loss: 0.9471 - accuracy: 0.5516\n",
      "Epoch 3/100\n",
      "736/736 [==============================] - 0s 95us/step - loss: 0.9274 - accuracy: 0.5625\n",
      "Epoch 4/100\n",
      "736/736 [==============================] - 0s 91us/step - loss: 0.9266 - accuracy: 0.5543\n",
      "Epoch 5/100\n",
      "736/736 [==============================] - 0s 89us/step - loss: 0.9149 - accuracy: 0.5611\n",
      "Epoch 6/100\n",
      "736/736 [==============================] - 0s 92us/step - loss: 0.9088 - accuracy: 0.5693\n",
      "Epoch 7/100\n",
      "736/736 [==============================] - 0s 99us/step - loss: 0.9020 - accuracy: 0.5652\n",
      "Epoch 8/100\n",
      "736/736 [==============================] - 0s 101us/step - loss: 0.9029 - accuracy: 0.5747\n",
      "Epoch 9/100\n",
      "736/736 [==============================] - 0s 98us/step - loss: 0.8955 - accuracy: 0.5747\n",
      "Epoch 10/100\n",
      "736/736 [==============================] - 0s 91us/step - loss: 0.8875 - accuracy: 0.5938\n",
      "Epoch 11/100\n",
      "736/736 [==============================] - 0s 101us/step - loss: 0.8875 - accuracy: 0.5870\n",
      "Epoch 12/100\n",
      "736/736 [==============================] - 0s 95us/step - loss: 0.8980 - accuracy: 0.5842\n",
      "Epoch 13/100\n",
      "736/736 [==============================] - 0s 109us/step - loss: 0.8862 - accuracy: 0.5924\n",
      "Epoch 14/100\n",
      "736/736 [==============================] - 0s 106us/step - loss: 0.8765 - accuracy: 0.5951\n",
      "Epoch 15/100\n",
      "736/736 [==============================] - 0s 97us/step - loss: 0.8793 - accuracy: 0.6060\n",
      "Epoch 16/100\n",
      "736/736 [==============================] - 0s 109us/step - loss: 0.8723 - accuracy: 0.5938\n",
      "Epoch 17/100\n",
      "736/736 [==============================] - 0s 107us/step - loss: 0.8766 - accuracy: 0.5938\n",
      "Epoch 18/100\n",
      "736/736 [==============================] - 0s 102us/step - loss: 0.8719 - accuracy: 0.5992\n",
      "Epoch 19/100\n",
      "736/736 [==============================] - 0s 103us/step - loss: 0.8700 - accuracy: 0.5883\n",
      "Epoch 20/100\n",
      "736/736 [==============================] - 0s 101us/step - loss: 0.8737 - accuracy: 0.5856\n",
      "Epoch 21/100\n",
      "736/736 [==============================] - 0s 94us/step - loss: 0.8739 - accuracy: 0.5897\n",
      "Epoch 22/100\n",
      "736/736 [==============================] - 0s 118us/step - loss: 0.8648 - accuracy: 0.6033\n",
      "Epoch 23/100\n",
      "736/736 [==============================] - 0s 114us/step - loss: 0.8611 - accuracy: 0.6033\n",
      "Epoch 24/100\n",
      "736/736 [==============================] - 0s 92us/step - loss: 0.8591 - accuracy: 0.5992\n",
      "Epoch 25/100\n",
      "736/736 [==============================] - 0s 105us/step - loss: 0.8591 - accuracy: 0.6168\n",
      "Epoch 26/100\n",
      "736/736 [==============================] - 0s 94us/step - loss: 0.8585 - accuracy: 0.5978\n",
      "Epoch 27/100\n",
      "736/736 [==============================] - 0s 89us/step - loss: 0.8521 - accuracy: 0.6087\n",
      "Epoch 28/100\n",
      "736/736 [==============================] - 0s 87us/step - loss: 0.8605 - accuracy: 0.6060\n",
      "Epoch 29/100\n",
      "736/736 [==============================] - 0s 92us/step - loss: 0.8523 - accuracy: 0.6155\n",
      "Epoch 30/100\n",
      "736/736 [==============================] - 0s 110us/step - loss: 0.8517 - accuracy: 0.6114\n",
      "Epoch 31/100\n",
      "736/736 [==============================] - 0s 110us/step - loss: 0.8535 - accuracy: 0.6264\n",
      "Epoch 32/100\n",
      "736/736 [==============================] - 0s 110us/step - loss: 0.8500 - accuracy: 0.6264\n",
      "Epoch 33/100\n",
      "736/736 [==============================] - 0s 113us/step - loss: 0.8484 - accuracy: 0.6196\n",
      "Epoch 34/100\n",
      "736/736 [==============================] - 0s 106us/step - loss: 0.8447 - accuracy: 0.6087\n",
      "Epoch 35/100\n",
      "736/736 [==============================] - 0s 100us/step - loss: 0.8437 - accuracy: 0.6223\n",
      "Epoch 36/100\n",
      "736/736 [==============================] - 0s 94us/step - loss: 0.8451 - accuracy: 0.6209\n",
      "Epoch 37/100\n",
      "736/736 [==============================] - 0s 88us/step - loss: 0.8420 - accuracy: 0.6332\n",
      "Epoch 38/100\n",
      "736/736 [==============================] - 0s 94us/step - loss: 0.8370 - accuracy: 0.6236\n",
      "Epoch 39/100\n",
      "736/736 [==============================] - 0s 103us/step - loss: 0.8416 - accuracy: 0.6209\n",
      "Epoch 40/100\n",
      "736/736 [==============================] - 0s 107us/step - loss: 0.8417 - accuracy: 0.6168\n",
      "Epoch 41/100\n",
      "736/736 [==============================] - 0s 93us/step - loss: 0.8311 - accuracy: 0.6250\n",
      "Epoch 42/100\n",
      "736/736 [==============================] - 0s 92us/step - loss: 0.8290 - accuracy: 0.6264\n",
      "Epoch 43/100\n",
      "736/736 [==============================] - 0s 105us/step - loss: 0.8299 - accuracy: 0.6277\n",
      "Epoch 44/100\n",
      "736/736 [==============================] - 0s 105us/step - loss: 0.8270 - accuracy: 0.6332\n",
      "Epoch 45/100\n",
      "736/736 [==============================] - 0s 98us/step - loss: 0.8280 - accuracy: 0.6372\n",
      "Epoch 46/100\n",
      "736/736 [==============================] - 0s 91us/step - loss: 0.8212 - accuracy: 0.6535\n",
      "Epoch 47/100\n",
      "736/736 [==============================] - 0s 89us/step - loss: 0.8196 - accuracy: 0.6318\n",
      "Epoch 48/100\n",
      "736/736 [==============================] - 0s 93us/step - loss: 0.8185 - accuracy: 0.6318\n",
      "Epoch 49/100\n",
      "736/736 [==============================] - 0s 105us/step - loss: 0.8244 - accuracy: 0.6359\n",
      "Epoch 50/100\n",
      "736/736 [==============================] - 0s 105us/step - loss: 0.8141 - accuracy: 0.6386\n",
      "Epoch 51/100\n",
      "736/736 [==============================] - 0s 108us/step - loss: 0.8196 - accuracy: 0.6427\n",
      "Epoch 52/100\n",
      "736/736 [==============================] - 0s 113us/step - loss: 0.8130 - accuracy: 0.6454\n",
      "Epoch 53/100\n",
      "736/736 [==============================] - ETA: 0s - loss: 0.8447 - accuracy: 0.62 - 0s 111us/step - loss: 0.8095 - accuracy: 0.6386\n",
      "Epoch 54/100\n",
      "736/736 [==============================] - 0s 110us/step - loss: 0.8158 - accuracy: 0.6440\n",
      "Epoch 55/100\n",
      "736/736 [==============================] - ETA: 0s - loss: 0.8171 - accuracy: 0.63 - 0s 102us/step - loss: 0.8086 - accuracy: 0.6372\n",
      "Epoch 56/100\n",
      "736/736 [==============================] - 0s 90us/step - loss: 0.8114 - accuracy: 0.6440\n",
      "Epoch 57/100\n",
      "736/736 [==============================] - 0s 104us/step - loss: 0.7990 - accuracy: 0.6576\n",
      "Epoch 58/100\n",
      "736/736 [==============================] - 0s 91us/step - loss: 0.8029 - accuracy: 0.6427\n",
      "Epoch 59/100\n",
      "736/736 [==============================] - 0s 90us/step - loss: 0.8020 - accuracy: 0.6549\n",
      "Epoch 60/100\n",
      "736/736 [==============================] - 0s 89us/step - loss: 0.7943 - accuracy: 0.6399\n",
      "Epoch 61/100\n",
      "736/736 [==============================] - 0s 94us/step - loss: 0.7950 - accuracy: 0.6630\n",
      "Epoch 62/100\n",
      "736/736 [==============================] - 0s 93us/step - loss: 0.7846 - accuracy: 0.6576\n",
      "Epoch 63/100\n",
      "736/736 [==============================] - 0s 91us/step - loss: 0.7839 - accuracy: 0.6576\n",
      "Epoch 64/100\n",
      "736/736 [==============================] - 0s 89us/step - loss: 0.7764 - accuracy: 0.6522\n",
      "Epoch 65/100\n",
      "736/736 [==============================] - 0s 89us/step - loss: 0.7872 - accuracy: 0.6698\n",
      "Epoch 66/100\n",
      "736/736 [==============================] - 0s 93us/step - loss: 0.7798 - accuracy: 0.6590\n",
      "Epoch 67/100\n",
      "736/736 [==============================] - 0s 91us/step - loss: 0.7847 - accuracy: 0.6495\n",
      "Epoch 68/100\n",
      "736/736 [==============================] - 0s 90us/step - loss: 0.7817 - accuracy: 0.6617\n",
      "Epoch 69/100\n",
      "736/736 [==============================] - 0s 93us/step - loss: 0.7823 - accuracy: 0.6399\n",
      "Epoch 70/100\n",
      "736/736 [==============================] - 0s 89us/step - loss: 0.7804 - accuracy: 0.6454\n",
      "Epoch 71/100\n",
      "736/736 [==============================] - 0s 91us/step - loss: 0.7750 - accuracy: 0.6413\n",
      "Epoch 72/100\n",
      "736/736 [==============================] - 0s 94us/step - loss: 0.7665 - accuracy: 0.6562\n",
      "Epoch 73/100\n",
      "736/736 [==============================] - 0s 91us/step - loss: 0.7622 - accuracy: 0.6658\n",
      "Epoch 74/100\n",
      "736/736 [==============================] - 0s 88us/step - loss: 0.7746 - accuracy: 0.6508\n",
      "Epoch 75/100\n",
      "736/736 [==============================] - 0s 92us/step - loss: 0.7647 - accuracy: 0.6603\n",
      "Epoch 76/100\n",
      "736/736 [==============================] - 0s 90us/step - loss: 0.7634 - accuracy: 0.6590\n",
      "Epoch 77/100\n",
      "736/736 [==============================] - 0s 96us/step - loss: 0.7529 - accuracy: 0.6821\n",
      "Epoch 78/100\n",
      "736/736 [==============================] - 0s 102us/step - loss: 0.7496 - accuracy: 0.6726\n",
      "Epoch 79/100\n",
      "736/736 [==============================] - 0s 101us/step - loss: 0.7618 - accuracy: 0.6535\n",
      "Epoch 80/100\n",
      "736/736 [==============================] - 0s 103us/step - loss: 0.7572 - accuracy: 0.6712\n",
      "Epoch 81/100\n",
      "736/736 [==============================] - 0s 101us/step - loss: 0.7578 - accuracy: 0.6698\n",
      "Epoch 82/100\n",
      "736/736 [==============================] - 0s 93us/step - loss: 0.7494 - accuracy: 0.6739\n",
      "Epoch 83/100\n",
      "736/736 [==============================] - 0s 123us/step - loss: 0.7488 - accuracy: 0.6617\n",
      "Epoch 84/100\n",
      "736/736 [==============================] - 0s 115us/step - loss: 0.7513 - accuracy: 0.6712\n",
      "Epoch 85/100\n",
      "736/736 [==============================] - 0s 104us/step - loss: 0.7503 - accuracy: 0.6753\n",
      "Epoch 86/100\n",
      "736/736 [==============================] - ETA: 0s - loss: 0.7408 - accuracy: 0.67 - 0s 110us/step - loss: 0.7398 - accuracy: 0.6726\n",
      "Epoch 87/100\n",
      "736/736 [==============================] - 0s 106us/step - loss: 0.7341 - accuracy: 0.6780\n",
      "Epoch 88/100\n",
      "736/736 [==============================] - 0s 105us/step - loss: 0.7382 - accuracy: 0.6685\n",
      "Epoch 89/100\n",
      "736/736 [==============================] - 0s 99us/step - loss: 0.7411 - accuracy: 0.6712\n",
      "Epoch 90/100\n",
      "736/736 [==============================] - 0s 99us/step - loss: 0.7281 - accuracy: 0.6943\n",
      "Epoch 91/100\n",
      "736/736 [==============================] - 0s 98us/step - loss: 0.7310 - accuracy: 0.6753\n",
      "Epoch 92/100\n",
      "736/736 [==============================] - 0s 113us/step - loss: 0.7257 - accuracy: 0.6780\n",
      "Epoch 93/100\n",
      "736/736 [==============================] - 0s 109us/step - loss: 0.7226 - accuracy: 0.6753\n",
      "Epoch 94/100\n",
      "736/736 [==============================] - 0s 106us/step - loss: 0.7288 - accuracy: 0.6712\n",
      "Epoch 95/100\n",
      "736/736 [==============================] - 0s 92us/step - loss: 0.7351 - accuracy: 0.6739\n",
      "Epoch 96/100\n",
      "736/736 [==============================] - 0s 91us/step - loss: 0.7249 - accuracy: 0.6970\n",
      "Epoch 97/100\n",
      "736/736 [==============================] - 0s 92us/step - loss: 0.7407 - accuracy: 0.6848\n",
      "Epoch 98/100\n",
      "736/736 [==============================] - 0s 91us/step - loss: 0.7293 - accuracy: 0.6739\n",
      "Epoch 99/100\n",
      "736/736 [==============================] - 0s 91us/step - loss: 0.7165 - accuracy: 0.6821\n",
      "Epoch 100/100\n",
      "736/736 [==============================] - 0s 91us/step - loss: 0.7219 - accuracy: 0.6698\n"
     ]
    },
    {
     "data": {
      "text/plain": [
       "<keras.callbacks.callbacks.History at 0x262e2b97b88>"
      ]
     },
     "execution_count": 40,
     "metadata": {},
     "output_type": "execute_result"
    }
   ],
   "source": [
    "# Initializing the ANN\n",
    "ann = Sequential()\n",
    "\n",
    "# Adding the input & hidden layer\n",
    "ann.add(Dense(32, activation = 'relu', input_shape = (24,)))\n",
    "ann.add(Dense(32, activation = 'relu'))\n",
    "ann.add(Dense(32, activation = 'relu'))\n",
    "ann.add(Dense(3, activation = 'softmax'))\n",
    "ann.compile(loss='categorical_crossentropy', optimizer='adam', metrics=['accuracy'])\n",
    "\n",
    "ann.fit(X_train, y_binary, batch_size = 10, epochs = 100)"
   ]
  },
  {
   "cell_type": "code",
   "execution_count": 41,
   "metadata": {},
   "outputs": [],
   "source": [
    "# Create threshold for multi-predictor\n",
    "y_pred = ann.predict(X_test)\n",
    "y_pred = (y_pred > 0.5)"
   ]
  },
  {
   "cell_type": "code",
   "execution_count": 42,
   "metadata": {},
   "outputs": [
    {
     "data": {
      "text/plain": [
       "array([[62, 15,  2],\n",
       "       [30, 27,  3],\n",
       "       [24, 13,  9]], dtype=int64)"
      ]
     },
     "execution_count": 42,
     "metadata": {},
     "output_type": "execute_result"
    }
   ],
   "source": [
    "# Making the confusion matrix\n",
    "from sklearn.metrics import confusion_matrix\n",
    "from sklearn.metrics import multilabel_confusion_matrix\n",
    "\n",
    "cm = confusion_matrix(y_compare.argmax(axis=1), y_pred.argmax(axis=1))\n",
    "\n",
    "cm"
   ]
  },
  {
   "cell_type": "code",
   "execution_count": 44,
   "metadata": {},
   "outputs": [
    {
     "name": "stderr",
     "output_type": "stream",
     "text": [
      "C:\\Users\\ravee\\Anaconda3\\lib\\site-packages\\sklearn\\metrics\\_classification.py:1272: UndefinedMetricWarning: Precision and F-score are ill-defined and being set to 0.0 in labels with no predicted samples. Use `zero_division` parameter to control this behavior.\n",
      "  _warn_prf(average, modifier, msg_start, len(result))\n"
     ]
    },
    {
     "name": "stdout",
     "output_type": "stream",
     "text": [
      "              precision    recall  f1-score   support\n",
      "\n",
      "           0       0.54      0.75      0.63        40\n",
      "           1       0.35      0.41      0.38        32\n",
      "           2       0.00      0.00      0.00        21\n",
      "\n",
      "    accuracy                           0.46        93\n",
      "   macro avg       0.30      0.39      0.33        93\n",
      "weighted avg       0.35      0.46      0.40        93\n",
      "\n",
      "              precision    recall  f1-score   support\n",
      "\n",
      "           0       0.67      0.82      0.74        39\n",
      "           1       0.64      0.82      0.72        33\n",
      "           2       0.50      0.05      0.09        20\n",
      "\n",
      "    accuracy                           0.65        92\n",
      "   macro avg       0.60      0.56      0.52        92\n",
      "weighted avg       0.62      0.65      0.59        92\n",
      "\n"
     ]
    },
    {
     "name": "stderr",
     "output_type": "stream",
     "text": [
      "C:\\Users\\ravee\\Anaconda3\\lib\\site-packages\\sklearn\\metrics\\_classification.py:1272: UndefinedMetricWarning: Precision and F-score are ill-defined and being set to 0.0 in labels with no predicted samples. Use `zero_division` parameter to control this behavior.\n",
      "  _warn_prf(average, modifier, msg_start, len(result))\n"
     ]
    },
    {
     "name": "stdout",
     "output_type": "stream",
     "text": [
      "              precision    recall  f1-score   support\n",
      "\n",
      "           0       0.54      0.87      0.67        39\n",
      "           1       0.55      0.48      0.52        33\n",
      "           2       0.00      0.00      0.00        20\n",
      "\n",
      "    accuracy                           0.54        92\n",
      "   macro avg       0.36      0.45      0.39        92\n",
      "weighted avg       0.43      0.54      0.47        92\n",
      "\n",
      "              precision    recall  f1-score   support\n",
      "\n",
      "           0       0.54      0.90      0.67        39\n",
      "           1       0.60      0.45      0.52        33\n",
      "           2       0.00      0.00      0.00        20\n",
      "\n",
      "    accuracy                           0.54        92\n",
      "   macro avg       0.38      0.45      0.40        92\n",
      "weighted avg       0.44      0.54      0.47        92\n",
      "\n"
     ]
    },
    {
     "name": "stderr",
     "output_type": "stream",
     "text": [
      "C:\\Users\\ravee\\Anaconda3\\lib\\site-packages\\sklearn\\metrics\\_classification.py:1272: UndefinedMetricWarning: Precision and F-score are ill-defined and being set to 0.0 in labels with no predicted samples. Use `zero_division` parameter to control this behavior.\n",
      "  _warn_prf(average, modifier, msg_start, len(result))\n"
     ]
    },
    {
     "name": "stdout",
     "output_type": "stream",
     "text": [
      "              precision    recall  f1-score   support\n",
      "\n",
      "           0       0.56      0.74      0.64        39\n",
      "           1       0.55      0.69      0.61        32\n",
      "           2       0.00      0.00      0.00        21\n",
      "\n",
      "    accuracy                           0.55        92\n",
      "   macro avg       0.37      0.48      0.42        92\n",
      "weighted avg       0.43      0.55      0.48        92\n",
      "\n"
     ]
    },
    {
     "name": "stderr",
     "output_type": "stream",
     "text": [
      "C:\\Users\\ravee\\Anaconda3\\lib\\site-packages\\sklearn\\metrics\\_classification.py:1272: UndefinedMetricWarning: Precision and F-score are ill-defined and being set to 0.0 in labels with no predicted samples. Use `zero_division` parameter to control this behavior.\n",
      "  _warn_prf(average, modifier, msg_start, len(result))\n"
     ]
    },
    {
     "name": "stdout",
     "output_type": "stream",
     "text": [
      "              precision    recall  f1-score   support\n",
      "\n",
      "           0       0.55      0.56      0.56        39\n",
      "           1       0.44      0.72      0.55        32\n",
      "           2       0.00      0.00      0.00        21\n",
      "\n",
      "    accuracy                           0.49        92\n",
      "   macro avg       0.33      0.43      0.37        92\n",
      "weighted avg       0.39      0.49      0.43        92\n",
      "\n"
     ]
    },
    {
     "name": "stderr",
     "output_type": "stream",
     "text": [
      "C:\\Users\\ravee\\Anaconda3\\lib\\site-packages\\sklearn\\metrics\\_classification.py:1272: UndefinedMetricWarning: Precision and F-score are ill-defined and being set to 0.0 in labels with no predicted samples. Use `zero_division` parameter to control this behavior.\n",
      "  _warn_prf(average, modifier, msg_start, len(result))\n"
     ]
    },
    {
     "name": "stdout",
     "output_type": "stream",
     "text": [
      "              precision    recall  f1-score   support\n",
      "\n",
      "           0       0.56      0.77      0.65        39\n",
      "           1       0.50      0.59      0.54        32\n",
      "           2       0.00      0.00      0.00        21\n",
      "\n",
      "    accuracy                           0.53        92\n",
      "   macro avg       0.35      0.45      0.40        92\n",
      "weighted avg       0.41      0.53      0.46        92\n",
      "\n"
     ]
    },
    {
     "name": "stderr",
     "output_type": "stream",
     "text": [
      "C:\\Users\\ravee\\Anaconda3\\lib\\site-packages\\sklearn\\metrics\\_classification.py:1272: UndefinedMetricWarning: Precision and F-score are ill-defined and being set to 0.0 in labels with no predicted samples. Use `zero_division` parameter to control this behavior.\n",
      "  _warn_prf(average, modifier, msg_start, len(result))\n"
     ]
    },
    {
     "name": "stdout",
     "output_type": "stream",
     "text": [
      "              precision    recall  f1-score   support\n",
      "\n",
      "           0       0.53      0.82      0.65        39\n",
      "           1       0.53      0.53      0.53        32\n",
      "           2       0.00      0.00      0.00        21\n",
      "\n",
      "    accuracy                           0.53        92\n",
      "   macro avg       0.35      0.45      0.39        92\n",
      "weighted avg       0.41      0.53      0.46        92\n",
      "\n"
     ]
    },
    {
     "name": "stderr",
     "output_type": "stream",
     "text": [
      "C:\\Users\\ravee\\Anaconda3\\lib\\site-packages\\sklearn\\metrics\\_classification.py:1272: UndefinedMetricWarning: Precision and F-score are ill-defined and being set to 0.0 in labels with no predicted samples. Use `zero_division` parameter to control this behavior.\n",
      "  _warn_prf(average, modifier, msg_start, len(result))\n"
     ]
    },
    {
     "name": "stdout",
     "output_type": "stream",
     "text": [
      "              precision    recall  f1-score   support\n",
      "\n",
      "           0       0.60      0.79      0.68        39\n",
      "           1       0.57      0.72      0.64        32\n",
      "           2       0.00      0.00      0.00        21\n",
      "\n",
      "    accuracy                           0.59        92\n",
      "   macro avg       0.39      0.50      0.44        92\n",
      "weighted avg       0.45      0.59      0.51        92\n",
      "\n",
      "              precision    recall  f1-score   support\n",
      "\n",
      "           0       0.59      0.77      0.67        39\n",
      "           1       0.51      0.66      0.58        32\n",
      "           2       0.00      0.00      0.00        21\n",
      "\n",
      "    accuracy                           0.55        92\n",
      "   macro avg       0.37      0.48      0.41        92\n",
      "weighted avg       0.43      0.55      0.48        92\n",
      "\n"
     ]
    },
    {
     "name": "stderr",
     "output_type": "stream",
     "text": [
      "C:\\Users\\ravee\\Anaconda3\\lib\\site-packages\\sklearn\\metrics\\_classification.py:1272: UndefinedMetricWarning: Precision and F-score are ill-defined and being set to 0.0 in labels with no predicted samples. Use `zero_division` parameter to control this behavior.\n",
      "  _warn_prf(average, modifier, msg_start, len(result))\n"
     ]
    }
   ],
   "source": [
    "# Calculating the accuracy and other metrics\n",
    "#, scoring=make_scorer(classification_report_with_accuracy_score)\n",
    "\n",
    "from sklearn.model_selection import StratifiedKFold, cross_val_score\n",
    "from tensorflow.keras.wrappers.scikit_learn import KerasRegressor\n",
    "from sklearn.metrics import accuracy_score\n",
    "from sklearn.metrics import classification_report\n",
    "\n",
    "target_names = ['melanoma', 'bcc', 'scc']\n",
    "\n",
    "# Variables for average classification report\n",
    "originalclass = []\n",
    "predictedclass = []\n",
    "\n",
    "#Build the Model\n",
    "def buildmodel():\n",
    "    ann = Sequential()\n",
    "    ann.add(Dense(16, activation = 'relu', input_shape = (24,)))\n",
    "    ann.add(Dense(16, activation = 'relu'))\n",
    "    ann.add(Dense(3, activation = 'softmax'))\n",
    "    ann.compile(loss='categorical_crossentropy', optimizer='adam', metrics=['accuracy', 'categorical_accuracy'])\n",
    "    return(ann)\n",
    "\n",
    "\n",
    "#Make our customer score\n",
    "def classification_report_with_accuracy_score(y_use, y_pred):\n",
    "    originalclass.extend(y_use)\n",
    "    predictedclass.extend(y_pred.argmax(axis=1))\n",
    "    print(classification_report(y_use, y_pred.argmax(axis=1)))\n",
    "    return accuracy_score(y_use, y_pred.argmax(axis=1)) # return accuracy score\n",
    "\n",
    "outer_cv = StratifiedKFold(n_splits=10, shuffle=True, random_state=0)\n",
    "\n",
    "# Nested CV with parameter optimization\n",
    "ann = KerasRegressor(build_fn=buildmodel, epochs = 100, batch_size = 10, verbose = 0)\n",
    "nested_score = cross_val_score(estimator = ann, X = X, y = y_use.argmax(1), cv=outer_cv, scoring=make_scorer(classification_report_with_accuracy_score))"
   ]
  },
  {
   "cell_type": "code",
   "execution_count": 45,
   "metadata": {},
   "outputs": [
    {
     "name": "stdout",
     "output_type": "stream",
     "text": [
      "              precision    recall  f1-score   support\n",
      "\n",
      "    melanoma       0.56      0.78      0.65       391\n",
      "         bcc       0.52      0.61      0.56       323\n",
      "         scc       0.25      0.00      0.01       207\n",
      "\n",
      "    accuracy                           0.55       921\n",
      "   macro avg       0.45      0.46      0.41       921\n",
      "weighted avg       0.48      0.55      0.48       921\n",
      "\n"
     ]
    }
   ],
   "source": [
    "# Average values in classification report for all folds in a K-fold Cross-validation  \n",
    "print(classification_report(originalclass, predictedclass, target_names=target_names))"
   ]
  },
  {
   "cell_type": "markdown",
   "metadata": {},
   "source": [
    "# XGBoost"
   ]
  },
  {
   "cell_type": "code",
   "execution_count": 33,
   "metadata": {},
   "outputs": [
    {
     "data": {
      "text/plain": [
       "XGBClassifier(base_score=0.5, booster='dart', colsample_bylevel=1,\n",
       "              colsample_bynode=1, colsample_bytree=1, gamma=0,\n",
       "              learning_rate=0.1, max_delta_step=0, max_depth=3,\n",
       "              min_child_weight=1, missing=None, n_estimators=100, n_jobs=1,\n",
       "              normalize_type='tree', nthread=None, objective='multi:softprob',\n",
       "              random_state=0, rate_drop=0.2, reg_alpha=0, reg_lambda=1,\n",
       "              sample_type='uniform', scale_pos_weight=1, seed=None, silent=None,\n",
       "              subsample=1, verbosity=1)"
      ]
     },
     "execution_count": 33,
     "metadata": {},
     "output_type": "execute_result"
    }
   ],
   "source": [
    "# Importing the XGB Library and fit it to the data\n",
    "from xgboost import XGBClassifier\n",
    "xgb = XGBClassifier(objective = 'multi:softmax', booster = 'dart', n_estimators = 100, rate_drop = 0.2, sample_type = 'uniform', normalize_type = 'tree')\n",
    "xgb.fit(X_train, y_train)"
   ]
  },
  {
   "cell_type": "code",
   "execution_count": 34,
   "metadata": {},
   "outputs": [
    {
     "data": {
      "text/plain": [
       "array([[57, 21,  1],\n",
       "       [21, 37,  2],\n",
       "       [21, 25,  0]], dtype=int64)"
      ]
     },
     "execution_count": 34,
     "metadata": {},
     "output_type": "execute_result"
    }
   ],
   "source": [
    "# Predicting the test set result\n",
    "y_pred = xgb.predict(X_test)\n",
    "\n",
    "# Making the confusion matrix\n",
    "from sklearn.metrics import confusion_matrix\n",
    "from sklearn.metrics import multilabel_confusion_matrix\n",
    "\n",
    "cm = confusion_matrix(y_test, y_pred)\n",
    "cm2 = multilabel_confusion_matrix(y_test, y_pred)\n",
    "\n",
    "cm"
   ]
  },
  {
   "cell_type": "code",
   "execution_count": 35,
   "metadata": {},
   "outputs": [
    {
     "name": "stdout",
     "output_type": "stream",
     "text": [
      "0.5475379489078119\n"
     ]
    }
   ],
   "source": [
    "# Applying K-Fold Cross Validation\n",
    "\n",
    "from sklearn.model_selection import cross_val_score\n",
    "accuracies = cross_val_score(estimator = xgb, X = X_train, y = y_train, cv = 10, n_jobs = -1)\n",
    "print(np.mean(accuracies))"
   ]
  },
  {
   "cell_type": "code",
   "execution_count": 13,
   "metadata": {},
   "outputs": [
    {
     "name": "stdout",
     "output_type": "stream",
     "text": [
      "0.57\n",
      "{'booster': 'dart', 'n_estimators': 100, 'normalize_type': 'tree', 'objective': 'multi:softmax', 'rate_drop': 0.2, 'sample_type': 'uniform', 'skip_drop': 0}\n"
     ]
    }
   ],
   "source": [
    "# Applying Grid Search to Find the Best Hyperparameter\n",
    "# {'objective': ['multi:softmax'], 'n_estimators': [25, 50, 100], 'booster': ['gbtree'], 'eta': [0.001, 0.002, 0.004], 'max_depth':[3], 'gamma': [0], 'subsample': [1], 'sampling_method': ['uniform', 'gradient_based']},\n",
    "# {'objective': ['multi:softmax'], 'n_estimators': [109], 'booster': ['dart'], 'sample_type': ['uniform', 'weighted'], 'normalize_type': ['tree', 'forest'], 'rate_drop': [0, 0.1, 0.2], 'skip_drop': [0, 0.1, 0.2]}\n",
    "# {'objective': ['multi:softmax'], 'n_estimators': [10, 25, 50], 'booster': ['gblinear'], 'feature_selector': ['greedy', 'cyclic', 'random', 'shuffle', 'thrifty'], 'updater': ['shotgun', 'coord_descent'], 'lambda': [0, 0.5, 1], 'alpha': [0, 0.5, 1]}\n",
    "\n",
    "from sklearn.model_selection import GridSearchCV\n",
    "parameters = [\n",
    "    {'objective': ['multi:softmax'], 'n_estimators': [100, 200, 300], 'booster': ['dart'], 'sample_type': ['uniform', 'weighted'], 'normalize_type': ['tree', 'forest'], 'rate_drop': [0, 0.1, 0.2], 'skip_drop': [0, 0.1, 0.2]}\n",
    "]\n",
    "\n",
    "grid_search = GridSearchCV(estimator = xgb, param_grid = parameters, scoring = 'accuracy', cv = 5, n_jobs = -1)\n",
    "grid_search = grid_search.fit(X_train, y_train)\n",
    "\n",
    "best_accuracy = grid_search.best_score_\n",
    "best_parameters = grid_search.best_params_\n",
    "\n",
    "print(round(best_accuracy, 2))\n",
    "print(best_parameters)"
   ]
  },
  {
   "cell_type": "code",
   "execution_count": 36,
   "metadata": {},
   "outputs": [
    {
     "name": "stderr",
     "output_type": "stream",
     "text": [
      "C:\\Users\\ravee\\Anaconda3\\lib\\site-packages\\sklearn\\metrics\\_classification.py:1272: UndefinedMetricWarning: Precision and F-score are ill-defined and being set to 0.0 in labels with no predicted samples. Use `zero_division` parameter to control this behavior.\n",
      "  _warn_prf(average, modifier, msg_start, len(result))\n"
     ]
    },
    {
     "name": "stdout",
     "output_type": "stream",
     "text": [
      "              precision    recall  f1-score   support\n",
      "\n",
      "           1       0.64      0.68      0.66        40\n",
      "           2       0.39      0.62      0.48        32\n",
      "           3       0.00      0.00      0.00        21\n",
      "\n",
      "    accuracy                           0.51        93\n",
      "   macro avg       0.35      0.43      0.38        93\n",
      "weighted avg       0.41      0.51      0.45        93\n",
      "\n",
      "              precision    recall  f1-score   support\n",
      "\n",
      "           1       0.66      0.69      0.68        39\n",
      "           2       0.56      0.82      0.67        33\n",
      "           3       0.67      0.10      0.17        20\n",
      "\n",
      "    accuracy                           0.61        92\n",
      "   macro avg       0.63      0.54      0.51        92\n",
      "weighted avg       0.63      0.61      0.56        92\n",
      "\n",
      "              precision    recall  f1-score   support\n",
      "\n",
      "           1       0.57      0.67      0.61        39\n",
      "           2       0.44      0.61      0.51        33\n",
      "           3       1.00      0.05      0.10        20\n",
      "\n",
      "    accuracy                           0.51        92\n",
      "   macro avg       0.67      0.44      0.41        92\n",
      "weighted avg       0.62      0.51      0.46        92\n",
      "\n",
      "              precision    recall  f1-score   support\n",
      "\n",
      "           1       0.66      0.79      0.72        39\n",
      "           2       0.47      0.55      0.51        33\n",
      "           3       0.14      0.05      0.07        20\n",
      "\n",
      "    accuracy                           0.54        92\n",
      "   macro avg       0.43      0.46      0.43        92\n",
      "weighted avg       0.48      0.54      0.50        92\n",
      "\n",
      "              precision    recall  f1-score   support\n",
      "\n",
      "           1       0.68      0.67      0.68        39\n",
      "           2       0.52      0.81      0.63        32\n",
      "           3       0.25      0.05      0.08        21\n",
      "\n",
      "    accuracy                           0.58        92\n",
      "   macro avg       0.48      0.51      0.46        92\n",
      "weighted avg       0.53      0.58      0.53        92\n",
      "\n",
      "              precision    recall  f1-score   support\n",
      "\n",
      "           1       0.61      0.64      0.62        39\n",
      "           2       0.46      0.72      0.56        32\n",
      "           3       1.00      0.05      0.09        21\n",
      "\n",
      "    accuracy                           0.53        92\n",
      "   macro avg       0.69      0.47      0.43        92\n",
      "weighted avg       0.65      0.53      0.48        92\n",
      "\n",
      "              precision    recall  f1-score   support\n",
      "\n",
      "           1       0.56      0.69      0.62        39\n",
      "           2       0.52      0.69      0.59        32\n",
      "           3       0.00      0.00      0.00        21\n",
      "\n",
      "    accuracy                           0.53        92\n",
      "   macro avg       0.36      0.46      0.41        92\n",
      "weighted avg       0.42      0.53      0.47        92\n",
      "\n",
      "              precision    recall  f1-score   support\n",
      "\n",
      "           1       0.59      0.67      0.63        39\n",
      "           2       0.50      0.72      0.59        32\n",
      "           3       0.50      0.05      0.09        21\n",
      "\n",
      "    accuracy                           0.54        92\n",
      "   macro avg       0.53      0.48      0.43        92\n",
      "weighted avg       0.54      0.54      0.49        92\n",
      "\n",
      "              precision    recall  f1-score   support\n",
      "\n",
      "           1       0.62      0.64      0.63        39\n",
      "           2       0.50      0.72      0.59        32\n",
      "           3       0.33      0.10      0.15        21\n",
      "\n",
      "    accuracy                           0.54        92\n",
      "   macro avg       0.49      0.49      0.46        92\n",
      "weighted avg       0.51      0.54      0.51        92\n",
      "\n",
      "              precision    recall  f1-score   support\n",
      "\n",
      "           1       0.62      0.74      0.67        39\n",
      "           2       0.49      0.69      0.57        32\n",
      "           3       0.00      0.00      0.00        21\n",
      "\n",
      "    accuracy                           0.55        92\n",
      "   macro avg       0.37      0.48      0.42        92\n",
      "weighted avg       0.43      0.55      0.48        92\n",
      "\n"
     ]
    }
   ],
   "source": [
    "# Calculating the accuracy and other metrics\n",
    "\n",
    "from sklearn.metrics import f1_score, accuracy_score, precision_score, recall_score, make_scorer\n",
    "from sklearn.metrics import accuracy_score\n",
    "from sklearn.metrics import classification_report\n",
    "from sklearn.model_selection import cross_val_score\n",
    "from sklearn.model_selection import StratifiedKFold, KFold\n",
    "\n",
    "target_names = ['melanoma', 'bcc', 'scc']\n",
    "\n",
    "# Variables for average classification report\n",
    "originalclass = []\n",
    "predictedclass = []\n",
    "\n",
    "#Make our customer score\n",
    "def classification_report_with_accuracy_score(y_test, y_pred):\n",
    "    originalclass.extend(y_test)\n",
    "    predictedclass.extend(y_pred)\n",
    "    print(classification_report(y_test, y_pred))\n",
    "    return accuracy_score(y_test, y_pred) # return accuracy score\n",
    "\n",
    "outer_cv = StratifiedKFold(n_splits=10, shuffle=True, random_state=0)\n",
    "\n",
    "# Nested CV with parameter optimization\n",
    "nested_score = cross_val_score(estimator = xgb, X = X, y = Y, cv=outer_cv, scoring=make_scorer(classification_report_with_accuracy_score))"
   ]
  },
  {
   "cell_type": "code",
   "execution_count": 37,
   "metadata": {},
   "outputs": [
    {
     "name": "stdout",
     "output_type": "stream",
     "text": [
      "              precision    recall  f1-score   support\n",
      "\n",
      "    melanoma       0.62      0.69      0.65       391\n",
      "         bcc       0.49      0.69      0.57       323\n",
      "         scc       0.35      0.04      0.08       207\n",
      "\n",
      "    accuracy                           0.55       921\n",
      "   macro avg       0.48      0.47      0.43       921\n",
      "weighted avg       0.51      0.55      0.49       921\n",
      "\n"
     ]
    }
   ],
   "source": [
    "# Average values in classification report for all folds in a K-fold Cross-validation  \n",
    "print(classification_report(originalclass, predictedclass, target_names=target_names))"
   ]
  },
  {
   "cell_type": "code",
   "execution_count": null,
   "metadata": {},
   "outputs": [],
   "source": []
  }
 ],
 "metadata": {
  "kernelspec": {
   "display_name": "Python 3",
   "language": "python",
   "name": "python3"
  },
  "language_info": {
   "codemirror_mode": {
    "name": "ipython",
    "version": 3
   },
   "file_extension": ".py",
   "mimetype": "text/x-python",
   "name": "python",
   "nbconvert_exporter": "python",
   "pygments_lexer": "ipython3",
   "version": "3.7.6"
  }
 },
 "nbformat": 4,
 "nbformat_minor": 4
}
