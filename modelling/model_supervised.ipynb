{
 "cells": [
  {
   "cell_type": "code",
   "execution_count": 1,
   "metadata": {},
   "outputs": [],
   "source": [
    "import numpy as np\n",
    "import pandas as pd\n",
    "import matplotlib.pyplot as plt"
   ]
  },
  {
   "cell_type": "code",
   "execution_count": 48,
   "metadata": {},
   "outputs": [],
   "source": [
    "dataset = pd.read_csv('C:/Users/ravee/Jupyter/Skin-Cancer-Classification/data/data.csv', header=None)\n",
    "X = dataset.iloc[:, 0:55].values\n",
    "Y = dataset.iloc[:, 56].values"
   ]
  },
  {
   "cell_type": "code",
   "execution_count": 3,
   "metadata": {},
   "outputs": [
    {
     "data": {
      "text/html": [
       "<div>\n",
       "<style scoped>\n",
       "    .dataframe tbody tr th:only-of-type {\n",
       "        vertical-align: middle;\n",
       "    }\n",
       "\n",
       "    .dataframe tbody tr th {\n",
       "        vertical-align: top;\n",
       "    }\n",
       "\n",
       "    .dataframe thead th {\n",
       "        text-align: right;\n",
       "    }\n",
       "</style>\n",
       "<table border=\"1\" class=\"dataframe\">\n",
       "  <thead>\n",
       "    <tr style=\"text-align: right;\">\n",
       "      <th></th>\n",
       "      <th>0</th>\n",
       "      <th>1</th>\n",
       "      <th>2</th>\n",
       "      <th>3</th>\n",
       "      <th>4</th>\n",
       "      <th>5</th>\n",
       "      <th>6</th>\n",
       "      <th>7</th>\n",
       "      <th>8</th>\n",
       "      <th>9</th>\n",
       "      <th>...</th>\n",
       "      <th>47</th>\n",
       "      <th>48</th>\n",
       "      <th>49</th>\n",
       "      <th>50</th>\n",
       "      <th>51</th>\n",
       "      <th>52</th>\n",
       "      <th>53</th>\n",
       "      <th>54</th>\n",
       "      <th>55</th>\n",
       "      <th>56</th>\n",
       "    </tr>\n",
       "  </thead>\n",
       "  <tbody>\n",
       "    <tr>\n",
       "      <th>0</th>\n",
       "      <td>169.256450</td>\n",
       "      <td>202.590651</td>\n",
       "      <td>242.497507</td>\n",
       "      <td>54.823602</td>\n",
       "      <td>51.052070</td>\n",
       "      <td>26.222353</td>\n",
       "      <td>0.000083</td>\n",
       "      <td>0.000155</td>\n",
       "      <td>0.000059</td>\n",
       "      <td>0.000143</td>\n",
       "      <td>...</td>\n",
       "      <td>0.685561</td>\n",
       "      <td>0.986359</td>\n",
       "      <td>0.979975</td>\n",
       "      <td>0.984579</td>\n",
       "      <td>0.978706</td>\n",
       "      <td>0.472019</td>\n",
       "      <td>0.470765</td>\n",
       "      <td>0.471009</td>\n",
       "      <td>0.469994</td>\n",
       "      <td>1</td>\n",
       "    </tr>\n",
       "    <tr>\n",
       "      <th>1</th>\n",
       "      <td>108.462145</td>\n",
       "      <td>153.931848</td>\n",
       "      <td>212.770833</td>\n",
       "      <td>47.916776</td>\n",
       "      <td>50.114792</td>\n",
       "      <td>32.598578</td>\n",
       "      <td>0.000000</td>\n",
       "      <td>0.000122</td>\n",
       "      <td>0.000027</td>\n",
       "      <td>0.000231</td>\n",
       "      <td>...</td>\n",
       "      <td>0.680274</td>\n",
       "      <td>0.980717</td>\n",
       "      <td>0.967215</td>\n",
       "      <td>0.976585</td>\n",
       "      <td>0.973490</td>\n",
       "      <td>0.464470</td>\n",
       "      <td>0.460822</td>\n",
       "      <td>0.461779</td>\n",
       "      <td>0.462773</td>\n",
       "      <td>1</td>\n",
       "    </tr>\n",
       "    <tr>\n",
       "      <th>2</th>\n",
       "      <td>210.075311</td>\n",
       "      <td>220.092924</td>\n",
       "      <td>253.834964</td>\n",
       "      <td>34.058778</td>\n",
       "      <td>27.562333</td>\n",
       "      <td>2.447045</td>\n",
       "      <td>0.000000</td>\n",
       "      <td>0.000057</td>\n",
       "      <td>0.000000</td>\n",
       "      <td>0.000172</td>\n",
       "      <td>...</td>\n",
       "      <td>0.726408</td>\n",
       "      <td>0.970713</td>\n",
       "      <td>0.955162</td>\n",
       "      <td>0.969559</td>\n",
       "      <td>0.966326</td>\n",
       "      <td>0.520789</td>\n",
       "      <td>0.524100</td>\n",
       "      <td>0.520656</td>\n",
       "      <td>0.527669</td>\n",
       "      <td>1</td>\n",
       "    </tr>\n",
       "    <tr>\n",
       "      <th>3</th>\n",
       "      <td>166.967572</td>\n",
       "      <td>174.194743</td>\n",
       "      <td>225.132927</td>\n",
       "      <td>44.874775</td>\n",
       "      <td>46.330424</td>\n",
       "      <td>35.535939</td>\n",
       "      <td>0.000292</td>\n",
       "      <td>0.000504</td>\n",
       "      <td>0.000319</td>\n",
       "      <td>0.001566</td>\n",
       "      <td>...</td>\n",
       "      <td>0.651558</td>\n",
       "      <td>0.975344</td>\n",
       "      <td>0.957002</td>\n",
       "      <td>0.965519</td>\n",
       "      <td>0.960409</td>\n",
       "      <td>0.425697</td>\n",
       "      <td>0.422765</td>\n",
       "      <td>0.420703</td>\n",
       "      <td>0.424528</td>\n",
       "      <td>1</td>\n",
       "    </tr>\n",
       "    <tr>\n",
       "      <th>4</th>\n",
       "      <td>147.359097</td>\n",
       "      <td>157.010846</td>\n",
       "      <td>185.615266</td>\n",
       "      <td>64.245087</td>\n",
       "      <td>62.478155</td>\n",
       "      <td>54.582425</td>\n",
       "      <td>0.000000</td>\n",
       "      <td>0.000102</td>\n",
       "      <td>0.000102</td>\n",
       "      <td>0.000409</td>\n",
       "      <td>...</td>\n",
       "      <td>0.670741</td>\n",
       "      <td>0.977183</td>\n",
       "      <td>0.967147</td>\n",
       "      <td>0.977047</td>\n",
       "      <td>0.969475</td>\n",
       "      <td>0.451838</td>\n",
       "      <td>0.449249</td>\n",
       "      <td>0.451438</td>\n",
       "      <td>0.449893</td>\n",
       "      <td>1</td>\n",
       "    </tr>\n",
       "    <tr>\n",
       "      <th>...</th>\n",
       "      <td>...</td>\n",
       "      <td>...</td>\n",
       "      <td>...</td>\n",
       "      <td>...</td>\n",
       "      <td>...</td>\n",
       "      <td>...</td>\n",
       "      <td>...</td>\n",
       "      <td>...</td>\n",
       "      <td>...</td>\n",
       "      <td>...</td>\n",
       "      <td>...</td>\n",
       "      <td>...</td>\n",
       "      <td>...</td>\n",
       "      <td>...</td>\n",
       "      <td>...</td>\n",
       "      <td>...</td>\n",
       "      <td>...</td>\n",
       "      <td>...</td>\n",
       "      <td>...</td>\n",
       "      <td>...</td>\n",
       "      <td>...</td>\n",
       "    </tr>\n",
       "    <tr>\n",
       "      <th>677</th>\n",
       "      <td>216.271625</td>\n",
       "      <td>207.522922</td>\n",
       "      <td>254.092376</td>\n",
       "      <td>35.953658</td>\n",
       "      <td>28.445054</td>\n",
       "      <td>1.980630</td>\n",
       "      <td>0.000559</td>\n",
       "      <td>0.000838</td>\n",
       "      <td>0.000424</td>\n",
       "      <td>0.000694</td>\n",
       "      <td>...</td>\n",
       "      <td>0.699715</td>\n",
       "      <td>0.974411</td>\n",
       "      <td>0.962479</td>\n",
       "      <td>0.974294</td>\n",
       "      <td>0.964876</td>\n",
       "      <td>0.492014</td>\n",
       "      <td>0.488870</td>\n",
       "      <td>0.491274</td>\n",
       "      <td>0.489601</td>\n",
       "      <td>3</td>\n",
       "    </tr>\n",
       "    <tr>\n",
       "      <th>678</th>\n",
       "      <td>201.302389</td>\n",
       "      <td>213.250941</td>\n",
       "      <td>253.622319</td>\n",
       "      <td>27.262874</td>\n",
       "      <td>20.897481</td>\n",
       "      <td>9.089076</td>\n",
       "      <td>0.000018</td>\n",
       "      <td>0.000229</td>\n",
       "      <td>0.000132</td>\n",
       "      <td>0.000494</td>\n",
       "      <td>...</td>\n",
       "      <td>0.778285</td>\n",
       "      <td>0.979561</td>\n",
       "      <td>0.969742</td>\n",
       "      <td>0.980869</td>\n",
       "      <td>0.975053</td>\n",
       "      <td>0.607069</td>\n",
       "      <td>0.603949</td>\n",
       "      <td>0.607634</td>\n",
       "      <td>0.605727</td>\n",
       "      <td>3</td>\n",
       "    </tr>\n",
       "    <tr>\n",
       "      <th>679</th>\n",
       "      <td>198.379915</td>\n",
       "      <td>196.230370</td>\n",
       "      <td>252.047819</td>\n",
       "      <td>29.067900</td>\n",
       "      <td>22.506142</td>\n",
       "      <td>5.481164</td>\n",
       "      <td>0.000551</td>\n",
       "      <td>0.000767</td>\n",
       "      <td>0.000340</td>\n",
       "      <td>0.000594</td>\n",
       "      <td>...</td>\n",
       "      <td>0.684338</td>\n",
       "      <td>0.983161</td>\n",
       "      <td>0.972880</td>\n",
       "      <td>0.980382</td>\n",
       "      <td>0.976323</td>\n",
       "      <td>0.468929</td>\n",
       "      <td>0.467087</td>\n",
       "      <td>0.467613</td>\n",
       "      <td>0.468319</td>\n",
       "      <td>3</td>\n",
       "    </tr>\n",
       "    <tr>\n",
       "      <th>680</th>\n",
       "      <td>132.429821</td>\n",
       "      <td>149.086324</td>\n",
       "      <td>248.498059</td>\n",
       "      <td>45.724390</td>\n",
       "      <td>34.462111</td>\n",
       "      <td>11.402881</td>\n",
       "      <td>0.000000</td>\n",
       "      <td>0.000071</td>\n",
       "      <td>0.000028</td>\n",
       "      <td>0.000227</td>\n",
       "      <td>...</td>\n",
       "      <td>0.721304</td>\n",
       "      <td>0.982767</td>\n",
       "      <td>0.972922</td>\n",
       "      <td>0.979823</td>\n",
       "      <td>0.973809</td>\n",
       "      <td>0.523331</td>\n",
       "      <td>0.520013</td>\n",
       "      <td>0.521998</td>\n",
       "      <td>0.520279</td>\n",
       "      <td>3</td>\n",
       "    </tr>\n",
       "    <tr>\n",
       "      <th>681</th>\n",
       "      <td>230.667314</td>\n",
       "      <td>221.230961</td>\n",
       "      <td>254.115972</td>\n",
       "      <td>28.389489</td>\n",
       "      <td>28.544260</td>\n",
       "      <td>1.575036</td>\n",
       "      <td>0.000962</td>\n",
       "      <td>0.000789</td>\n",
       "      <td>0.000271</td>\n",
       "      <td>0.000668</td>\n",
       "      <td>...</td>\n",
       "      <td>0.691695</td>\n",
       "      <td>0.974998</td>\n",
       "      <td>0.965423</td>\n",
       "      <td>0.976717</td>\n",
       "      <td>0.966234</td>\n",
       "      <td>0.480442</td>\n",
       "      <td>0.478231</td>\n",
       "      <td>0.480729</td>\n",
       "      <td>0.478441</td>\n",
       "      <td>3</td>\n",
       "    </tr>\n",
       "  </tbody>\n",
       "</table>\n",
       "<p>682 rows × 57 columns</p>\n",
       "</div>"
      ],
      "text/plain": [
       "             0           1           2          3          4          5   \\\n",
       "0    169.256450  202.590651  242.497507  54.823602  51.052070  26.222353   \n",
       "1    108.462145  153.931848  212.770833  47.916776  50.114792  32.598578   \n",
       "2    210.075311  220.092924  253.834964  34.058778  27.562333   2.447045   \n",
       "3    166.967572  174.194743  225.132927  44.874775  46.330424  35.535939   \n",
       "4    147.359097  157.010846  185.615266  64.245087  62.478155  54.582425   \n",
       "..          ...         ...         ...        ...        ...        ...   \n",
       "677  216.271625  207.522922  254.092376  35.953658  28.445054   1.980630   \n",
       "678  201.302389  213.250941  253.622319  27.262874  20.897481   9.089076   \n",
       "679  198.379915  196.230370  252.047819  29.067900  22.506142   5.481164   \n",
       "680  132.429821  149.086324  248.498059  45.724390  34.462111  11.402881   \n",
       "681  230.667314  221.230961  254.115972  28.389489  28.544260   1.575036   \n",
       "\n",
       "           6         7         8         9   ...        47        48  \\\n",
       "0    0.000083  0.000155  0.000059  0.000143  ...  0.685561  0.986359   \n",
       "1    0.000000  0.000122  0.000027  0.000231  ...  0.680274  0.980717   \n",
       "2    0.000000  0.000057  0.000000  0.000172  ...  0.726408  0.970713   \n",
       "3    0.000292  0.000504  0.000319  0.001566  ...  0.651558  0.975344   \n",
       "4    0.000000  0.000102  0.000102  0.000409  ...  0.670741  0.977183   \n",
       "..        ...       ...       ...       ...  ...       ...       ...   \n",
       "677  0.000559  0.000838  0.000424  0.000694  ...  0.699715  0.974411   \n",
       "678  0.000018  0.000229  0.000132  0.000494  ...  0.778285  0.979561   \n",
       "679  0.000551  0.000767  0.000340  0.000594  ...  0.684338  0.983161   \n",
       "680  0.000000  0.000071  0.000028  0.000227  ...  0.721304  0.982767   \n",
       "681  0.000962  0.000789  0.000271  0.000668  ...  0.691695  0.974998   \n",
       "\n",
       "           49        50        51        52        53        54        55  56  \n",
       "0    0.979975  0.984579  0.978706  0.472019  0.470765  0.471009  0.469994   1  \n",
       "1    0.967215  0.976585  0.973490  0.464470  0.460822  0.461779  0.462773   1  \n",
       "2    0.955162  0.969559  0.966326  0.520789  0.524100  0.520656  0.527669   1  \n",
       "3    0.957002  0.965519  0.960409  0.425697  0.422765  0.420703  0.424528   1  \n",
       "4    0.967147  0.977047  0.969475  0.451838  0.449249  0.451438  0.449893   1  \n",
       "..        ...       ...       ...       ...       ...       ...       ...  ..  \n",
       "677  0.962479  0.974294  0.964876  0.492014  0.488870  0.491274  0.489601   3  \n",
       "678  0.969742  0.980869  0.975053  0.607069  0.603949  0.607634  0.605727   3  \n",
       "679  0.972880  0.980382  0.976323  0.468929  0.467087  0.467613  0.468319   3  \n",
       "680  0.972922  0.979823  0.973809  0.523331  0.520013  0.521998  0.520279   3  \n",
       "681  0.965423  0.976717  0.966234  0.480442  0.478231  0.480729  0.478441   3  \n",
       "\n",
       "[682 rows x 57 columns]"
      ]
     },
     "execution_count": 3,
     "metadata": {},
     "output_type": "execute_result"
    }
   ],
   "source": [
    "# Important information about the data used in this model\n",
    "# 0 - 5    : Color attributes (Mean, Std Dev)\n",
    "# 6 - 31   : LBP attributes (Texture #1)\n",
    "# 32 - 55  : GLCM attributes (Texture #2)\n",
    "\n",
    "# 56 : Identifier\n",
    "\n",
    "# 1 = Melanoma\n",
    "# 2 = Basal Cell Carcinoma\n",
    "# 3 = Squamous Cell Carcinoma\n",
    "\n",
    "dataset"
   ]
  },
  {
   "cell_type": "code",
   "execution_count": 99,
   "metadata": {},
   "outputs": [],
   "source": [
    "# Splitting the dataset\n",
    "from sklearn.model_selection import train_test_split\n",
    "X_train, X_test, y_train, y_test = train_test_split(X, Y, test_size = 0.2, random_state = 0)"
   ]
  },
  {
   "cell_type": "code",
   "execution_count": 100,
   "metadata": {},
   "outputs": [
    {
     "data": {
      "text/plain": [
       "545"
      ]
     },
     "execution_count": 100,
     "metadata": {},
     "output_type": "execute_result"
    }
   ],
   "source": [
    "len(X_train)"
   ]
  },
  {
   "cell_type": "code",
   "execution_count": 101,
   "metadata": {},
   "outputs": [
    {
     "data": {
      "text/plain": [
       "137"
      ]
     },
     "execution_count": 101,
     "metadata": {},
     "output_type": "execute_result"
    }
   ],
   "source": [
    "len(X_test)"
   ]
  },
  {
   "cell_type": "code",
   "execution_count": 102,
   "metadata": {},
   "outputs": [],
   "source": [
    "# Feature Scaling\n",
    "from sklearn.preprocessing import StandardScaler\n",
    "sc_X = StandardScaler()\n",
    "X_train = sc_X.fit_transform(X_train)\n",
    "X_test = sc_X.transform(X_test)"
   ]
  },
  {
   "cell_type": "markdown",
   "metadata": {},
   "source": [
    "# Support Vector Machine (SVM)"
   ]
  },
  {
   "cell_type": "code",
   "execution_count": 57,
   "metadata": {},
   "outputs": [
    {
     "data": {
      "text/plain": [
       "SVC(C=1, break_ties=False, cache_size=200, class_weight=None, coef0=0.0,\n",
       "    decision_function_shape='ovr', degree=3, gamma='scale', kernel='rbf',\n",
       "    max_iter=-1, probability=False, random_state=0, shrinking=True, tol=0.001,\n",
       "    verbose=False)"
      ]
     },
     "execution_count": 57,
     "metadata": {},
     "output_type": "execute_result"
    }
   ],
   "source": [
    "# Implementation of Support Vector Machine (SVM)\n",
    "# Fitting SVM to the training set\n",
    "\n",
    "from sklearn.svm import SVC\n",
    "classifier = SVC(C = 1, kernel = 'rbf', random_state = 0)\n",
    "#classifier = SVC(C = 1, kernel = 'poly', degree = 30, random_state = 0)\n",
    "classifier.fit(X_train, y_train)"
   ]
  },
  {
   "cell_type": "code",
   "execution_count": 58,
   "metadata": {},
   "outputs": [
    {
     "data": {
      "text/plain": [
       "array([[47,  7,  3],\n",
       "       [ 8, 37,  4],\n",
       "       [ 9, 13,  9]], dtype=int64)"
      ]
     },
     "execution_count": 58,
     "metadata": {},
     "output_type": "execute_result"
    }
   ],
   "source": [
    "# Predicting the test set result\n",
    "y_pred = classifier.predict(X_test)\n",
    "\n",
    "# Making the confusion matrix\n",
    "from sklearn.metrics import confusion_matrix\n",
    "from sklearn.metrics import multilabel_confusion_matrix\n",
    "\n",
    "cm = confusion_matrix(y_test, y_pred)\n",
    "cm2 = multilabel_confusion_matrix(y_test, y_pred)\n",
    "\n",
    "cm"
   ]
  },
  {
   "cell_type": "code",
   "execution_count": 59,
   "metadata": {},
   "outputs": [
    {
     "name": "stdout",
     "output_type": "stream",
     "text": [
      "              precision    recall  f1-score   support\n",
      "\n",
      "    melanoma       0.73      0.82      0.78        57\n",
      "         bcc       0.65      0.76      0.70        49\n",
      "         scc       0.56      0.29      0.38        31\n",
      "\n",
      "    accuracy                           0.68       137\n",
      "   macro avg       0.65      0.62      0.62       137\n",
      "weighted avg       0.66      0.68      0.66       137\n",
      "\n"
     ]
    }
   ],
   "source": [
    "# Calculating the accuracy and other metrics\n",
    "\n",
    "from sklearn.metrics import accuracy_score\n",
    "from sklearn.metrics import classification_report\n",
    "\n",
    "target_names = ['melanoma', 'bcc', 'scc']\n",
    "\n",
    "acc = accuracy_score(y_test, y_pred)\n",
    "report = classification_report(y_test, y_pred, target_names=target_names)\n",
    "\n",
    "print(report)"
   ]
  },
  {
   "cell_type": "markdown",
   "metadata": {},
   "source": [
    "# Artificial Neural Network (ANN)"
   ]
  },
  {
   "cell_type": "code",
   "execution_count": 12,
   "metadata": {},
   "outputs": [
    {
     "name": "stderr",
     "output_type": "stream",
     "text": [
      "Using TensorFlow backend.\n"
     ]
    }
   ],
   "source": [
    "# Importing the Keras libraries and packages\n",
    "import keras\n",
    "import sys\n",
    "from keras.models import Sequential\n",
    "from keras.layers import Dense\n",
    "from keras.utils import to_categorical"
   ]
  },
  {
   "cell_type": "code",
   "execution_count": 14,
   "metadata": {},
   "outputs": [],
   "source": [
    "# Create categorical input for predictor\n",
    "\n",
    "from sklearn.preprocessing import OneHotEncoder\n",
    "onehotencoder = OneHotEncoder(handle_unknown='ignore')\n",
    "y_train = y_train.reshape(-1, 1)\n",
    "y_test = y_test.reshape(-1, 1)\n",
    "y_binary = onehotencoder.fit_transform(y_train).toarray()\n",
    "y_compare = onehotencoder.fit_transform(y_test).toarray()"
   ]
  },
  {
   "cell_type": "code",
   "execution_count": 147,
   "metadata": {
    "scrolled": true
   },
   "outputs": [
    {
     "name": "stdout",
     "output_type": "stream",
     "text": [
      "Epoch 1/100\n",
      "545/545 [==============================] - 0s 283us/step - loss: 1.0079 - accuracy: 0.5009\n",
      "Epoch 2/100\n",
      "545/545 [==============================] - 0s 126us/step - loss: 0.8874 - accuracy: 0.5835\n",
      "Epoch 3/100\n",
      "545/545 [==============================] - 0s 117us/step - loss: 0.8361 - accuracy: 0.5982\n",
      "Epoch 4/100\n",
      "545/545 [==============================] - 0s 110us/step - loss: 0.7909 - accuracy: 0.6275\n",
      "Epoch 5/100\n",
      "545/545 [==============================] - 0s 111us/step - loss: 0.7410 - accuracy: 0.6569\n",
      "Epoch 6/100\n",
      "545/545 [==============================] - 0s 111us/step - loss: 0.6880 - accuracy: 0.6789\n",
      "Epoch 7/100\n",
      "545/545 [==============================] - 0s 118us/step - loss: 0.6531 - accuracy: 0.7009\n",
      "Epoch 8/100\n",
      "545/545 [==============================] - 0s 117us/step - loss: 0.6057 - accuracy: 0.7321\n",
      "Epoch 9/100\n",
      "545/545 [==============================] - 0s 110us/step - loss: 0.5749 - accuracy: 0.7413\n",
      "Epoch 10/100\n",
      "545/545 [==============================] - 0s 117us/step - loss: 0.5412 - accuracy: 0.7761\n",
      "Epoch 11/100\n",
      "545/545 [==============================] - 0s 133us/step - loss: 0.5163 - accuracy: 0.7817\n",
      "Epoch 12/100\n",
      "545/545 [==============================] - 0s 103us/step - loss: 0.4925 - accuracy: 0.7982\n",
      "Epoch 13/100\n",
      "545/545 [==============================] - 0s 104us/step - loss: 0.4745 - accuracy: 0.8018\n",
      "Epoch 14/100\n",
      "545/545 [==============================] - 0s 101us/step - loss: 0.4469 - accuracy: 0.8202\n",
      "Epoch 15/100\n",
      "545/545 [==============================] - 0s 125us/step - loss: 0.4360 - accuracy: 0.8239\n",
      "Epoch 16/100\n",
      "545/545 [==============================] - 0s 105us/step - loss: 0.4168 - accuracy: 0.8330\n",
      "Epoch 17/100\n",
      "545/545 [==============================] - 0s 108us/step - loss: 0.3915 - accuracy: 0.8367\n",
      "Epoch 18/100\n",
      "545/545 [==============================] - 0s 126us/step - loss: 0.3861 - accuracy: 0.8495\n",
      "Epoch 19/100\n",
      "545/545 [==============================] - 0s 138us/step - loss: 0.3601 - accuracy: 0.8606\n",
      "Epoch 20/100\n",
      "545/545 [==============================] - 0s 154us/step - loss: 0.3644 - accuracy: 0.8495\n",
      "Epoch 21/100\n",
      "545/545 [==============================] - 0s 134us/step - loss: 0.3521 - accuracy: 0.8532\n",
      "Epoch 22/100\n",
      "545/545 [==============================] - 0s 117us/step - loss: 0.3385 - accuracy: 0.8679\n",
      "Epoch 23/100\n",
      "545/545 [==============================] - 0s 123us/step - loss: 0.3174 - accuracy: 0.8917\n",
      "Epoch 24/100\n",
      "545/545 [==============================] - 0s 110us/step - loss: 0.3129 - accuracy: 0.8734\n",
      "Epoch 25/100\n",
      "545/545 [==============================] - 0s 110us/step - loss: 0.3006 - accuracy: 0.8862\n",
      "Epoch 26/100\n",
      "545/545 [==============================] - 0s 110us/step - loss: 0.2851 - accuracy: 0.8991\n",
      "Epoch 27/100\n",
      "545/545 [==============================] - 0s 110us/step - loss: 0.2698 - accuracy: 0.9101\n",
      "Epoch 28/100\n",
      "545/545 [==============================] - 0s 117us/step - loss: 0.2601 - accuracy: 0.8954\n",
      "Epoch 29/100\n",
      "545/545 [==============================] - 0s 123us/step - loss: 0.2696 - accuracy: 0.9009\n",
      "Epoch 30/100\n",
      "545/545 [==============================] - 0s 117us/step - loss: 0.2559 - accuracy: 0.8936\n",
      "Epoch 31/100\n",
      "545/545 [==============================] - 0s 125us/step - loss: 0.2621 - accuracy: 0.8972\n",
      "Epoch 32/100\n",
      "545/545 [==============================] - 0s 125us/step - loss: 0.2243 - accuracy: 0.9248\n",
      "Epoch 33/100\n",
      "545/545 [==============================] - 0s 118us/step - loss: 0.2149 - accuracy: 0.9211\n",
      "Epoch 34/100\n",
      "545/545 [==============================] - 0s 103us/step - loss: 0.2062 - accuracy: 0.9248\n",
      "Epoch 35/100\n",
      "545/545 [==============================] - 0s 110us/step - loss: 0.1904 - accuracy: 0.9339\n",
      "Epoch 36/100\n",
      "545/545 [==============================] - 0s 132us/step - loss: 0.2008 - accuracy: 0.9119\n",
      "Epoch 37/100\n",
      "545/545 [==============================] - 0s 119us/step - loss: 0.1829 - accuracy: 0.9266\n",
      "Epoch 38/100\n",
      "545/545 [==============================] - 0s 116us/step - loss: 0.1807 - accuracy: 0.9303\n",
      "Epoch 39/100\n",
      "545/545 [==============================] - 0s 140us/step - loss: 0.1770 - accuracy: 0.9321\n",
      "Epoch 40/100\n",
      "545/545 [==============================] - 0s 132us/step - loss: 0.1728 - accuracy: 0.9394\n",
      "Epoch 41/100\n",
      "545/545 [==============================] - 0s 144us/step - loss: 0.1658 - accuracy: 0.9450\n",
      "Epoch 42/100\n",
      "545/545 [==============================] - 0s 105us/step - loss: 0.1846 - accuracy: 0.9339\n",
      "Epoch 43/100\n",
      "545/545 [==============================] - 0s 117us/step - loss: 0.1875 - accuracy: 0.9284\n",
      "Epoch 44/100\n",
      "545/545 [==============================] - 0s 132us/step - loss: 0.1440 - accuracy: 0.9560\n",
      "Epoch 45/100\n",
      "545/545 [==============================] - 0s 110us/step - loss: 0.1250 - accuracy: 0.9651\n",
      "Epoch 46/100\n",
      "545/545 [==============================] - 0s 117us/step - loss: 0.1301 - accuracy: 0.9670\n",
      "Epoch 47/100\n",
      "545/545 [==============================] - 0s 117us/step - loss: 0.1312 - accuracy: 0.9651\n",
      "Epoch 48/100\n",
      "545/545 [==============================] - 0s 110us/step - loss: 0.1062 - accuracy: 0.9725\n",
      "Epoch 49/100\n",
      "545/545 [==============================] - 0s 110us/step - loss: 0.1057 - accuracy: 0.9706\n",
      "Epoch 50/100\n",
      "545/545 [==============================] - 0s 118us/step - loss: 0.1106 - accuracy: 0.9670\n",
      "Epoch 51/100\n",
      "545/545 [==============================] - 0s 117us/step - loss: 0.0911 - accuracy: 0.9798\n",
      "Epoch 52/100\n",
      "545/545 [==============================] - 0s 110us/step - loss: 0.0944 - accuracy: 0.9761\n",
      "Epoch 53/100\n",
      "545/545 [==============================] - 0s 117us/step - loss: 0.0799 - accuracy: 0.9890\n",
      "Epoch 54/100\n",
      "545/545 [==============================] - 0s 125us/step - loss: 0.0840 - accuracy: 0.9761\n",
      "Epoch 55/100\n",
      "545/545 [==============================] - 0s 106us/step - loss: 0.0676 - accuracy: 0.9945\n",
      "Epoch 56/100\n",
      "545/545 [==============================] - 0s 114us/step - loss: 0.0681 - accuracy: 0.9872\n",
      "Epoch 57/100\n",
      "545/545 [==============================] - 0s 110us/step - loss: 0.0608 - accuracy: 0.9908\n",
      "Epoch 58/100\n",
      "545/545 [==============================] - 0s 110us/step - loss: 0.0727 - accuracy: 0.9817\n",
      "Epoch 59/100\n",
      "545/545 [==============================] - 0s 110us/step - loss: 0.0853 - accuracy: 0.9743\n",
      "Epoch 60/100\n",
      "545/545 [==============================] - 0s 125us/step - loss: 0.0521 - accuracy: 0.9963\n",
      "Epoch 61/100\n",
      "545/545 [==============================] - 0s 111us/step - loss: 0.0493 - accuracy: 0.9927\n",
      "Epoch 62/100\n",
      "545/545 [==============================] - 0s 110us/step - loss: 0.0431 - accuracy: 0.9945\n",
      "Epoch 63/100\n",
      "545/545 [==============================] - 0s 103us/step - loss: 0.0427 - accuracy: 0.9927\n",
      "Epoch 64/100\n",
      "545/545 [==============================] - 0s 117us/step - loss: 0.0637 - accuracy: 0.9853\n",
      "Epoch 65/100\n",
      "545/545 [==============================] - 0s 110us/step - loss: 0.0627 - accuracy: 0.9890\n",
      "Epoch 66/100\n",
      "545/545 [==============================] - 0s 114us/step - loss: 0.0876 - accuracy: 0.9706\n",
      "Epoch 67/100\n",
      "545/545 [==============================] - 0s 113us/step - loss: 0.0704 - accuracy: 0.9780\n",
      "Epoch 68/100\n",
      "545/545 [==============================] - 0s 112us/step - loss: 0.0775 - accuracy: 0.9780\n",
      "Epoch 69/100\n",
      "545/545 [==============================] - 0s 116us/step - loss: 0.0742 - accuracy: 0.9706\n",
      "Epoch 70/100\n",
      "545/545 [==============================] - 0s 110us/step - loss: 0.0508 - accuracy: 0.9908\n",
      "Epoch 71/100\n",
      "545/545 [==============================] - 0s 110us/step - loss: 0.0272 - accuracy: 1.0000\n",
      "Epoch 72/100\n",
      "545/545 [==============================] - 0s 125us/step - loss: 0.0246 - accuracy: 0.9982\n",
      "Epoch 73/100\n",
      "545/545 [==============================] - 0s 125us/step - loss: 0.0210 - accuracy: 1.0000\n",
      "Epoch 74/100\n",
      "545/545 [==============================] - 0s 113us/step - loss: 0.0183 - accuracy: 1.0000\n",
      "Epoch 75/100\n",
      "545/545 [==============================] - 0s 122us/step - loss: 0.0177 - accuracy: 1.0000\n",
      "Epoch 76/100\n",
      "545/545 [==============================] - 0s 110us/step - loss: 0.0160 - accuracy: 1.0000\n",
      "Epoch 77/100\n",
      "545/545 [==============================] - 0s 117us/step - loss: 0.0168 - accuracy: 1.0000\n",
      "Epoch 78/100\n",
      "545/545 [==============================] - 0s 117us/step - loss: 0.0128 - accuracy: 1.0000\n",
      "Epoch 79/100\n"
     ]
    },
    {
     "name": "stdout",
     "output_type": "stream",
     "text": [
      "545/545 [==============================] - 0s 114us/step - loss: 0.0117 - accuracy: 1.0000\n",
      "Epoch 80/100\n",
      "545/545 [==============================] - 0s 120us/step - loss: 0.0107 - accuracy: 1.0000\n",
      "Epoch 81/100\n",
      "545/545 [==============================] - 0s 103us/step - loss: 0.0130 - accuracy: 1.0000\n",
      "Epoch 82/100\n",
      "545/545 [==============================] - 0s 110us/step - loss: 0.0165 - accuracy: 0.9982\n",
      "Epoch 83/100\n",
      "545/545 [==============================] - 0s 110us/step - loss: 0.0106 - accuracy: 1.0000\n",
      "Epoch 84/100\n",
      "545/545 [==============================] - 0s 103us/step - loss: 0.0094 - accuracy: 1.0000\n",
      "Epoch 85/100\n",
      "545/545 [==============================] - 0s 103us/step - loss: 0.0083 - accuracy: 1.0000\n",
      "Epoch 86/100\n",
      "545/545 [==============================] - 0s 110us/step - loss: 0.0082 - accuracy: 1.0000\n",
      "Epoch 87/100\n",
      "545/545 [==============================] - 0s 103us/step - loss: 0.0073 - accuracy: 1.0000\n",
      "Epoch 88/100\n",
      "545/545 [==============================] - 0s 110us/step - loss: 0.0074 - accuracy: 1.0000\n",
      "Epoch 89/100\n",
      "545/545 [==============================] - 0s 103us/step - loss: 0.0064 - accuracy: 1.0000\n",
      "Epoch 90/100\n",
      "545/545 [==============================] - 0s 103us/step - loss: 0.0067 - accuracy: 1.0000\n",
      "Epoch 91/100\n",
      "545/545 [==============================] - 0s 110us/step - loss: 0.0056 - accuracy: 1.0000\n",
      "Epoch 92/100\n",
      "545/545 [==============================] - 0s 110us/step - loss: 0.0053 - accuracy: 1.0000\n",
      "Epoch 93/100\n",
      "545/545 [==============================] - 0s 95us/step - loss: 0.0054 - accuracy: 1.0000\n",
      "Epoch 94/100\n",
      "545/545 [==============================] - 0s 103us/step - loss: 0.0049 - accuracy: 1.0000\n",
      "Epoch 95/100\n",
      "545/545 [==============================] - 0s 117us/step - loss: 0.0045 - accuracy: 1.0000\n",
      "Epoch 96/100\n",
      "545/545 [==============================] - 0s 110us/step - loss: 0.0042 - accuracy: 1.0000\n",
      "Epoch 97/100\n",
      "545/545 [==============================] - 0s 103us/step - loss: 0.0040 - accuracy: 1.0000\n",
      "Epoch 98/100\n",
      "545/545 [==============================] - 0s 110us/step - loss: 0.0039 - accuracy: 1.0000\n",
      "Epoch 99/100\n",
      "545/545 [==============================] - 0s 110us/step - loss: 0.0035 - accuracy: 1.0000\n",
      "Epoch 100/100\n",
      "545/545 [==============================] - 0s 103us/step - loss: 0.0035 - accuracy: 1.0000\n"
     ]
    },
    {
     "data": {
      "text/plain": [
       "<keras.callbacks.callbacks.History at 0x19cf28b0a48>"
      ]
     },
     "execution_count": 147,
     "metadata": {},
     "output_type": "execute_result"
    }
   ],
   "source": [
    "# Initializing the ANN\n",
    "classifier = Sequential()\n",
    "\n",
    "# Adding the input & hidden layer\n",
    "classifier.add(Dense(32, activation = 'relu', input_shape = (55,)))\n",
    "classifier.add(Dense(32, activation = 'relu'))\n",
    "classifier.add(Dense(32, activation = 'relu'))\n",
    "classifier.add(Dense(3, activation = 'softmax'))\n",
    "classifier.compile(loss='categorical_crossentropy', optimizer='adam', metrics=['accuracy'])\n",
    "\n",
    "classifier.fit(X_train, y_binary, batch_size = 10, epochs = 100)"
   ]
  },
  {
   "cell_type": "code",
   "execution_count": 148,
   "metadata": {},
   "outputs": [],
   "source": [
    "# Create threshold for multi-predictor\n",
    "y_pred = classifier.predict(X_test)\n",
    "y_pred = (y_pred > 0.5)"
   ]
  },
  {
   "cell_type": "code",
   "execution_count": 149,
   "metadata": {},
   "outputs": [
    {
     "data": {
      "text/plain": [
       "array([[46,  6,  5],\n",
       "       [11, 29,  9],\n",
       "       [ 9, 10, 12]], dtype=int64)"
      ]
     },
     "execution_count": 149,
     "metadata": {},
     "output_type": "execute_result"
    }
   ],
   "source": [
    "# Making the confusion matrix\n",
    "from sklearn.metrics import confusion_matrix\n",
    "from sklearn.metrics import multilabel_confusion_matrix\n",
    "\n",
    "cm = confusion_matrix(y_compare.argmax(axis=1), y_pred.argmax(axis=1))\n",
    "\n",
    "cm"
   ]
  },
  {
   "cell_type": "code",
   "execution_count": 150,
   "metadata": {},
   "outputs": [
    {
     "name": "stdout",
     "output_type": "stream",
     "text": [
      "              precision    recall  f1-score   support\n",
      "\n",
      "    melanoma       0.70      0.81      0.75        57\n",
      "         bcc       0.64      0.59      0.62        49\n",
      "         scc       0.46      0.39      0.42        31\n",
      "\n",
      "    accuracy                           0.64       137\n",
      "   macro avg       0.60      0.60      0.60       137\n",
      "weighted avg       0.62      0.64      0.63       137\n",
      "\n"
     ]
    }
   ],
   "source": [
    "# Calculating the accuracy and other metrics\n",
    "\n",
    "from sklearn.metrics import accuracy_score\n",
    "from sklearn.metrics import classification_report\n",
    "\n",
    "target_names = ['melanoma', 'bcc', 'scc']\n",
    "\n",
    "acc = accuracy_score(y_compare.argmax(axis=1), y_pred.argmax(axis=1))\n",
    "report = classification_report(y_compare.argmax(axis=1), y_pred.argmax(axis=1), target_names=target_names)\n",
    "\n",
    "print(report)"
   ]
  },
  {
   "cell_type": "markdown",
   "metadata": {},
   "source": [
    "# Decision Trees"
   ]
  },
  {
   "cell_type": "code",
   "execution_count": 112,
   "metadata": {},
   "outputs": [
    {
     "data": {
      "text/plain": [
       "DecisionTreeClassifier(ccp_alpha=0.0, class_weight=None, criterion='entropy',\n",
       "                       max_depth=1000, max_features=None, max_leaf_nodes=None,\n",
       "                       min_impurity_decrease=0.0, min_impurity_split=None,\n",
       "                       min_samples_leaf=1, min_samples_split=2,\n",
       "                       min_weight_fraction_leaf=0.0, presort='deprecated',\n",
       "                       random_state=0, splitter='best')"
      ]
     },
     "execution_count": 112,
     "metadata": {},
     "output_type": "execute_result"
    }
   ],
   "source": [
    "# Some important notes here, before running the Decision Tree Classifier, it's ok to not scale the features, as this model\n",
    "# does not work using euclidian distance, so it's fine as it is\n",
    "\n",
    "from sklearn.tree import DecisionTreeClassifier\n",
    "classifier = DecisionTreeClassifier(criterion = 'entropy', random_state = 0, max_depth = 1000)\n",
    "classifier.fit(X_train, y_train)"
   ]
  },
  {
   "cell_type": "code",
   "execution_count": 113,
   "metadata": {},
   "outputs": [
    {
     "data": {
      "text/plain": [
       "array([[46,  6,  5],\n",
       "       [ 8, 27, 14],\n",
       "       [ 5, 12, 14]], dtype=int64)"
      ]
     },
     "execution_count": 113,
     "metadata": {},
     "output_type": "execute_result"
    }
   ],
   "source": [
    "# Predicting the test set result\n",
    "y_pred = classifier.predict(X_test)\n",
    "\n",
    "# Making the confusion matrix\n",
    "from sklearn.metrics import confusion_matrix\n",
    "from sklearn.metrics import multilabel_confusion_matrix\n",
    "\n",
    "cm = confusion_matrix(y_test, y_pred)\n",
    "cm2 = multilabel_confusion_matrix(y_test, y_pred)\n",
    "\n",
    "cm"
   ]
  },
  {
   "cell_type": "code",
   "execution_count": 114,
   "metadata": {},
   "outputs": [
    {
     "name": "stdout",
     "output_type": "stream",
     "text": [
      "              precision    recall  f1-score   support\n",
      "\n",
      "    melanoma       0.78      0.81      0.79        57\n",
      "         bcc       0.60      0.55      0.57        49\n",
      "         scc       0.42      0.45      0.44        31\n",
      "\n",
      "    accuracy                           0.64       137\n",
      "   macro avg       0.60      0.60      0.60       137\n",
      "weighted avg       0.63      0.64      0.63       137\n",
      "\n"
     ]
    }
   ],
   "source": [
    "# Calculating the accuracy and other metrics\n",
    "\n",
    "from sklearn.metrics import accuracy_score\n",
    "from sklearn.metrics import classification_report\n",
    "\n",
    "target_names = ['melanoma', 'bcc', 'scc']\n",
    "\n",
    "acc = accuracy_score(y_test, y_pred)\n",
    "report = classification_report(y_test, y_pred, target_names=target_names)\n",
    "\n",
    "print(report)"
   ]
  },
  {
   "cell_type": "markdown",
   "metadata": {},
   "source": [
    "# Random Forest (Ensemble)"
   ]
  },
  {
   "cell_type": "code",
   "execution_count": 144,
   "metadata": {},
   "outputs": [
    {
     "name": "stderr",
     "output_type": "stream",
     "text": [
      "[Parallel(n_jobs=1)]: Using backend SequentialBackend with 1 concurrent workers.\n",
      "[Parallel(n_jobs=1)]: Done 1000 out of 1000 | elapsed:    3.7s finished\n"
     ]
    },
    {
     "data": {
      "text/plain": [
       "RandomForestClassifier(bootstrap=True, ccp_alpha=0.0, class_weight=None,\n",
       "                       criterion='entropy', max_depth=None, max_features='auto',\n",
       "                       max_leaf_nodes=None, max_samples=None,\n",
       "                       min_impurity_decrease=0.0, min_impurity_split=None,\n",
       "                       min_samples_leaf=1, min_samples_split=2,\n",
       "                       min_weight_fraction_leaf=0.0, n_estimators=1000,\n",
       "                       n_jobs=None, oob_score=False, random_state=0, verbose=1,\n",
       "                       warm_start=False)"
      ]
     },
     "execution_count": 144,
     "metadata": {},
     "output_type": "execute_result"
    }
   ],
   "source": [
    "from sklearn.ensemble import RandomForestClassifier\n",
    "classifier = RandomForestClassifier(n_estimators = 1000, criterion = 'entropy', random_state = 0, verbose = 1)\n",
    "classifier.fit(X_train, y_train)"
   ]
  },
  {
   "cell_type": "code",
   "execution_count": 145,
   "metadata": {},
   "outputs": [
    {
     "name": "stderr",
     "output_type": "stream",
     "text": [
      "[Parallel(n_jobs=1)]: Using backend SequentialBackend with 1 concurrent workers.\n",
      "[Parallel(n_jobs=1)]: Done 1000 out of 1000 | elapsed:    0.0s finished\n"
     ]
    },
    {
     "data": {
      "text/plain": [
       "array([[49,  6,  2],\n",
       "       [10, 34,  5],\n",
       "       [12, 10,  9]], dtype=int64)"
      ]
     },
     "execution_count": 145,
     "metadata": {},
     "output_type": "execute_result"
    }
   ],
   "source": [
    "# Predicting the test set result\n",
    "y_pred = classifier.predict(X_test)\n",
    "\n",
    "# Making the confusion matrix\n",
    "from sklearn.metrics import confusion_matrix\n",
    "from sklearn.metrics import multilabel_confusion_matrix\n",
    "\n",
    "cm = confusion_matrix(y_test, y_pred)\n",
    "cm2 = multilabel_confusion_matrix(y_test, y_pred)\n",
    "\n",
    "cm"
   ]
  },
  {
   "cell_type": "code",
   "execution_count": 146,
   "metadata": {},
   "outputs": [
    {
     "name": "stdout",
     "output_type": "stream",
     "text": [
      "              precision    recall  f1-score   support\n",
      "\n",
      "    melanoma       0.69      0.86      0.77        57\n",
      "         bcc       0.68      0.69      0.69        49\n",
      "         scc       0.56      0.29      0.38        31\n",
      "\n",
      "    accuracy                           0.67       137\n",
      "   macro avg       0.64      0.61      0.61       137\n",
      "weighted avg       0.66      0.67      0.65       137\n",
      "\n"
     ]
    }
   ],
   "source": [
    "# Calculating the accuracy and other metrics\n",
    "\n",
    "from sklearn.metrics import accuracy_score\n",
    "from sklearn.metrics import classification_report\n",
    "\n",
    "target_names = ['melanoma', 'bcc', 'scc']\n",
    "\n",
    "acc = accuracy_score(y_test, y_pred)\n",
    "report = classification_report(y_test, y_pred, target_names=target_names)\n",
    "\n",
    "print(report)"
   ]
  },
  {
   "cell_type": "code",
   "execution_count": null,
   "metadata": {},
   "outputs": [],
   "source": []
  }
 ],
 "metadata": {
  "kernelspec": {
   "display_name": "Python 3",
   "language": "python",
   "name": "python3"
  },
  "language_info": {
   "codemirror_mode": {
    "name": "ipython",
    "version": 3
   },
   "file_extension": ".py",
   "mimetype": "text/x-python",
   "name": "python",
   "nbconvert_exporter": "python",
   "pygments_lexer": "ipython3",
   "version": "3.7.6"
  }
 },
 "nbformat": 4,
 "nbformat_minor": 4
}
