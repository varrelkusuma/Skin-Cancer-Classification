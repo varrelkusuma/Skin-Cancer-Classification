{
 "cells": [
  {
   "cell_type": "code",
   "execution_count": 1,
   "metadata": {},
   "outputs": [],
   "source": [
    "import numpy as np\n",
    "import pandas as pd\n",
    "import matplotlib.pyplot as plt"
   ]
  },
  {
   "cell_type": "code",
   "execution_count": 75,
   "metadata": {},
   "outputs": [],
   "source": [
    "glcm = pd.read_csv('C:/Users/ravee/Jupyter/Skin-Cancer-Classification/data/glcm3.csv', header=None)\n",
    "dataset = pd.read_csv('C:/Users/ravee/Jupyter/Skin-Cancer-Classification/data/color3.csv', header=None)\n",
    "X = dataset.iloc[:, 0:12].values\n",
    "Y = glcm.iloc[:, 24]"
   ]
  },
  {
   "cell_type": "code",
   "execution_count": 76,
   "metadata": {},
   "outputs": [
    {
     "data": {
      "text/html": [
       "<div>\n",
       "<style scoped>\n",
       "    .dataframe tbody tr th:only-of-type {\n",
       "        vertical-align: middle;\n",
       "    }\n",
       "\n",
       "    .dataframe tbody tr th {\n",
       "        vertical-align: top;\n",
       "    }\n",
       "\n",
       "    .dataframe thead th {\n",
       "        text-align: right;\n",
       "    }\n",
       "</style>\n",
       "<table border=\"1\" class=\"dataframe\">\n",
       "  <thead>\n",
       "    <tr style=\"text-align: right;\">\n",
       "      <th></th>\n",
       "      <th>0</th>\n",
       "      <th>1</th>\n",
       "      <th>2</th>\n",
       "      <th>3</th>\n",
       "      <th>4</th>\n",
       "      <th>5</th>\n",
       "      <th>6</th>\n",
       "      <th>7</th>\n",
       "      <th>8</th>\n",
       "      <th>9</th>\n",
       "      <th>10</th>\n",
       "      <th>11</th>\n",
       "    </tr>\n",
       "  </thead>\n",
       "  <tbody>\n",
       "    <tr>\n",
       "      <th>0</th>\n",
       "      <td>67.374839</td>\n",
       "      <td>63.340830</td>\n",
       "      <td>112.263065</td>\n",
       "      <td>55.737793</td>\n",
       "      <td>52.463312</td>\n",
       "      <td>91.327983</td>\n",
       "      <td>-0.033850</td>\n",
       "      <td>-0.032123</td>\n",
       "      <td>1.950237</td>\n",
       "      <td>1.981436</td>\n",
       "      <td>481.104062</td>\n",
       "      <td>509.562271</td>\n",
       "    </tr>\n",
       "    <tr>\n",
       "      <th>1</th>\n",
       "      <td>52.300242</td>\n",
       "      <td>82.668481</td>\n",
       "      <td>137.457367</td>\n",
       "      <td>49.635884</td>\n",
       "      <td>75.253828</td>\n",
       "      <td>121.745271</td>\n",
       "      <td>0.134248</td>\n",
       "      <td>-0.066341</td>\n",
       "      <td>2.015002</td>\n",
       "      <td>1.921611</td>\n",
       "      <td>344.643799</td>\n",
       "      <td>448.534121</td>\n",
       "    </tr>\n",
       "    <tr>\n",
       "      <th>2</th>\n",
       "      <td>76.645767</td>\n",
       "      <td>92.508307</td>\n",
       "      <td>148.996292</td>\n",
       "      <td>57.005206</td>\n",
       "      <td>67.924656</td>\n",
       "      <td>106.590925</td>\n",
       "      <td>0.057193</td>\n",
       "      <td>-0.050644</td>\n",
       "      <td>2.050657</td>\n",
       "      <td>2.006676</td>\n",
       "      <td>1026.553558</td>\n",
       "      <td>546.204784</td>\n",
       "    </tr>\n",
       "    <tr>\n",
       "      <th>3</th>\n",
       "      <td>11.615295</td>\n",
       "      <td>17.457194</td>\n",
       "      <td>27.802821</td>\n",
       "      <td>33.447148</td>\n",
       "      <td>48.877430</td>\n",
       "      <td>76.538757</td>\n",
       "      <td>0.077760</td>\n",
       "      <td>-0.670850</td>\n",
       "      <td>2.222315</td>\n",
       "      <td>2.906180</td>\n",
       "      <td>176.992461</td>\n",
       "      <td>304.594632</td>\n",
       "    </tr>\n",
       "    <tr>\n",
       "      <th>4</th>\n",
       "      <td>46.209791</td>\n",
       "      <td>62.129607</td>\n",
       "      <td>101.965131</td>\n",
       "      <td>57.775117</td>\n",
       "      <td>75.554092</td>\n",
       "      <td>121.504623</td>\n",
       "      <td>0.146505</td>\n",
       "      <td>0.023257</td>\n",
       "      <td>1.958404</td>\n",
       "      <td>2.095389</td>\n",
       "      <td>369.719816</td>\n",
       "      <td>343.396839</td>\n",
       "    </tr>\n",
       "    <tr>\n",
       "      <th>...</th>\n",
       "      <td>...</td>\n",
       "      <td>...</td>\n",
       "      <td>...</td>\n",
       "      <td>...</td>\n",
       "      <td>...</td>\n",
       "      <td>...</td>\n",
       "      <td>...</td>\n",
       "      <td>...</td>\n",
       "      <td>...</td>\n",
       "      <td>...</td>\n",
       "      <td>...</td>\n",
       "      <td>...</td>\n",
       "    </tr>\n",
       "    <tr>\n",
       "      <th>916</th>\n",
       "      <td>82.044136</td>\n",
       "      <td>83.768722</td>\n",
       "      <td>120.307772</td>\n",
       "      <td>89.496293</td>\n",
       "      <td>89.498528</td>\n",
       "      <td>126.176035</td>\n",
       "      <td>-0.343964</td>\n",
       "      <td>0.078492</td>\n",
       "      <td>2.098720</td>\n",
       "      <td>2.102761</td>\n",
       "      <td>239.172011</td>\n",
       "      <td>154.305262</td>\n",
       "    </tr>\n",
       "    <tr>\n",
       "      <th>917</th>\n",
       "      <td>83.793886</td>\n",
       "      <td>79.859312</td>\n",
       "      <td>125.879575</td>\n",
       "      <td>71.660835</td>\n",
       "      <td>68.321651</td>\n",
       "      <td>105.753942</td>\n",
       "      <td>-0.102729</td>\n",
       "      <td>0.081119</td>\n",
       "      <td>1.886748</td>\n",
       "      <td>2.044726</td>\n",
       "      <td>98.200153</td>\n",
       "      <td>83.670620</td>\n",
       "    </tr>\n",
       "    <tr>\n",
       "      <th>918</th>\n",
       "      <td>82.216087</td>\n",
       "      <td>63.332681</td>\n",
       "      <td>107.854577</td>\n",
       "      <td>81.626920</td>\n",
       "      <td>64.118188</td>\n",
       "      <td>105.661451</td>\n",
       "      <td>0.564203</td>\n",
       "      <td>-0.436504</td>\n",
       "      <td>2.575104</td>\n",
       "      <td>2.013750</td>\n",
       "      <td>118.218423</td>\n",
       "      <td>254.623358</td>\n",
       "    </tr>\n",
       "    <tr>\n",
       "      <th>919</th>\n",
       "      <td>58.616472</td>\n",
       "      <td>58.697274</td>\n",
       "      <td>100.933170</td>\n",
       "      <td>65.831264</td>\n",
       "      <td>65.248561</td>\n",
       "      <td>108.459665</td>\n",
       "      <td>0.098212</td>\n",
       "      <td>-0.091045</td>\n",
       "      <td>1.973688</td>\n",
       "      <td>1.955592</td>\n",
       "      <td>104.419733</td>\n",
       "      <td>87.910685</td>\n",
       "    </tr>\n",
       "    <tr>\n",
       "      <th>920</th>\n",
       "      <td>52.713607</td>\n",
       "      <td>51.453149</td>\n",
       "      <td>63.965753</td>\n",
       "      <td>91.518674</td>\n",
       "      <td>88.980855</td>\n",
       "      <td>109.625390</td>\n",
       "      <td>-0.345323</td>\n",
       "      <td>-0.031681</td>\n",
       "      <td>2.127617</td>\n",
       "      <td>1.802747</td>\n",
       "      <td>188.114360</td>\n",
       "      <td>131.545861</td>\n",
       "    </tr>\n",
       "  </tbody>\n",
       "</table>\n",
       "<p>921 rows × 12 columns</p>\n",
       "</div>"
      ],
      "text/plain": [
       "            0          1           2          3          4           5   \\\n",
       "0    67.374839  63.340830  112.263065  55.737793  52.463312   91.327983   \n",
       "1    52.300242  82.668481  137.457367  49.635884  75.253828  121.745271   \n",
       "2    76.645767  92.508307  148.996292  57.005206  67.924656  106.590925   \n",
       "3    11.615295  17.457194   27.802821  33.447148  48.877430   76.538757   \n",
       "4    46.209791  62.129607  101.965131  57.775117  75.554092  121.504623   \n",
       "..         ...        ...         ...        ...        ...         ...   \n",
       "916  82.044136  83.768722  120.307772  89.496293  89.498528  126.176035   \n",
       "917  83.793886  79.859312  125.879575  71.660835  68.321651  105.753942   \n",
       "918  82.216087  63.332681  107.854577  81.626920  64.118188  105.661451   \n",
       "919  58.616472  58.697274  100.933170  65.831264  65.248561  108.459665   \n",
       "920  52.713607  51.453149   63.965753  91.518674  88.980855  109.625390   \n",
       "\n",
       "           6         7         8         9            10          11  \n",
       "0   -0.033850 -0.032123  1.950237  1.981436   481.104062  509.562271  \n",
       "1    0.134248 -0.066341  2.015002  1.921611   344.643799  448.534121  \n",
       "2    0.057193 -0.050644  2.050657  2.006676  1026.553558  546.204784  \n",
       "3    0.077760 -0.670850  2.222315  2.906180   176.992461  304.594632  \n",
       "4    0.146505  0.023257  1.958404  2.095389   369.719816  343.396839  \n",
       "..        ...       ...       ...       ...          ...         ...  \n",
       "916 -0.343964  0.078492  2.098720  2.102761   239.172011  154.305262  \n",
       "917 -0.102729  0.081119  1.886748  2.044726    98.200153   83.670620  \n",
       "918  0.564203 -0.436504  2.575104  2.013750   118.218423  254.623358  \n",
       "919  0.098212 -0.091045  1.973688  1.955592   104.419733   87.910685  \n",
       "920 -0.345323 -0.031681  2.127617  1.802747   188.114360  131.545861  \n",
       "\n",
       "[921 rows x 12 columns]"
      ]
     },
     "execution_count": 76,
     "metadata": {},
     "output_type": "execute_result"
    }
   ],
   "source": [
    "dataset"
   ]
  },
  {
   "cell_type": "code",
   "execution_count": 77,
   "metadata": {},
   "outputs": [],
   "source": [
    "# Splitting the dataset\n",
    "from sklearn.model_selection import train_test_split\n",
    "X_train, X_test, y_train, y_test = train_test_split(X, Y, test_size = 0.2, random_state = 0)"
   ]
  },
  {
   "cell_type": "code",
   "execution_count": 78,
   "metadata": {},
   "outputs": [
    {
     "data": {
      "text/plain": [
       "736"
      ]
     },
     "execution_count": 78,
     "metadata": {},
     "output_type": "execute_result"
    }
   ],
   "source": [
    "len(X_train)"
   ]
  },
  {
   "cell_type": "code",
   "execution_count": 79,
   "metadata": {},
   "outputs": [
    {
     "data": {
      "text/plain": [
       "185"
      ]
     },
     "execution_count": 79,
     "metadata": {},
     "output_type": "execute_result"
    }
   ],
   "source": [
    "len(X_test)"
   ]
  },
  {
   "cell_type": "code",
   "execution_count": 80,
   "metadata": {},
   "outputs": [],
   "source": [
    "# Feature Scaling\n",
    "from sklearn.preprocessing import StandardScaler\n",
    "sc_X = StandardScaler()\n",
    "X_train = sc_X.fit_transform(X_train)\n",
    "X_test = sc_X.transform(X_test)"
   ]
  },
  {
   "cell_type": "markdown",
   "metadata": {},
   "source": [
    "# Naive Bayes"
   ]
  },
  {
   "cell_type": "code",
   "execution_count": 8,
   "metadata": {},
   "outputs": [
    {
     "data": {
      "text/plain": [
       "GaussianNB(priors=None, var_smoothing=1e-09)"
      ]
     },
     "execution_count": 8,
     "metadata": {},
     "output_type": "execute_result"
    }
   ],
   "source": [
    "# Implementation of Naive Bayes\n",
    "# Fitting Naive Bayes to the training set\n",
    "\n",
    "from sklearn.naive_bayes import GaussianNB\n",
    "nb = GaussianNB()\n",
    "nb.fit(X_train, y_train)"
   ]
  },
  {
   "cell_type": "code",
   "execution_count": 9,
   "metadata": {},
   "outputs": [
    {
     "data": {
      "text/plain": [
       "array([[48,  9, 22],\n",
       "       [ 8, 29, 23],\n",
       "       [ 5, 16, 25]], dtype=int64)"
      ]
     },
     "execution_count": 9,
     "metadata": {},
     "output_type": "execute_result"
    }
   ],
   "source": [
    "# Predicting the test set result\n",
    "y_pred = nb.predict(X_test)\n",
    "\n",
    "# Making the confusion matrix\n",
    "from sklearn.metrics import confusion_matrix\n",
    "from sklearn.metrics import multilabel_confusion_matrix\n",
    "\n",
    "cm = confusion_matrix(y_test, y_pred)\n",
    "cm2 = multilabel_confusion_matrix(y_test, y_pred)\n",
    "\n",
    "cm"
   ]
  },
  {
   "cell_type": "code",
   "execution_count": 10,
   "metadata": {},
   "outputs": [
    {
     "name": "stdout",
     "output_type": "stream",
     "text": [
      "0.5378378378378379\n"
     ]
    }
   ],
   "source": [
    "# Applying K-Fold Cross Validation\n",
    "\n",
    "from sklearn.model_selection import cross_val_score\n",
    "accuracies = cross_val_score(estimator = nb, X = X_train, y = y_train, cv = 10)\n",
    "print(np.mean(accuracies))"
   ]
  },
  {
   "cell_type": "code",
   "execution_count": 11,
   "metadata": {},
   "outputs": [
    {
     "name": "stdout",
     "output_type": "stream",
     "text": [
      "              precision    recall  f1-score   support\n",
      "\n",
      "           1       0.68      0.57      0.62        40\n",
      "           2       0.54      0.41      0.46        32\n",
      "           3       0.34      0.57      0.43        21\n",
      "\n",
      "    accuracy                           0.52        93\n",
      "   macro avg       0.52      0.52      0.50        93\n",
      "weighted avg       0.55      0.52      0.52        93\n",
      "\n",
      "              precision    recall  f1-score   support\n",
      "\n",
      "           1       0.76      0.56      0.65        39\n",
      "           2       0.52      0.45      0.48        33\n",
      "           3       0.21      0.35      0.26        20\n",
      "\n",
      "    accuracy                           0.48        92\n",
      "   macro avg       0.49      0.46      0.46        92\n",
      "weighted avg       0.55      0.48      0.50        92\n",
      "\n",
      "              precision    recall  f1-score   support\n",
      "\n",
      "           1       0.74      0.64      0.68        39\n",
      "           2       0.65      0.39      0.49        33\n",
      "           3       0.34      0.65      0.45        20\n",
      "\n",
      "    accuracy                           0.55        92\n",
      "   macro avg       0.58      0.56      0.54        92\n",
      "weighted avg       0.62      0.55      0.56        92\n",
      "\n",
      "              precision    recall  f1-score   support\n",
      "\n",
      "           1       0.76      0.67      0.71        39\n",
      "           2       0.57      0.36      0.44        33\n",
      "           3       0.30      0.55      0.39        20\n",
      "\n",
      "    accuracy                           0.53        92\n",
      "   macro avg       0.54      0.53      0.51        92\n",
      "weighted avg       0.59      0.53      0.55        92\n",
      "\n",
      "              precision    recall  f1-score   support\n",
      "\n",
      "           1       0.76      0.74      0.75        39\n",
      "           2       0.75      0.56      0.64        32\n",
      "           3       0.37      0.52      0.43        21\n",
      "\n",
      "    accuracy                           0.63        92\n",
      "   macro avg       0.63      0.61      0.61        92\n",
      "weighted avg       0.67      0.63      0.64        92\n",
      "\n",
      "              precision    recall  f1-score   support\n",
      "\n",
      "           1       0.66      0.49      0.56        39\n",
      "           2       0.41      0.28      0.33        32\n",
      "           3       0.27      0.52      0.35        21\n",
      "\n",
      "    accuracy                           0.42        92\n",
      "   macro avg       0.44      0.43      0.42        92\n",
      "weighted avg       0.48      0.42      0.43        92\n",
      "\n",
      "              precision    recall  f1-score   support\n",
      "\n",
      "           1       0.65      0.62      0.63        39\n",
      "           2       0.56      0.28      0.38        32\n",
      "           3       0.31      0.57      0.40        21\n",
      "\n",
      "    accuracy                           0.49        92\n",
      "   macro avg       0.51      0.49      0.47        92\n",
      "weighted avg       0.54      0.49      0.49        92\n",
      "\n",
      "              precision    recall  f1-score   support\n",
      "\n",
      "           1       0.75      0.54      0.63        39\n",
      "           2       0.62      0.41      0.49        32\n",
      "           3       0.30      0.62      0.41        21\n",
      "\n",
      "    accuracy                           0.51        92\n",
      "   macro avg       0.56      0.52      0.51        92\n",
      "weighted avg       0.60      0.51      0.53        92\n",
      "\n",
      "              precision    recall  f1-score   support\n",
      "\n",
      "           1       0.87      0.67      0.75        39\n",
      "           2       0.71      0.47      0.57        32\n",
      "           3       0.41      0.81      0.55        21\n",
      "\n",
      "    accuracy                           0.63        92\n",
      "   macro avg       0.67      0.65      0.62        92\n",
      "weighted avg       0.71      0.63      0.64        92\n",
      "\n",
      "              precision    recall  f1-score   support\n",
      "\n",
      "           1       0.83      0.62      0.71        39\n",
      "           2       0.57      0.41      0.47        32\n",
      "           3       0.30      0.57      0.39        21\n",
      "\n",
      "    accuracy                           0.53        92\n",
      "   macro avg       0.56      0.53      0.52        92\n",
      "weighted avg       0.62      0.53      0.55        92\n",
      "\n"
     ]
    }
   ],
   "source": [
    "# Calculating the accuracy and other metrics\n",
    "\n",
    "from sklearn.metrics import f1_score, accuracy_score, precision_score, recall_score, make_scorer\n",
    "from sklearn.metrics import accuracy_score\n",
    "from sklearn.metrics import classification_report\n",
    "from sklearn.model_selection import cross_val_score\n",
    "from sklearn.model_selection import StratifiedKFold, KFold\n",
    "\n",
    "target_names = ['melanoma', 'bcc', 'scc']\n",
    "\n",
    "# Variables for average classification report\n",
    "originalclass = []\n",
    "predictedclass = []\n",
    "\n",
    "#Make our customer score\n",
    "def classification_report_with_accuracy_score(y_test, y_pred):\n",
    "    originalclass.extend(y_test)\n",
    "    predictedclass.extend(y_pred)\n",
    "    print(classification_report(y_test, y_pred))\n",
    "    return accuracy_score(y_test, y_pred) # return accuracy score\n",
    "\n",
    "outer_cv = StratifiedKFold(n_splits=10, shuffle=True, random_state=0)\n",
    "\n",
    "# Nested CV with parameter optimization\n",
    "nested_score = cross_val_score(estimator = nb, X = X, y = Y, cv=outer_cv, scoring=make_scorer(classification_report_with_accuracy_score))"
   ]
  },
  {
   "cell_type": "code",
   "execution_count": 12,
   "metadata": {},
   "outputs": [
    {
     "name": "stdout",
     "output_type": "stream",
     "text": [
      "              precision    recall  f1-score   support\n",
      "\n",
      "    melanoma       0.74      0.61      0.67       391\n",
      "         bcc       0.59      0.40      0.48       323\n",
      "         scc       0.31      0.57      0.41       207\n",
      "\n",
      "    accuracy                           0.53       921\n",
      "   macro avg       0.55      0.53      0.52       921\n",
      "weighted avg       0.59      0.53      0.54       921\n",
      "\n"
     ]
    }
   ],
   "source": [
    "# Average values in classification report for all folds in a K-fold Cross-validation  \n",
    "print(classification_report(originalclass, predictedclass, target_names=target_names))"
   ]
  },
  {
   "cell_type": "markdown",
   "metadata": {},
   "source": [
    "# K-Nearest Neighbor"
   ]
  },
  {
   "cell_type": "code",
   "execution_count": 13,
   "metadata": {},
   "outputs": [
    {
     "data": {
      "text/plain": [
       "KNeighborsClassifier(algorithm='auto', leaf_size=30, metric='minkowski',\n",
       "                     metric_params=None, n_jobs=None, n_neighbors=25, p=1,\n",
       "                     weights='distance')"
      ]
     },
     "execution_count": 13,
     "metadata": {},
     "output_type": "execute_result"
    }
   ],
   "source": [
    "from sklearn.neighbors import KNeighborsClassifier\n",
    "knn = KNeighborsClassifier(n_neighbors = 25, metric = 'minkowski', p = 1, weights = 'distance')\n",
    "knn.fit(X_train, y_train)"
   ]
  },
  {
   "cell_type": "code",
   "execution_count": 14,
   "metadata": {},
   "outputs": [
    {
     "data": {
      "text/plain": [
       "array([[68,  6,  5],\n",
       "       [ 8, 45,  7],\n",
       "       [ 8, 30,  8]], dtype=int64)"
      ]
     },
     "execution_count": 14,
     "metadata": {},
     "output_type": "execute_result"
    }
   ],
   "source": [
    "# Predicting the test set result\n",
    "y_pred = knn.predict(X_test)\n",
    "\n",
    "# Making the confusion matrix\n",
    "from sklearn.metrics import confusion_matrix\n",
    "from sklearn.metrics import multilabel_confusion_matrix\n",
    "\n",
    "cm = confusion_matrix(y_test, y_pred)\n",
    "cm2 = multilabel_confusion_matrix(y_test, y_pred)\n",
    "\n",
    "cm"
   ]
  },
  {
   "cell_type": "code",
   "execution_count": 15,
   "metadata": {},
   "outputs": [
    {
     "name": "stdout",
     "output_type": "stream",
     "text": [
      "0.6657904479822289\n"
     ]
    }
   ],
   "source": [
    "# Applying K-Fold Cross Validation\n",
    "\n",
    "from sklearn.model_selection import cross_val_score\n",
    "accuracies = cross_val_score(estimator = knn, X = X_train, y = y_train, cv = 10)\n",
    "print(np.mean(accuracies))"
   ]
  },
  {
   "cell_type": "code",
   "execution_count": 17,
   "metadata": {},
   "outputs": [
    {
     "name": "stdout",
     "output_type": "stream",
     "text": [
      "0.67\n",
      "{'metric': 'minkowski', 'n_neighbors': 25, 'p': 1, 'weights': 'distance'}\n"
     ]
    }
   ],
   "source": [
    "# Applying Grid Search to Find the Best Hyperparameter\n",
    "\n",
    "from sklearn.model_selection import GridSearchCV\n",
    "parameters = [\n",
    "    {'n_neighbors': [21, 23, 25, 27, 29], 'weights': ['uniform', 'distance'], 'p': [1, 2, 3], 'metric': ['minkowski']},\n",
    "]\n",
    "\n",
    "grid_search = GridSearchCV(estimator = knn, param_grid = parameters, scoring = 'accuracy', cv = 10, n_jobs = -1)\n",
    "grid_search = grid_search.fit(X_train, y_train)\n",
    "\n",
    "best_accuracy = grid_search.best_score_\n",
    "best_parameters = grid_search.best_params_\n",
    "\n",
    "print(round(best_accuracy, 2))\n",
    "print(best_parameters)"
   ]
  },
  {
   "cell_type": "code",
   "execution_count": 16,
   "metadata": {},
   "outputs": [
    {
     "name": "stdout",
     "output_type": "stream",
     "text": [
      "              precision    recall  f1-score   support\n",
      "\n",
      "           1       0.82      0.80      0.81        40\n",
      "           2       0.63      0.69      0.66        32\n",
      "           3       0.47      0.43      0.45        21\n",
      "\n",
      "    accuracy                           0.68        93\n",
      "   macro avg       0.64      0.64      0.64        93\n",
      "weighted avg       0.68      0.68      0.68        93\n",
      "\n",
      "              precision    recall  f1-score   support\n",
      "\n",
      "           1       0.83      0.74      0.78        39\n",
      "           2       0.60      0.76      0.67        33\n",
      "           3       0.40      0.30      0.34        20\n",
      "\n",
      "    accuracy                           0.65        92\n",
      "   macro avg       0.61      0.60      0.60        92\n",
      "weighted avg       0.65      0.65      0.65        92\n",
      "\n",
      "              precision    recall  f1-score   support\n",
      "\n",
      "           1       0.77      0.77      0.77        39\n",
      "           2       0.51      0.64      0.57        33\n",
      "           3       0.17      0.10      0.12        20\n",
      "\n",
      "    accuracy                           0.58        92\n",
      "   macro avg       0.48      0.50      0.49        92\n",
      "weighted avg       0.55      0.58      0.56        92\n",
      "\n",
      "              precision    recall  f1-score   support\n",
      "\n",
      "           1       0.81      0.77      0.79        39\n",
      "           2       0.64      0.64      0.64        33\n",
      "           3       0.32      0.35      0.33        20\n",
      "\n",
      "    accuracy                           0.63        92\n",
      "   macro avg       0.59      0.59      0.59        92\n",
      "weighted avg       0.64      0.63      0.64        92\n",
      "\n",
      "              precision    recall  f1-score   support\n",
      "\n",
      "           1       0.86      0.82      0.84        39\n",
      "           2       0.58      0.81      0.68        32\n",
      "           3       0.60      0.29      0.39        21\n",
      "\n",
      "    accuracy                           0.70        92\n",
      "   macro avg       0.68      0.64      0.63        92\n",
      "weighted avg       0.70      0.70      0.68        92\n",
      "\n",
      "              precision    recall  f1-score   support\n",
      "\n",
      "           1       0.78      0.72      0.75        39\n",
      "           2       0.53      0.75      0.62        32\n",
      "           3       0.18      0.10      0.12        21\n",
      "\n",
      "    accuracy                           0.59        92\n",
      "   macro avg       0.50      0.52      0.50        92\n",
      "weighted avg       0.56      0.59      0.56        92\n",
      "\n",
      "              precision    recall  f1-score   support\n",
      "\n",
      "           1       0.78      0.82      0.80        39\n",
      "           2       0.59      0.69      0.64        32\n",
      "           3       0.57      0.38      0.46        21\n",
      "\n",
      "    accuracy                           0.67        92\n",
      "   macro avg       0.65      0.63      0.63        92\n",
      "weighted avg       0.67      0.67      0.67        92\n",
      "\n",
      "              precision    recall  f1-score   support\n",
      "\n",
      "           1       0.91      0.74      0.82        39\n",
      "           2       0.60      0.88      0.71        32\n",
      "           3       0.54      0.33      0.41        21\n",
      "\n",
      "    accuracy                           0.70        92\n",
      "   macro avg       0.68      0.65      0.65        92\n",
      "weighted avg       0.71      0.70      0.69        92\n",
      "\n",
      "              precision    recall  f1-score   support\n",
      "\n",
      "           1       0.73      0.77      0.75        39\n",
      "           2       0.56      0.72      0.63        32\n",
      "           3       0.20      0.10      0.13        21\n",
      "\n",
      "    accuracy                           0.60        92\n",
      "   macro avg       0.50      0.53      0.50        92\n",
      "weighted avg       0.55      0.60      0.57        92\n",
      "\n",
      "              precision    recall  f1-score   support\n",
      "\n",
      "           1       0.83      0.77      0.80        39\n",
      "           2       0.51      0.59      0.55        32\n",
      "           3       0.47      0.43      0.45        21\n",
      "\n",
      "    accuracy                           0.63        92\n",
      "   macro avg       0.61      0.60      0.60        92\n",
      "weighted avg       0.64      0.63      0.63        92\n",
      "\n"
     ]
    }
   ],
   "source": [
    "# Calculating the accuracy and other metrics\n",
    "\n",
    "from sklearn.metrics import f1_score, accuracy_score, precision_score, recall_score, make_scorer\n",
    "from sklearn.metrics import accuracy_score\n",
    "from sklearn.metrics import classification_report\n",
    "from sklearn.model_selection import cross_val_score\n",
    "from sklearn.model_selection import StratifiedKFold, KFold\n",
    "\n",
    "target_names = ['melanoma', 'bcc', 'scc']\n",
    "\n",
    "# Variables for average classification report\n",
    "originalclass = []\n",
    "predictedclass = []\n",
    "\n",
    "#Make our customer score\n",
    "def classification_report_with_accuracy_score(y_test, y_pred):\n",
    "    originalclass.extend(y_test)\n",
    "    predictedclass.extend(y_pred)\n",
    "    print(classification_report(y_test, y_pred))\n",
    "    return accuracy_score(y_test, y_pred) # return accuracy score\n",
    "\n",
    "outer_cv = StratifiedKFold(n_splits=10, shuffle=True, random_state=0)\n",
    "\n",
    "# Nested CV with parameter optimization\n",
    "nested_score = cross_val_score(estimator = knn, X = X, y = Y, cv=outer_cv, scoring=make_scorer(classification_report_with_accuracy_score))"
   ]
  },
  {
   "cell_type": "code",
   "execution_count": 17,
   "metadata": {},
   "outputs": [
    {
     "name": "stdout",
     "output_type": "stream",
     "text": [
      "              precision    recall  f1-score   support\n",
      "\n",
      "    melanoma       0.81      0.77      0.79       391\n",
      "         bcc       0.57      0.72      0.64       323\n",
      "         scc       0.40      0.28      0.33       207\n",
      "\n",
      "    accuracy                           0.64       921\n",
      "   macro avg       0.59      0.59      0.59       921\n",
      "weighted avg       0.63      0.64      0.63       921\n",
      "\n"
     ]
    }
   ],
   "source": [
    "# Average values in classification report for all folds in a K-fold Cross-validation  \n",
    "print(classification_report(originalclass, predictedclass, target_names=target_names))"
   ]
  },
  {
   "cell_type": "markdown",
   "metadata": {},
   "source": [
    "# Support Vector Machine"
   ]
  },
  {
   "cell_type": "code",
   "execution_count": 32,
   "metadata": {},
   "outputs": [
    {
     "data": {
      "text/plain": [
       "SVC(C=100, break_ties=False, cache_size=200, class_weight=None, coef0=0.0,\n",
       "    decision_function_shape='ovr', degree=3, gamma=0.001, kernel='rbf',\n",
       "    max_iter=-1, probability=False, random_state=0, shrinking=True, tol=0.001,\n",
       "    verbose=False)"
      ]
     },
     "execution_count": 32,
     "metadata": {},
     "output_type": "execute_result"
    }
   ],
   "source": [
    "# Implementation of Support Vector Machine (SVM)\n",
    "# Fitting SVM to the training set\n",
    "\n",
    "from sklearn.svm import SVC\n",
    "svm = SVC(C = 100, kernel = 'rbf', gamma = 0.001, random_state = 0)\n",
    "#classifier = SVC(C = 1, kernel = 'poly', degree = 30, random_state = 0)\n",
    "svm.fit(X_train, y_train)"
   ]
  },
  {
   "cell_type": "code",
   "execution_count": 33,
   "metadata": {},
   "outputs": [
    {
     "data": {
      "text/plain": [
       "array([[72,  4,  3],\n",
       "       [ 4, 51,  5],\n",
       "       [ 7, 28, 11]], dtype=int64)"
      ]
     },
     "execution_count": 33,
     "metadata": {},
     "output_type": "execute_result"
    }
   ],
   "source": [
    "# Predicting the test set result\n",
    "y_pred = svm.predict(X_test)\n",
    "\n",
    "# Making the confusion matrix\n",
    "from sklearn.metrics import confusion_matrix\n",
    "from sklearn.metrics import multilabel_confusion_matrix\n",
    "\n",
    "cm = confusion_matrix(y_test, y_pred)\n",
    "cm2 = multilabel_confusion_matrix(y_test, y_pred)\n",
    "\n",
    "cm"
   ]
  },
  {
   "cell_type": "code",
   "execution_count": 34,
   "metadata": {},
   "outputs": [
    {
     "name": "stdout",
     "output_type": "stream",
     "text": [
      "0.7159200296186597\n"
     ]
    }
   ],
   "source": [
    "# Applying K-Fold Cross Validation\n",
    "\n",
    "from sklearn.model_selection import cross_val_score\n",
    "accuracies = cross_val_score(estimator = svm, X = X_train, y = y_train, cv = 10)\n",
    "print(np.mean(accuracies))"
   ]
  },
  {
   "cell_type": "code",
   "execution_count": 31,
   "metadata": {},
   "outputs": [
    {
     "name": "stdout",
     "output_type": "stream",
     "text": [
      "0.72\n",
      "{'C': 100, 'gamma': 0.001, 'kernel': 'rbf'}\n"
     ]
    }
   ],
   "source": [
    "# Applying Grid Search to Find the Best Hyperparameter\n",
    "\n",
    "from sklearn.model_selection import GridSearchCV\n",
    "parameters = [\n",
    "    {'C': [1, 10, 100], 'kernel': ['rbf'], 'gamma': [0.001, 0.01, 0.1, 10]},\n",
    "]\n",
    "\n",
    "grid_search = GridSearchCV(estimator = svm, param_grid = parameters, scoring = 'accuracy', cv = 10, n_jobs = -1)\n",
    "grid_search = grid_search.fit(X_train, y_train)\n",
    "\n",
    "best_accuracy = grid_search.best_score_\n",
    "best_parameters = grid_search.best_params_\n",
    "\n",
    "print(round(best_accuracy, 2))\n",
    "print(best_parameters)"
   ]
  },
  {
   "cell_type": "code",
   "execution_count": 100,
   "metadata": {},
   "outputs": [
    {
     "name": "stdout",
     "output_type": "stream",
     "text": [
      "              precision    recall  f1-score   support\n",
      "\n",
      "           1       0.77      0.90      0.83        40\n",
      "           2       0.48      0.47      0.48        32\n",
      "           3       0.40      0.29      0.33        21\n",
      "\n",
      "    accuracy                           0.61        93\n",
      "   macro avg       0.55      0.55      0.55        93\n",
      "weighted avg       0.59      0.61      0.60        93\n",
      "\n",
      "              precision    recall  f1-score   support\n",
      "\n",
      "           1       0.83      0.77      0.80        39\n",
      "           2       0.66      0.64      0.65        33\n",
      "           3       0.42      0.50      0.45        20\n",
      "\n",
      "    accuracy                           0.66        92\n",
      "   macro avg       0.64      0.64      0.63        92\n",
      "weighted avg       0.68      0.66      0.67        92\n",
      "\n",
      "              precision    recall  f1-score   support\n",
      "\n",
      "           1       0.75      0.85      0.80        39\n",
      "           2       0.65      0.61      0.62        33\n",
      "           3       0.47      0.40      0.43        20\n",
      "\n",
      "    accuracy                           0.66        92\n",
      "   macro avg       0.62      0.62      0.62        92\n",
      "weighted avg       0.65      0.66      0.66        92\n",
      "\n",
      "              precision    recall  f1-score   support\n",
      "\n",
      "           1       0.69      0.79      0.74        39\n",
      "           2       0.61      0.58      0.59        33\n",
      "           3       0.44      0.35      0.39        20\n",
      "\n",
      "    accuracy                           0.62        92\n",
      "   macro avg       0.58      0.57      0.57        92\n",
      "weighted avg       0.61      0.62      0.61        92\n",
      "\n",
      "              precision    recall  f1-score   support\n",
      "\n",
      "           1       0.73      0.82      0.77        39\n",
      "           2       0.52      0.50      0.51        32\n",
      "           3       0.35      0.29      0.32        21\n",
      "\n",
      "    accuracy                           0.59        92\n",
      "   macro avg       0.53      0.54      0.53        92\n",
      "weighted avg       0.57      0.59      0.58        92\n",
      "\n",
      "              precision    recall  f1-score   support\n",
      "\n",
      "           1       0.70      0.82      0.75        39\n",
      "           2       0.59      0.59      0.59        32\n",
      "           3       0.29      0.19      0.23        21\n",
      "\n",
      "    accuracy                           0.60        92\n",
      "   macro avg       0.53      0.53      0.53        92\n",
      "weighted avg       0.57      0.60      0.58        92\n",
      "\n",
      "              precision    recall  f1-score   support\n",
      "\n",
      "           1       0.73      0.82      0.77        39\n",
      "           2       0.59      0.53      0.56        32\n",
      "           3       0.37      0.33      0.35        21\n",
      "\n",
      "    accuracy                           0.61        92\n",
      "   macro avg       0.56      0.56      0.56        92\n",
      "weighted avg       0.60      0.61      0.60        92\n",
      "\n",
      "              precision    recall  f1-score   support\n",
      "\n",
      "           1       0.76      0.79      0.77        39\n",
      "           2       0.56      0.56      0.56        32\n",
      "           3       0.37      0.33      0.35        21\n",
      "\n",
      "    accuracy                           0.61        92\n",
      "   macro avg       0.56      0.56      0.56        92\n",
      "weighted avg       0.60      0.61      0.60        92\n",
      "\n",
      "              precision    recall  f1-score   support\n",
      "\n",
      "           1       0.74      0.87      0.80        39\n",
      "           2       0.57      0.53      0.55        32\n",
      "           3       0.50      0.38      0.43        21\n",
      "\n",
      "    accuracy                           0.64        92\n",
      "   macro avg       0.60      0.59      0.59        92\n",
      "weighted avg       0.62      0.64      0.63        92\n",
      "\n",
      "              precision    recall  f1-score   support\n",
      "\n",
      "           1       0.73      0.85      0.79        39\n",
      "           2       0.55      0.50      0.52        32\n",
      "           3       0.50      0.43      0.46        21\n",
      "\n",
      "    accuracy                           0.63        92\n",
      "   macro avg       0.60      0.59      0.59        92\n",
      "weighted avg       0.62      0.63      0.62        92\n",
      "\n"
     ]
    }
   ],
   "source": [
    "# Calculating the accuracy and other metrics\n",
    "\n",
    "from sklearn.metrics import f1_score, accuracy_score, precision_score, recall_score, make_scorer\n",
    "from sklearn.metrics import accuracy_score\n",
    "from sklearn.metrics import classification_report\n",
    "from sklearn.model_selection import cross_val_score\n",
    "from sklearn.model_selection import StratifiedKFold, KFold\n",
    "\n",
    "target_names = ['melanoma', 'bcc', 'scc']\n",
    "\n",
    "# Variables for average classification report\n",
    "originalclass = []\n",
    "predictedclass = []\n",
    "\n",
    "#Make our customer score\n",
    "def classification_report_with_accuracy_score(y_test, y_pred):\n",
    "    originalclass.extend(y_test)\n",
    "    predictedclass.extend(y_pred)\n",
    "    print(classification_report(y_test, y_pred, zero_division = 0))\n",
    "    return accuracy_score(y_test, y_pred) # return accuracy score\n",
    "\n",
    "outer_cv = StratifiedKFold(n_splits=10, shuffle=True, random_state=0)\n",
    "\n",
    "# Nested CV with parameter optimization\n",
    "nested_score = cross_val_score(estimator = svm, X = X, y = Y, cv=outer_cv, scoring=make_scorer(classification_report_with_accuracy_score))"
   ]
  },
  {
   "cell_type": "code",
   "execution_count": 101,
   "metadata": {},
   "outputs": [
    {
     "name": "stdout",
     "output_type": "stream",
     "text": [
      "              precision    recall  f1-score   support\n",
      "\n",
      "    melanoma       0.74      0.83      0.78       391\n",
      "         bcc       0.58      0.55      0.56       323\n",
      "         scc       0.41      0.35      0.38       207\n",
      "\n",
      "    accuracy                           0.62       921\n",
      "   macro avg       0.58      0.58      0.57       921\n",
      "weighted avg       0.61      0.62      0.61       921\n",
      "\n"
     ]
    }
   ],
   "source": [
    "# Average values in classification report for all folds in a K-fold Cross-validation  \n",
    "print(classification_report(originalclass, predictedclass, target_names=target_names))"
   ]
  },
  {
   "cell_type": "markdown",
   "metadata": {},
   "source": [
    "# Decision Tree"
   ]
  },
  {
   "cell_type": "code",
   "execution_count": 37,
   "metadata": {},
   "outputs": [
    {
     "data": {
      "text/plain": [
       "DecisionTreeClassifier(ccp_alpha=0.0, class_weight=None, criterion='entropy',\n",
       "                       max_depth=10, max_features=None, max_leaf_nodes=None,\n",
       "                       min_impurity_decrease=0.0, min_impurity_split=None,\n",
       "                       min_samples_leaf=1, min_samples_split=2,\n",
       "                       min_weight_fraction_leaf=0.0, presort='deprecated',\n",
       "                       random_state=0, splitter='random')"
      ]
     },
     "execution_count": 37,
     "metadata": {},
     "output_type": "execute_result"
    }
   ],
   "source": [
    "# Some important notes here, before running the Decision Tree Classifier, it's ok to not scale the features, as this model\n",
    "# does not work using euclidian distance, so it's fine as it is\n",
    "\n",
    "from sklearn.tree import DecisionTreeClassifier\n",
    "tree = DecisionTreeClassifier(criterion = 'entropy', max_depth = 10, random_state = 0, splitter = 'random')\n",
    "tree.fit(X_train, y_train)"
   ]
  },
  {
   "cell_type": "code",
   "execution_count": 38,
   "metadata": {},
   "outputs": [
    {
     "data": {
      "text/plain": [
       "array([[66,  7,  6],\n",
       "       [ 9, 40, 11],\n",
       "       [11, 23, 12]], dtype=int64)"
      ]
     },
     "execution_count": 38,
     "metadata": {},
     "output_type": "execute_result"
    }
   ],
   "source": [
    "# Predicting the test set result\n",
    "y_pred = tree.predict(X_test)\n",
    "\n",
    "# Making the confusion matrix\n",
    "from sklearn.metrics import confusion_matrix\n",
    "from sklearn.metrics import multilabel_confusion_matrix\n",
    "\n",
    "cm = confusion_matrix(y_test, y_pred)\n",
    "cm2 = multilabel_confusion_matrix(y_test, y_pred)\n",
    "\n",
    "cm"
   ]
  },
  {
   "cell_type": "code",
   "execution_count": 39,
   "metadata": {},
   "outputs": [
    {
     "name": "stdout",
     "output_type": "stream",
     "text": [
      "0.6072935949648278\n"
     ]
    }
   ],
   "source": [
    "# Applying K-Fold Cross Validation\n",
    "\n",
    "from sklearn.model_selection import cross_val_score\n",
    "accuracies = cross_val_score(estimator = tree, X = X_train, y = y_train, cv = 10)\n",
    "print(np.mean(accuracies))"
   ]
  },
  {
   "cell_type": "code",
   "execution_count": 40,
   "metadata": {},
   "outputs": [
    {
     "name": "stdout",
     "output_type": "stream",
     "text": [
      "0.61\n",
      "{'ccp_alpha': 0.0, 'criterion': 'entropy', 'max_depth': 10, 'splitter': 'random'}\n"
     ]
    }
   ],
   "source": [
    "# Applying Grid Search to Find the Best Hyperparameter\n",
    "\n",
    "from sklearn.model_selection import GridSearchCV\n",
    "parameters = [\n",
    "    {'criterion': ['entropy', 'gini'], 'splitter': ['best', 'random'], 'ccp_alpha': [0.0, 0.05, 0.1], 'max_depth': [10, 100, 200]}\n",
    "]\n",
    "\n",
    "grid_search = GridSearchCV(estimator = tree, param_grid = parameters, scoring = 'accuracy', cv = 10, n_jobs = -1)\n",
    "grid_search = grid_search.fit(X_train, y_train)\n",
    "\n",
    "best_accuracy = grid_search.best_score_\n",
    "best_parameters = grid_search.best_params_\n",
    "\n",
    "print(round(best_accuracy, 2))\n",
    "print(best_parameters)"
   ]
  },
  {
   "cell_type": "code",
   "execution_count": 41,
   "metadata": {},
   "outputs": [
    {
     "name": "stdout",
     "output_type": "stream",
     "text": [
      "              precision    recall  f1-score   support\n",
      "\n",
      "           1       0.67      0.82      0.74        40\n",
      "           2       0.50      0.44      0.47        32\n",
      "           3       0.31      0.24      0.27        21\n",
      "\n",
      "    accuracy                           0.56        93\n",
      "   macro avg       0.50      0.50      0.49        93\n",
      "weighted avg       0.53      0.56      0.54        93\n",
      "\n",
      "              precision    recall  f1-score   support\n",
      "\n",
      "           1       0.86      0.77      0.81        39\n",
      "           2       0.60      0.82      0.69        33\n",
      "           3       0.33      0.20      0.25        20\n",
      "\n",
      "    accuracy                           0.66        92\n",
      "   macro avg       0.60      0.60      0.58        92\n",
      "weighted avg       0.65      0.66      0.65        92\n",
      "\n",
      "              precision    recall  f1-score   support\n",
      "\n",
      "           1       0.64      0.77      0.70        39\n",
      "           2       0.56      0.61      0.58        33\n",
      "           3       0.44      0.20      0.28        20\n",
      "\n",
      "    accuracy                           0.59        92\n",
      "   macro avg       0.55      0.53      0.52        92\n",
      "weighted avg       0.57      0.59      0.56        92\n",
      "\n",
      "              precision    recall  f1-score   support\n",
      "\n",
      "           1       0.70      0.72      0.71        39\n",
      "           2       0.52      0.45      0.48        33\n",
      "           3       0.35      0.40      0.37        20\n",
      "\n",
      "    accuracy                           0.55        92\n",
      "   macro avg       0.52      0.52      0.52        92\n",
      "weighted avg       0.56      0.55      0.55        92\n",
      "\n",
      "              precision    recall  f1-score   support\n",
      "\n",
      "           1       0.75      0.69      0.72        39\n",
      "           2       0.51      0.59      0.55        32\n",
      "           3       0.47      0.43      0.45        21\n",
      "\n",
      "    accuracy                           0.60        92\n",
      "   macro avg       0.58      0.57      0.57        92\n",
      "weighted avg       0.60      0.60      0.60        92\n",
      "\n",
      "              precision    recall  f1-score   support\n",
      "\n",
      "           1       0.78      0.90      0.83        39\n",
      "           2       0.68      0.66      0.67        32\n",
      "           3       0.31      0.24      0.27        21\n",
      "\n",
      "    accuracy                           0.66        92\n",
      "   macro avg       0.59      0.60      0.59        92\n",
      "weighted avg       0.64      0.66      0.65        92\n",
      "\n",
      "              precision    recall  f1-score   support\n",
      "\n",
      "           1       0.80      0.62      0.70        39\n",
      "           2       0.54      0.62      0.58        32\n",
      "           3       0.36      0.43      0.39        21\n",
      "\n",
      "    accuracy                           0.58        92\n",
      "   macro avg       0.57      0.56      0.56        92\n",
      "weighted avg       0.61      0.58      0.59        92\n",
      "\n",
      "              precision    recall  f1-score   support\n",
      "\n",
      "           1       0.70      0.72      0.71        39\n",
      "           2       0.62      0.62      0.62        32\n",
      "           3       0.35      0.33      0.34        21\n",
      "\n",
      "    accuracy                           0.60        92\n",
      "   macro avg       0.56      0.56      0.56        92\n",
      "weighted avg       0.59      0.60      0.60        92\n",
      "\n",
      "              precision    recall  f1-score   support\n",
      "\n",
      "           1       0.82      0.79      0.81        39\n",
      "           2       0.58      0.66      0.62        32\n",
      "           3       0.22      0.19      0.21        21\n",
      "\n",
      "    accuracy                           0.61        92\n",
      "   macro avg       0.54      0.55      0.54        92\n",
      "weighted avg       0.60      0.61      0.60        92\n",
      "\n",
      "              precision    recall  f1-score   support\n",
      "\n",
      "           1       0.65      0.67      0.66        39\n",
      "           2       0.47      0.50      0.48        32\n",
      "           3       0.11      0.10      0.10        21\n",
      "\n",
      "    accuracy                           0.48        92\n",
      "   macro avg       0.41      0.42      0.42        92\n",
      "weighted avg       0.46      0.48      0.47        92\n",
      "\n"
     ]
    }
   ],
   "source": [
    "# Calculating the accuracy and other metrics\n",
    "\n",
    "from sklearn.metrics import f1_score, accuracy_score, precision_score, recall_score, make_scorer\n",
    "from sklearn.metrics import accuracy_score\n",
    "from sklearn.metrics import classification_report\n",
    "from sklearn.model_selection import cross_val_score\n",
    "from sklearn.model_selection import StratifiedKFold, KFold\n",
    "\n",
    "target_names = ['melanoma', 'bcc', 'scc']\n",
    "\n",
    "# Variables for average classification report\n",
    "originalclass = []\n",
    "predictedclass = []\n",
    "\n",
    "#Make our customer score\n",
    "def classification_report_with_accuracy_score(y_test, y_pred):\n",
    "    originalclass.extend(y_test)\n",
    "    predictedclass.extend(y_pred)\n",
    "    print(classification_report(y_test, y_pred))\n",
    "    return accuracy_score(y_test, y_pred) # return accuracy score\n",
    "\n",
    "outer_cv = StratifiedKFold(n_splits=10, shuffle=True, random_state=0)\n",
    "\n",
    "# Nested CV with parameter optimization\n",
    "nested_score = cross_val_score(estimator = tree, X = X, y = Y, cv=outer_cv, scoring=make_scorer(classification_report_with_accuracy_score))"
   ]
  },
  {
   "cell_type": "code",
   "execution_count": 42,
   "metadata": {},
   "outputs": [
    {
     "name": "stdout",
     "output_type": "stream",
     "text": [
      "              precision    recall  f1-score   support\n",
      "\n",
      "    melanoma       0.73      0.75      0.74       391\n",
      "         bcc       0.56      0.60      0.58       323\n",
      "         scc       0.32      0.28      0.30       207\n",
      "\n",
      "    accuracy                           0.59       921\n",
      "   macro avg       0.54      0.54      0.54       921\n",
      "weighted avg       0.58      0.59      0.58       921\n",
      "\n"
     ]
    }
   ],
   "source": [
    "# Average values in classification report for all folds in a K-fold Cross-validation  \n",
    "print(classification_report(originalclass, predictedclass, target_names=target_names))"
   ]
  },
  {
   "cell_type": "markdown",
   "metadata": {},
   "source": [
    "# Random Forest"
   ]
  },
  {
   "cell_type": "code",
   "execution_count": 43,
   "metadata": {},
   "outputs": [
    {
     "data": {
      "text/plain": [
       "RandomForestClassifier(bootstrap=True, ccp_alpha=0.0, class_weight='balanced',\n",
       "                       criterion='entropy', max_depth=None, max_features='auto',\n",
       "                       max_leaf_nodes=None, max_samples=None,\n",
       "                       min_impurity_decrease=0.0, min_impurity_split=None,\n",
       "                       min_samples_leaf=1, min_samples_split=2,\n",
       "                       min_weight_fraction_leaf=0.0, n_estimators=200,\n",
       "                       n_jobs=None, oob_score=False, random_state=0, verbose=0,\n",
       "                       warm_start=False)"
      ]
     },
     "execution_count": 43,
     "metadata": {},
     "output_type": "execute_result"
    }
   ],
   "source": [
    "from sklearn.ensemble import RandomForestClassifier\n",
    "forest = RandomForestClassifier(n_estimators = 200, max_depth = None, criterion = 'entropy', class_weight = 'balanced', random_state = 0)\n",
    "forest.fit(X_train, y_train)"
   ]
  },
  {
   "cell_type": "code",
   "execution_count": 44,
   "metadata": {},
   "outputs": [
    {
     "data": {
      "text/plain": [
       "array([[75,  3,  1],\n",
       "       [ 5, 50,  5],\n",
       "       [ 7, 30,  9]], dtype=int64)"
      ]
     },
     "execution_count": 44,
     "metadata": {},
     "output_type": "execute_result"
    }
   ],
   "source": [
    "# Predicting the test set result\n",
    "y_pred = forest.predict(X_test)\n",
    "\n",
    "# Making the confusion matrix\n",
    "from sklearn.metrics import confusion_matrix\n",
    "from sklearn.metrics import multilabel_confusion_matrix\n",
    "\n",
    "cm = confusion_matrix(y_test, y_pred)\n",
    "cm2 = multilabel_confusion_matrix(y_test, y_pred)\n",
    "\n",
    "cm"
   ]
  },
  {
   "cell_type": "code",
   "execution_count": 45,
   "metadata": {},
   "outputs": [
    {
     "name": "stdout",
     "output_type": "stream",
     "text": [
      "0.6969640873750463\n"
     ]
    }
   ],
   "source": [
    "# Applying K-Fold Cross Validation\n",
    "\n",
    "from sklearn.model_selection import cross_val_score\n",
    "accuracies = cross_val_score(estimator = forest, X = X_train, y = y_train, cv = 10, n_jobs = -1)\n",
    "print(np.mean(accuracies))"
   ]
  },
  {
   "cell_type": "code",
   "execution_count": 37,
   "metadata": {},
   "outputs": [
    {
     "name": "stdout",
     "output_type": "stream",
     "text": [
      "0.7\n",
      "{'class_weight': 'balanced', 'criterion': 'entropy', 'max_depth': None, 'n_estimators': 200}\n"
     ]
    }
   ],
   "source": [
    "# Applying Grid Search to Find the Best Hyperparameter\n",
    "\n",
    "from sklearn.model_selection import GridSearchCV\n",
    "parameters = [\n",
    "    {'criterion': ['entropy'], 'max_depth': [None], 'n_estimators': [150, 200, 250], 'class_weight': [None, 'balanced', 'balanced_subsample']},\n",
    "    {'criterion': ['gini'], 'max_depth': [None], 'n_estimators': [150, 200, 250], 'class_weight': [None, 'balanced', 'balanced_subsample']}\n",
    "]\n",
    "\n",
    "grid_search = GridSearchCV(estimator = forest, param_grid = parameters, scoring = 'accuracy', cv = 10, n_jobs = -1)\n",
    "grid_search = grid_search.fit(X_train, y_train)\n",
    "\n",
    "best_accuracy = grid_search.best_score_\n",
    "best_parameters = grid_search.best_params_\n",
    "\n",
    "print(round(best_accuracy, 2))\n",
    "print(best_parameters)"
   ]
  },
  {
   "cell_type": "code",
   "execution_count": 46,
   "metadata": {},
   "outputs": [
    {
     "name": "stdout",
     "output_type": "stream",
     "text": [
      "              precision    recall  f1-score   support\n",
      "\n",
      "           1       0.80      0.88      0.83        40\n",
      "           2       0.63      0.75      0.69        32\n",
      "           3       0.45      0.24      0.31        21\n",
      "\n",
      "    accuracy                           0.69        93\n",
      "   macro avg       0.63      0.62      0.61        93\n",
      "weighted avg       0.66      0.69      0.66        93\n",
      "\n",
      "              precision    recall  f1-score   support\n",
      "\n",
      "           1       0.94      0.77      0.85        39\n",
      "           2       0.63      0.88      0.73        33\n",
      "           3       0.50      0.35      0.41        20\n",
      "\n",
      "    accuracy                           0.72        92\n",
      "   macro avg       0.69      0.67      0.66        92\n",
      "weighted avg       0.73      0.72      0.71        92\n",
      "\n",
      "              precision    recall  f1-score   support\n",
      "\n",
      "           1       0.81      0.87      0.84        39\n",
      "           2       0.62      0.73      0.67        33\n",
      "           3       0.45      0.25      0.32        20\n",
      "\n",
      "    accuracy                           0.68        92\n",
      "   macro avg       0.63      0.62      0.61        92\n",
      "weighted avg       0.66      0.68      0.67        92\n",
      "\n",
      "              precision    recall  f1-score   support\n",
      "\n",
      "           1       0.78      0.90      0.83        39\n",
      "           2       0.65      0.67      0.66        33\n",
      "           3       0.38      0.25      0.30        20\n",
      "\n",
      "    accuracy                           0.67        92\n",
      "   macro avg       0.60      0.60      0.60        92\n",
      "weighted avg       0.65      0.67      0.65        92\n",
      "\n",
      "              precision    recall  f1-score   support\n",
      "\n",
      "           1       0.82      0.85      0.84        39\n",
      "           2       0.68      0.78      0.72        32\n",
      "           3       0.53      0.38      0.44        21\n",
      "\n",
      "    accuracy                           0.72        92\n",
      "   macro avg       0.68      0.67      0.67        92\n",
      "weighted avg       0.71      0.72      0.71        92\n",
      "\n",
      "              precision    recall  f1-score   support\n",
      "\n",
      "           1       0.79      0.85      0.81        39\n",
      "           2       0.64      0.78      0.70        32\n",
      "           3       0.45      0.24      0.31        21\n",
      "\n",
      "    accuracy                           0.68        92\n",
      "   macro avg       0.63      0.62      0.61        92\n",
      "weighted avg       0.66      0.68      0.66        92\n",
      "\n",
      "              precision    recall  f1-score   support\n",
      "\n",
      "           1       0.88      0.92      0.90        39\n",
      "           2       0.61      0.72      0.66        32\n",
      "           3       0.54      0.33      0.41        21\n",
      "\n",
      "    accuracy                           0.72        92\n",
      "   macro avg       0.67      0.66      0.66        92\n",
      "weighted avg       0.71      0.72      0.70        92\n",
      "\n",
      "              precision    recall  f1-score   support\n",
      "\n",
      "           1       0.92      0.90      0.91        39\n",
      "           2       0.64      0.78      0.70        32\n",
      "           3       0.47      0.33      0.39        21\n",
      "\n",
      "    accuracy                           0.73        92\n",
      "   macro avg       0.68      0.67      0.67        92\n",
      "weighted avg       0.72      0.73      0.72        92\n",
      "\n",
      "              precision    recall  f1-score   support\n",
      "\n",
      "           1       0.82      0.92      0.87        39\n",
      "           2       0.68      0.78      0.72        32\n",
      "           3       0.55      0.29      0.37        21\n",
      "\n",
      "    accuracy                           0.73        92\n",
      "   macro avg       0.68      0.66      0.66        92\n",
      "weighted avg       0.71      0.73      0.71        92\n",
      "\n",
      "              precision    recall  f1-score   support\n",
      "\n",
      "           1       0.81      0.90      0.85        39\n",
      "           2       0.64      0.66      0.65        32\n",
      "           3       0.50      0.38      0.43        21\n",
      "\n",
      "    accuracy                           0.70        92\n",
      "   macro avg       0.65      0.64      0.64        92\n",
      "weighted avg       0.68      0.70      0.69        92\n",
      "\n"
     ]
    }
   ],
   "source": [
    "# Calculating the accuracy and other metrics\n",
    "\n",
    "from sklearn.metrics import f1_score, accuracy_score, precision_score, recall_score, make_scorer\n",
    "from sklearn.metrics import accuracy_score\n",
    "from sklearn.metrics import classification_report\n",
    "from sklearn.model_selection import cross_val_score\n",
    "from sklearn.model_selection import StratifiedKFold, KFold\n",
    "\n",
    "target_names = ['melanoma', 'bcc', 'scc']\n",
    "\n",
    "# Variables for average classification report\n",
    "originalclass = []\n",
    "predictedclass = []\n",
    "\n",
    "#Make our customer score\n",
    "def classification_report_with_accuracy_score(y_test, y_pred):\n",
    "    originalclass.extend(y_test)\n",
    "    predictedclass.extend(y_pred)\n",
    "    print(classification_report(y_test, y_pred))\n",
    "    return accuracy_score(y_test, y_pred) # return accuracy score\n",
    "\n",
    "outer_cv = StratifiedKFold(n_splits=10, shuffle=True, random_state=0)\n",
    "\n",
    "# Nested CV with parameter optimization\n",
    "nested_score = cross_val_score(estimator = forest, X = X, y = Y, cv=outer_cv, scoring=make_scorer(classification_report_with_accuracy_score))"
   ]
  },
  {
   "cell_type": "code",
   "execution_count": 47,
   "metadata": {},
   "outputs": [
    {
     "name": "stdout",
     "output_type": "stream",
     "text": [
      "              precision    recall  f1-score   support\n",
      "\n",
      "    melanoma       0.83      0.87      0.85       391\n",
      "         bcc       0.64      0.75      0.69       323\n",
      "         scc       0.48      0.30      0.37       207\n",
      "\n",
      "    accuracy                           0.70       921\n",
      "   macro avg       0.65      0.64      0.64       921\n",
      "weighted avg       0.69      0.70      0.69       921\n",
      "\n"
     ]
    }
   ],
   "source": [
    "# Average values in classification report for all folds in a K-fold Cross-validation  \n",
    "print(classification_report(originalclass, predictedclass, target_names=target_names))"
   ]
  },
  {
   "cell_type": "markdown",
   "metadata": {},
   "source": [
    "# Artificial Neural Network"
   ]
  },
  {
   "cell_type": "code",
   "execution_count": 53,
   "metadata": {},
   "outputs": [
    {
     "name": "stderr",
     "output_type": "stream",
     "text": [
      "Using TensorFlow backend.\n"
     ]
    }
   ],
   "source": [
    "# Importing the Keras libraries and packages\n",
    "import keras\n",
    "import sys\n",
    "from keras.models import Sequential\n",
    "from keras.layers import Dense\n",
    "from keras.utils import to_categorical\n",
    "from keras.callbacks import EarlyStopping, ModelCheckpoint"
   ]
  },
  {
   "cell_type": "code",
   "execution_count": 93,
   "metadata": {},
   "outputs": [],
   "source": [
    "# Create categorical input for predictor\n",
    "\n",
    "from sklearn.preprocessing import OneHotEncoder\n",
    "onehotencoder = OneHotEncoder(handle_unknown='ignore')\n",
    "y_array = Y.values\n",
    "y_df = y_array.reshape(-1, 1)\n",
    "\n",
    "y_train = y_train.reshape(-1, 1)\n",
    "y_test_array = y_test.values\n",
    "y_test = y_test_array.reshape(-1, 1)\n",
    "\n",
    "y_use = onehotencoder.fit_transform(y_df).toarray()\n",
    "y_binary = onehotencoder.fit_transform(y_train).toarray()\n",
    "y_compare = onehotencoder.fit_transform(y_test).toarray()"
   ]
  },
  {
   "cell_type": "code",
   "execution_count": 95,
   "metadata": {},
   "outputs": [
    {
     "name": "stdout",
     "output_type": "stream",
     "text": [
      "Train on 736 samples, validate on 185 samples\n",
      "Epoch 1/100\n",
      "736/736 [==============================] - 0s 412us/step - loss: 1.2617 - accuracy: 0.2867 - categorical_accuracy: 0.2867 - val_loss: 1.1460 - val_accuracy: 0.3946 - val_categorical_accuracy: 0.3946\n",
      "Epoch 2/100\n",
      "736/736 [==============================] - 0s 115us/step - loss: 1.0131 - accuracy: 0.4891 - categorical_accuracy: 0.4891 - val_loss: 1.0040 - val_accuracy: 0.5892 - val_categorical_accuracy: 0.5892\n",
      "Epoch 3/100\n",
      "736/736 [==============================] - 0s 115us/step - loss: 0.9126 - accuracy: 0.5883 - categorical_accuracy: 0.5883 - val_loss: 0.9109 - val_accuracy: 0.6378 - val_categorical_accuracy: 0.6378\n",
      "Epoch 4/100\n",
      "736/736 [==============================] - 0s 105us/step - loss: 0.8376 - accuracy: 0.6332 - categorical_accuracy: 0.6332 - val_loss: 0.8366 - val_accuracy: 0.6486 - val_categorical_accuracy: 0.6486\n",
      "Epoch 5/100\n",
      "736/736 [==============================] - 0s 111us/step - loss: 0.7814 - accuracy: 0.6549 - categorical_accuracy: 0.6549 - val_loss: 0.7831 - val_accuracy: 0.6486 - val_categorical_accuracy: 0.6486\n",
      "Epoch 6/100\n",
      "736/736 [==============================] - 0s 111us/step - loss: 0.7386 - accuracy: 0.6807 - categorical_accuracy: 0.6807 - val_loss: 0.7446 - val_accuracy: 0.6703 - val_categorical_accuracy: 0.6703\n",
      "Epoch 7/100\n",
      "736/736 [==============================] - 0s 111us/step - loss: 0.7087 - accuracy: 0.6875 - categorical_accuracy: 0.6875 - val_loss: 0.7143 - val_accuracy: 0.6973 - val_categorical_accuracy: 0.6973\n",
      "Epoch 8/100\n",
      "736/736 [==============================] - 0s 110us/step - loss: 0.6837 - accuracy: 0.6957 - categorical_accuracy: 0.6957 - val_loss: 0.6901 - val_accuracy: 0.6973 - val_categorical_accuracy: 0.6973\n",
      "Epoch 9/100\n",
      "736/736 [==============================] - 0s 107us/step - loss: 0.6627 - accuracy: 0.7052 - categorical_accuracy: 0.7052 - val_loss: 0.6799 - val_accuracy: 0.7081 - val_categorical_accuracy: 0.7081\n",
      "Epoch 10/100\n",
      "736/736 [==============================] - 0s 107us/step - loss: 0.6445 - accuracy: 0.7092 - categorical_accuracy: 0.7092 - val_loss: 0.6674 - val_accuracy: 0.7081 - val_categorical_accuracy: 0.7081\n",
      "Epoch 11/100\n",
      "736/736 [==============================] - ETA: 0s - loss: 0.6477 - accuracy: 0.7121 - categorical_accuracy: 0.712 - 0s 105us/step - loss: 0.6287 - accuracy: 0.7242 - categorical_accuracy: 0.7242 - val_loss: 0.6505 - val_accuracy: 0.7027 - val_categorical_accuracy: 0.7027\n",
      "Epoch 12/100\n",
      "736/736 [==============================] - 0s 105us/step - loss: 0.6122 - accuracy: 0.7310 - categorical_accuracy: 0.7310 - val_loss: 0.6460 - val_accuracy: 0.7081 - val_categorical_accuracy: 0.7081\n",
      "Epoch 13/100\n",
      "736/736 [==============================] - 0s 107us/step - loss: 0.6013 - accuracy: 0.7337 - categorical_accuracy: 0.7337 - val_loss: 0.6306 - val_accuracy: 0.7135 - val_categorical_accuracy: 0.7135\n",
      "Epoch 14/100\n",
      "736/736 [==============================] - 0s 107us/step - loss: 0.5897 - accuracy: 0.7432 - categorical_accuracy: 0.7432 - val_loss: 0.6185 - val_accuracy: 0.7135 - val_categorical_accuracy: 0.7135\n",
      "Epoch 15/100\n",
      "736/736 [==============================] - 0s 117us/step - loss: 0.5802 - accuracy: 0.7418 - categorical_accuracy: 0.7418 - val_loss: 0.6111 - val_accuracy: 0.7189 - val_categorical_accuracy: 0.7189\n",
      "Epoch 16/100\n",
      "736/736 [==============================] - 0s 115us/step - loss: 0.5714 - accuracy: 0.7459 - categorical_accuracy: 0.7459 - val_loss: 0.6027 - val_accuracy: 0.7243 - val_categorical_accuracy: 0.7243\n",
      "Epoch 17/100\n",
      "736/736 [==============================] - 0s 123us/step - loss: 0.5679 - accuracy: 0.7459 - categorical_accuracy: 0.7459 - val_loss: 0.5920 - val_accuracy: 0.7297 - val_categorical_accuracy: 0.7297\n",
      "Epoch 18/100\n",
      "736/736 [==============================] - 0s 109us/step - loss: 0.5628 - accuracy: 0.7459 - categorical_accuracy: 0.7459 - val_loss: 0.5840 - val_accuracy: 0.7297 - val_categorical_accuracy: 0.7297\n",
      "Epoch 19/100\n",
      "736/736 [==============================] - 0s 107us/step - loss: 0.5555 - accuracy: 0.7609 - categorical_accuracy: 0.7609 - val_loss: 0.5899 - val_accuracy: 0.7297 - val_categorical_accuracy: 0.7297\n",
      "Epoch 20/100\n",
      "736/736 [==============================] - 0s 118us/step - loss: 0.5502 - accuracy: 0.7609 - categorical_accuracy: 0.7609 - val_loss: 0.5773 - val_accuracy: 0.7243 - val_categorical_accuracy: 0.7243\n",
      "Epoch 21/100\n",
      "736/736 [==============================] - 0s 120us/step - loss: 0.5481 - accuracy: 0.7568 - categorical_accuracy: 0.7568 - val_loss: 0.5756 - val_accuracy: 0.7189 - val_categorical_accuracy: 0.7189\n",
      "Epoch 22/100\n",
      "736/736 [==============================] - 0s 117us/step - loss: 0.5438 - accuracy: 0.7568 - categorical_accuracy: 0.7568 - val_loss: 0.5770 - val_accuracy: 0.7351 - val_categorical_accuracy: 0.7351\n",
      "Epoch 23/100\n",
      "736/736 [==============================] - 0s 120us/step - loss: 0.5387 - accuracy: 0.7595 - categorical_accuracy: 0.7595 - val_loss: 0.5637 - val_accuracy: 0.7297 - val_categorical_accuracy: 0.7297\n",
      "Epoch 24/100\n",
      "736/736 [==============================] - 0s 105us/step - loss: 0.5349 - accuracy: 0.7622 - categorical_accuracy: 0.7622 - val_loss: 0.5596 - val_accuracy: 0.7189 - val_categorical_accuracy: 0.7189\n",
      "Epoch 25/100\n",
      "736/736 [==============================] - 0s 115us/step - loss: 0.5330 - accuracy: 0.7636 - categorical_accuracy: 0.7636 - val_loss: 0.5612 - val_accuracy: 0.7081 - val_categorical_accuracy: 0.7081\n",
      "Epoch 26/100\n",
      "736/736 [==============================] - 0s 118us/step - loss: 0.5283 - accuracy: 0.7622 - categorical_accuracy: 0.7622 - val_loss: 0.5582 - val_accuracy: 0.7243 - val_categorical_accuracy: 0.7243\n",
      "Epoch 27/100\n",
      "736/736 [==============================] - 0s 106us/step - loss: 0.5258 - accuracy: 0.7690 - categorical_accuracy: 0.7690 - val_loss: 0.5608 - val_accuracy: 0.7189 - val_categorical_accuracy: 0.7189\n",
      "Epoch 28/100\n",
      "736/736 [==============================] - 0s 103us/step - loss: 0.5231 - accuracy: 0.7772 - categorical_accuracy: 0.7772 - val_loss: 0.5584 - val_accuracy: 0.7297 - val_categorical_accuracy: 0.7297\n",
      "Epoch 29/100\n",
      "736/736 [==============================] - 0s 113us/step - loss: 0.5192 - accuracy: 0.7527 - categorical_accuracy: 0.7527 - val_loss: 0.5579 - val_accuracy: 0.7351 - val_categorical_accuracy: 0.7351\n",
      "Epoch 30/100\n",
      "736/736 [==============================] - 0s 117us/step - loss: 0.5163 - accuracy: 0.7677 - categorical_accuracy: 0.7677 - val_loss: 0.5573 - val_accuracy: 0.7351 - val_categorical_accuracy: 0.7351\n",
      "Epoch 31/100\n",
      "736/736 [==============================] - 0s 111us/step - loss: 0.5138 - accuracy: 0.7731 - categorical_accuracy: 0.7731 - val_loss: 0.5660 - val_accuracy: 0.7351 - val_categorical_accuracy: 0.7351\n",
      "Epoch 32/100\n",
      "736/736 [==============================] - 0s 102us/step - loss: 0.5122 - accuracy: 0.7785 - categorical_accuracy: 0.7785 - val_loss: 0.5630 - val_accuracy: 0.7189 - val_categorical_accuracy: 0.7189\n",
      "Epoch 33/100\n",
      "736/736 [==============================] - 0s 107us/step - loss: 0.5130 - accuracy: 0.7595 - categorical_accuracy: 0.7595 - val_loss: 0.5584 - val_accuracy: 0.7243 - val_categorical_accuracy: 0.7243\n",
      "Epoch 34/100\n",
      "736/736 [==============================] - 0s 102us/step - loss: 0.5071 - accuracy: 0.7772 - categorical_accuracy: 0.7772 - val_loss: 0.5686 - val_accuracy: 0.7243 - val_categorical_accuracy: 0.7243\n",
      "Epoch 35/100\n",
      "736/736 [==============================] - 0s 102us/step - loss: 0.5056 - accuracy: 0.7745 - categorical_accuracy: 0.7745 - val_loss: 0.5614 - val_accuracy: 0.7243 - val_categorical_accuracy: 0.7243\n",
      "Epoch 36/100\n",
      "736/736 [==============================] - 0s 99us/step - loss: 0.5017 - accuracy: 0.7812 - categorical_accuracy: 0.7812 - val_loss: 0.5654 - val_accuracy: 0.7243 - val_categorical_accuracy: 0.7243\n",
      "Epoch 37/100\n",
      "736/736 [==============================] - 0s 112us/step - loss: 0.5006 - accuracy: 0.7812 - categorical_accuracy: 0.7812 - val_loss: 0.5649 - val_accuracy: 0.7297 - val_categorical_accuracy: 0.7297\n",
      "Epoch 38/100\n",
      "736/736 [==============================] - 0s 99us/step - loss: 0.4980 - accuracy: 0.7799 - categorical_accuracy: 0.7799 - val_loss: 0.5554 - val_accuracy: 0.7405 - val_categorical_accuracy: 0.7405\n",
      "Epoch 39/100\n"
     ]
    },
    {
     "name": "stdout",
     "output_type": "stream",
     "text": [
      "736/736 [==============================] - 0s 100us/step - loss: 0.5002 - accuracy: 0.7826 - categorical_accuracy: 0.7826 - val_loss: 0.5753 - val_accuracy: 0.7243 - val_categorical_accuracy: 0.7243\n",
      "Epoch 40/100\n",
      "736/736 [==============================] - 0s 99us/step - loss: 0.4923 - accuracy: 0.7948 - categorical_accuracy: 0.7948 - val_loss: 0.5551 - val_accuracy: 0.7351 - val_categorical_accuracy: 0.7351\n",
      "Epoch 41/100\n",
      "736/736 [==============================] - 0s 99us/step - loss: 0.4936 - accuracy: 0.7772 - categorical_accuracy: 0.7772 - val_loss: 0.5603 - val_accuracy: 0.7405 - val_categorical_accuracy: 0.7405\n",
      "Epoch 42/100\n",
      "736/736 [==============================] - 0s 98us/step - loss: 0.4897 - accuracy: 0.7840 - categorical_accuracy: 0.7840 - val_loss: 0.5736 - val_accuracy: 0.7297 - val_categorical_accuracy: 0.7297\n",
      "Epoch 43/100\n",
      "736/736 [==============================] - 0s 99us/step - loss: 0.4912 - accuracy: 0.7894 - categorical_accuracy: 0.7894 - val_loss: 0.5605 - val_accuracy: 0.7405 - val_categorical_accuracy: 0.7405\n",
      "Epoch 44/100\n",
      "736/736 [==============================] - 0s 105us/step - loss: 0.4873 - accuracy: 0.7812 - categorical_accuracy: 0.7812 - val_loss: 0.5717 - val_accuracy: 0.7297 - val_categorical_accuracy: 0.7297\n",
      "Epoch 45/100\n",
      "736/736 [==============================] - 0s 116us/step - loss: 0.4863 - accuracy: 0.7812 - categorical_accuracy: 0.7812 - val_loss: 0.5707 - val_accuracy: 0.7405 - val_categorical_accuracy: 0.7405\n",
      "Epoch 46/100\n",
      "736/736 [==============================] - 0s 109us/step - loss: 0.4817 - accuracy: 0.7867 - categorical_accuracy: 0.7867 - val_loss: 0.5704 - val_accuracy: 0.7351 - val_categorical_accuracy: 0.7351\n",
      "Epoch 47/100\n",
      "736/736 [==============================] - 0s 100us/step - loss: 0.4810 - accuracy: 0.7894 - categorical_accuracy: 0.7894 - val_loss: 0.5726 - val_accuracy: 0.7297 - val_categorical_accuracy: 0.7297\n",
      "Epoch 48/100\n",
      "736/736 [==============================] - 0s 104us/step - loss: 0.4797 - accuracy: 0.7826 - categorical_accuracy: 0.7826 - val_loss: 0.5753 - val_accuracy: 0.7351 - val_categorical_accuracy: 0.7351\n",
      "Epoch 49/100\n",
      "736/736 [==============================] - 0s 100us/step - loss: 0.4802 - accuracy: 0.7867 - categorical_accuracy: 0.7867 - val_loss: 0.5852 - val_accuracy: 0.7405 - val_categorical_accuracy: 0.7405\n",
      "Epoch 50/100\n",
      "736/736 [==============================] - 0s 100us/step - loss: 0.4768 - accuracy: 0.7962 - categorical_accuracy: 0.7962 - val_loss: 0.5636 - val_accuracy: 0.7351 - val_categorical_accuracy: 0.7351\n",
      "Epoch 51/100\n",
      "736/736 [==============================] - 0s 99us/step - loss: 0.4746 - accuracy: 0.7894 - categorical_accuracy: 0.7894 - val_loss: 0.5729 - val_accuracy: 0.7405 - val_categorical_accuracy: 0.7405\n",
      "Epoch 52/100\n",
      "736/736 [==============================] - 0s 100us/step - loss: 0.4738 - accuracy: 0.7921 - categorical_accuracy: 0.7921 - val_loss: 0.5713 - val_accuracy: 0.7351 - val_categorical_accuracy: 0.7351\n",
      "Epoch 53/100\n",
      "736/736 [==============================] - 0s 101us/step - loss: 0.4719 - accuracy: 0.7867 - categorical_accuracy: 0.7867 - val_loss: 0.5708 - val_accuracy: 0.7351 - val_categorical_accuracy: 0.7351\n",
      "Epoch 54/100\n",
      "736/736 [==============================] - 0s 120us/step - loss: 0.4689 - accuracy: 0.7962 - categorical_accuracy: 0.7962 - val_loss: 0.5656 - val_accuracy: 0.7351 - val_categorical_accuracy: 0.7351\n",
      "Epoch 55/100\n",
      "736/736 [==============================] - 0s 115us/step - loss: 0.4688 - accuracy: 0.7935 - categorical_accuracy: 0.7935 - val_loss: 0.5831 - val_accuracy: 0.7514 - val_categorical_accuracy: 0.7514\n",
      "Epoch 56/100\n",
      "736/736 [==============================] - 0s 99us/step - loss: 0.4658 - accuracy: 0.7948 - categorical_accuracy: 0.7948 - val_loss: 0.5889 - val_accuracy: 0.7514 - val_categorical_accuracy: 0.7514\n",
      "Epoch 57/100\n",
      "736/736 [==============================] - 0s 109us/step - loss: 0.4652 - accuracy: 0.7948 - categorical_accuracy: 0.7948 - val_loss: 0.5940 - val_accuracy: 0.7514 - val_categorical_accuracy: 0.7514\n",
      "Epoch 58/100\n",
      "736/736 [==============================] - ETA: 0s - loss: 0.4618 - accuracy: 0.8000 - categorical_accuracy: 0.800 - 0s 117us/step - loss: 0.4627 - accuracy: 0.8043 - categorical_accuracy: 0.8043 - val_loss: 0.5792 - val_accuracy: 0.7405 - val_categorical_accuracy: 0.7405\n",
      "Epoch 59/100\n",
      "736/736 [==============================] - 0s 115us/step - loss: 0.4600 - accuracy: 0.7921 - categorical_accuracy: 0.7921 - val_loss: 0.5956 - val_accuracy: 0.7514 - val_categorical_accuracy: 0.7514\n",
      "Epoch 60/100\n",
      "736/736 [==============================] - 0s 116us/step - loss: 0.4593 - accuracy: 0.7989 - categorical_accuracy: 0.7989 - val_loss: 0.5948 - val_accuracy: 0.7405 - val_categorical_accuracy: 0.7405\n",
      "Epoch 61/100\n",
      "736/736 [==============================] - 0s 117us/step - loss: 0.4568 - accuracy: 0.8030 - categorical_accuracy: 0.8030 - val_loss: 0.5942 - val_accuracy: 0.7405 - val_categorical_accuracy: 0.7405\n",
      "Epoch 62/100\n",
      "736/736 [==============================] - 0s 117us/step - loss: 0.4564 - accuracy: 0.8098 - categorical_accuracy: 0.8098 - val_loss: 0.5805 - val_accuracy: 0.7243 - val_categorical_accuracy: 0.7243\n",
      "Epoch 63/100\n",
      "736/736 [==============================] - 0s 111us/step - loss: 0.4534 - accuracy: 0.8071 - categorical_accuracy: 0.8071 - val_loss: 0.6035 - val_accuracy: 0.7351 - val_categorical_accuracy: 0.7351\n",
      "Epoch 64/100\n",
      "736/736 [==============================] - 0s 101us/step - loss: 0.4548 - accuracy: 0.7976 - categorical_accuracy: 0.7976 - val_loss: 0.6117 - val_accuracy: 0.7459 - val_categorical_accuracy: 0.7459\n",
      "Epoch 65/100\n",
      "736/736 [==============================] - 0s 99us/step - loss: 0.4491 - accuracy: 0.7989 - categorical_accuracy: 0.7989 - val_loss: 0.5960 - val_accuracy: 0.7351 - val_categorical_accuracy: 0.7351\n",
      "Epoch 66/100\n",
      "736/736 [==============================] - 0s 114us/step - loss: 0.4489 - accuracy: 0.8071 - categorical_accuracy: 0.8071 - val_loss: 0.6073 - val_accuracy: 0.7459 - val_categorical_accuracy: 0.7459\n",
      "Epoch 67/100\n",
      "736/736 [==============================] - 0s 114us/step - loss: 0.4453 - accuracy: 0.8098 - categorical_accuracy: 0.8098 - val_loss: 0.5918 - val_accuracy: 0.7405 - val_categorical_accuracy: 0.7405\n",
      "Epoch 68/100\n",
      "736/736 [==============================] - 0s 114us/step - loss: 0.4524 - accuracy: 0.8125 - categorical_accuracy: 0.8125 - val_loss: 0.6000 - val_accuracy: 0.7405 - val_categorical_accuracy: 0.7405\n",
      "Epoch 69/100\n",
      "736/736 [==============================] - 0s 101us/step - loss: 0.4462 - accuracy: 0.8016 - categorical_accuracy: 0.8016 - val_loss: 0.6009 - val_accuracy: 0.7405 - val_categorical_accuracy: 0.7405\n",
      "Epoch 70/100\n",
      "736/736 [==============================] - 0s 100us/step - loss: 0.4444 - accuracy: 0.8166 - categorical_accuracy: 0.8166 - val_loss: 0.5996 - val_accuracy: 0.7297 - val_categorical_accuracy: 0.7297\n",
      "Epoch 71/100\n",
      "736/736 [==============================] - 0s 98us/step - loss: 0.4439 - accuracy: 0.8071 - categorical_accuracy: 0.8071 - val_loss: 0.6083 - val_accuracy: 0.7297 - val_categorical_accuracy: 0.7297\n",
      "Epoch 72/100\n",
      "736/736 [==============================] - 0s 103us/step - loss: 0.4421 - accuracy: 0.8139 - categorical_accuracy: 0.8139 - val_loss: 0.6119 - val_accuracy: 0.7243 - val_categorical_accuracy: 0.7243\n",
      "Epoch 73/100\n",
      "736/736 [==============================] - 0s 119us/step - loss: 0.4412 - accuracy: 0.8139 - categorical_accuracy: 0.8139 - val_loss: 0.6108 - val_accuracy: 0.7297 - val_categorical_accuracy: 0.7297\n",
      "Epoch 74/100\n",
      "736/736 [==============================] - 0s 115us/step - loss: 0.4379 - accuracy: 0.8179 - categorical_accuracy: 0.8179 - val_loss: 0.6020 - val_accuracy: 0.7351 - val_categorical_accuracy: 0.7351\n",
      "Epoch 75/100\n",
      "736/736 [==============================] - 0s 102us/step - loss: 0.4397 - accuracy: 0.8071 - categorical_accuracy: 0.8071 - val_loss: 0.6190 - val_accuracy: 0.7351 - val_categorical_accuracy: 0.7351\n",
      "Epoch 76/100\n",
      "736/736 [==============================] - 0s 99us/step - loss: 0.4367 - accuracy: 0.8125 - categorical_accuracy: 0.8125 - val_loss: 0.6482 - val_accuracy: 0.7243 - val_categorical_accuracy: 0.7243\n",
      "Epoch 77/100\n"
     ]
    },
    {
     "name": "stdout",
     "output_type": "stream",
     "text": [
      "736/736 [==============================] - 0s 102us/step - loss: 0.4458 - accuracy: 0.8071 - categorical_accuracy: 0.8071 - val_loss: 0.6299 - val_accuracy: 0.7297 - val_categorical_accuracy: 0.7297\n",
      "Epoch 78/100\n",
      "736/736 [==============================] - 0s 119us/step - loss: 0.4330 - accuracy: 0.8234 - categorical_accuracy: 0.8234 - val_loss: 0.6056 - val_accuracy: 0.7405 - val_categorical_accuracy: 0.7405\n",
      "Epoch 79/100\n",
      "736/736 [==============================] - 0s 117us/step - loss: 0.4335 - accuracy: 0.8207 - categorical_accuracy: 0.8207 - val_loss: 0.6181 - val_accuracy: 0.7405 - val_categorical_accuracy: 0.7405\n",
      "Epoch 80/100\n",
      "736/736 [==============================] - 0s 118us/step - loss: 0.4336 - accuracy: 0.8179 - categorical_accuracy: 0.8179 - val_loss: 0.6142 - val_accuracy: 0.7514 - val_categorical_accuracy: 0.7514\n",
      "Epoch 81/100\n",
      "736/736 [==============================] - 0s 116us/step - loss: 0.4312 - accuracy: 0.8234 - categorical_accuracy: 0.8234 - val_loss: 0.6239 - val_accuracy: 0.7405 - val_categorical_accuracy: 0.7405\n",
      "Epoch 82/100\n",
      "736/736 [==============================] - 0s 111us/step - loss: 0.4294 - accuracy: 0.8247 - categorical_accuracy: 0.8247 - val_loss: 0.6117 - val_accuracy: 0.7459 - val_categorical_accuracy: 0.7459\n",
      "Epoch 83/100\n",
      "736/736 [==============================] - 0s 110us/step - loss: 0.4272 - accuracy: 0.8207 - categorical_accuracy: 0.8207 - val_loss: 0.6229 - val_accuracy: 0.7351 - val_categorical_accuracy: 0.7351\n",
      "Epoch 84/100\n",
      "736/736 [==============================] - 0s 116us/step - loss: 0.4272 - accuracy: 0.8179 - categorical_accuracy: 0.8179 - val_loss: 0.6101 - val_accuracy: 0.7405 - val_categorical_accuracy: 0.7405\n",
      "Epoch 85/100\n",
      "736/736 [==============================] - 0s 117us/step - loss: 0.4247 - accuracy: 0.8193 - categorical_accuracy: 0.8193 - val_loss: 0.6150 - val_accuracy: 0.7405 - val_categorical_accuracy: 0.7405\n",
      "Epoch 86/100\n",
      "736/736 [==============================] - 0s 116us/step - loss: 0.4244 - accuracy: 0.8152 - categorical_accuracy: 0.8152 - val_loss: 0.6268 - val_accuracy: 0.7297 - val_categorical_accuracy: 0.7297\n",
      "Epoch 87/100\n",
      "736/736 [==============================] - 0s 101us/step - loss: 0.4250 - accuracy: 0.8166 - categorical_accuracy: 0.8166 - val_loss: 0.6231 - val_accuracy: 0.7514 - val_categorical_accuracy: 0.7514\n",
      "Epoch 88/100\n",
      "736/736 [==============================] - 0s 116us/step - loss: 0.4201 - accuracy: 0.8288 - categorical_accuracy: 0.8288 - val_loss: 0.6248 - val_accuracy: 0.7459 - val_categorical_accuracy: 0.7459\n",
      "Epoch 89/100\n",
      "736/736 [==============================] - 0s 116us/step - loss: 0.4194 - accuracy: 0.8261 - categorical_accuracy: 0.8261 - val_loss: 0.6086 - val_accuracy: 0.7351 - val_categorical_accuracy: 0.7351\n",
      "Epoch 90/100\n",
      "736/736 [==============================] - 0s 112us/step - loss: 0.4210 - accuracy: 0.8152 - categorical_accuracy: 0.8152 - val_loss: 0.6306 - val_accuracy: 0.7459 - val_categorical_accuracy: 0.7459\n",
      "Epoch 91/100\n",
      "736/736 [==============================] - 0s 100us/step - loss: 0.4180 - accuracy: 0.8274 - categorical_accuracy: 0.8274 - val_loss: 0.6210 - val_accuracy: 0.7459 - val_categorical_accuracy: 0.7459\n",
      "Epoch 92/100\n",
      "736/736 [==============================] - 0s 101us/step - loss: 0.4172 - accuracy: 0.8207 - categorical_accuracy: 0.8207 - val_loss: 0.6353 - val_accuracy: 0.7405 - val_categorical_accuracy: 0.7405\n",
      "Epoch 93/100\n",
      "736/736 [==============================] - 0s 98us/step - loss: 0.4151 - accuracy: 0.8247 - categorical_accuracy: 0.8247 - val_loss: 0.6325 - val_accuracy: 0.7514 - val_categorical_accuracy: 0.7514\n",
      "Epoch 94/100\n",
      "736/736 [==============================] - 0s 96us/step - loss: 0.4138 - accuracy: 0.8207 - categorical_accuracy: 0.8207 - val_loss: 0.6266 - val_accuracy: 0.7351 - val_categorical_accuracy: 0.7351\n",
      "Epoch 95/100\n",
      "736/736 [==============================] - 0s 99us/step - loss: 0.4133 - accuracy: 0.8220 - categorical_accuracy: 0.8220 - val_loss: 0.6415 - val_accuracy: 0.7405 - val_categorical_accuracy: 0.7405\n",
      "Epoch 96/100\n",
      "736/736 [==============================] - 0s 116us/step - loss: 0.4121 - accuracy: 0.8288 - categorical_accuracy: 0.8288 - val_loss: 0.6335 - val_accuracy: 0.7405 - val_categorical_accuracy: 0.7405\n",
      "Epoch 97/100\n",
      "736/736 [==============================] - 0s 115us/step - loss: 0.4121 - accuracy: 0.8288 - categorical_accuracy: 0.8288 - val_loss: 0.6383 - val_accuracy: 0.7459 - val_categorical_accuracy: 0.7459\n",
      "Epoch 98/100\n",
      "736/736 [==============================] - 0s 109us/step - loss: 0.4124 - accuracy: 0.8220 - categorical_accuracy: 0.8220 - val_loss: 0.6409 - val_accuracy: 0.7405 - val_categorical_accuracy: 0.7405\n",
      "Epoch 99/100\n",
      "736/736 [==============================] - 0s 103us/step - loss: 0.4104 - accuracy: 0.8234 - categorical_accuracy: 0.8234 - val_loss: 0.6335 - val_accuracy: 0.7405 - val_categorical_accuracy: 0.7405\n",
      "Epoch 100/100\n",
      "736/736 [==============================] - 0s 100us/step - loss: 0.4091 - accuracy: 0.8288 - categorical_accuracy: 0.8288 - val_loss: 0.6377 - val_accuracy: 0.7405 - val_categorical_accuracy: 0.7405\n"
     ]
    }
   ],
   "source": [
    "# Initializing the ANN\n",
    "ann = Sequential()\n",
    "\n",
    "# Adding the input & hidden layer\n",
    "ann.add(Dense(16, activation = 'relu', input_shape = (12,)))\n",
    "ann.add(Dense(16, activation = 'relu'))\n",
    "ann.add(Dense(3, activation = 'softmax'))\n",
    "ann.compile(loss='categorical_crossentropy', optimizer='adam', metrics=['accuracy', 'categorical_accuracy'])\n",
    "\n",
    "callbacks = [EarlyStopping(monitor = 'val_loss', patience = 2),\n",
    "            ModelCheckpoint(filepath = 'best_model.h5', monitor = 'val_loss', save_best_only = True)]\n",
    "\n",
    "history = ann.fit(X_train, y_binary, batch_size = 10, epochs = 100, validation_data = (X_test, y_compare))"
   ]
  },
  {
   "cell_type": "code",
   "execution_count": 96,
   "metadata": {},
   "outputs": [],
   "source": [
    "# Create threshold for multi-predictor\n",
    "y_pred = ann.predict(X_test)\n",
    "y_pred = (y_pred > 0.5)"
   ]
  },
  {
   "cell_type": "code",
   "execution_count": 97,
   "metadata": {},
   "outputs": [
    {
     "data": {
      "text/plain": [
       "array([[73,  2,  4],\n",
       "       [ 5, 45, 10],\n",
       "       [ 7, 20, 19]], dtype=int64)"
      ]
     },
     "execution_count": 97,
     "metadata": {},
     "output_type": "execute_result"
    }
   ],
   "source": [
    "# Making the confusion matrix\n",
    "from sklearn.metrics import confusion_matrix\n",
    "from sklearn.metrics import multilabel_confusion_matrix\n",
    "\n",
    "cm = confusion_matrix(y_compare.argmax(axis=1), y_pred.argmax(axis=1))\n",
    "\n",
    "cm"
   ]
  },
  {
   "cell_type": "code",
   "execution_count": 98,
   "metadata": {},
   "outputs": [
    {
     "name": "stdout",
     "output_type": "stream",
     "text": [
      "              precision    recall  f1-score   support\n",
      "\n",
      "           0       0.86      0.90      0.88        40\n",
      "           1       0.80      0.62      0.70        32\n",
      "           2       0.46      0.57      0.51        21\n",
      "\n",
      "    accuracy                           0.73        93\n",
      "   macro avg       0.71      0.70      0.70        93\n",
      "weighted avg       0.75      0.73      0.73        93\n",
      "\n",
      "              precision    recall  f1-score   support\n",
      "\n",
      "           0       1.00      0.67      0.80        39\n",
      "           1       0.87      0.39      0.54        33\n",
      "           2       0.35      0.90      0.51        20\n",
      "\n",
      "    accuracy                           0.62        92\n",
      "   macro avg       0.74      0.65      0.62        92\n",
      "weighted avg       0.81      0.62      0.64        92\n",
      "\n",
      "              precision    recall  f1-score   support\n",
      "\n",
      "           0       0.89      0.79      0.84        39\n",
      "           1       0.67      0.36      0.47        33\n",
      "           2       0.33      0.65      0.44        20\n",
      "\n",
      "    accuracy                           0.61        92\n",
      "   macro avg       0.63      0.60      0.58        92\n",
      "weighted avg       0.69      0.61      0.62        92\n",
      "\n",
      "              precision    recall  f1-score   support\n",
      "\n",
      "           0       0.86      0.79      0.83        39\n",
      "           1       0.68      0.82      0.74        33\n",
      "           2       0.44      0.35      0.39        20\n",
      "\n",
      "    accuracy                           0.71        92\n",
      "   macro avg       0.66      0.65      0.65        92\n",
      "weighted avg       0.70      0.71      0.70        92\n",
      "\n",
      "              precision    recall  f1-score   support\n",
      "\n",
      "           0       0.89      0.79      0.84        39\n",
      "           1       0.76      0.59      0.67        32\n",
      "           2       0.44      0.67      0.53        21\n",
      "\n",
      "    accuracy                           0.70        92\n",
      "   macro avg       0.69      0.69      0.68        92\n",
      "weighted avg       0.74      0.70      0.71        92\n",
      "\n",
      "              precision    recall  f1-score   support\n",
      "\n",
      "           0       0.76      0.87      0.81        39\n",
      "           1       0.69      0.62      0.66        32\n",
      "           2       0.44      0.38      0.41        21\n",
      "\n",
      "    accuracy                           0.67        92\n",
      "   macro avg       0.63      0.63      0.63        92\n",
      "weighted avg       0.66      0.67      0.66        92\n",
      "\n",
      "              precision    recall  f1-score   support\n",
      "\n",
      "           0       0.81      0.87      0.84        39\n",
      "           1       0.58      0.81      0.68        32\n",
      "           2       0.20      0.05      0.08        21\n",
      "\n",
      "    accuracy                           0.66        92\n",
      "   macro avg       0.53      0.58      0.53        92\n",
      "weighted avg       0.59      0.66      0.61        92\n",
      "\n",
      "              precision    recall  f1-score   support\n",
      "\n",
      "           0       0.97      0.87      0.92        39\n",
      "           1       0.61      0.97      0.75        32\n",
      "           2       0.50      0.14      0.22        21\n",
      "\n",
      "    accuracy                           0.74        92\n",
      "   macro avg       0.69      0.66      0.63        92\n",
      "weighted avg       0.74      0.74      0.70        92\n",
      "\n",
      "              precision    recall  f1-score   support\n",
      "\n",
      "           0       0.82      0.85      0.84        39\n",
      "           1       0.70      0.72      0.71        32\n",
      "           2       0.42      0.38      0.40        21\n",
      "\n",
      "    accuracy                           0.70        92\n",
      "   macro avg       0.65      0.65      0.65        92\n",
      "weighted avg       0.69      0.70      0.69        92\n",
      "\n",
      "              precision    recall  f1-score   support\n",
      "\n",
      "           0       0.88      0.77      0.82        39\n",
      "           1       0.59      0.72      0.65        32\n",
      "           2       0.47      0.43      0.45        21\n",
      "\n",
      "    accuracy                           0.67        92\n",
      "   macro avg       0.65      0.64      0.64        92\n",
      "weighted avg       0.69      0.67      0.68        92\n",
      "\n"
     ]
    }
   ],
   "source": [
    "# Calculating the accuracy and other metrics\n",
    "#, scoring=make_scorer(classification_report_with_accuracy_score)\n",
    "\n",
    "from sklearn.model_selection import StratifiedKFold, cross_val_score\n",
    "from tensorflow.keras.wrappers.scikit_learn import KerasRegressor\n",
    "from sklearn.metrics import accuracy_score\n",
    "from sklearn.metrics import classification_report\n",
    "\n",
    "target_names = ['melanoma', 'bcc', 'scc']\n",
    "\n",
    "# Variables for average classification report\n",
    "originalclass = []\n",
    "predictedclass = []\n",
    "\n",
    "#Build the Model\n",
    "def buildmodel():\n",
    "    ann = Sequential()\n",
    "    ann.add(Dense(16, activation = 'relu', input_shape = (12,)))\n",
    "    ann.add(Dense(16, activation = 'relu'))\n",
    "    ann.add(Dense(3, activation = 'softmax'))\n",
    "    ann.compile(loss='categorical_crossentropy', optimizer='adam', metrics=['accuracy', 'categorical_accuracy'])\n",
    "    return(ann)\n",
    "\n",
    "\n",
    "#Make our customer score\n",
    "def classification_report_with_accuracy_score(y_use, y_pred):\n",
    "    originalclass.extend(y_use)\n",
    "    predictedclass.extend(y_pred.argmax(axis=1))\n",
    "    print(classification_report(y_use, y_pred.argmax(axis=1)))\n",
    "    return accuracy_score(y_use, y_pred.argmax(axis=1)) # return accuracy score\n",
    "\n",
    "outer_cv = StratifiedKFold(n_splits=10, shuffle=True, random_state=0)\n",
    "\n",
    "# Nested CV with parameter optimization\n",
    "ann = KerasRegressor(build_fn=buildmodel, epochs = 100, batch_size = 10, verbose = 0)\n",
    "nested_score = cross_val_score(estimator = ann, X = X, y = y_use.argmax(1), cv=outer_cv, scoring=make_scorer(classification_report_with_accuracy_score))"
   ]
  },
  {
   "cell_type": "code",
   "execution_count": 99,
   "metadata": {},
   "outputs": [
    {
     "name": "stdout",
     "output_type": "stream",
     "text": [
      "              precision    recall  f1-score   support\n",
      "\n",
      "    melanoma       0.86      0.82      0.84       391\n",
      "         bcc       0.67      0.66      0.67       323\n",
      "         scc       0.40      0.45      0.42       207\n",
      "\n",
      "    accuracy                           0.68       921\n",
      "   macro avg       0.65      0.64      0.64       921\n",
      "weighted avg       0.69      0.68      0.69       921\n",
      "\n"
     ]
    }
   ],
   "source": [
    "# Average values in classification report for all folds in a K-fold Cross-validation  \n",
    "print(classification_report(originalclass, predictedclass, target_names=target_names))"
   ]
  },
  {
   "cell_type": "markdown",
   "metadata": {},
   "source": [
    "# XGBoost"
   ]
  },
  {
   "cell_type": "code",
   "execution_count": 48,
   "metadata": {},
   "outputs": [
    {
     "data": {
      "text/plain": [
       "XGBClassifier(base_score=0.5, booster='dart', colsample_bylevel=1,\n",
       "              colsample_bynode=1, colsample_bytree=1, gamma=0,\n",
       "              learning_rate=0.1, max_delta_step=0, max_depth=3,\n",
       "              min_child_weight=1, missing=None, n_estimators=200, n_jobs=1,\n",
       "              normalize_type='forest', nthread=None, objective='multi:softprob',\n",
       "              random_state=0, rate_drop=0.2, reg_alpha=0, reg_lambda=1,\n",
       "              sample_type='uniform', scale_pos_weight=1, seed=None, silent=None,\n",
       "              skip_drop=0, subsample=1, verbosity=1)"
      ]
     },
     "execution_count": 48,
     "metadata": {},
     "output_type": "execute_result"
    }
   ],
   "source": [
    "# Importing the XGB Library and fit it to the data\n",
    "from xgboost import XGBClassifier\n",
    "xgb = XGBClassifier(objective = 'multi:softmax', booster = 'dart', n_estimators = 200, normalize_type = 'forest', rate_drop = 0.2, sample_type = 'uniform', skip_drop = 0)\n",
    "xgb.fit(X_train, y_train)"
   ]
  },
  {
   "cell_type": "code",
   "execution_count": 49,
   "metadata": {},
   "outputs": [
    {
     "data": {
      "text/plain": [
       "array([[74,  3,  2],\n",
       "       [ 6, 49,  5],\n",
       "       [ 9, 28,  9]], dtype=int64)"
      ]
     },
     "execution_count": 49,
     "metadata": {},
     "output_type": "execute_result"
    }
   ],
   "source": [
    "# Predicting the test set result\n",
    "y_pred = xgb.predict(X_test)\n",
    "\n",
    "# Making the confusion matrix\n",
    "from sklearn.metrics import confusion_matrix\n",
    "from sklearn.metrics import multilabel_confusion_matrix\n",
    "\n",
    "cm = confusion_matrix(y_test, y_pred)\n",
    "cm2 = multilabel_confusion_matrix(y_test, y_pred)\n",
    "\n",
    "cm"
   ]
  },
  {
   "cell_type": "code",
   "execution_count": 50,
   "metadata": {},
   "outputs": [
    {
     "name": "stdout",
     "output_type": "stream",
     "text": [
      "0.6806738245094409\n"
     ]
    }
   ],
   "source": [
    "# Applying K-Fold Cross Validation\n",
    "\n",
    "from sklearn.model_selection import cross_val_score\n",
    "accuracies = cross_val_score(estimator = xgb, X = X_train, y = y_train, cv = 10, n_jobs = -1)\n",
    "print(np.mean(accuracies))"
   ]
  },
  {
   "cell_type": "code",
   "execution_count": 12,
   "metadata": {},
   "outputs": [
    {
     "name": "stdout",
     "output_type": "stream",
     "text": [
      "0.7\n",
      "{'booster': 'dart', 'n_estimators': 100, 'normalize_type': 'forest', 'objective': 'multi:softmax', 'rate_drop': 0.2, 'sample_type': 'uniform', 'skip_drop': 0}\n"
     ]
    }
   ],
   "source": [
    "# Applying Grid Search to Find the Best Hyperparameter\n",
    "# {'objective': ['multi:softmax'], 'n_estimators': [25, 50, 100], 'booster': ['gbtree'], 'eta': [0.001, 0.002, 0.004], 'max_depth':[3], 'gamma': [0], 'subsample': [1], 'sampling_method': ['uniform', 'gradient_based']},\n",
    "# {'objective': ['multi:softmax'], 'n_estimators': [109], 'booster': ['dart'], 'sample_type': ['uniform', 'weighted'], 'normalize_type': ['tree', 'forest'], 'rate_drop': [0, 0.1, 0.2], 'skip_drop': [0, 0.1, 0.2]}\n",
    "# {'objective': ['multi:softmax'], 'n_estimators': [10, 25, 50], 'booster': ['gblinear'], 'feature_selector': ['greedy', 'cyclic', 'random', 'shuffle', 'thrifty'], 'updater': ['shotgun', 'coord_descent'], 'lambda': [0, 0.5, 1], 'alpha': [0, 0.5, 1]}\n",
    "\n",
    "from sklearn.model_selection import GridSearchCV\n",
    "parameters = [\n",
    "    {'objective': ['multi:softmax'], 'n_estimators': [25, 50, 100], 'booster': ['gbtree'], 'eta': [0.001, 0.002, 0.004], 'max_depth':[3], 'gamma': [0], 'subsample': [1], 'sampling_method': ['uniform', 'gradient_based']},\n",
    "    {'objective': ['multi:softmax'], 'n_estimators': [25, 50, 100], 'booster': ['dart'], 'sample_type': ['uniform', 'weighted'], 'normalize_type': ['tree', 'forest'], 'rate_drop': [0, 0.1, 0.2], 'skip_drop': [0, 0.1, 0.2]}\n",
    "]\n",
    "\n",
    "grid_search = GridSearchCV(estimator = xgb, param_grid = parameters, scoring = 'accuracy', cv = 5, n_jobs = -1)\n",
    "grid_search = grid_search.fit(X_train, y_train)\n",
    "\n",
    "best_accuracy = grid_search.best_score_\n",
    "best_parameters = grid_search.best_params_\n",
    "\n",
    "print(round(best_accuracy, 2))\n",
    "print(best_parameters)"
   ]
  },
  {
   "cell_type": "code",
   "execution_count": 51,
   "metadata": {},
   "outputs": [
    {
     "name": "stdout",
     "output_type": "stream",
     "text": [
      "              precision    recall  f1-score   support\n",
      "\n",
      "           1       0.80      0.88      0.83        40\n",
      "           2       0.62      0.62      0.62        32\n",
      "           3       0.35      0.29      0.32        21\n",
      "\n",
      "    accuracy                           0.66        93\n",
      "   macro avg       0.59      0.60      0.59        93\n",
      "weighted avg       0.64      0.66      0.64        93\n",
      "\n",
      "              precision    recall  f1-score   support\n",
      "\n",
      "           1       0.89      0.82      0.85        39\n",
      "           2       0.69      0.88      0.77        33\n",
      "           3       0.43      0.30      0.35        20\n",
      "\n",
      "    accuracy                           0.73        92\n",
      "   macro avg       0.67      0.67      0.66        92\n",
      "weighted avg       0.72      0.73      0.72        92\n",
      "\n",
      "              precision    recall  f1-score   support\n",
      "\n",
      "           1       0.82      0.79      0.81        39\n",
      "           2       0.62      0.70      0.66        33\n",
      "           3       0.41      0.35      0.38        20\n",
      "\n",
      "    accuracy                           0.66        92\n",
      "   macro avg       0.62      0.61      0.61        92\n",
      "weighted avg       0.66      0.66      0.66        92\n",
      "\n",
      "              precision    recall  f1-score   support\n",
      "\n",
      "           1       0.75      0.85      0.80        39\n",
      "           2       0.72      0.64      0.68        33\n",
      "           3       0.42      0.40      0.41        20\n",
      "\n",
      "    accuracy                           0.67        92\n",
      "   macro avg       0.63      0.63      0.63        92\n",
      "weighted avg       0.67      0.67      0.67        92\n",
      "\n",
      "              precision    recall  f1-score   support\n",
      "\n",
      "           1       0.88      0.95      0.91        39\n",
      "           2       0.66      0.84      0.74        32\n",
      "           3       0.56      0.24      0.33        21\n",
      "\n",
      "    accuracy                           0.75        92\n",
      "   macro avg       0.70      0.68      0.66        92\n",
      "weighted avg       0.73      0.75      0.72        92\n",
      "\n",
      "              precision    recall  f1-score   support\n",
      "\n",
      "           1       0.79      0.87      0.83        39\n",
      "           2       0.67      0.75      0.71        32\n",
      "           3       0.46      0.29      0.35        21\n",
      "\n",
      "    accuracy                           0.70        92\n",
      "   macro avg       0.64      0.64      0.63        92\n",
      "weighted avg       0.67      0.70      0.68        92\n",
      "\n",
      "              precision    recall  f1-score   support\n",
      "\n",
      "           1       0.83      0.90      0.86        39\n",
      "           2       0.58      0.69      0.63        32\n",
      "           3       0.50      0.29      0.36        21\n",
      "\n",
      "    accuracy                           0.68        92\n",
      "   macro avg       0.64      0.62      0.62        92\n",
      "weighted avg       0.67      0.68      0.67        92\n",
      "\n",
      "              precision    recall  f1-score   support\n",
      "\n",
      "           1       0.95      0.92      0.94        39\n",
      "           2       0.70      0.81      0.75        32\n",
      "           3       0.59      0.48      0.53        21\n",
      "\n",
      "    accuracy                           0.78        92\n",
      "   macro avg       0.75      0.74      0.74        92\n",
      "weighted avg       0.78      0.78      0.78        92\n",
      "\n",
      "              precision    recall  f1-score   support\n",
      "\n",
      "           1       0.84      0.92      0.88        39\n",
      "           2       0.66      0.78      0.71        32\n",
      "           3       0.45      0.24      0.31        21\n",
      "\n",
      "    accuracy                           0.72        92\n",
      "   macro avg       0.65      0.65      0.63        92\n",
      "weighted avg       0.69      0.72      0.69        92\n",
      "\n",
      "              precision    recall  f1-score   support\n",
      "\n",
      "           1       0.83      0.90      0.86        39\n",
      "           2       0.61      0.69      0.65        32\n",
      "           3       0.43      0.29      0.34        21\n",
      "\n",
      "    accuracy                           0.68        92\n",
      "   macro avg       0.62      0.62      0.62        92\n",
      "weighted avg       0.66      0.68      0.67        92\n",
      "\n"
     ]
    }
   ],
   "source": [
    "# Calculating the accuracy and other metrics\n",
    "\n",
    "from sklearn.metrics import f1_score, accuracy_score, precision_score, recall_score, make_scorer\n",
    "from sklearn.metrics import accuracy_score\n",
    "from sklearn.metrics import classification_report\n",
    "from sklearn.model_selection import cross_val_score\n",
    "from sklearn.model_selection import StratifiedKFold, KFold\n",
    "\n",
    "target_names = ['melanoma', 'bcc', 'scc']\n",
    "\n",
    "# Variables for average classification report\n",
    "originalclass = []\n",
    "predictedclass = []\n",
    "\n",
    "#Make our customer score\n",
    "def classification_report_with_accuracy_score(y_test, y_pred):\n",
    "    originalclass.extend(y_test)\n",
    "    predictedclass.extend(y_pred)\n",
    "    print(classification_report(y_test, y_pred))\n",
    "    return accuracy_score(y_test, y_pred) # return accuracy score\n",
    "\n",
    "outer_cv = StratifiedKFold(n_splits=10, shuffle=True, random_state=0)\n",
    "\n",
    "# Nested CV with parameter optimization\n",
    "nested_score = cross_val_score(estimator = xgb, X = X, y = Y, cv=outer_cv, scoring=make_scorer(classification_report_with_accuracy_score))"
   ]
  },
  {
   "cell_type": "code",
   "execution_count": 52,
   "metadata": {},
   "outputs": [
    {
     "name": "stdout",
     "output_type": "stream",
     "text": [
      "              precision    recall  f1-score   support\n",
      "\n",
      "    melanoma       0.83      0.88      0.86       391\n",
      "         bcc       0.65      0.74      0.69       323\n",
      "         scc       0.45      0.31      0.37       207\n",
      "\n",
      "    accuracy                           0.70       921\n",
      "   macro avg       0.65      0.64      0.64       921\n",
      "weighted avg       0.69      0.70      0.69       921\n",
      "\n"
     ]
    }
   ],
   "source": [
    "# Average values in classification report for all folds in a K-fold Cross-validation  \n",
    "print(classification_report(originalclass, predictedclass, target_names=target_names))"
   ]
  },
  {
   "cell_type": "code",
   "execution_count": null,
   "metadata": {},
   "outputs": [],
   "source": []
  }
 ],
 "metadata": {
  "kernelspec": {
   "display_name": "Python 3",
   "language": "python",
   "name": "python3"
  },
  "language_info": {
   "codemirror_mode": {
    "name": "ipython",
    "version": 3
   },
   "file_extension": ".py",
   "mimetype": "text/x-python",
   "name": "python",
   "nbconvert_exporter": "python",
   "pygments_lexer": "ipython3",
   "version": "3.7.6"
  }
 },
 "nbformat": 4,
 "nbformat_minor": 4
}
