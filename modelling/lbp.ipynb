{
 "cells": [
  {
   "cell_type": "code",
   "execution_count": 1,
   "metadata": {},
   "outputs": [],
   "source": [
    "import numpy as np\n",
    "import pandas as pd\n",
    "import matplotlib.pyplot as plt"
   ]
  },
  {
   "cell_type": "code",
   "execution_count": 2,
   "metadata": {},
   "outputs": [],
   "source": [
    "glcm = pd.read_csv('C:/Users/ravee/Jupyter/Skin-Cancer-Classification/data/glcm3.csv', header=None)\n",
    "dataset = pd.read_csv('C:/Users/ravee/Jupyter/Skin-Cancer-Classification/data/lbp3.csv', header=None)\n",
    "X = dataset.iloc[:, 0:26].values\n",
    "Y = glcm.iloc[:, 24]"
   ]
  },
  {
   "cell_type": "code",
   "execution_count": 7,
   "metadata": {},
   "outputs": [
    {
     "data": {
      "text/html": [
       "<div>\n",
       "<style scoped>\n",
       "    .dataframe tbody tr th:only-of-type {\n",
       "        vertical-align: middle;\n",
       "    }\n",
       "\n",
       "    .dataframe tbody tr th {\n",
       "        vertical-align: top;\n",
       "    }\n",
       "\n",
       "    .dataframe thead th {\n",
       "        text-align: right;\n",
       "    }\n",
       "</style>\n",
       "<table border=\"1\" class=\"dataframe\">\n",
       "  <thead>\n",
       "    <tr style=\"text-align: right;\">\n",
       "      <th></th>\n",
       "      <th>0</th>\n",
       "      <th>1</th>\n",
       "      <th>2</th>\n",
       "      <th>3</th>\n",
       "      <th>4</th>\n",
       "      <th>5</th>\n",
       "      <th>6</th>\n",
       "      <th>7</th>\n",
       "      <th>8</th>\n",
       "      <th>9</th>\n",
       "      <th>...</th>\n",
       "      <th>16</th>\n",
       "      <th>17</th>\n",
       "      <th>18</th>\n",
       "      <th>19</th>\n",
       "      <th>20</th>\n",
       "      <th>21</th>\n",
       "      <th>22</th>\n",
       "      <th>23</th>\n",
       "      <th>24</th>\n",
       "      <th>25</th>\n",
       "    </tr>\n",
       "  </thead>\n",
       "  <tbody>\n",
       "    <tr>\n",
       "      <th>0</th>\n",
       "      <td>0.030808</td>\n",
       "      <td>0.019099</td>\n",
       "      <td>0.013823</td>\n",
       "      <td>0.011827</td>\n",
       "      <td>0.010529</td>\n",
       "      <td>0.011138</td>\n",
       "      <td>0.012228</td>\n",
       "      <td>0.014280</td>\n",
       "      <td>0.016723</td>\n",
       "      <td>0.019695</td>\n",
       "      <td>...</td>\n",
       "      <td>0.018348</td>\n",
       "      <td>0.017408</td>\n",
       "      <td>0.014322</td>\n",
       "      <td>0.013982</td>\n",
       "      <td>0.013331</td>\n",
       "      <td>0.014589</td>\n",
       "      <td>0.015651</td>\n",
       "      <td>0.022104</td>\n",
       "      <td>0.041264</td>\n",
       "      <td>0.516535</td>\n",
       "    </tr>\n",
       "    <tr>\n",
       "      <th>1</th>\n",
       "      <td>0.029248</td>\n",
       "      <td>0.019715</td>\n",
       "      <td>0.014994</td>\n",
       "      <td>0.013373</td>\n",
       "      <td>0.012366</td>\n",
       "      <td>0.012280</td>\n",
       "      <td>0.012945</td>\n",
       "      <td>0.014269</td>\n",
       "      <td>0.015634</td>\n",
       "      <td>0.018135</td>\n",
       "      <td>...</td>\n",
       "      <td>0.017993</td>\n",
       "      <td>0.020133</td>\n",
       "      <td>0.017263</td>\n",
       "      <td>0.017905</td>\n",
       "      <td>0.016205</td>\n",
       "      <td>0.017324</td>\n",
       "      <td>0.017892</td>\n",
       "      <td>0.023935</td>\n",
       "      <td>0.062868</td>\n",
       "      <td>0.502213</td>\n",
       "    </tr>\n",
       "    <tr>\n",
       "      <th>2</th>\n",
       "      <td>0.034074</td>\n",
       "      <td>0.017582</td>\n",
       "      <td>0.014113</td>\n",
       "      <td>0.014219</td>\n",
       "      <td>0.014182</td>\n",
       "      <td>0.015214</td>\n",
       "      <td>0.015776</td>\n",
       "      <td>0.017611</td>\n",
       "      <td>0.019413</td>\n",
       "      <td>0.022177</td>\n",
       "      <td>...</td>\n",
       "      <td>0.018157</td>\n",
       "      <td>0.019425</td>\n",
       "      <td>0.017147</td>\n",
       "      <td>0.018553</td>\n",
       "      <td>0.017691</td>\n",
       "      <td>0.019047</td>\n",
       "      <td>0.018875</td>\n",
       "      <td>0.023718</td>\n",
       "      <td>0.082712</td>\n",
       "      <td>0.435559</td>\n",
       "    </tr>\n",
       "    <tr>\n",
       "      <th>3</th>\n",
       "      <td>0.023866</td>\n",
       "      <td>0.018949</td>\n",
       "      <td>0.011244</td>\n",
       "      <td>0.010848</td>\n",
       "      <td>0.011178</td>\n",
       "      <td>0.011516</td>\n",
       "      <td>0.011995</td>\n",
       "      <td>0.014395</td>\n",
       "      <td>0.018025</td>\n",
       "      <td>0.022067</td>\n",
       "      <td>...</td>\n",
       "      <td>0.017662</td>\n",
       "      <td>0.016705</td>\n",
       "      <td>0.013537</td>\n",
       "      <td>0.013100</td>\n",
       "      <td>0.011285</td>\n",
       "      <td>0.012704</td>\n",
       "      <td>0.013653</td>\n",
       "      <td>0.019576</td>\n",
       "      <td>0.033749</td>\n",
       "      <td>0.536751</td>\n",
       "    </tr>\n",
       "    <tr>\n",
       "      <th>4</th>\n",
       "      <td>0.034911</td>\n",
       "      <td>0.023154</td>\n",
       "      <td>0.016036</td>\n",
       "      <td>0.013282</td>\n",
       "      <td>0.011669</td>\n",
       "      <td>0.011984</td>\n",
       "      <td>0.012951</td>\n",
       "      <td>0.014048</td>\n",
       "      <td>0.015613</td>\n",
       "      <td>0.017477</td>\n",
       "      <td>...</td>\n",
       "      <td>0.014598</td>\n",
       "      <td>0.014105</td>\n",
       "      <td>0.013206</td>\n",
       "      <td>0.013611</td>\n",
       "      <td>0.013253</td>\n",
       "      <td>0.013327</td>\n",
       "      <td>0.014530</td>\n",
       "      <td>0.022006</td>\n",
       "      <td>0.028227</td>\n",
       "      <td>0.554763</td>\n",
       "    </tr>\n",
       "    <tr>\n",
       "      <th>...</th>\n",
       "      <td>...</td>\n",
       "      <td>...</td>\n",
       "      <td>...</td>\n",
       "      <td>...</td>\n",
       "      <td>...</td>\n",
       "      <td>...</td>\n",
       "      <td>...</td>\n",
       "      <td>...</td>\n",
       "      <td>...</td>\n",
       "      <td>...</td>\n",
       "      <td>...</td>\n",
       "      <td>...</td>\n",
       "      <td>...</td>\n",
       "      <td>...</td>\n",
       "      <td>...</td>\n",
       "      <td>...</td>\n",
       "      <td>...</td>\n",
       "      <td>...</td>\n",
       "      <td>...</td>\n",
       "      <td>...</td>\n",
       "      <td>...</td>\n",
       "    </tr>\n",
       "    <tr>\n",
       "      <th>916</th>\n",
       "      <td>0.021104</td>\n",
       "      <td>0.015597</td>\n",
       "      <td>0.011785</td>\n",
       "      <td>0.012469</td>\n",
       "      <td>0.011494</td>\n",
       "      <td>0.011516</td>\n",
       "      <td>0.012091</td>\n",
       "      <td>0.015764</td>\n",
       "      <td>0.017947</td>\n",
       "      <td>0.022915</td>\n",
       "      <td>...</td>\n",
       "      <td>0.019489</td>\n",
       "      <td>0.018943</td>\n",
       "      <td>0.013873</td>\n",
       "      <td>0.013182</td>\n",
       "      <td>0.010767</td>\n",
       "      <td>0.012367</td>\n",
       "      <td>0.013618</td>\n",
       "      <td>0.022479</td>\n",
       "      <td>0.027244</td>\n",
       "      <td>0.530481</td>\n",
       "    </tr>\n",
       "    <tr>\n",
       "      <th>917</th>\n",
       "      <td>0.021444</td>\n",
       "      <td>0.019643</td>\n",
       "      <td>0.013233</td>\n",
       "      <td>0.010781</td>\n",
       "      <td>0.010811</td>\n",
       "      <td>0.009452</td>\n",
       "      <td>0.011549</td>\n",
       "      <td>0.015419</td>\n",
       "      <td>0.020824</td>\n",
       "      <td>0.027618</td>\n",
       "      <td>...</td>\n",
       "      <td>0.027381</td>\n",
       "      <td>0.019968</td>\n",
       "      <td>0.014060</td>\n",
       "      <td>0.010338</td>\n",
       "      <td>0.008655</td>\n",
       "      <td>0.008093</td>\n",
       "      <td>0.007473</td>\n",
       "      <td>0.010634</td>\n",
       "      <td>0.010575</td>\n",
       "      <td>0.433141</td>\n",
       "    </tr>\n",
       "    <tr>\n",
       "      <th>918</th>\n",
       "      <td>0.030223</td>\n",
       "      <td>0.017591</td>\n",
       "      <td>0.013527</td>\n",
       "      <td>0.012337</td>\n",
       "      <td>0.012319</td>\n",
       "      <td>0.014698</td>\n",
       "      <td>0.016920</td>\n",
       "      <td>0.019529</td>\n",
       "      <td>0.022005</td>\n",
       "      <td>0.024734</td>\n",
       "      <td>...</td>\n",
       "      <td>0.019408</td>\n",
       "      <td>0.019801</td>\n",
       "      <td>0.015598</td>\n",
       "      <td>0.015133</td>\n",
       "      <td>0.013357</td>\n",
       "      <td>0.012711</td>\n",
       "      <td>0.012856</td>\n",
       "      <td>0.019481</td>\n",
       "      <td>0.025314</td>\n",
       "      <td>0.497313</td>\n",
       "    </tr>\n",
       "    <tr>\n",
       "      <th>919</th>\n",
       "      <td>0.027523</td>\n",
       "      <td>0.019667</td>\n",
       "      <td>0.014658</td>\n",
       "      <td>0.012971</td>\n",
       "      <td>0.011521</td>\n",
       "      <td>0.010809</td>\n",
       "      <td>0.012971</td>\n",
       "      <td>0.015818</td>\n",
       "      <td>0.018981</td>\n",
       "      <td>0.024597</td>\n",
       "      <td>...</td>\n",
       "      <td>0.021433</td>\n",
       "      <td>0.021143</td>\n",
       "      <td>0.011995</td>\n",
       "      <td>0.012153</td>\n",
       "      <td>0.009069</td>\n",
       "      <td>0.009069</td>\n",
       "      <td>0.010572</td>\n",
       "      <td>0.018349</td>\n",
       "      <td>0.022804</td>\n",
       "      <td>0.486924</td>\n",
       "    </tr>\n",
       "    <tr>\n",
       "      <th>920</th>\n",
       "      <td>0.032765</td>\n",
       "      <td>0.023599</td>\n",
       "      <td>0.014159</td>\n",
       "      <td>0.012176</td>\n",
       "      <td>0.011811</td>\n",
       "      <td>0.012199</td>\n",
       "      <td>0.012244</td>\n",
       "      <td>0.014148</td>\n",
       "      <td>0.015949</td>\n",
       "      <td>0.017580</td>\n",
       "      <td>...</td>\n",
       "      <td>0.019062</td>\n",
       "      <td>0.019107</td>\n",
       "      <td>0.016189</td>\n",
       "      <td>0.013612</td>\n",
       "      <td>0.012142</td>\n",
       "      <td>0.012039</td>\n",
       "      <td>0.012609</td>\n",
       "      <td>0.021866</td>\n",
       "      <td>0.028023</td>\n",
       "      <td>0.548777</td>\n",
       "    </tr>\n",
       "  </tbody>\n",
       "</table>\n",
       "<p>921 rows × 26 columns</p>\n",
       "</div>"
      ],
      "text/plain": [
       "           0         1         2         3         4         5         6   \\\n",
       "0    0.030808  0.019099  0.013823  0.011827  0.010529  0.011138  0.012228   \n",
       "1    0.029248  0.019715  0.014994  0.013373  0.012366  0.012280  0.012945   \n",
       "2    0.034074  0.017582  0.014113  0.014219  0.014182  0.015214  0.015776   \n",
       "3    0.023866  0.018949  0.011244  0.010848  0.011178  0.011516  0.011995   \n",
       "4    0.034911  0.023154  0.016036  0.013282  0.011669  0.011984  0.012951   \n",
       "..        ...       ...       ...       ...       ...       ...       ...   \n",
       "916  0.021104  0.015597  0.011785  0.012469  0.011494  0.011516  0.012091   \n",
       "917  0.021444  0.019643  0.013233  0.010781  0.010811  0.009452  0.011549   \n",
       "918  0.030223  0.017591  0.013527  0.012337  0.012319  0.014698  0.016920   \n",
       "919  0.027523  0.019667  0.014658  0.012971  0.011521  0.010809  0.012971   \n",
       "920  0.032765  0.023599  0.014159  0.012176  0.011811  0.012199  0.012244   \n",
       "\n",
       "           7         8         9   ...        16        17        18  \\\n",
       "0    0.014280  0.016723  0.019695  ...  0.018348  0.017408  0.014322   \n",
       "1    0.014269  0.015634  0.018135  ...  0.017993  0.020133  0.017263   \n",
       "2    0.017611  0.019413  0.022177  ...  0.018157  0.019425  0.017147   \n",
       "3    0.014395  0.018025  0.022067  ...  0.017662  0.016705  0.013537   \n",
       "4    0.014048  0.015613  0.017477  ...  0.014598  0.014105  0.013206   \n",
       "..        ...       ...       ...  ...       ...       ...       ...   \n",
       "916  0.015764  0.017947  0.022915  ...  0.019489  0.018943  0.013873   \n",
       "917  0.015419  0.020824  0.027618  ...  0.027381  0.019968  0.014060   \n",
       "918  0.019529  0.022005  0.024734  ...  0.019408  0.019801  0.015598   \n",
       "919  0.015818  0.018981  0.024597  ...  0.021433  0.021143  0.011995   \n",
       "920  0.014148  0.015949  0.017580  ...  0.019062  0.019107  0.016189   \n",
       "\n",
       "           19        20        21        22        23        24        25  \n",
       "0    0.013982  0.013331  0.014589  0.015651  0.022104  0.041264  0.516535  \n",
       "1    0.017905  0.016205  0.017324  0.017892  0.023935  0.062868  0.502213  \n",
       "2    0.018553  0.017691  0.019047  0.018875  0.023718  0.082712  0.435559  \n",
       "3    0.013100  0.011285  0.012704  0.013653  0.019576  0.033749  0.536751  \n",
       "4    0.013611  0.013253  0.013327  0.014530  0.022006  0.028227  0.554763  \n",
       "..        ...       ...       ...       ...       ...       ...       ...  \n",
       "916  0.013182  0.010767  0.012367  0.013618  0.022479  0.027244  0.530481  \n",
       "917  0.010338  0.008655  0.008093  0.007473  0.010634  0.010575  0.433141  \n",
       "918  0.015133  0.013357  0.012711  0.012856  0.019481  0.025314  0.497313  \n",
       "919  0.012153  0.009069  0.009069  0.010572  0.018349  0.022804  0.486924  \n",
       "920  0.013612  0.012142  0.012039  0.012609  0.021866  0.028023  0.548777  \n",
       "\n",
       "[921 rows x 26 columns]"
      ]
     },
     "execution_count": 7,
     "metadata": {},
     "output_type": "execute_result"
    }
   ],
   "source": [
    "dataset"
   ]
  },
  {
   "cell_type": "code",
   "execution_count": 3,
   "metadata": {},
   "outputs": [],
   "source": [
    "# Splitting the dataset\n",
    "from sklearn.model_selection import train_test_split\n",
    "X_train, X_test, y_train, y_test = train_test_split(X, Y, test_size = 0.2, random_state = 0)"
   ]
  },
  {
   "cell_type": "code",
   "execution_count": 4,
   "metadata": {},
   "outputs": [
    {
     "data": {
      "text/plain": [
       "736"
      ]
     },
     "execution_count": 4,
     "metadata": {},
     "output_type": "execute_result"
    }
   ],
   "source": [
    "len(X_train)"
   ]
  },
  {
   "cell_type": "code",
   "execution_count": 5,
   "metadata": {},
   "outputs": [
    {
     "data": {
      "text/plain": [
       "185"
      ]
     },
     "execution_count": 5,
     "metadata": {},
     "output_type": "execute_result"
    }
   ],
   "source": [
    "len(X_test)"
   ]
  },
  {
   "cell_type": "code",
   "execution_count": 6,
   "metadata": {},
   "outputs": [],
   "source": [
    "# Feature Scaling\n",
    "from sklearn.preprocessing import StandardScaler\n",
    "sc_X = StandardScaler()\n",
    "X_train = sc_X.fit_transform(X_train)\n",
    "X_test = sc_X.transform(X_test)"
   ]
  },
  {
   "cell_type": "markdown",
   "metadata": {},
   "source": [
    "# Naive Bayes"
   ]
  },
  {
   "cell_type": "code",
   "execution_count": 7,
   "metadata": {},
   "outputs": [
    {
     "data": {
      "text/plain": [
       "GaussianNB(priors=None, var_smoothing=1e-09)"
      ]
     },
     "execution_count": 7,
     "metadata": {},
     "output_type": "execute_result"
    }
   ],
   "source": [
    "# Implementation of Naive Bayes\n",
    "# Fitting Naive Bayes to the training set\n",
    "\n",
    "from sklearn.naive_bayes import GaussianNB\n",
    "nb = GaussianNB()\n",
    "nb.fit(X_train, y_train)"
   ]
  },
  {
   "cell_type": "code",
   "execution_count": 8,
   "metadata": {},
   "outputs": [
    {
     "data": {
      "text/plain": [
       "array([[49,  8, 22],\n",
       "       [22, 15, 23],\n",
       "       [19,  7, 20]], dtype=int64)"
      ]
     },
     "execution_count": 8,
     "metadata": {},
     "output_type": "execute_result"
    }
   ],
   "source": [
    "# Predicting the test set result\n",
    "y_pred = nb.predict(X_test)\n",
    "\n",
    "# Making the confusion matrix\n",
    "from sklearn.metrics import confusion_matrix\n",
    "from sklearn.metrics import multilabel_confusion_matrix\n",
    "\n",
    "cm = confusion_matrix(y_test, y_pred)\n",
    "cm2 = multilabel_confusion_matrix(y_test, y_pred)\n",
    "\n",
    "cm"
   ]
  },
  {
   "cell_type": "code",
   "execution_count": 9,
   "metadata": {},
   "outputs": [
    {
     "name": "stdout",
     "output_type": "stream",
     "text": [
      "0.4443909663087745\n"
     ]
    }
   ],
   "source": [
    "# Applying K-Fold Cross Validation\n",
    "\n",
    "from sklearn.model_selection import cross_val_score\n",
    "accuracies = cross_val_score(estimator = nb, X = X_train, y = y_train, cv = 10)\n",
    "print(np.mean(accuracies))"
   ]
  },
  {
   "cell_type": "code",
   "execution_count": 10,
   "metadata": {},
   "outputs": [
    {
     "name": "stdout",
     "output_type": "stream",
     "text": [
      "              precision    recall  f1-score   support\n",
      "\n",
      "           1       0.58      0.62      0.60        40\n",
      "           2       0.53      0.25      0.34        32\n",
      "           3       0.31      0.52      0.39        21\n",
      "\n",
      "    accuracy                           0.47        93\n",
      "   macro avg       0.48      0.47      0.45        93\n",
      "weighted avg       0.50      0.47      0.46        93\n",
      "\n",
      "              precision    recall  f1-score   support\n",
      "\n",
      "           1       0.53      0.67      0.59        39\n",
      "           2       0.42      0.15      0.22        33\n",
      "           3       0.19      0.30      0.24        20\n",
      "\n",
      "    accuracy                           0.40        92\n",
      "   macro avg       0.38      0.37      0.35        92\n",
      "weighted avg       0.42      0.40      0.38        92\n",
      "\n",
      "              precision    recall  f1-score   support\n",
      "\n",
      "           1       0.62      0.59      0.61        39\n",
      "           2       0.43      0.27      0.33        33\n",
      "           3       0.21      0.35      0.26        20\n",
      "\n",
      "    accuracy                           0.42        92\n",
      "   macro avg       0.42      0.40      0.40        92\n",
      "weighted avg       0.46      0.42      0.43        92\n",
      "\n",
      "              precision    recall  f1-score   support\n",
      "\n",
      "           1       0.66      0.74      0.70        39\n",
      "           2       0.52      0.33      0.41        33\n",
      "           3       0.30      0.40      0.34        20\n",
      "\n",
      "    accuracy                           0.52        92\n",
      "   macro avg       0.49      0.49      0.48        92\n",
      "weighted avg       0.53      0.52      0.52        92\n",
      "\n",
      "              precision    recall  f1-score   support\n",
      "\n",
      "           1       0.58      0.56      0.57        39\n",
      "           2       0.35      0.19      0.24        32\n",
      "           3       0.22      0.38      0.28        21\n",
      "\n",
      "    accuracy                           0.39        92\n",
      "   macro avg       0.38      0.38      0.36        92\n",
      "weighted avg       0.42      0.39      0.39        92\n",
      "\n",
      "              precision    recall  f1-score   support\n",
      "\n",
      "           1       0.69      0.56      0.62        39\n",
      "           2       0.43      0.28      0.34        32\n",
      "           3       0.26      0.48      0.33        21\n",
      "\n",
      "    accuracy                           0.45        92\n",
      "   macro avg       0.46      0.44      0.43        92\n",
      "weighted avg       0.50      0.45      0.46        92\n",
      "\n",
      "              precision    recall  f1-score   support\n",
      "\n",
      "           1       0.57      0.69      0.63        39\n",
      "           2       0.47      0.22      0.30        32\n",
      "           3       0.30      0.43      0.35        21\n",
      "\n",
      "    accuracy                           0.47        92\n",
      "   macro avg       0.45      0.45      0.43        92\n",
      "weighted avg       0.47      0.47      0.45        92\n",
      "\n",
      "              precision    recall  f1-score   support\n",
      "\n",
      "           1       0.53      0.59      0.56        39\n",
      "           2       0.41      0.22      0.29        32\n",
      "           3       0.22      0.33      0.26        21\n",
      "\n",
      "    accuracy                           0.40        92\n",
      "   macro avg       0.39      0.38      0.37        92\n",
      "weighted avg       0.42      0.40      0.40        92\n",
      "\n",
      "              precision    recall  f1-score   support\n",
      "\n",
      "           1       0.62      0.67      0.64        39\n",
      "           2       0.45      0.16      0.23        32\n",
      "           3       0.28      0.52      0.37        21\n",
      "\n",
      "    accuracy                           0.46        92\n",
      "   macro avg       0.45      0.45      0.41        92\n",
      "weighted avg       0.48      0.46      0.44        92\n",
      "\n",
      "              precision    recall  f1-score   support\n",
      "\n",
      "           1       0.53      0.54      0.53        39\n",
      "           2       0.50      0.22      0.30        32\n",
      "           3       0.26      0.48      0.34        21\n",
      "\n",
      "    accuracy                           0.41        92\n",
      "   macro avg       0.43      0.41      0.39        92\n",
      "weighted avg       0.46      0.41      0.41        92\n",
      "\n"
     ]
    }
   ],
   "source": [
    "# Calculating the accuracy and other metrics\n",
    "\n",
    "from sklearn.metrics import f1_score, accuracy_score, precision_score, recall_score, make_scorer\n",
    "from sklearn.metrics import accuracy_score\n",
    "from sklearn.metrics import classification_report\n",
    "from sklearn.model_selection import cross_val_score\n",
    "from sklearn.model_selection import StratifiedKFold, KFold\n",
    "\n",
    "target_names = ['melanoma', 'bcc', 'scc']\n",
    "\n",
    "# Variables for average classification report\n",
    "originalclass = []\n",
    "predictedclass = []\n",
    "\n",
    "#Make our customer score\n",
    "def classification_report_with_accuracy_score(y_test, y_pred):\n",
    "    originalclass.extend(y_test)\n",
    "    predictedclass.extend(y_pred)\n",
    "    print(classification_report(y_test, y_pred))\n",
    "    return accuracy_score(y_test, y_pred) # return accuracy score\n",
    "\n",
    "outer_cv = StratifiedKFold(n_splits=10, shuffle=True, random_state=0)\n",
    "\n",
    "# Nested CV with parameter optimization\n",
    "nested_score = cross_val_score(estimator = nb, X = X, y = Y, cv=outer_cv, scoring=make_scorer(classification_report_with_accuracy_score))"
   ]
  },
  {
   "cell_type": "code",
   "execution_count": 12,
   "metadata": {},
   "outputs": [
    {
     "name": "stdout",
     "output_type": "stream",
     "text": [
      "              precision    recall  f1-score   support\n",
      "\n",
      "    melanoma       0.59      0.62      0.61       391\n",
      "         bcc       0.45      0.23      0.30       323\n",
      "         scc       0.25      0.42      0.32       207\n",
      "\n",
      "    accuracy                           0.44       921\n",
      "   macro avg       0.43      0.42      0.41       921\n",
      "weighted avg       0.47      0.44      0.43       921\n",
      "\n"
     ]
    }
   ],
   "source": [
    "# Average values in classification report for all folds in a K-fold Cross-validation  \n",
    "print(classification_report(originalclass, predictedclass, target_names=target_names))"
   ]
  },
  {
   "cell_type": "markdown",
   "metadata": {},
   "source": [
    "# K-Nearest Neighbor"
   ]
  },
  {
   "cell_type": "code",
   "execution_count": 13,
   "metadata": {},
   "outputs": [
    {
     "data": {
      "text/plain": [
       "KNeighborsClassifier(algorithm='auto', leaf_size=30, metric='minkowski',\n",
       "                     metric_params=None, n_jobs=None, n_neighbors=23, p=3,\n",
       "                     weights='distance')"
      ]
     },
     "execution_count": 13,
     "metadata": {},
     "output_type": "execute_result"
    }
   ],
   "source": [
    "from sklearn.neighbors import KNeighborsClassifier\n",
    "knn = KNeighborsClassifier(n_neighbors = 23, metric = 'minkowski', p = 3, weights = 'distance')\n",
    "knn.fit(X_train, y_train)"
   ]
  },
  {
   "cell_type": "code",
   "execution_count": 14,
   "metadata": {},
   "outputs": [
    {
     "data": {
      "text/plain": [
       "array([[59, 14,  6],\n",
       "       [25, 31,  4],\n",
       "       [14, 22, 10]], dtype=int64)"
      ]
     },
     "execution_count": 14,
     "metadata": {},
     "output_type": "execute_result"
    }
   ],
   "source": [
    "# Predicting the test set result\n",
    "y_pred = knn.predict(X_test)\n",
    "\n",
    "# Making the confusion matrix\n",
    "from sklearn.metrics import confusion_matrix\n",
    "from sklearn.metrics import multilabel_confusion_matrix\n",
    "\n",
    "cm = confusion_matrix(y_test, y_pred)\n",
    "cm2 = multilabel_confusion_matrix(y_test, y_pred)\n",
    "\n",
    "cm"
   ]
  },
  {
   "cell_type": "code",
   "execution_count": 15,
   "metadata": {},
   "outputs": [
    {
     "name": "stdout",
     "output_type": "stream",
     "text": [
      "0.5992039985190669\n"
     ]
    }
   ],
   "source": [
    "# Applying K-Fold Cross Validation\n",
    "\n",
    "from sklearn.model_selection import cross_val_score\n",
    "accuracies = cross_val_score(estimator = knn, X = X_train, y = y_train, cv = 10)\n",
    "print(np.mean(accuracies))"
   ]
  },
  {
   "cell_type": "code",
   "execution_count": 16,
   "metadata": {},
   "outputs": [
    {
     "name": "stdout",
     "output_type": "stream",
     "text": [
      "0.6\n",
      "{'metric': 'minkowski', 'n_neighbors': 23, 'p': 3, 'weights': 'distance'}\n"
     ]
    }
   ],
   "source": [
    "# Applying Grid Search to Find the Best Hyperparameter\n",
    "\n",
    "from sklearn.model_selection import GridSearchCV\n",
    "parameters = [\n",
    "    {'n_neighbors': [21, 23, 25, 27, 29], 'weights': ['uniform', 'distance'], 'p': [1, 2, 3], 'metric': ['minkowski']},\n",
    "]\n",
    "\n",
    "grid_search = GridSearchCV(estimator = knn, param_grid = parameters, scoring = 'accuracy', cv = 10, n_jobs = -1)\n",
    "grid_search = grid_search.fit(X_train, y_train)\n",
    "\n",
    "best_accuracy = grid_search.best_score_\n",
    "best_parameters = grid_search.best_params_\n",
    "\n",
    "print(round(best_accuracy, 2))\n",
    "print(best_parameters)"
   ]
  },
  {
   "cell_type": "code",
   "execution_count": 17,
   "metadata": {},
   "outputs": [
    {
     "name": "stdout",
     "output_type": "stream",
     "text": [
      "              precision    recall  f1-score   support\n",
      "\n",
      "           1       0.56      0.68      0.61        40\n",
      "           2       0.38      0.47      0.42        32\n",
      "           3       0.17      0.05      0.07        21\n",
      "\n",
      "    accuracy                           0.46        93\n",
      "   macro avg       0.37      0.40      0.37        93\n",
      "weighted avg       0.41      0.46      0.43        93\n",
      "\n",
      "              precision    recall  f1-score   support\n",
      "\n",
      "           1       0.58      0.74      0.65        39\n",
      "           2       0.55      0.64      0.59        33\n",
      "           3       0.50      0.10      0.17        20\n",
      "\n",
      "    accuracy                           0.57        92\n",
      "   macro avg       0.54      0.49      0.47        92\n",
      "weighted avg       0.55      0.57      0.52        92\n",
      "\n",
      "              precision    recall  f1-score   support\n",
      "\n",
      "           1       0.54      0.67      0.60        39\n",
      "           2       0.50      0.58      0.54        33\n",
      "           3       0.50      0.15      0.23        20\n",
      "\n",
      "    accuracy                           0.52        92\n",
      "   macro avg       0.51      0.46      0.45        92\n",
      "weighted avg       0.52      0.52      0.50        92\n",
      "\n",
      "              precision    recall  f1-score   support\n",
      "\n",
      "           1       0.59      0.67      0.63        39\n",
      "           2       0.46      0.58      0.51        33\n",
      "           3       0.43      0.15      0.22        20\n",
      "\n",
      "    accuracy                           0.52        92\n",
      "   macro avg       0.49      0.46      0.45        92\n",
      "weighted avg       0.51      0.52      0.50        92\n",
      "\n",
      "              precision    recall  f1-score   support\n",
      "\n",
      "           1       0.50      0.72      0.59        39\n",
      "           2       0.48      0.47      0.48        32\n",
      "           3       0.20      0.05      0.08        21\n",
      "\n",
      "    accuracy                           0.48        92\n",
      "   macro avg       0.39      0.41      0.38        92\n",
      "weighted avg       0.43      0.48      0.43        92\n",
      "\n",
      "              precision    recall  f1-score   support\n",
      "\n",
      "           1       0.63      0.69      0.66        39\n",
      "           2       0.45      0.44      0.44        32\n",
      "           3       0.33      0.29      0.31        21\n",
      "\n",
      "    accuracy                           0.51        92\n",
      "   macro avg       0.47      0.47      0.47        92\n",
      "weighted avg       0.50      0.51      0.50        92\n",
      "\n",
      "              precision    recall  f1-score   support\n",
      "\n",
      "           1       0.55      0.77      0.64        39\n",
      "           2       0.41      0.44      0.42        32\n",
      "           3       0.33      0.05      0.08        21\n",
      "\n",
      "    accuracy                           0.49        92\n",
      "   macro avg       0.43      0.42      0.38        92\n",
      "weighted avg       0.45      0.49      0.44        92\n",
      "\n",
      "              precision    recall  f1-score   support\n",
      "\n",
      "           1       0.57      0.72      0.64        39\n",
      "           2       0.58      0.59      0.58        32\n",
      "           3       0.20      0.10      0.13        21\n",
      "\n",
      "    accuracy                           0.53        92\n",
      "   macro avg       0.45      0.47      0.45        92\n",
      "weighted avg       0.49      0.53      0.50        92\n",
      "\n",
      "              precision    recall  f1-score   support\n",
      "\n",
      "           1       0.59      0.69      0.64        39\n",
      "           2       0.45      0.59      0.51        32\n",
      "           3       0.25      0.05      0.08        21\n",
      "\n",
      "    accuracy                           0.51        92\n",
      "   macro avg       0.43      0.44      0.41        92\n",
      "weighted avg       0.46      0.51      0.47        92\n",
      "\n",
      "              precision    recall  f1-score   support\n",
      "\n",
      "           1       0.51      0.62      0.56        39\n",
      "           2       0.46      0.53      0.49        32\n",
      "           3       0.38      0.14      0.21        21\n",
      "\n",
      "    accuracy                           0.48        92\n",
      "   macro avg       0.45      0.43      0.42        92\n",
      "weighted avg       0.46      0.48      0.46        92\n",
      "\n"
     ]
    }
   ],
   "source": [
    "# Calculating the accuracy and other metrics\n",
    "\n",
    "from sklearn.metrics import f1_score, accuracy_score, precision_score, recall_score, make_scorer\n",
    "from sklearn.metrics import accuracy_score\n",
    "from sklearn.metrics import classification_report\n",
    "from sklearn.model_selection import cross_val_score\n",
    "from sklearn.model_selection import StratifiedKFold, KFold\n",
    "\n",
    "target_names = ['melanoma', 'bcc', 'scc']\n",
    "\n",
    "# Variables for average classification report\n",
    "originalclass = []\n",
    "predictedclass = []\n",
    "\n",
    "#Make our customer score\n",
    "def classification_report_with_accuracy_score(y_test, y_pred):\n",
    "    originalclass.extend(y_test)\n",
    "    predictedclass.extend(y_pred)\n",
    "    print(classification_report(y_test, y_pred))\n",
    "    return accuracy_score(y_test, y_pred) # return accuracy score\n",
    "\n",
    "outer_cv = StratifiedKFold(n_splits=10, shuffle=True, random_state=0)\n",
    "\n",
    "# Nested CV with parameter optimization\n",
    "nested_score = cross_val_score(estimator = knn, X = X, y = Y, cv=outer_cv, scoring=make_scorer(classification_report_with_accuracy_score))"
   ]
  },
  {
   "cell_type": "code",
   "execution_count": 19,
   "metadata": {},
   "outputs": [
    {
     "name": "stdout",
     "output_type": "stream",
     "text": [
      "              precision    recall  f1-score   support\n",
      "\n",
      "    melanoma       0.56      0.70      0.62       391\n",
      "         bcc       0.47      0.53      0.50       323\n",
      "         scc       0.32      0.11      0.17       207\n",
      "\n",
      "    accuracy                           0.51       921\n",
      "   macro avg       0.45      0.45      0.43       921\n",
      "weighted avg       0.48      0.51      0.48       921\n",
      "\n"
     ]
    }
   ],
   "source": [
    "# Average values in classification report for all folds in a K-fold Cross-validation  \n",
    "print(classification_report(originalclass, predictedclass, target_names=target_names))"
   ]
  },
  {
   "cell_type": "markdown",
   "metadata": {},
   "source": [
    "# Support Vector Machine"
   ]
  },
  {
   "cell_type": "code",
   "execution_count": 20,
   "metadata": {},
   "outputs": [
    {
     "data": {
      "text/plain": [
       "SVC(C=100, break_ties=False, cache_size=200, class_weight=None, coef0=0.0,\n",
       "    decision_function_shape='ovr', degree=3, gamma=0.01, kernel='rbf',\n",
       "    max_iter=-1, probability=False, random_state=0, shrinking=True, tol=0.001,\n",
       "    verbose=False)"
      ]
     },
     "execution_count": 20,
     "metadata": {},
     "output_type": "execute_result"
    }
   ],
   "source": [
    "# Implementation of Support Vector Machine (SVM)\n",
    "# Fitting SVM to the training set\n",
    "\n",
    "from sklearn.svm import SVC\n",
    "svm = SVC(C = 100, kernel = 'rbf', gamma = 0.01, random_state = 0)\n",
    "#classifier = SVC(C = 1, kernel = 'poly', degree = 30, random_state = 0)\n",
    "svm.fit(X_train, y_train)"
   ]
  },
  {
   "cell_type": "code",
   "execution_count": 21,
   "metadata": {},
   "outputs": [
    {
     "data": {
      "text/plain": [
       "array([[63, 14,  2],\n",
       "       [13, 39,  8],\n",
       "       [ 4, 21, 21]], dtype=int64)"
      ]
     },
     "execution_count": 21,
     "metadata": {},
     "output_type": "execute_result"
    }
   ],
   "source": [
    "# Predicting the test set result\n",
    "y_pred = svm.predict(X_test)\n",
    "\n",
    "# Making the confusion matrix\n",
    "from sklearn.metrics import confusion_matrix\n",
    "from sklearn.metrics import multilabel_confusion_matrix\n",
    "\n",
    "cm = confusion_matrix(y_test, y_pred)\n",
    "cm2 = multilabel_confusion_matrix(y_test, y_pred)\n",
    "\n",
    "cm"
   ]
  },
  {
   "cell_type": "code",
   "execution_count": 22,
   "metadata": {},
   "outputs": [
    {
     "name": "stdout",
     "output_type": "stream",
     "text": [
      "0.6710292484265088\n"
     ]
    }
   ],
   "source": [
    "# Applying K-Fold Cross Validation\n",
    "\n",
    "from sklearn.model_selection import cross_val_score\n",
    "accuracies = cross_val_score(estimator = svm, X = X_train, y = y_train, cv = 10)\n",
    "print(np.mean(accuracies))"
   ]
  },
  {
   "cell_type": "code",
   "execution_count": 28,
   "metadata": {},
   "outputs": [
    {
     "name": "stdout",
     "output_type": "stream",
     "text": [
      "0.67\n",
      "{'C': 100, 'gamma': 0.01, 'kernel': 'rbf'}\n"
     ]
    }
   ],
   "source": [
    "# Applying Grid Search to Find the Best Hyperparameter\n",
    "\n",
    "from sklearn.model_selection import GridSearchCV\n",
    "parameters = [\n",
    "    {'C': [1, 10, 100], 'kernel': ['rbf', 'sigmoid', 'poly'], 'gamma': [0.001, 0.01, 0.1, 10]},\n",
    "]\n",
    "\n",
    "grid_search = GridSearchCV(estimator = svm, param_grid = parameters, scoring = 'accuracy', cv = 10, n_jobs = -1)\n",
    "grid_search = grid_search.fit(X_train, y_train)\n",
    "\n",
    "best_accuracy = grid_search.best_score_\n",
    "best_parameters = grid_search.best_params_\n",
    "\n",
    "print(round(best_accuracy, 2))\n",
    "print(best_parameters)"
   ]
  },
  {
   "cell_type": "code",
   "execution_count": 23,
   "metadata": {},
   "outputs": [
    {
     "name": "stdout",
     "output_type": "stream",
     "text": [
      "              precision    recall  f1-score   support\n",
      "\n",
      "           1       0.43      1.00      0.60        40\n",
      "           2       0.00      0.00      0.00        32\n",
      "           3       0.00      0.00      0.00        21\n",
      "\n",
      "    accuracy                           0.43        93\n",
      "   macro avg       0.14      0.33      0.20        93\n",
      "weighted avg       0.18      0.43      0.26        93\n",
      "\n",
      "              precision    recall  f1-score   support\n",
      "\n",
      "           1       0.42      1.00      0.60        39\n",
      "           2       0.00      0.00      0.00        33\n",
      "           3       0.00      0.00      0.00        20\n",
      "\n",
      "    accuracy                           0.42        92\n",
      "   macro avg       0.14      0.33      0.20        92\n",
      "weighted avg       0.18      0.42      0.25        92\n",
      "\n",
      "              precision    recall  f1-score   support\n",
      "\n",
      "           1       0.42      1.00      0.60        39\n",
      "           2       0.00      0.00      0.00        33\n",
      "           3       0.00      0.00      0.00        20\n",
      "\n",
      "    accuracy                           0.42        92\n",
      "   macro avg       0.14      0.33      0.20        92\n",
      "weighted avg       0.18      0.42      0.25        92\n",
      "\n",
      "              precision    recall  f1-score   support\n",
      "\n",
      "           1       0.42      1.00      0.60        39\n",
      "           2       0.00      0.00      0.00        33\n",
      "           3       0.00      0.00      0.00        20\n",
      "\n",
      "    accuracy                           0.42        92\n",
      "   macro avg       0.14      0.33      0.20        92\n",
      "weighted avg       0.18      0.42      0.25        92\n",
      "\n",
      "              precision    recall  f1-score   support\n",
      "\n",
      "           1       0.42      1.00      0.60        39\n",
      "           2       0.00      0.00      0.00        32\n",
      "           3       0.00      0.00      0.00        21\n",
      "\n",
      "    accuracy                           0.42        92\n",
      "   macro avg       0.14      0.33      0.20        92\n",
      "weighted avg       0.18      0.42      0.25        92\n",
      "\n",
      "              precision    recall  f1-score   support\n",
      "\n",
      "           1       0.42      1.00      0.60        39\n",
      "           2       0.00      0.00      0.00        32\n",
      "           3       0.00      0.00      0.00        21\n",
      "\n",
      "    accuracy                           0.42        92\n",
      "   macro avg       0.14      0.33      0.20        92\n",
      "weighted avg       0.18      0.42      0.25        92\n",
      "\n",
      "              precision    recall  f1-score   support\n",
      "\n",
      "           1       0.42      1.00      0.60        39\n",
      "           2       0.00      0.00      0.00        32\n",
      "           3       0.00      0.00      0.00        21\n",
      "\n",
      "    accuracy                           0.42        92\n",
      "   macro avg       0.14      0.33      0.20        92\n",
      "weighted avg       0.18      0.42      0.25        92\n",
      "\n",
      "              precision    recall  f1-score   support\n",
      "\n",
      "           1       0.42      1.00      0.60        39\n",
      "           2       0.00      0.00      0.00        32\n",
      "           3       0.00      0.00      0.00        21\n",
      "\n",
      "    accuracy                           0.42        92\n",
      "   macro avg       0.14      0.33      0.20        92\n",
      "weighted avg       0.18      0.42      0.25        92\n",
      "\n",
      "              precision    recall  f1-score   support\n",
      "\n",
      "           1       0.42      1.00      0.60        39\n",
      "           2       0.00      0.00      0.00        32\n",
      "           3       0.00      0.00      0.00        21\n",
      "\n",
      "    accuracy                           0.42        92\n",
      "   macro avg       0.14      0.33      0.20        92\n",
      "weighted avg       0.18      0.42      0.25        92\n",
      "\n",
      "              precision    recall  f1-score   support\n",
      "\n",
      "           1       0.41      0.95      0.57        39\n",
      "           2       0.00      0.00      0.00        32\n",
      "           3       0.00      0.00      0.00        21\n",
      "\n",
      "    accuracy                           0.40        92\n",
      "   macro avg       0.14      0.32      0.19        92\n",
      "weighted avg       0.17      0.40      0.24        92\n",
      "\n"
     ]
    }
   ],
   "source": [
    "# Calculating the accuracy and other metrics\n",
    "\n",
    "from sklearn.metrics import f1_score, accuracy_score, precision_score, recall_score, make_scorer\n",
    "from sklearn.metrics import accuracy_score\n",
    "from sklearn.metrics import classification_report\n",
    "from sklearn.model_selection import cross_val_score\n",
    "from sklearn.model_selection import StratifiedKFold, KFold\n",
    "\n",
    "target_names = ['melanoma', 'bcc', 'scc']\n",
    "\n",
    "# Variables for average classification report\n",
    "originalclass = []\n",
    "predictedclass = []\n",
    "\n",
    "#Make our customer score\n",
    "def classification_report_with_accuracy_score(y_test, y_pred):\n",
    "    originalclass.extend(y_test)\n",
    "    predictedclass.extend(y_pred)\n",
    "    print(classification_report(y_test, y_pred, zero_division = 0))\n",
    "    return accuracy_score(y_test, y_pred) # return accuracy score\n",
    "\n",
    "outer_cv = StratifiedKFold(n_splits=10, shuffle=True, random_state=0)\n",
    "\n",
    "# Nested CV with parameter optimization\n",
    "nested_score = cross_val_score(estimator = svm, X = X, y = Y, cv=outer_cv, scoring=make_scorer(classification_report_with_accuracy_score))"
   ]
  },
  {
   "cell_type": "code",
   "execution_count": 24,
   "metadata": {},
   "outputs": [
    {
     "name": "stdout",
     "output_type": "stream",
     "text": [
      "              precision    recall  f1-score   support\n",
      "\n",
      "    melanoma       0.42      0.99      0.59       391\n",
      "         bcc       0.00      0.00      0.00       323\n",
      "         scc       0.00      0.00      0.00       207\n",
      "\n",
      "    accuracy                           0.42       921\n",
      "   macro avg       0.14      0.33      0.20       921\n",
      "weighted avg       0.18      0.42      0.25       921\n",
      "\n"
     ]
    },
    {
     "name": "stderr",
     "output_type": "stream",
     "text": [
      "C:\\Users\\ravee\\Anaconda3\\lib\\site-packages\\sklearn\\metrics\\_classification.py:1272: UndefinedMetricWarning: Precision and F-score are ill-defined and being set to 0.0 in labels with no predicted samples. Use `zero_division` parameter to control this behavior.\n",
      "  _warn_prf(average, modifier, msg_start, len(result))\n"
     ]
    }
   ],
   "source": [
    "# Average values in classification report for all folds in a K-fold Cross-validation  \n",
    "print(classification_report(originalclass, predictedclass, target_names=target_names))"
   ]
  },
  {
   "cell_type": "markdown",
   "metadata": {},
   "source": [
    "# Decision Tree"
   ]
  },
  {
   "cell_type": "code",
   "execution_count": 25,
   "metadata": {},
   "outputs": [
    {
     "data": {
      "text/plain": [
       "DecisionTreeClassifier(ccp_alpha=0.0, class_weight=None, criterion='gini',\n",
       "                       max_depth=100, max_features=None, max_leaf_nodes=None,\n",
       "                       min_impurity_decrease=0.0, min_impurity_split=None,\n",
       "                       min_samples_leaf=1, min_samples_split=2,\n",
       "                       min_weight_fraction_leaf=0.0, presort='deprecated',\n",
       "                       random_state=0, splitter='random')"
      ]
     },
     "execution_count": 25,
     "metadata": {},
     "output_type": "execute_result"
    }
   ],
   "source": [
    "# Some important notes here, before running the Decision Tree Classifier, it's ok to not scale the features, as this model\n",
    "# does not work using euclidian distance, so it's fine as it is\n",
    "\n",
    "from sklearn.tree import DecisionTreeClassifier\n",
    "tree = DecisionTreeClassifier(criterion = 'gini', max_depth = 100, random_state = 0, splitter = 'random')\n",
    "tree.fit(X_train, y_train)"
   ]
  },
  {
   "cell_type": "code",
   "execution_count": 26,
   "metadata": {},
   "outputs": [
    {
     "data": {
      "text/plain": [
       "array([[39, 21, 19],\n",
       "       [15, 29, 16],\n",
       "       [ 8, 23, 15]], dtype=int64)"
      ]
     },
     "execution_count": 26,
     "metadata": {},
     "output_type": "execute_result"
    }
   ],
   "source": [
    "# Predicting the test set result\n",
    "y_pred = tree.predict(X_test)\n",
    "\n",
    "# Making the confusion matrix\n",
    "from sklearn.metrics import confusion_matrix\n",
    "from sklearn.metrics import multilabel_confusion_matrix\n",
    "\n",
    "cm = confusion_matrix(y_test, y_pred)\n",
    "cm2 = multilabel_confusion_matrix(y_test, y_pred)\n",
    "\n",
    "cm"
   ]
  },
  {
   "cell_type": "code",
   "execution_count": 27,
   "metadata": {},
   "outputs": [
    {
     "name": "stdout",
     "output_type": "stream",
     "text": [
      "0.5148463532025176\n"
     ]
    }
   ],
   "source": [
    "# Applying K-Fold Cross Validation\n",
    "\n",
    "from sklearn.model_selection import cross_val_score\n",
    "accuracies = cross_val_score(estimator = tree, X = X_train, y = y_train, cv = 10)\n",
    "print(np.mean(accuracies))"
   ]
  },
  {
   "cell_type": "code",
   "execution_count": 10,
   "metadata": {},
   "outputs": [
    {
     "name": "stdout",
     "output_type": "stream",
     "text": [
      "0.51\n",
      "{'ccp_alpha': 0.0, 'criterion': 'gini', 'max_depth': 100, 'splitter': 'random'}\n"
     ]
    }
   ],
   "source": [
    "# Applying Grid Search to Find the Best Hyperparameter\n",
    "\n",
    "from sklearn.model_selection import GridSearchCV\n",
    "parameters = [\n",
    "    {'criterion': ['entropy', 'gini'], 'splitter': ['best', 'random'], 'ccp_alpha': [0.0, 0.05, 0.1], 'max_depth': [10, 100, 200]}\n",
    "]\n",
    "\n",
    "grid_search = GridSearchCV(estimator = tree, param_grid = parameters, scoring = 'accuracy', cv = 10, n_jobs = -1)\n",
    "grid_search = grid_search.fit(X_train, y_train)\n",
    "\n",
    "best_accuracy = grid_search.best_score_\n",
    "best_parameters = grid_search.best_params_\n",
    "\n",
    "print(round(best_accuracy, 2))\n",
    "print(best_parameters)"
   ]
  },
  {
   "cell_type": "code",
   "execution_count": 28,
   "metadata": {},
   "outputs": [
    {
     "name": "stdout",
     "output_type": "stream",
     "text": [
      "              precision    recall  f1-score   support\n",
      "\n",
      "           1       0.56      0.57      0.57        40\n",
      "           2       0.36      0.38      0.37        32\n",
      "           3       0.26      0.24      0.25        21\n",
      "\n",
      "    accuracy                           0.43        93\n",
      "   macro avg       0.40      0.40      0.40        93\n",
      "weighted avg       0.43      0.43      0.43        93\n",
      "\n",
      "              precision    recall  f1-score   support\n",
      "\n",
      "           1       0.60      0.62      0.61        39\n",
      "           2       0.55      0.48      0.52        33\n",
      "           3       0.43      0.50      0.47        20\n",
      "\n",
      "    accuracy                           0.54        92\n",
      "   macro avg       0.53      0.53      0.53        92\n",
      "weighted avg       0.55      0.54      0.54        92\n",
      "\n",
      "              precision    recall  f1-score   support\n",
      "\n",
      "           1       0.50      0.46      0.48        39\n",
      "           2       0.53      0.52      0.52        33\n",
      "           3       0.21      0.25      0.23        20\n",
      "\n",
      "    accuracy                           0.43        92\n",
      "   macro avg       0.41      0.41      0.41        92\n",
      "weighted avg       0.45      0.43      0.44        92\n",
      "\n",
      "              precision    recall  f1-score   support\n",
      "\n",
      "           1       0.55      0.56      0.56        39\n",
      "           2       0.50      0.48      0.49        33\n",
      "           3       0.20      0.20      0.20        20\n",
      "\n",
      "    accuracy                           0.46        92\n",
      "   macro avg       0.42      0.42      0.42        92\n",
      "weighted avg       0.46      0.46      0.46        92\n",
      "\n",
      "              precision    recall  f1-score   support\n",
      "\n",
      "           1       0.59      0.51      0.55        39\n",
      "           2       0.39      0.38      0.38        32\n",
      "           3       0.19      0.24      0.21        21\n",
      "\n",
      "    accuracy                           0.40        92\n",
      "   macro avg       0.39      0.38      0.38        92\n",
      "weighted avg       0.43      0.40      0.41        92\n",
      "\n",
      "              precision    recall  f1-score   support\n",
      "\n",
      "           1       0.74      0.72      0.73        39\n",
      "           2       0.52      0.50      0.51        32\n",
      "           3       0.48      0.52      0.50        21\n",
      "\n",
      "    accuracy                           0.60        92\n",
      "   macro avg       0.58      0.58      0.58        92\n",
      "weighted avg       0.60      0.60      0.60        92\n",
      "\n",
      "              precision    recall  f1-score   support\n",
      "\n",
      "           1       0.55      0.69      0.61        39\n",
      "           2       0.58      0.47      0.52        32\n",
      "           3       0.35      0.29      0.32        21\n",
      "\n",
      "    accuracy                           0.52        92\n",
      "   macro avg       0.49      0.48      0.48        92\n",
      "weighted avg       0.51      0.52      0.51        92\n",
      "\n",
      "              precision    recall  f1-score   support\n",
      "\n",
      "           1       0.62      0.59      0.61        39\n",
      "           2       0.45      0.41      0.43        32\n",
      "           3       0.31      0.38      0.34        21\n",
      "\n",
      "    accuracy                           0.48        92\n",
      "   macro avg       0.46      0.46      0.46        92\n",
      "weighted avg       0.49      0.48      0.48        92\n",
      "\n",
      "              precision    recall  f1-score   support\n",
      "\n",
      "           1       0.59      0.59      0.59        39\n",
      "           2       0.48      0.47      0.48        32\n",
      "           3       0.32      0.33      0.33        21\n",
      "\n",
      "    accuracy                           0.49        92\n",
      "   macro avg       0.46      0.46      0.46        92\n",
      "weighted avg       0.49      0.49      0.49        92\n",
      "\n",
      "              precision    recall  f1-score   support\n",
      "\n",
      "           1       0.51      0.54      0.53        39\n",
      "           2       0.44      0.44      0.44        32\n",
      "           3       0.32      0.29      0.30        21\n",
      "\n",
      "    accuracy                           0.45        92\n",
      "   macro avg       0.42      0.42      0.42        92\n",
      "weighted avg       0.44      0.45      0.44        92\n",
      "\n"
     ]
    }
   ],
   "source": [
    "# Calculating the accuracy and other metrics\n",
    "\n",
    "from sklearn.metrics import f1_score, accuracy_score, precision_score, recall_score, make_scorer\n",
    "from sklearn.metrics import accuracy_score\n",
    "from sklearn.metrics import classification_report\n",
    "from sklearn.model_selection import cross_val_score\n",
    "from sklearn.model_selection import StratifiedKFold, KFold\n",
    "\n",
    "target_names = ['melanoma', 'bcc', 'scc']\n",
    "\n",
    "# Variables for average classification report\n",
    "originalclass = []\n",
    "predictedclass = []\n",
    "\n",
    "#Make our customer score\n",
    "def classification_report_with_accuracy_score(y_test, y_pred):\n",
    "    originalclass.extend(y_test)\n",
    "    predictedclass.extend(y_pred)\n",
    "    print(classification_report(y_test, y_pred))\n",
    "    return accuracy_score(y_test, y_pred) # return accuracy score\n",
    "\n",
    "outer_cv = StratifiedKFold(n_splits=10, shuffle=True, random_state=0)\n",
    "\n",
    "# Nested CV with parameter optimization\n",
    "nested_score = cross_val_score(estimator = tree, X = X, y = Y, cv=outer_cv, scoring=make_scorer(classification_report_with_accuracy_score))"
   ]
  },
  {
   "cell_type": "code",
   "execution_count": 29,
   "metadata": {},
   "outputs": [
    {
     "name": "stdout",
     "output_type": "stream",
     "text": [
      "              precision    recall  f1-score   support\n",
      "\n",
      "    melanoma       0.58      0.59      0.58       391\n",
      "         bcc       0.48      0.45      0.46       323\n",
      "         scc       0.30      0.32      0.31       207\n",
      "\n",
      "    accuracy                           0.48       921\n",
      "   macro avg       0.45      0.45      0.45       921\n",
      "weighted avg       0.48      0.48      0.48       921\n",
      "\n"
     ]
    }
   ],
   "source": [
    "# Average values in classification report for all folds in a K-fold Cross-validation  \n",
    "print(classification_report(originalclass, predictedclass, target_names=target_names))"
   ]
  },
  {
   "cell_type": "markdown",
   "metadata": {},
   "source": [
    "# Random Forest"
   ]
  },
  {
   "cell_type": "code",
   "execution_count": 30,
   "metadata": {},
   "outputs": [
    {
     "data": {
      "text/plain": [
       "RandomForestClassifier(bootstrap=True, ccp_alpha=0.0,\n",
       "                       class_weight='balanced_subsample', criterion='entropy',\n",
       "                       max_depth=None, max_features='auto', max_leaf_nodes=None,\n",
       "                       max_samples=None, min_impurity_decrease=0.0,\n",
       "                       min_impurity_split=None, min_samples_leaf=1,\n",
       "                       min_samples_split=2, min_weight_fraction_leaf=0.0,\n",
       "                       n_estimators=150, n_jobs=None, oob_score=False,\n",
       "                       random_state=0, verbose=0, warm_start=False)"
      ]
     },
     "execution_count": 30,
     "metadata": {},
     "output_type": "execute_result"
    }
   ],
   "source": [
    "from sklearn.ensemble import RandomForestClassifier\n",
    "forest = RandomForestClassifier(n_estimators = 150, max_depth = None, criterion = 'entropy', class_weight = 'balanced_subsample', random_state = 0)\n",
    "forest.fit(X_train, y_train)"
   ]
  },
  {
   "cell_type": "code",
   "execution_count": 31,
   "metadata": {},
   "outputs": [
    {
     "data": {
      "text/plain": [
       "array([[61, 16,  2],\n",
       "       [19, 36,  5],\n",
       "       [10, 29,  7]], dtype=int64)"
      ]
     },
     "execution_count": 31,
     "metadata": {},
     "output_type": "execute_result"
    }
   ],
   "source": [
    "# Predicting the test set result\n",
    "y_pred = forest.predict(X_test)\n",
    "\n",
    "# Making the confusion matrix\n",
    "from sklearn.metrics import confusion_matrix\n",
    "from sklearn.metrics import multilabel_confusion_matrix\n",
    "\n",
    "cm = confusion_matrix(y_test, y_pred)\n",
    "cm2 = multilabel_confusion_matrix(y_test, y_pred)\n",
    "\n",
    "cm"
   ]
  },
  {
   "cell_type": "code",
   "execution_count": 32,
   "metadata": {},
   "outputs": [
    {
     "name": "stdout",
     "output_type": "stream",
     "text": [
      "0.6330988522769345\n"
     ]
    }
   ],
   "source": [
    "# Applying K-Fold Cross Validation\n",
    "\n",
    "from sklearn.model_selection import cross_val_score\n",
    "accuracies = cross_val_score(estimator = forest, X = X_train, y = y_train, cv = 10, n_jobs = -1)\n",
    "print(np.mean(accuracies))"
   ]
  },
  {
   "cell_type": "code",
   "execution_count": 19,
   "metadata": {},
   "outputs": [
    {
     "name": "stdout",
     "output_type": "stream",
     "text": [
      "0.63\n",
      "{'class_weight': 'balanced_subsample', 'criterion': 'entropy', 'max_depth': None, 'n_estimators': 150}\n"
     ]
    }
   ],
   "source": [
    "# Applying Grid Search to Find the Best Hyperparameter\n",
    "\n",
    "from sklearn.model_selection import GridSearchCV\n",
    "parameters = [\n",
    "    {'criterion': ['entropy'], 'max_depth': [None, 10], 'n_estimators': [50, 100, 150], 'class_weight': [None, 'balanced', 'balanced_subsample']},\n",
    "    {'criterion': ['gini'], 'max_depth': [None, 10], 'n_estimators': [50, 100, 150], 'class_weight': [None, 'balanced', 'balanced_subsample']}\n",
    "]\n",
    "\n",
    "grid_search = GridSearchCV(estimator = forest, param_grid = parameters, scoring = 'accuracy', cv = 10, n_jobs = -1)\n",
    "grid_search = grid_search.fit(X_train, y_train)\n",
    "\n",
    "best_accuracy = grid_search.best_score_\n",
    "best_parameters = grid_search.best_params_\n",
    "\n",
    "print(round(best_accuracy, 2))\n",
    "print(best_parameters)"
   ]
  },
  {
   "cell_type": "code",
   "execution_count": 33,
   "metadata": {},
   "outputs": [
    {
     "name": "stdout",
     "output_type": "stream",
     "text": [
      "              precision    recall  f1-score   support\n",
      "\n",
      "           1       0.78      0.88      0.82        40\n",
      "           2       0.55      0.72      0.62        32\n",
      "           3       0.33      0.10      0.15        21\n",
      "\n",
      "    accuracy                           0.65        93\n",
      "   macro avg       0.55      0.56      0.53        93\n",
      "weighted avg       0.60      0.65      0.60        93\n",
      "\n",
      "              precision    recall  f1-score   support\n",
      "\n",
      "           1       0.65      0.79      0.71        39\n",
      "           2       0.61      0.58      0.59        33\n",
      "           3       0.54      0.35      0.42        20\n",
      "\n",
      "    accuracy                           0.62        92\n",
      "   macro avg       0.60      0.57      0.58        92\n",
      "weighted avg       0.61      0.62      0.61        92\n",
      "\n",
      "              precision    recall  f1-score   support\n",
      "\n",
      "           1       0.69      0.69      0.69        39\n",
      "           2       0.50      0.67      0.57        33\n",
      "           3       0.33      0.15      0.21        20\n",
      "\n",
      "    accuracy                           0.57        92\n",
      "   macro avg       0.51      0.50      0.49        92\n",
      "weighted avg       0.55      0.57      0.54        92\n",
      "\n",
      "              precision    recall  f1-score   support\n",
      "\n",
      "           1       0.72      0.85      0.78        39\n",
      "           2       0.61      0.76      0.68        33\n",
      "           3       0.60      0.15      0.24        20\n",
      "\n",
      "    accuracy                           0.66        92\n",
      "   macro avg       0.64      0.58      0.56        92\n",
      "weighted avg       0.65      0.66      0.62        92\n",
      "\n",
      "              precision    recall  f1-score   support\n",
      "\n",
      "           1       0.67      0.72      0.69        39\n",
      "           2       0.46      0.56      0.51        32\n",
      "           3       0.45      0.24      0.31        21\n",
      "\n",
      "    accuracy                           0.55        92\n",
      "   macro avg       0.53      0.51      0.50        92\n",
      "weighted avg       0.55      0.55      0.54        92\n",
      "\n",
      "              precision    recall  f1-score   support\n",
      "\n",
      "           1       0.74      0.74      0.74        39\n",
      "           2       0.53      0.66      0.58        32\n",
      "           3       0.62      0.38      0.47        21\n",
      "\n",
      "    accuracy                           0.63        92\n",
      "   macro avg       0.63      0.59      0.60        92\n",
      "weighted avg       0.64      0.63      0.63        92\n",
      "\n",
      "              precision    recall  f1-score   support\n",
      "\n",
      "           1       0.62      0.79      0.70        39\n",
      "           2       0.46      0.56      0.51        32\n",
      "           3       0.33      0.05      0.08        21\n",
      "\n",
      "    accuracy                           0.54        92\n",
      "   macro avg       0.47      0.47      0.43        92\n",
      "weighted avg       0.50      0.54      0.49        92\n",
      "\n",
      "              precision    recall  f1-score   support\n",
      "\n",
      "           1       0.66      0.79      0.72        39\n",
      "           2       0.59      0.59      0.59        32\n",
      "           3       0.38      0.24      0.29        21\n",
      "\n",
      "    accuracy                           0.60        92\n",
      "   macro avg       0.55      0.54      0.54        92\n",
      "weighted avg       0.57      0.60      0.58        92\n",
      "\n",
      "              precision    recall  f1-score   support\n",
      "\n",
      "           1       0.71      0.90      0.80        39\n",
      "           2       0.61      0.53      0.57        32\n",
      "           3       0.67      0.48      0.56        21\n",
      "\n",
      "    accuracy                           0.67        92\n",
      "   macro avg       0.66      0.63      0.64        92\n",
      "weighted avg       0.67      0.67      0.66        92\n",
      "\n",
      "              precision    recall  f1-score   support\n",
      "\n",
      "           1       0.69      0.79      0.74        39\n",
      "           2       0.62      0.66      0.64        32\n",
      "           3       0.46      0.29      0.35        21\n",
      "\n",
      "    accuracy                           0.63        92\n",
      "   macro avg       0.59      0.58      0.58        92\n",
      "weighted avg       0.61      0.63      0.61        92\n",
      "\n"
     ]
    }
   ],
   "source": [
    "# Calculating the accuracy and other metrics\n",
    "\n",
    "from sklearn.metrics import f1_score, accuracy_score, precision_score, recall_score, make_scorer\n",
    "from sklearn.metrics import accuracy_score\n",
    "from sklearn.metrics import classification_report\n",
    "from sklearn.model_selection import cross_val_score\n",
    "from sklearn.model_selection import StratifiedKFold, KFold\n",
    "\n",
    "target_names = ['melanoma', 'bcc', 'scc']\n",
    "\n",
    "# Variables for average classification report\n",
    "originalclass = []\n",
    "predictedclass = []\n",
    "\n",
    "#Make our customer score\n",
    "def classification_report_with_accuracy_score(y_test, y_pred):\n",
    "    originalclass.extend(y_test)\n",
    "    predictedclass.extend(y_pred)\n",
    "    print(classification_report(y_test, y_pred))\n",
    "    return accuracy_score(y_test, y_pred) # return accuracy score\n",
    "\n",
    "outer_cv = StratifiedKFold(n_splits=10, shuffle=True, random_state=0)\n",
    "\n",
    "# Nested CV with parameter optimization\n",
    "nested_score = cross_val_score(estimator = forest, X = X, y = Y, cv=outer_cv, scoring=make_scorer(classification_report_with_accuracy_score))"
   ]
  },
  {
   "cell_type": "code",
   "execution_count": 35,
   "metadata": {},
   "outputs": [
    {
     "name": "stdout",
     "output_type": "stream",
     "text": [
      "              precision    recall  f1-score   support\n",
      "\n",
      "    melanoma       0.69      0.80      0.74       391\n",
      "         bcc       0.55      0.63      0.59       323\n",
      "         scc       0.50      0.24      0.32       207\n",
      "\n",
      "    accuracy                           0.61       921\n",
      "   macro avg       0.58      0.56      0.55       921\n",
      "weighted avg       0.60      0.61      0.59       921\n",
      "\n"
     ]
    }
   ],
   "source": [
    "# Average values in classification report for all folds in a K-fold Cross-validation  \n",
    "print(classification_report(originalclass, predictedclass, target_names=target_names))"
   ]
  },
  {
   "cell_type": "markdown",
   "metadata": {},
   "source": [
    "# Artificial Neural Network"
   ]
  },
  {
   "cell_type": "code",
   "execution_count": 41,
   "metadata": {},
   "outputs": [
    {
     "name": "stderr",
     "output_type": "stream",
     "text": [
      "Using TensorFlow backend.\n"
     ]
    }
   ],
   "source": [
    "# Importing the Keras libraries and packages\n",
    "import keras\n",
    "import sys\n",
    "from keras.models import Sequential\n",
    "from keras.layers import Dense\n",
    "from keras.utils import to_categorical\n",
    "from keras.callbacks import EarlyStopping, ModelCheckpoint"
   ]
  },
  {
   "cell_type": "code",
   "execution_count": 44,
   "metadata": {},
   "outputs": [],
   "source": [
    "# Create categorical input for predictor\n",
    "\n",
    "from sklearn.preprocessing import OneHotEncoder\n",
    "onehotencoder = OneHotEncoder(handle_unknown='ignore')\n",
    "y_array = Y.values\n",
    "y_df = y_array.reshape(-1, 1)\n",
    "\n",
    "y_train_array = y_train.values\n",
    "y_train = y_train_array.reshape(-1, 1)\n",
    "\n",
    "y_test_array = y_test.values\n",
    "y_test = y_test_array.reshape(-1, 1)\n",
    "\n",
    "y_use = onehotencoder.fit_transform(y_df).toarray()\n",
    "y_binary = onehotencoder.fit_transform(y_train).toarray()\n",
    "y_compare = onehotencoder.fit_transform(y_test).toarray()"
   ]
  },
  {
   "cell_type": "code",
   "execution_count": 45,
   "metadata": {},
   "outputs": [
    {
     "name": "stdout",
     "output_type": "stream",
     "text": [
      "Epoch 1/100\n",
      "736/736 [==============================] - 0s 258us/step - loss: 1.0145 - accuracy: 0.4946\n",
      "Epoch 2/100\n",
      "736/736 [==============================] - 0s 98us/step - loss: 0.9069 - accuracy: 0.5815\n",
      "Epoch 3/100\n",
      "736/736 [==============================] - 0s 94us/step - loss: 0.8506 - accuracy: 0.6250\n",
      "Epoch 4/100\n",
      "736/736 [==============================] - 0s 97us/step - loss: 0.7901 - accuracy: 0.6413\n",
      "Epoch 5/100\n",
      "736/736 [==============================] - 0s 97us/step - loss: 0.7590 - accuracy: 0.6386\n",
      "Epoch 6/100\n",
      "736/736 [==============================] - 0s 96us/step - loss: 0.7254 - accuracy: 0.6617\n",
      "Epoch 7/100\n",
      "736/736 [==============================] - 0s 99us/step - loss: 0.7082 - accuracy: 0.6726\n",
      "Epoch 8/100\n",
      "736/736 [==============================] - 0s 94us/step - loss: 0.6919 - accuracy: 0.6698\n",
      "Epoch 9/100\n",
      "736/736 [==============================] - 0s 95us/step - loss: 0.6628 - accuracy: 0.6875\n",
      "Epoch 10/100\n",
      "736/736 [==============================] - 0s 100us/step - loss: 0.6495 - accuracy: 0.7147\n",
      "Epoch 11/100\n",
      "736/736 [==============================] - 0s 97us/step - loss: 0.6402 - accuracy: 0.7092\n",
      "Epoch 12/100\n",
      "736/736 [==============================] - 0s 97us/step - loss: 0.6182 - accuracy: 0.7106 0s - loss: 0.6291 - accuracy: 0.71\n",
      "Epoch 13/100\n",
      "736/736 [==============================] - 0s 95us/step - loss: 0.6077 - accuracy: 0.7364\n",
      "Epoch 14/100\n",
      "736/736 [==============================] - 0s 99us/step - loss: 0.5951 - accuracy: 0.7310\n",
      "Epoch 15/100\n",
      "736/736 [==============================] - 0s 97us/step - loss: 0.5946 - accuracy: 0.7351\n",
      "Epoch 16/100\n",
      "736/736 [==============================] - 0s 94us/step - loss: 0.5553 - accuracy: 0.7717\n",
      "Epoch 17/100\n",
      "736/736 [==============================] - 0s 104us/step - loss: 0.5571 - accuracy: 0.75820s - loss: 0.5399 - accuracy: 0.76\n",
      "Epoch 18/100\n",
      "736/736 [==============================] - 0s 101us/step - loss: 0.5278 - accuracy: 0.7731\n",
      "Epoch 19/100\n",
      "736/736 [==============================] - 0s 96us/step - loss: 0.5050 - accuracy: 0.8043\n",
      "Epoch 20/100\n",
      "736/736 [==============================] - 0s 94us/step - loss: 0.4976 - accuracy: 0.7840\n",
      "Epoch 21/100\n",
      "736/736 [==============================] - 0s 103us/step - loss: 0.4895 - accuracy: 0.79080s - loss: 0.4898 - accuracy: 0.79\n",
      "Epoch 22/100\n",
      "736/736 [==============================] - 0s 97us/step - loss: 0.4741 - accuracy: 0.8071\n",
      "Epoch 23/100\n",
      "736/736 [==============================] - 0s 101us/step - loss: 0.4585 - accuracy: 0.8125\n",
      "Epoch 24/100\n",
      "736/736 [==============================] - 0s 95us/step - loss: 0.4641 - accuracy: 0.8071\n",
      "Epoch 25/100\n",
      "736/736 [==============================] - 0s 96us/step - loss: 0.4397 - accuracy: 0.8125\n",
      "Epoch 26/100\n",
      "736/736 [==============================] - 0s 105us/step - loss: 0.4346 - accuracy: 0.8207\n",
      "Epoch 27/100\n",
      "736/736 [==============================] - 0s 100us/step - loss: 0.4234 - accuracy: 0.8166\n",
      "Epoch 28/100\n",
      "736/736 [==============================] - 0s 108us/step - loss: 0.4171 - accuracy: 0.8234\n",
      "Epoch 29/100\n",
      "736/736 [==============================] - 0s 107us/step - loss: 0.3936 - accuracy: 0.8424\n",
      "Epoch 30/100\n",
      "736/736 [==============================] - 0s 110us/step - loss: 0.3864 - accuracy: 0.8383\n",
      "Epoch 31/100\n",
      "736/736 [==============================] - 0s 104us/step - loss: 0.3840 - accuracy: 0.8505\n",
      "Epoch 32/100\n",
      "736/736 [==============================] - 0s 120us/step - loss: 0.3787 - accuracy: 0.8451\n",
      "Epoch 33/100\n",
      "736/736 [==============================] - 0s 95us/step - loss: 0.3679 - accuracy: 0.8465\n",
      "Epoch 34/100\n",
      "736/736 [==============================] - 0s 90us/step - loss: 0.3628 - accuracy: 0.8546\n",
      "Epoch 35/100\n",
      "736/736 [==============================] - 0s 85us/step - loss: 0.3419 - accuracy: 0.8614\n",
      "Epoch 36/100\n",
      "736/736 [==============================] - 0s 84us/step - loss: 0.3562 - accuracy: 0.8492\n",
      "Epoch 37/100\n",
      "736/736 [==============================] - 0s 92us/step - loss: 0.3209 - accuracy: 0.8614\n",
      "Epoch 38/100\n",
      "736/736 [==============================] - 0s 90us/step - loss: 0.3231 - accuracy: 0.8845\n",
      "Epoch 39/100\n",
      "736/736 [==============================] - 0s 89us/step - loss: 0.3127 - accuracy: 0.8750\n",
      "Epoch 40/100\n",
      "736/736 [==============================] - 0s 91us/step - loss: 0.3048 - accuracy: 0.8859\n",
      "Epoch 41/100\n",
      "736/736 [==============================] - 0s 89us/step - loss: 0.2996 - accuracy: 0.8899\n",
      "Epoch 42/100\n",
      "736/736 [==============================] - 0s 90us/step - loss: 0.2932 - accuracy: 0.8818\n",
      "Epoch 43/100\n",
      "736/736 [==============================] - 0s 87us/step - loss: 0.2812 - accuracy: 0.8995\n",
      "Epoch 44/100\n",
      "736/736 [==============================] - 0s 85us/step - loss: 0.2704 - accuracy: 0.8981\n",
      "Epoch 45/100\n",
      "736/736 [==============================] - 0s 85us/step - loss: 0.2732 - accuracy: 0.8954\n",
      "Epoch 46/100\n",
      "736/736 [==============================] - 0s 84us/step - loss: 0.2582 - accuracy: 0.9035\n",
      "Epoch 47/100\n",
      "736/736 [==============================] - 0s 93us/step - loss: 0.2468 - accuracy: 0.9117\n",
      "Epoch 48/100\n",
      "736/736 [==============================] - 0s 105us/step - loss: 0.2475 - accuracy: 0.9076\n",
      "Epoch 49/100\n",
      "736/736 [==============================] - 0s 114us/step - loss: 0.2373 - accuracy: 0.9076\n",
      "Epoch 50/100\n",
      "736/736 [==============================] - 0s 93us/step - loss: 0.2374 - accuracy: 0.9171\n",
      "Epoch 51/100\n",
      "736/736 [==============================] - 0s 97us/step - loss: 0.2239 - accuracy: 0.9266\n",
      "Epoch 52/100\n",
      "736/736 [==============================] - 0s 94us/step - loss: 0.2261 - accuracy: 0.9185\n",
      "Epoch 53/100\n",
      "736/736 [==============================] - 0s 98us/step - loss: 0.2217 - accuracy: 0.9144\n",
      "Epoch 54/100\n",
      "736/736 [==============================] - 0s 123us/step - loss: 0.2057 - accuracy: 0.9348\n",
      "Epoch 55/100\n",
      "736/736 [==============================] - 0s 87us/step - loss: 0.1959 - accuracy: 0.9402\n",
      "Epoch 56/100\n",
      "736/736 [==============================] - 0s 92us/step - loss: 0.2038 - accuracy: 0.9266\n",
      "Epoch 57/100\n",
      "736/736 [==============================] - 0s 97us/step - loss: 0.2138 - accuracy: 0.9185\n",
      "Epoch 58/100\n",
      "736/736 [==============================] - 0s 89us/step - loss: 0.1800 - accuracy: 0.9511\n",
      "Epoch 59/100\n",
      "736/736 [==============================] - 0s 91us/step - loss: 0.1747 - accuracy: 0.9443\n",
      "Epoch 60/100\n",
      "736/736 [==============================] - 0s 94us/step - loss: 0.1790 - accuracy: 0.9443\n",
      "Epoch 61/100\n",
      "736/736 [==============================] - 0s 89us/step - loss: 0.1646 - accuracy: 0.9511\n",
      "Epoch 62/100\n",
      "736/736 [==============================] - 0s 89us/step - loss: 0.1901 - accuracy: 0.9293\n",
      "Epoch 63/100\n",
      "736/736 [==============================] - 0s 91us/step - loss: 0.1505 - accuracy: 0.9552\n",
      "Epoch 64/100\n",
      "736/736 [==============================] - 0s 102us/step - loss: 0.1473 - accuracy: 0.9606\n",
      "Epoch 65/100\n",
      "736/736 [==============================] - 0s 103us/step - loss: 0.1485 - accuracy: 0.9565\n",
      "Epoch 66/100\n",
      "736/736 [==============================] - 0s 103us/step - loss: 0.1562 - accuracy: 0.9538\n",
      "Epoch 67/100\n",
      "736/736 [==============================] - ETA: 0s - loss: 0.1568 - accuracy: 0.95 - 0s 107us/step - loss: 0.1587 - accuracy: 0.9484\n",
      "Epoch 68/100\n",
      "736/736 [==============================] - 0s 88us/step - loss: 0.1506 - accuracy: 0.9484\n",
      "Epoch 69/100\n",
      "736/736 [==============================] - 0s 98us/step - loss: 0.1385 - accuracy: 0.9552\n",
      "Epoch 70/100\n",
      "736/736 [==============================] - 0s 102us/step - loss: 0.1551 - accuracy: 0.9497\n",
      "Epoch 71/100\n",
      "736/736 [==============================] - 0s 99us/step - loss: 0.1274 - accuracy: 0.9674\n",
      "Epoch 72/100\n",
      "736/736 [==============================] - 0s 92us/step - loss: 0.1272 - accuracy: 0.9606\n",
      "Epoch 73/100\n",
      "736/736 [==============================] - 0s 87us/step - loss: 0.1225 - accuracy: 0.9647\n",
      "Epoch 74/100\n",
      "736/736 [==============================] - 0s 87us/step - loss: 0.1206 - accuracy: 0.9674\n",
      "Epoch 75/100\n",
      "736/736 [==============================] - 0s 97us/step - loss: 0.1309 - accuracy: 0.9592\n",
      "Epoch 76/100\n",
      "736/736 [==============================] - 0s 103us/step - loss: 0.1132 - accuracy: 0.9674\n",
      "Epoch 77/100\n",
      "736/736 [==============================] - 0s 101us/step - loss: 0.1061 - accuracy: 0.9715\n",
      "Epoch 78/100\n",
      "736/736 [==============================] - 0s 99us/step - loss: 0.1030 - accuracy: 0.9715\n"
     ]
    },
    {
     "name": "stdout",
     "output_type": "stream",
     "text": [
      "Epoch 79/100\n",
      "736/736 [==============================] - 0s 88us/step - loss: 0.1186 - accuracy: 0.9742\n",
      "Epoch 80/100\n",
      "736/736 [==============================] - 0s 86us/step - loss: 0.0941 - accuracy: 0.9755\n",
      "Epoch 81/100\n",
      "736/736 [==============================] - 0s 88us/step - loss: 0.0821 - accuracy: 0.9769\n",
      "Epoch 82/100\n",
      "736/736 [==============================] - ETA: 0s - loss: 0.0879 - accuracy: 0.97 - 0s 85us/step - loss: 0.0865 - accuracy: 0.9810\n",
      "Epoch 83/100\n",
      "736/736 [==============================] - 0s 85us/step - loss: 0.0882 - accuracy: 0.9755\n",
      "Epoch 84/100\n",
      "736/736 [==============================] - 0s 87us/step - loss: 0.0808 - accuracy: 0.9796\n",
      "Epoch 85/100\n",
      "736/736 [==============================] - 0s 92us/step - loss: 0.0730 - accuracy: 0.9823\n",
      "Epoch 86/100\n",
      "736/736 [==============================] - 0s 101us/step - loss: 0.0810 - accuracy: 0.9742\n",
      "Epoch 87/100\n",
      "736/736 [==============================] - 0s 102us/step - loss: 0.0952 - accuracy: 0.9715\n",
      "Epoch 88/100\n",
      "736/736 [==============================] - 0s 102us/step - loss: 0.1141 - accuracy: 0.9606\n",
      "Epoch 89/100\n",
      "736/736 [==============================] - 0s 101us/step - loss: 0.2094 - accuracy: 0.9334\n",
      "Epoch 90/100\n",
      "736/736 [==============================] - 0s 98us/step - loss: 0.1844 - accuracy: 0.9334\n",
      "Epoch 91/100\n",
      "736/736 [==============================] - 0s 101us/step - loss: 0.0811 - accuracy: 0.9837\n",
      "Epoch 92/100\n",
      "736/736 [==============================] - 0s 93us/step - loss: 0.0719 - accuracy: 0.9783\n",
      "Epoch 93/100\n",
      "736/736 [==============================] - 0s 87us/step - loss: 0.0698 - accuracy: 0.9810\n",
      "Epoch 94/100\n",
      "736/736 [==============================] - 0s 87us/step - loss: 0.0639 - accuracy: 0.9864\n",
      "Epoch 95/100\n",
      "736/736 [==============================] - 0s 86us/step - loss: 0.0630 - accuracy: 0.9837\n",
      "Epoch 96/100\n",
      "736/736 [==============================] - 0s 89us/step - loss: 0.0868 - accuracy: 0.9728\n",
      "Epoch 97/100\n",
      "736/736 [==============================] - 0s 89us/step - loss: 0.0547 - accuracy: 0.9851\n",
      "Epoch 98/100\n",
      "736/736 [==============================] - 0s 85us/step - loss: 0.0538 - accuracy: 0.9905\n",
      "Epoch 99/100\n",
      "736/736 [==============================] - 0s 87us/step - loss: 0.0570 - accuracy: 0.9851\n",
      "Epoch 100/100\n",
      "736/736 [==============================] - 0s 85us/step - loss: 0.0658 - accuracy: 0.9783\n"
     ]
    },
    {
     "data": {
      "text/plain": [
       "<keras.callbacks.callbacks.History at 0x2887a717748>"
      ]
     },
     "execution_count": 45,
     "metadata": {},
     "output_type": "execute_result"
    }
   ],
   "source": [
    "# Initializing the ANN\n",
    "ann = Sequential()\n",
    "\n",
    "# Adding the input & hidden layer\n",
    "ann.add(Dense(32, activation = 'relu', input_shape = (26,)))\n",
    "ann.add(Dense(32, activation = 'relu'))\n",
    "ann.add(Dense(32, activation = 'relu'))\n",
    "ann.add(Dense(3, activation = 'softmax'))\n",
    "ann.compile(loss='categorical_crossentropy', optimizer='adam', metrics=['accuracy'])\n",
    "\n",
    "ann.fit(X_train, y_binary, batch_size = 10, epochs = 100)"
   ]
  },
  {
   "cell_type": "code",
   "execution_count": 46,
   "metadata": {},
   "outputs": [],
   "source": [
    "# Create threshold for multi-predictor\n",
    "y_pred = ann.predict(X_test)\n",
    "y_pred = (y_pred > 0.5)"
   ]
  },
  {
   "cell_type": "code",
   "execution_count": 47,
   "metadata": {},
   "outputs": [
    {
     "data": {
      "text/plain": [
       "array([[60, 13,  6],\n",
       "       [11, 37, 12],\n",
       "       [ 7, 17, 22]], dtype=int64)"
      ]
     },
     "execution_count": 47,
     "metadata": {},
     "output_type": "execute_result"
    }
   ],
   "source": [
    "# Making the confusion matrix\n",
    "from sklearn.metrics import confusion_matrix\n",
    "from sklearn.metrics import multilabel_confusion_matrix\n",
    "\n",
    "cm = confusion_matrix(y_compare.argmax(axis=1), y_pred.argmax(axis=1))\n",
    "\n",
    "cm"
   ]
  },
  {
   "cell_type": "code",
   "execution_count": 50,
   "metadata": {},
   "outputs": [
    {
     "name": "stderr",
     "output_type": "stream",
     "text": [
      "C:\\Users\\ravee\\Anaconda3\\lib\\site-packages\\sklearn\\metrics\\_classification.py:1272: UndefinedMetricWarning: Precision and F-score are ill-defined and being set to 0.0 in labels with no predicted samples. Use `zero_division` parameter to control this behavior.\n",
      "  _warn_prf(average, modifier, msg_start, len(result))\n"
     ]
    },
    {
     "name": "stdout",
     "output_type": "stream",
     "text": [
      "              precision    recall  f1-score   support\n",
      "\n",
      "           0       0.66      0.88      0.75        40\n",
      "           1       0.50      0.62      0.56        32\n",
      "           2       0.00      0.00      0.00        21\n",
      "\n",
      "    accuracy                           0.59        93\n",
      "   macro avg       0.39      0.50      0.44        93\n",
      "weighted avg       0.46      0.59      0.51        93\n",
      "\n"
     ]
    },
    {
     "name": "stderr",
     "output_type": "stream",
     "text": [
      "C:\\Users\\ravee\\Anaconda3\\lib\\site-packages\\sklearn\\metrics\\_classification.py:1272: UndefinedMetricWarning: Precision and F-score are ill-defined and being set to 0.0 in labels with no predicted samples. Use `zero_division` parameter to control this behavior.\n",
      "  _warn_prf(average, modifier, msg_start, len(result))\n"
     ]
    },
    {
     "name": "stdout",
     "output_type": "stream",
     "text": [
      "              precision    recall  f1-score   support\n",
      "\n",
      "           0       0.55      0.59      0.57        39\n",
      "           1       0.48      0.73      0.58        33\n",
      "           2       0.00      0.00      0.00        20\n",
      "\n",
      "    accuracy                           0.51        92\n",
      "   macro avg       0.34      0.44      0.38        92\n",
      "weighted avg       0.40      0.51      0.45        92\n",
      "\n"
     ]
    },
    {
     "name": "stderr",
     "output_type": "stream",
     "text": [
      "C:\\Users\\ravee\\Anaconda3\\lib\\site-packages\\sklearn\\metrics\\_classification.py:1272: UndefinedMetricWarning: Precision and F-score are ill-defined and being set to 0.0 in labels with no predicted samples. Use `zero_division` parameter to control this behavior.\n",
      "  _warn_prf(average, modifier, msg_start, len(result))\n"
     ]
    },
    {
     "name": "stdout",
     "output_type": "stream",
     "text": [
      "              precision    recall  f1-score   support\n",
      "\n",
      "           0       0.73      0.69      0.71        39\n",
      "           1       0.53      0.88      0.66        33\n",
      "           2       0.00      0.00      0.00        20\n",
      "\n",
      "    accuracy                           0.61        92\n",
      "   macro avg       0.42      0.52      0.46        92\n",
      "weighted avg       0.50      0.61      0.54        92\n",
      "\n"
     ]
    },
    {
     "name": "stderr",
     "output_type": "stream",
     "text": [
      "C:\\Users\\ravee\\Anaconda3\\lib\\site-packages\\sklearn\\metrics\\_classification.py:1272: UndefinedMetricWarning: Precision and F-score are ill-defined and being set to 0.0 in labels with no predicted samples. Use `zero_division` parameter to control this behavior.\n",
      "  _warn_prf(average, modifier, msg_start, len(result))\n"
     ]
    },
    {
     "name": "stdout",
     "output_type": "stream",
     "text": [
      "              precision    recall  f1-score   support\n",
      "\n",
      "           0       0.59      0.97      0.74        39\n",
      "           1       0.54      0.45      0.49        33\n",
      "           2       0.00      0.00      0.00        20\n",
      "\n",
      "    accuracy                           0.58        92\n",
      "   macro avg       0.38      0.48      0.41        92\n",
      "weighted avg       0.44      0.58      0.49        92\n",
      "\n"
     ]
    },
    {
     "name": "stderr",
     "output_type": "stream",
     "text": [
      "C:\\Users\\ravee\\Anaconda3\\lib\\site-packages\\sklearn\\metrics\\_classification.py:1272: UndefinedMetricWarning: Precision and F-score are ill-defined and being set to 0.0 in labels with no predicted samples. Use `zero_division` parameter to control this behavior.\n",
      "  _warn_prf(average, modifier, msg_start, len(result))\n"
     ]
    },
    {
     "name": "stdout",
     "output_type": "stream",
     "text": [
      "              precision    recall  f1-score   support\n",
      "\n",
      "           0       0.48      0.87      0.62        39\n",
      "           1       0.43      0.28      0.34        32\n",
      "           2       0.00      0.00      0.00        21\n",
      "\n",
      "    accuracy                           0.47        92\n",
      "   macro avg       0.30      0.38      0.32        92\n",
      "weighted avg       0.35      0.47      0.38        92\n",
      "\n"
     ]
    },
    {
     "name": "stderr",
     "output_type": "stream",
     "text": [
      "C:\\Users\\ravee\\Anaconda3\\lib\\site-packages\\sklearn\\metrics\\_classification.py:1272: UndefinedMetricWarning: Precision and F-score are ill-defined and being set to 0.0 in labels with no predicted samples. Use `zero_division` parameter to control this behavior.\n",
      "  _warn_prf(average, modifier, msg_start, len(result))\n"
     ]
    },
    {
     "name": "stdout",
     "output_type": "stream",
     "text": [
      "              precision    recall  f1-score   support\n",
      "\n",
      "           0       0.68      0.67      0.68        39\n",
      "           1       0.44      0.75      0.56        32\n",
      "           2       0.00      0.00      0.00        21\n",
      "\n",
      "    accuracy                           0.54        92\n",
      "   macro avg       0.38      0.47      0.41        92\n",
      "weighted avg       0.44      0.54      0.48        92\n",
      "\n"
     ]
    },
    {
     "name": "stderr",
     "output_type": "stream",
     "text": [
      "C:\\Users\\ravee\\Anaconda3\\lib\\site-packages\\sklearn\\metrics\\_classification.py:1272: UndefinedMetricWarning: Precision and F-score are ill-defined and being set to 0.0 in labels with no predicted samples. Use `zero_division` parameter to control this behavior.\n",
      "  _warn_prf(average, modifier, msg_start, len(result))\n"
     ]
    },
    {
     "name": "stdout",
     "output_type": "stream",
     "text": [
      "              precision    recall  f1-score   support\n",
      "\n",
      "           0       0.55      0.92      0.69        39\n",
      "           1       0.62      0.50      0.55        32\n",
      "           2       0.00      0.00      0.00        21\n",
      "\n",
      "    accuracy                           0.57        92\n",
      "   macro avg       0.39      0.47      0.41        92\n",
      "weighted avg       0.45      0.57      0.48        92\n",
      "\n"
     ]
    },
    {
     "name": "stderr",
     "output_type": "stream",
     "text": [
      "C:\\Users\\ravee\\Anaconda3\\lib\\site-packages\\sklearn\\metrics\\_classification.py:1272: UndefinedMetricWarning: Precision and F-score are ill-defined and being set to 0.0 in labels with no predicted samples. Use `zero_division` parameter to control this behavior.\n",
      "  _warn_prf(average, modifier, msg_start, len(result))\n"
     ]
    },
    {
     "name": "stdout",
     "output_type": "stream",
     "text": [
      "              precision    recall  f1-score   support\n",
      "\n",
      "           0       0.67      0.72      0.69        39\n",
      "           1       0.50      0.78      0.61        32\n",
      "           2       0.00      0.00      0.00        21\n",
      "\n",
      "    accuracy                           0.58        92\n",
      "   macro avg       0.39      0.50      0.43        92\n",
      "weighted avg       0.46      0.58      0.51        92\n",
      "\n"
     ]
    },
    {
     "name": "stderr",
     "output_type": "stream",
     "text": [
      "C:\\Users\\ravee\\Anaconda3\\lib\\site-packages\\sklearn\\metrics\\_classification.py:1272: UndefinedMetricWarning: Precision and F-score are ill-defined and being set to 0.0 in labels with no predicted samples. Use `zero_division` parameter to control this behavior.\n",
      "  _warn_prf(average, modifier, msg_start, len(result))\n"
     ]
    },
    {
     "name": "stdout",
     "output_type": "stream",
     "text": [
      "              precision    recall  f1-score   support\n",
      "\n",
      "           0       0.49      0.85      0.62        39\n",
      "           1       0.56      0.44      0.49        32\n",
      "           2       0.00      0.00      0.00        21\n",
      "\n",
      "    accuracy                           0.51        92\n",
      "   macro avg       0.35      0.43      0.37        92\n",
      "weighted avg       0.40      0.51      0.43        92\n",
      "\n",
      "              precision    recall  f1-score   support\n",
      "\n",
      "           0       0.64      0.77      0.70        39\n",
      "           1       0.56      0.78      0.65        32\n",
      "           2       0.00      0.00      0.00        21\n",
      "\n",
      "    accuracy                           0.60        92\n",
      "   macro avg       0.40      0.52      0.45        92\n",
      "weighted avg       0.46      0.60      0.52        92\n",
      "\n"
     ]
    },
    {
     "name": "stderr",
     "output_type": "stream",
     "text": [
      "C:\\Users\\ravee\\Anaconda3\\lib\\site-packages\\sklearn\\metrics\\_classification.py:1272: UndefinedMetricWarning: Precision and F-score are ill-defined and being set to 0.0 in labels with no predicted samples. Use `zero_division` parameter to control this behavior.\n",
      "  _warn_prf(average, modifier, msg_start, len(result))\n"
     ]
    }
   ],
   "source": [
    "# Calculating the accuracy and other metrics\n",
    "#, scoring=make_scorer(classification_report_with_accuracy_score)\n",
    "\n",
    "from sklearn.model_selection import StratifiedKFold, cross_val_score\n",
    "from tensorflow.keras.wrappers.scikit_learn import KerasRegressor\n",
    "from sklearn.metrics import accuracy_score\n",
    "from sklearn.metrics import classification_report\n",
    "\n",
    "target_names = ['melanoma', 'bcc', 'scc']\n",
    "\n",
    "# Variables for average classification report\n",
    "originalclass = []\n",
    "predictedclass = []\n",
    "\n",
    "#Build the Model\n",
    "def buildmodel():\n",
    "    ann = Sequential()\n",
    "    ann.add(Dense(16, activation = 'relu', input_shape = (26,)))\n",
    "    ann.add(Dense(16, activation = 'relu'))\n",
    "    ann.add(Dense(3, activation = 'softmax'))\n",
    "    ann.compile(loss='categorical_crossentropy', optimizer='adam', metrics=['accuracy', 'categorical_accuracy'])\n",
    "    return(ann)\n",
    "\n",
    "\n",
    "#Make our customer score\n",
    "def classification_report_with_accuracy_score(y_use, y_pred):\n",
    "    originalclass.extend(y_use)\n",
    "    predictedclass.extend(y_pred.argmax(axis=1))\n",
    "    print(classification_report(y_use, y_pred.argmax(axis=1)))\n",
    "    return accuracy_score(y_use, y_pred.argmax(axis=1)) # return accuracy score\n",
    "\n",
    "outer_cv = StratifiedKFold(n_splits=10, shuffle=True, random_state=0)\n",
    "\n",
    "# Nested CV with parameter optimization\n",
    "ann = KerasRegressor(build_fn=buildmodel, epochs = 100, batch_size = 10, verbose = 0)\n",
    "nested_score = cross_val_score(estimator = ann, X = X, y = y_use.argmax(1), cv=outer_cv, scoring=make_scorer(classification_report_with_accuracy_score))"
   ]
  },
  {
   "cell_type": "code",
   "execution_count": 52,
   "metadata": {},
   "outputs": [
    {
     "name": "stdout",
     "output_type": "stream",
     "text": [
      "              precision    recall  f1-score   support\n",
      "\n",
      "    melanoma       0.59      0.79      0.68       391\n",
      "         bcc       0.51      0.62      0.56       323\n",
      "         scc       0.00      0.00      0.00       207\n",
      "\n",
      "    accuracy                           0.55       921\n",
      "   macro avg       0.37      0.47      0.41       921\n",
      "weighted avg       0.43      0.55      0.48       921\n",
      "\n"
     ]
    }
   ],
   "source": [
    "# Average values in classification report for all folds in a K-fold Cross-validation  \n",
    "print(classification_report(originalclass, predictedclass, target_names=target_names))"
   ]
  },
  {
   "cell_type": "markdown",
   "metadata": {},
   "source": [
    "# XGBoost"
   ]
  },
  {
   "cell_type": "code",
   "execution_count": 36,
   "metadata": {},
   "outputs": [
    {
     "data": {
      "text/plain": [
       "XGBClassifier(base_score=0.5, booster='dart', colsample_bylevel=1,\n",
       "              colsample_bynode=1, colsample_bytree=1, eta=0.001, gamma=0,\n",
       "              learning_rate=0.1, max_delta_step=0, max_depth=3,\n",
       "              min_child_weight=1, missing=None, n_estimators=200, n_jobs=1,\n",
       "              normalize_type='forest', nthread=None, objective='multi:softprob',\n",
       "              random_state=0, rate_drop=0.2, reg_alpha=0, reg_lambda=1,\n",
       "              scale_pos_weight=1, seed=None, silent=None, skip_drop=0.1,\n",
       "              subsample=1, verbosity=1)"
      ]
     },
     "execution_count": 36,
     "metadata": {},
     "output_type": "execute_result"
    }
   ],
   "source": [
    "# Importing the XGB Library and fit it to the data\n",
    "from xgboost import XGBClassifier\n",
    "xgb = XGBClassifier(objective = 'multi:softmax', booster = 'dart', n_estimators = 200, eta = 0.001, max_depth = 3, normalize_type = 'forest', skip_drop = 0.1, rate_drop = 0.2)\n",
    "xgb.fit(X_train, y_train)"
   ]
  },
  {
   "cell_type": "code",
   "execution_count": 37,
   "metadata": {},
   "outputs": [
    {
     "data": {
      "text/plain": [
       "array([[63, 13,  3],\n",
       "       [17, 34,  9],\n",
       "       [11, 27,  8]], dtype=int64)"
      ]
     },
     "execution_count": 37,
     "metadata": {},
     "output_type": "execute_result"
    }
   ],
   "source": [
    "# Predicting the test set result\n",
    "y_pred = xgb.predict(X_test)\n",
    "\n",
    "# Making the confusion matrix\n",
    "from sklearn.metrics import confusion_matrix\n",
    "from sklearn.metrics import multilabel_confusion_matrix\n",
    "\n",
    "cm = confusion_matrix(y_test, y_pred)\n",
    "cm2 = multilabel_confusion_matrix(y_test, y_pred)\n",
    "\n",
    "cm"
   ]
  },
  {
   "cell_type": "code",
   "execution_count": 38,
   "metadata": {},
   "outputs": [
    {
     "name": "stdout",
     "output_type": "stream",
     "text": [
      "0.6155127730470197\n"
     ]
    }
   ],
   "source": [
    "# Applying K-Fold Cross Validation\n",
    "\n",
    "from sklearn.model_selection import cross_val_score\n",
    "accuracies = cross_val_score(estimator = xgb, X = X_train, y = y_train, cv = 10, n_jobs = -1)\n",
    "print(np.mean(accuracies))"
   ]
  },
  {
   "cell_type": "code",
   "execution_count": 15,
   "metadata": {},
   "outputs": [
    {
     "name": "stdout",
     "output_type": "stream",
     "text": [
      "0.63\n",
      "{'booster': 'dart', 'n_estimators': 200, 'normalize_type': 'forest', 'objective': 'multi:softmax', 'rate_drop': 0.2, 'sample_type': 'weighted', 'skip_drop': 0.1}\n"
     ]
    }
   ],
   "source": [
    "# Applying Grid Search to Find the Best Hyperparameter\n",
    "# {'objective': ['multi:softmax'], 'n_estimators': [25, 50, 100], 'booster': ['gbtree'], 'eta': [0.001, 0.002, 0.004], 'max_depth':[3], 'gamma': [0], 'subsample': [1], 'sampling_method': ['uniform', 'gradient_based']},\n",
    "# {'objective': ['multi:softmax'], 'n_estimators': [109], 'booster': ['dart'], 'sample_type': ['uniform', 'weighted'], 'normalize_type': ['tree', 'forest'], 'rate_drop': [0, 0.1, 0.2], 'skip_drop': [0, 0.1, 0.2]}\n",
    "# {'objective': ['multi:softmax'], 'n_estimators': [10, 25, 50], 'booster': ['gblinear'], 'feature_selector': ['greedy', 'cyclic', 'random', 'shuffle', 'thrifty'], 'updater': ['shotgun', 'coord_descent'], 'lambda': [0, 0.5, 1], 'alpha': [0, 0.5, 1]}\n",
    "\n",
    "from sklearn.model_selection import GridSearchCV\n",
    "parameters = [\n",
    "    {'objective': ['multi:softmax'], 'n_estimators': [25, 50, 100], 'booster': ['gbtree'], 'eta': [0.001, 0.002, 0.004], 'max_depth':[3], 'gamma': [0], 'subsample': [1], 'sampling_method': ['uniform', 'gradient_based']},\n",
    "    {'objective': ['multi:softmax'], 'n_estimators': [100, 200, 300], 'booster': ['dart'], 'sample_type': ['uniform', 'weighted'], 'normalize_type': ['tree', 'forest'], 'rate_drop': [0, 0.1, 0.2], 'skip_drop': [0, 0.1, 0.2]}\n",
    "]\n",
    "\n",
    "grid_search = GridSearchCV(estimator = xgb, param_grid = parameters, scoring = 'accuracy', cv = 5, n_jobs = -1)\n",
    "grid_search = grid_search.fit(X_train, y_train)\n",
    "\n",
    "best_accuracy = grid_search.best_score_\n",
    "best_parameters = grid_search.best_params_\n",
    "\n",
    "print(round(best_accuracy, 2))\n",
    "print(best_parameters)"
   ]
  },
  {
   "cell_type": "code",
   "execution_count": 39,
   "metadata": {},
   "outputs": [
    {
     "name": "stdout",
     "output_type": "stream",
     "text": [
      "              precision    recall  f1-score   support\n",
      "\n",
      "           1       0.75      0.90      0.82        40\n",
      "           2       0.54      0.62      0.58        32\n",
      "           3       0.38      0.14      0.21        21\n",
      "\n",
      "    accuracy                           0.63        93\n",
      "   macro avg       0.56      0.56      0.53        93\n",
      "weighted avg       0.59      0.63      0.60        93\n",
      "\n",
      "              precision    recall  f1-score   support\n",
      "\n",
      "           1       0.68      0.92      0.78        39\n",
      "           2       0.79      0.58      0.67        33\n",
      "           3       0.67      0.50      0.57        20\n",
      "\n",
      "    accuracy                           0.71        92\n",
      "   macro avg       0.71      0.67      0.67        92\n",
      "weighted avg       0.72      0.71      0.70        92\n",
      "\n",
      "              precision    recall  f1-score   support\n",
      "\n",
      "           1       0.73      0.69      0.71        39\n",
      "           2       0.63      0.82      0.71        33\n",
      "           3       0.50      0.30      0.37        20\n",
      "\n",
      "    accuracy                           0.65        92\n",
      "   macro avg       0.62      0.60      0.60        92\n",
      "weighted avg       0.64      0.65      0.64        92\n",
      "\n",
      "              precision    recall  f1-score   support\n",
      "\n",
      "           1       0.74      0.87      0.80        39\n",
      "           2       0.60      0.76      0.67        33\n",
      "           3       0.50      0.10      0.17        20\n",
      "\n",
      "    accuracy                           0.66        92\n",
      "   macro avg       0.61      0.58      0.54        92\n",
      "weighted avg       0.64      0.66      0.61        92\n",
      "\n",
      "              precision    recall  f1-score   support\n",
      "\n",
      "           1       0.66      0.69      0.68        39\n",
      "           2       0.45      0.47      0.46        32\n",
      "           3       0.33      0.29      0.31        21\n",
      "\n",
      "    accuracy                           0.52        92\n",
      "   macro avg       0.48      0.48      0.48        92\n",
      "weighted avg       0.51      0.52      0.52        92\n",
      "\n",
      "              precision    recall  f1-score   support\n",
      "\n",
      "           1       0.76      0.64      0.69        39\n",
      "           2       0.51      0.72      0.60        32\n",
      "           3       0.64      0.43      0.51        21\n",
      "\n",
      "    accuracy                           0.62        92\n",
      "   macro avg       0.64      0.60      0.60        92\n",
      "weighted avg       0.65      0.62      0.62        92\n",
      "\n",
      "              precision    recall  f1-score   support\n",
      "\n",
      "           1       0.70      0.79      0.75        39\n",
      "           2       0.53      0.66      0.58        32\n",
      "           3       0.50      0.19      0.28        21\n",
      "\n",
      "    accuracy                           0.61        92\n",
      "   macro avg       0.58      0.55      0.54        92\n",
      "weighted avg       0.60      0.61      0.58        92\n",
      "\n",
      "              precision    recall  f1-score   support\n",
      "\n",
      "           1       0.66      0.79      0.72        39\n",
      "           2       0.59      0.62      0.61        32\n",
      "           3       0.45      0.24      0.31        21\n",
      "\n",
      "    accuracy                           0.61        92\n",
      "   macro avg       0.57      0.55      0.55        92\n",
      "weighted avg       0.59      0.61      0.59        92\n",
      "\n",
      "              precision    recall  f1-score   support\n",
      "\n",
      "           1       0.77      0.87      0.82        39\n",
      "           2       0.55      0.66      0.60        32\n",
      "           3       0.60      0.29      0.39        21\n",
      "\n",
      "    accuracy                           0.66        92\n",
      "   macro avg       0.64      0.60      0.60        92\n",
      "weighted avg       0.66      0.66      0.64        92\n",
      "\n",
      "              precision    recall  f1-score   support\n",
      "\n",
      "           1       0.69      0.79      0.74        39\n",
      "           2       0.58      0.59      0.58        32\n",
      "           3       0.43      0.29      0.34        21\n",
      "\n",
      "    accuracy                           0.61        92\n",
      "   macro avg       0.56      0.56      0.56        92\n",
      "weighted avg       0.59      0.61      0.59        92\n",
      "\n"
     ]
    }
   ],
   "source": [
    "# Calculating the accuracy and other metrics\n",
    "\n",
    "from sklearn.metrics import f1_score, accuracy_score, precision_score, recall_score, make_scorer\n",
    "from sklearn.metrics import accuracy_score\n",
    "from sklearn.metrics import classification_report\n",
    "from sklearn.model_selection import cross_val_score\n",
    "from sklearn.model_selection import StratifiedKFold, KFold\n",
    "\n",
    "target_names = ['melanoma', 'bcc', 'scc']\n",
    "\n",
    "# Variables for average classification report\n",
    "originalclass = []\n",
    "predictedclass = []\n",
    "\n",
    "#Make our customer score\n",
    "def classification_report_with_accuracy_score(y_test, y_pred):\n",
    "    originalclass.extend(y_test)\n",
    "    predictedclass.extend(y_pred)\n",
    "    print(classification_report(y_test, y_pred))\n",
    "    return accuracy_score(y_test, y_pred) # return accuracy score\n",
    "\n",
    "outer_cv = StratifiedKFold(n_splits=10, shuffle=True, random_state=0)\n",
    "\n",
    "# Nested CV with parameter optimization\n",
    "nested_score = cross_val_score(estimator = xgb, X = X, y = Y, cv=outer_cv, scoring=make_scorer(classification_report_with_accuracy_score))"
   ]
  },
  {
   "cell_type": "code",
   "execution_count": 40,
   "metadata": {},
   "outputs": [
    {
     "name": "stdout",
     "output_type": "stream",
     "text": [
      "              precision    recall  f1-score   support\n",
      "\n",
      "    melanoma       0.71      0.80      0.75       391\n",
      "         bcc       0.57      0.65      0.61       323\n",
      "         scc       0.50      0.28      0.36       207\n",
      "\n",
      "    accuracy                           0.63       921\n",
      "   macro avg       0.59      0.57      0.57       921\n",
      "weighted avg       0.61      0.63      0.61       921\n",
      "\n"
     ]
    }
   ],
   "source": [
    "# Average values in classification report for all folds in a K-fold Cross-validation  \n",
    "print(classification_report(originalclass, predictedclass, target_names=target_names))"
   ]
  },
  {
   "cell_type": "code",
   "execution_count": null,
   "metadata": {},
   "outputs": [],
   "source": []
  }
 ],
 "metadata": {
  "kernelspec": {
   "display_name": "Python 3",
   "language": "python",
   "name": "python3"
  },
  "language_info": {
   "codemirror_mode": {
    "name": "ipython",
    "version": 3
   },
   "file_extension": ".py",
   "mimetype": "text/x-python",
   "name": "python",
   "nbconvert_exporter": "python",
   "pygments_lexer": "ipython3",
   "version": "3.7.6"
  }
 },
 "nbformat": 4,
 "nbformat_minor": 4
}
