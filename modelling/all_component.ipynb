{
 "cells": [
  {
   "cell_type": "code",
   "execution_count": 2,
   "metadata": {},
   "outputs": [],
   "source": [
    "from numpy.random import seed\n",
    "seed(0)\n",
    "import numpy as np\n",
    "import pandas as pd\n",
    "import matplotlib.pyplot as plt"
   ]
  },
  {
   "cell_type": "code",
   "execution_count": 3,
   "metadata": {},
   "outputs": [],
   "source": [
    "dataset = pd.read_csv('C:/Users/ravee/Jupyter/Skin-Cancer-Classification/data/data3.csv', header=None)\n",
    "X = dataset.iloc[:, 0:61].values\n",
    "Y = dataset.iloc[:, 62].values"
   ]
  },
  {
   "cell_type": "code",
   "execution_count": 4,
   "metadata": {},
   "outputs": [
    {
     "data": {
      "text/html": [
       "<div>\n",
       "<style scoped>\n",
       "    .dataframe tbody tr th:only-of-type {\n",
       "        vertical-align: middle;\n",
       "    }\n",
       "\n",
       "    .dataframe tbody tr th {\n",
       "        vertical-align: top;\n",
       "    }\n",
       "\n",
       "    .dataframe thead th {\n",
       "        text-align: right;\n",
       "    }\n",
       "</style>\n",
       "<table border=\"1\" class=\"dataframe\">\n",
       "  <thead>\n",
       "    <tr style=\"text-align: right;\">\n",
       "      <th></th>\n",
       "      <th>0</th>\n",
       "      <th>1</th>\n",
       "      <th>2</th>\n",
       "      <th>3</th>\n",
       "      <th>4</th>\n",
       "      <th>5</th>\n",
       "      <th>6</th>\n",
       "      <th>7</th>\n",
       "      <th>8</th>\n",
       "      <th>9</th>\n",
       "      <th>...</th>\n",
       "      <th>53</th>\n",
       "      <th>54</th>\n",
       "      <th>55</th>\n",
       "      <th>56</th>\n",
       "      <th>57</th>\n",
       "      <th>58</th>\n",
       "      <th>59</th>\n",
       "      <th>60</th>\n",
       "      <th>61</th>\n",
       "      <th>62</th>\n",
       "    </tr>\n",
       "  </thead>\n",
       "  <tbody>\n",
       "    <tr>\n",
       "      <th>0</th>\n",
       "      <td>67.374839</td>\n",
       "      <td>63.340830</td>\n",
       "      <td>112.263065</td>\n",
       "      <td>55.737793</td>\n",
       "      <td>52.463312</td>\n",
       "      <td>91.327983</td>\n",
       "      <td>-0.033850</td>\n",
       "      <td>-0.032123</td>\n",
       "      <td>1.950237</td>\n",
       "      <td>1.981436</td>\n",
       "      <td>...</td>\n",
       "      <td>0.265834</td>\n",
       "      <td>0.995359</td>\n",
       "      <td>0.993634</td>\n",
       "      <td>0.995237</td>\n",
       "      <td>0.993613</td>\n",
       "      <td>0.076647</td>\n",
       "      <td>0.070833</td>\n",
       "      <td>0.076181</td>\n",
       "      <td>0.070668</td>\n",
       "      <td>1</td>\n",
       "    </tr>\n",
       "    <tr>\n",
       "      <th>1</th>\n",
       "      <td>52.300242</td>\n",
       "      <td>82.668481</td>\n",
       "      <td>137.457367</td>\n",
       "      <td>49.635884</td>\n",
       "      <td>75.253828</td>\n",
       "      <td>121.745271</td>\n",
       "      <td>0.134248</td>\n",
       "      <td>-0.066341</td>\n",
       "      <td>2.015002</td>\n",
       "      <td>1.921611</td>\n",
       "      <td>...</td>\n",
       "      <td>0.273114</td>\n",
       "      <td>0.992255</td>\n",
       "      <td>0.989582</td>\n",
       "      <td>0.991906</td>\n",
       "      <td>0.989182</td>\n",
       "      <td>0.082170</td>\n",
       "      <td>0.075512</td>\n",
       "      <td>0.081259</td>\n",
       "      <td>0.074591</td>\n",
       "      <td>1</td>\n",
       "    </tr>\n",
       "    <tr>\n",
       "      <th>2</th>\n",
       "      <td>76.645767</td>\n",
       "      <td>92.508307</td>\n",
       "      <td>148.996292</td>\n",
       "      <td>57.005206</td>\n",
       "      <td>67.924656</td>\n",
       "      <td>106.590925</td>\n",
       "      <td>0.057193</td>\n",
       "      <td>-0.050644</td>\n",
       "      <td>2.050657</td>\n",
       "      <td>2.006676</td>\n",
       "      <td>...</td>\n",
       "      <td>0.301113</td>\n",
       "      <td>0.994811</td>\n",
       "      <td>0.991801</td>\n",
       "      <td>0.993681</td>\n",
       "      <td>0.992398</td>\n",
       "      <td>0.099094</td>\n",
       "      <td>0.089396</td>\n",
       "      <td>0.095389</td>\n",
       "      <td>0.090669</td>\n",
       "      <td>1</td>\n",
       "    </tr>\n",
       "    <tr>\n",
       "      <th>3</th>\n",
       "      <td>11.615295</td>\n",
       "      <td>17.457194</td>\n",
       "      <td>27.802821</td>\n",
       "      <td>33.447148</td>\n",
       "      <td>48.877430</td>\n",
       "      <td>76.538757</td>\n",
       "      <td>0.077760</td>\n",
       "      <td>-0.670850</td>\n",
       "      <td>2.222315</td>\n",
       "      <td>2.906180</td>\n",
       "      <td>...</td>\n",
       "      <td>0.423064</td>\n",
       "      <td>0.987305</td>\n",
       "      <td>0.982757</td>\n",
       "      <td>0.987311</td>\n",
       "      <td>0.983433</td>\n",
       "      <td>0.187850</td>\n",
       "      <td>0.178278</td>\n",
       "      <td>0.187297</td>\n",
       "      <td>0.178983</td>\n",
       "      <td>1</td>\n",
       "    </tr>\n",
       "    <tr>\n",
       "      <th>4</th>\n",
       "      <td>46.209791</td>\n",
       "      <td>62.129607</td>\n",
       "      <td>101.965131</td>\n",
       "      <td>57.775117</td>\n",
       "      <td>75.554092</td>\n",
       "      <td>121.504623</td>\n",
       "      <td>0.146505</td>\n",
       "      <td>0.023257</td>\n",
       "      <td>1.958404</td>\n",
       "      <td>2.095389</td>\n",
       "      <td>...</td>\n",
       "      <td>0.304045</td>\n",
       "      <td>0.977174</td>\n",
       "      <td>0.968355</td>\n",
       "      <td>0.978547</td>\n",
       "      <td>0.970506</td>\n",
       "      <td>0.100605</td>\n",
       "      <td>0.090623</td>\n",
       "      <td>0.102176</td>\n",
       "      <td>0.092443</td>\n",
       "      <td>1</td>\n",
       "    </tr>\n",
       "    <tr>\n",
       "      <th>...</th>\n",
       "      <td>...</td>\n",
       "      <td>...</td>\n",
       "      <td>...</td>\n",
       "      <td>...</td>\n",
       "      <td>...</td>\n",
       "      <td>...</td>\n",
       "      <td>...</td>\n",
       "      <td>...</td>\n",
       "      <td>...</td>\n",
       "      <td>...</td>\n",
       "      <td>...</td>\n",
       "      <td>...</td>\n",
       "      <td>...</td>\n",
       "      <td>...</td>\n",
       "      <td>...</td>\n",
       "      <td>...</td>\n",
       "      <td>...</td>\n",
       "      <td>...</td>\n",
       "      <td>...</td>\n",
       "      <td>...</td>\n",
       "      <td>...</td>\n",
       "    </tr>\n",
       "    <tr>\n",
       "      <th>916</th>\n",
       "      <td>82.044136</td>\n",
       "      <td>83.768722</td>\n",
       "      <td>120.307772</td>\n",
       "      <td>89.496293</td>\n",
       "      <td>89.498528</td>\n",
       "      <td>126.176035</td>\n",
       "      <td>-0.343964</td>\n",
       "      <td>0.078492</td>\n",
       "      <td>2.098720</td>\n",
       "      <td>2.102761</td>\n",
       "      <td>...</td>\n",
       "      <td>0.307004</td>\n",
       "      <td>0.986611</td>\n",
       "      <td>0.981444</td>\n",
       "      <td>0.985685</td>\n",
       "      <td>0.981658</td>\n",
       "      <td>0.103888</td>\n",
       "      <td>0.093887</td>\n",
       "      <td>0.101714</td>\n",
       "      <td>0.094251</td>\n",
       "      <td>3</td>\n",
       "    </tr>\n",
       "    <tr>\n",
       "      <th>917</th>\n",
       "      <td>83.793886</td>\n",
       "      <td>79.859312</td>\n",
       "      <td>125.879575</td>\n",
       "      <td>71.660835</td>\n",
       "      <td>68.321651</td>\n",
       "      <td>105.753942</td>\n",
       "      <td>-0.102729</td>\n",
       "      <td>0.081119</td>\n",
       "      <td>1.886748</td>\n",
       "      <td>2.044726</td>\n",
       "      <td>...</td>\n",
       "      <td>0.259094</td>\n",
       "      <td>0.985333</td>\n",
       "      <td>0.981057</td>\n",
       "      <td>0.985738</td>\n",
       "      <td>0.980027</td>\n",
       "      <td>0.075938</td>\n",
       "      <td>0.068317</td>\n",
       "      <td>0.076629</td>\n",
       "      <td>0.067130</td>\n",
       "      <td>3</td>\n",
       "    </tr>\n",
       "    <tr>\n",
       "      <th>918</th>\n",
       "      <td>82.216087</td>\n",
       "      <td>63.332681</td>\n",
       "      <td>107.854577</td>\n",
       "      <td>81.626920</td>\n",
       "      <td>64.118188</td>\n",
       "      <td>105.661451</td>\n",
       "      <td>0.564203</td>\n",
       "      <td>-0.436504</td>\n",
       "      <td>2.575104</td>\n",
       "      <td>2.013750</td>\n",
       "      <td>...</td>\n",
       "      <td>0.240843</td>\n",
       "      <td>0.990387</td>\n",
       "      <td>0.987980</td>\n",
       "      <td>0.990964</td>\n",
       "      <td>0.987218</td>\n",
       "      <td>0.064741</td>\n",
       "      <td>0.059560</td>\n",
       "      <td>0.066223</td>\n",
       "      <td>0.058005</td>\n",
       "      <td>3</td>\n",
       "    </tr>\n",
       "    <tr>\n",
       "      <th>919</th>\n",
       "      <td>58.616472</td>\n",
       "      <td>58.697274</td>\n",
       "      <td>100.933170</td>\n",
       "      <td>65.831264</td>\n",
       "      <td>65.248561</td>\n",
       "      <td>108.459665</td>\n",
       "      <td>0.098212</td>\n",
       "      <td>-0.091045</td>\n",
       "      <td>1.973688</td>\n",
       "      <td>1.955592</td>\n",
       "      <td>...</td>\n",
       "      <td>0.216076</td>\n",
       "      <td>0.987113</td>\n",
       "      <td>0.982953</td>\n",
       "      <td>0.986366</td>\n",
       "      <td>0.981405</td>\n",
       "      <td>0.054408</td>\n",
       "      <td>0.048588</td>\n",
       "      <td>0.053877</td>\n",
       "      <td>0.046689</td>\n",
       "      <td>3</td>\n",
       "    </tr>\n",
       "    <tr>\n",
       "      <th>920</th>\n",
       "      <td>52.713607</td>\n",
       "      <td>51.453149</td>\n",
       "      <td>63.965753</td>\n",
       "      <td>91.518674</td>\n",
       "      <td>88.980855</td>\n",
       "      <td>109.625390</td>\n",
       "      <td>-0.345323</td>\n",
       "      <td>-0.031681</td>\n",
       "      <td>2.127617</td>\n",
       "      <td>1.802747</td>\n",
       "      <td>...</td>\n",
       "      <td>0.469022</td>\n",
       "      <td>0.957642</td>\n",
       "      <td>0.939005</td>\n",
       "      <td>0.951739</td>\n",
       "      <td>0.939479</td>\n",
       "      <td>0.240873</td>\n",
       "      <td>0.220280</td>\n",
       "      <td>0.233988</td>\n",
       "      <td>0.219982</td>\n",
       "      <td>3</td>\n",
       "    </tr>\n",
       "  </tbody>\n",
       "</table>\n",
       "<p>921 rows × 63 columns</p>\n",
       "</div>"
      ],
      "text/plain": [
       "            0          1           2          3          4           5   \\\n",
       "0    67.374839  63.340830  112.263065  55.737793  52.463312   91.327983   \n",
       "1    52.300242  82.668481  137.457367  49.635884  75.253828  121.745271   \n",
       "2    76.645767  92.508307  148.996292  57.005206  67.924656  106.590925   \n",
       "3    11.615295  17.457194   27.802821  33.447148  48.877430   76.538757   \n",
       "4    46.209791  62.129607  101.965131  57.775117  75.554092  121.504623   \n",
       "..         ...        ...         ...        ...        ...         ...   \n",
       "916  82.044136  83.768722  120.307772  89.496293  89.498528  126.176035   \n",
       "917  83.793886  79.859312  125.879575  71.660835  68.321651  105.753942   \n",
       "918  82.216087  63.332681  107.854577  81.626920  64.118188  105.661451   \n",
       "919  58.616472  58.697274  100.933170  65.831264  65.248561  108.459665   \n",
       "920  52.713607  51.453149   63.965753  91.518674  88.980855  109.625390   \n",
       "\n",
       "           6         7         8         9   ...        53        54  \\\n",
       "0   -0.033850 -0.032123  1.950237  1.981436  ...  0.265834  0.995359   \n",
       "1    0.134248 -0.066341  2.015002  1.921611  ...  0.273114  0.992255   \n",
       "2    0.057193 -0.050644  2.050657  2.006676  ...  0.301113  0.994811   \n",
       "3    0.077760 -0.670850  2.222315  2.906180  ...  0.423064  0.987305   \n",
       "4    0.146505  0.023257  1.958404  2.095389  ...  0.304045  0.977174   \n",
       "..        ...       ...       ...       ...  ...       ...       ...   \n",
       "916 -0.343964  0.078492  2.098720  2.102761  ...  0.307004  0.986611   \n",
       "917 -0.102729  0.081119  1.886748  2.044726  ...  0.259094  0.985333   \n",
       "918  0.564203 -0.436504  2.575104  2.013750  ...  0.240843  0.990387   \n",
       "919  0.098212 -0.091045  1.973688  1.955592  ...  0.216076  0.987113   \n",
       "920 -0.345323 -0.031681  2.127617  1.802747  ...  0.469022  0.957642   \n",
       "\n",
       "           55        56        57        58        59        60        61  62  \n",
       "0    0.993634  0.995237  0.993613  0.076647  0.070833  0.076181  0.070668   1  \n",
       "1    0.989582  0.991906  0.989182  0.082170  0.075512  0.081259  0.074591   1  \n",
       "2    0.991801  0.993681  0.992398  0.099094  0.089396  0.095389  0.090669   1  \n",
       "3    0.982757  0.987311  0.983433  0.187850  0.178278  0.187297  0.178983   1  \n",
       "4    0.968355  0.978547  0.970506  0.100605  0.090623  0.102176  0.092443   1  \n",
       "..        ...       ...       ...       ...       ...       ...       ...  ..  \n",
       "916  0.981444  0.985685  0.981658  0.103888  0.093887  0.101714  0.094251   3  \n",
       "917  0.981057  0.985738  0.980027  0.075938  0.068317  0.076629  0.067130   3  \n",
       "918  0.987980  0.990964  0.987218  0.064741  0.059560  0.066223  0.058005   3  \n",
       "919  0.982953  0.986366  0.981405  0.054408  0.048588  0.053877  0.046689   3  \n",
       "920  0.939005  0.951739  0.939479  0.240873  0.220280  0.233988  0.219982   3  \n",
       "\n",
       "[921 rows x 63 columns]"
      ]
     },
     "execution_count": 4,
     "metadata": {},
     "output_type": "execute_result"
    }
   ],
   "source": [
    "# Important information about the data used in this model\n",
    "# 0 - 11    : Color attributes (Mean, Std Dev)\n",
    "# 12 - 37   : LBP attributes (Texture #1)\n",
    "# 38 - 61  : GLCM attributes (Texture #2)\n",
    "\n",
    "# 62 : Identifier\n",
    "\n",
    "# 1 = Melanoma\n",
    "# 2 = Basal Cell Carcinoma\n",
    "# 3 = Squamous Cell Carcinoma\n",
    "\n",
    "dataset"
   ]
  },
  {
   "cell_type": "code",
   "execution_count": 6,
   "metadata": {},
   "outputs": [],
   "source": [
    "# Splitting the dataset\n",
    "from sklearn.model_selection import train_test_split\n",
    "X_train, X_test, y_train, y_test = train_test_split(X, Y, test_size = 0.2, random_state = 0)"
   ]
  },
  {
   "cell_type": "code",
   "execution_count": 7,
   "metadata": {},
   "outputs": [
    {
     "data": {
      "text/plain": [
       "736"
      ]
     },
     "execution_count": 7,
     "metadata": {},
     "output_type": "execute_result"
    }
   ],
   "source": [
    "len(X_train)"
   ]
  },
  {
   "cell_type": "code",
   "execution_count": 8,
   "metadata": {},
   "outputs": [
    {
     "data": {
      "text/plain": [
       "185"
      ]
     },
     "execution_count": 8,
     "metadata": {},
     "output_type": "execute_result"
    }
   ],
   "source": [
    "len(X_test)"
   ]
  },
  {
   "cell_type": "code",
   "execution_count": 9,
   "metadata": {},
   "outputs": [],
   "source": [
    "# Feature Scaling\n",
    "from sklearn.preprocessing import StandardScaler\n",
    "sc_X = StandardScaler()\n",
    "X = sc_X.fit_transform(X)\n",
    "X_train = sc_X.fit_transform(X_train)\n",
    "X_test = sc_X.transform(X_test)"
   ]
  },
  {
   "cell_type": "code",
   "execution_count": 12,
   "metadata": {},
   "outputs": [
    {
     "data": {
      "text/plain": [
       "array([-2.34419918, -1.95484002, -1.48497517, -2.6656988 , -1.96092465,\n",
       "       -1.45043885, -0.26154909, -0.69429462,  0.33026858,  0.24021607,\n",
       "        0.798922  ,  0.90585091, -1.33827607, -1.39843814, -1.51733163,\n",
       "       -0.9415383 , -0.23172429,  0.45497378,  1.25208962,  1.8001798 ,\n",
       "        2.50289295,  2.61697842,  2.78274551,  2.47232673,  2.09322706,\n",
       "        1.39510846,  1.69710425,  1.45551505,  1.44648114,  0.82861778,\n",
       "        1.30258822,  0.70867792,  0.63649836, -0.46630852, -1.02071653,\n",
       "       -1.43666705, -0.45572584, -1.59858272, -0.78971024, -0.67342411,\n",
       "       -0.70137639, -0.70021868, -0.92742581, -0.80691207, -0.80483084,\n",
       "       -0.85757385,  0.95660696,  0.83757261,  0.82595463,  0.89375047,\n",
       "       -1.01680535, -0.97204584, -1.04181874, -0.95578465,  1.1899139 ,\n",
       "        1.17815021,  1.16725874,  1.1887328 , -0.92976239, -0.89442221,\n",
       "       -0.94835319])"
      ]
     },
     "execution_count": 12,
     "metadata": {},
     "output_type": "execute_result"
    }
   ],
   "source": [
    "X_train[40]"
   ]
  },
  {
   "cell_type": "markdown",
   "metadata": {},
   "source": [
    "# Naive Bayes"
   ]
  },
  {
   "cell_type": "code",
   "execution_count": 152,
   "metadata": {},
   "outputs": [
    {
     "data": {
      "text/plain": [
       "GaussianNB(priors=None, var_smoothing=1e-09)"
      ]
     },
     "execution_count": 152,
     "metadata": {},
     "output_type": "execute_result"
    }
   ],
   "source": [
    "# Implementation of Naive Bayes\n",
    "# Fitting Naive Bayes to the training set\n",
    "\n",
    "from sklearn.naive_bayes import GaussianNB\n",
    "nb = GaussianNB()\n",
    "nb.fit(X_train, y_train)"
   ]
  },
  {
   "cell_type": "code",
   "execution_count": 153,
   "metadata": {},
   "outputs": [
    {
     "data": {
      "text/plain": [
       "array([[64,  4, 11],\n",
       "       [26, 22, 12],\n",
       "       [21, 10, 15]], dtype=int64)"
      ]
     },
     "execution_count": 153,
     "metadata": {},
     "output_type": "execute_result"
    }
   ],
   "source": [
    "# Predicting the test set result\n",
    "y_pred = nb.predict(X_test)\n",
    "\n",
    "# Making the confusion matrix\n",
    "from sklearn.metrics import confusion_matrix\n",
    "from sklearn.metrics import multilabel_confusion_matrix\n",
    "\n",
    "cm = confusion_matrix(y_test, y_pred)\n",
    "cm2 = multilabel_confusion_matrix(y_test, y_pred)\n",
    "\n",
    "cm"
   ]
  },
  {
   "cell_type": "code",
   "execution_count": 154,
   "metadata": {},
   "outputs": [
    {
     "name": "stdout",
     "output_type": "stream",
     "text": [
      "0.573435764531655\n"
     ]
    }
   ],
   "source": [
    "# Applying K-Fold Cross Validation\n",
    "\n",
    "from sklearn.model_selection import cross_val_score\n",
    "accuracies = cross_val_score(estimator = nb, X = X_train, y = y_train, cv = 10)\n",
    "print(np.mean(accuracies))"
   ]
  },
  {
   "cell_type": "code",
   "execution_count": 155,
   "metadata": {},
   "outputs": [
    {
     "name": "stdout",
     "output_type": "stream",
     "text": [
      "              precision    recall  f1-score   support\n",
      "\n",
      "           1       0.62      0.80      0.70        40\n",
      "           2       0.54      0.22      0.31        32\n",
      "           3       0.43      0.57      0.49        21\n",
      "\n",
      "    accuracy                           0.55        93\n",
      "   macro avg       0.53      0.53      0.50        93\n",
      "weighted avg       0.55      0.55      0.52        93\n",
      "\n",
      "              precision    recall  f1-score   support\n",
      "\n",
      "           1       0.67      0.87      0.76        39\n",
      "           2       0.65      0.45      0.54        33\n",
      "           3       0.33      0.30      0.32        20\n",
      "\n",
      "    accuracy                           0.60        92\n",
      "   macro avg       0.55      0.54      0.54        92\n",
      "weighted avg       0.59      0.60      0.58        92\n",
      "\n",
      "              precision    recall  f1-score   support\n",
      "\n",
      "           1       0.67      0.77      0.71        39\n",
      "           2       0.64      0.42      0.51        33\n",
      "           3       0.48      0.60      0.53        20\n",
      "\n",
      "    accuracy                           0.61        92\n",
      "   macro avg       0.59      0.60      0.59        92\n",
      "weighted avg       0.62      0.61      0.60        92\n",
      "\n",
      "              precision    recall  f1-score   support\n",
      "\n",
      "           1       0.68      0.92      0.78        39\n",
      "           2       0.60      0.36      0.45        33\n",
      "           3       0.42      0.40      0.41        20\n",
      "\n",
      "    accuracy                           0.61        92\n",
      "   macro avg       0.57      0.56      0.55        92\n",
      "weighted avg       0.59      0.61      0.58        92\n",
      "\n",
      "              precision    recall  f1-score   support\n",
      "\n",
      "           1       0.70      0.67      0.68        39\n",
      "           2       0.65      0.62      0.63        32\n",
      "           3       0.46      0.52      0.49        21\n",
      "\n",
      "    accuracy                           0.62        92\n",
      "   macro avg       0.60      0.61      0.60        92\n",
      "weighted avg       0.63      0.62      0.62        92\n",
      "\n",
      "              precision    recall  f1-score   support\n",
      "\n",
      "           1       0.67      0.67      0.67        39\n",
      "           2       0.48      0.34      0.40        32\n",
      "           3       0.20      0.29      0.24        21\n",
      "\n",
      "    accuracy                           0.47        92\n",
      "   macro avg       0.45      0.43      0.43        92\n",
      "weighted avg       0.49      0.47      0.48        92\n",
      "\n",
      "              precision    recall  f1-score   support\n",
      "\n",
      "           1       0.61      0.85      0.71        39\n",
      "           2       0.64      0.28      0.39        32\n",
      "           3       0.38      0.43      0.40        21\n",
      "\n",
      "    accuracy                           0.55        92\n",
      "   macro avg       0.54      0.52      0.50        92\n",
      "weighted avg       0.57      0.55      0.53        92\n",
      "\n",
      "              precision    recall  f1-score   support\n",
      "\n",
      "           1       0.64      0.82      0.72        39\n",
      "           2       0.55      0.34      0.42        32\n",
      "           3       0.23      0.24      0.23        21\n",
      "\n",
      "    accuracy                           0.52        92\n",
      "   macro avg       0.47      0.47      0.46        92\n",
      "weighted avg       0.51      0.52      0.51        92\n",
      "\n",
      "              precision    recall  f1-score   support\n",
      "\n",
      "           1       0.71      0.82      0.76        39\n",
      "           2       0.65      0.41      0.50        32\n",
      "           3       0.33      0.43      0.38        21\n",
      "\n",
      "    accuracy                           0.59        92\n",
      "   macro avg       0.56      0.55      0.55        92\n",
      "weighted avg       0.60      0.59      0.58        92\n",
      "\n",
      "              precision    recall  f1-score   support\n",
      "\n",
      "           1       0.62      0.74      0.67        39\n",
      "           2       0.72      0.41      0.52        32\n",
      "           3       0.44      0.57      0.50        21\n",
      "\n",
      "    accuracy                           0.59        92\n",
      "   macro avg       0.59      0.57      0.56        92\n",
      "weighted avg       0.61      0.59      0.58        92\n",
      "\n"
     ]
    }
   ],
   "source": [
    "# Calculating the accuracy and other metrics\n",
    "\n",
    "from sklearn.metrics import f1_score, accuracy_score, precision_score, recall_score, make_scorer\n",
    "from sklearn.metrics import accuracy_score\n",
    "from sklearn.metrics import classification_report\n",
    "from sklearn.model_selection import cross_val_score\n",
    "from sklearn.model_selection import StratifiedKFold, KFold\n",
    "\n",
    "target_names = ['melanoma', 'bcc', 'scc']\n",
    "\n",
    "# Variables for average classification report\n",
    "originalclass = []\n",
    "predictedclass = []\n",
    "\n",
    "#Make our customer score\n",
    "def classification_report_with_accuracy_score(y_test, y_pred):\n",
    "    originalclass.extend(y_test)\n",
    "    predictedclass.extend(y_pred)\n",
    "    print(classification_report(y_test, y_pred))\n",
    "    return accuracy_score(y_test, y_pred) # return accuracy score\n",
    "\n",
    "outer_cv = StratifiedKFold(n_splits=10, shuffle=True, random_state=0)\n",
    "\n",
    "# Nested CV with parameter optimization\n",
    "nested_score = cross_val_score(estimator = nb, X = X, y = Y, cv=outer_cv, scoring=make_scorer(classification_report_with_accuracy_score))"
   ]
  },
  {
   "cell_type": "code",
   "execution_count": 156,
   "metadata": {},
   "outputs": [
    {
     "name": "stdout",
     "output_type": "stream",
     "text": [
      "              precision    recall  f1-score   support\n",
      "\n",
      "    melanoma       0.66      0.79      0.72       391\n",
      "         bcc       0.61      0.39      0.47       323\n",
      "         scc       0.37      0.43      0.40       207\n",
      "\n",
      "    accuracy                           0.57       921\n",
      "   macro avg       0.55      0.54      0.53       921\n",
      "weighted avg       0.58      0.57      0.56       921\n",
      "\n"
     ]
    }
   ],
   "source": [
    "# Average values in classification report for all folds in a K-fold Cross-validation  \n",
    "print(classification_report(originalclass, predictedclass, target_names=target_names))"
   ]
  },
  {
   "cell_type": "markdown",
   "metadata": {},
   "source": [
    "# K-Nearest Neighbors (K-NN)"
   ]
  },
  {
   "cell_type": "code",
   "execution_count": 157,
   "metadata": {},
   "outputs": [
    {
     "data": {
      "text/plain": [
       "KNeighborsClassifier(algorithm='auto', leaf_size=30, metric='minkowski',\n",
       "                     metric_params=None, n_jobs=None, n_neighbors=25, p=3,\n",
       "                     weights='distance')"
      ]
     },
     "execution_count": 157,
     "metadata": {},
     "output_type": "execute_result"
    }
   ],
   "source": [
    "from sklearn.neighbors import KNeighborsClassifier\n",
    "knn = KNeighborsClassifier(n_neighbors = 25, metric = 'minkowski', p = 3, weights = 'distance')\n",
    "knn.fit(X_train, y_train)"
   ]
  },
  {
   "cell_type": "code",
   "execution_count": 158,
   "metadata": {},
   "outputs": [
    {
     "data": {
      "text/plain": [
       "array([[72,  6,  1],\n",
       "       [18, 34,  8],\n",
       "       [16, 18, 12]], dtype=int64)"
      ]
     },
     "execution_count": 158,
     "metadata": {},
     "output_type": "execute_result"
    }
   ],
   "source": [
    "# Predicting the test set result\n",
    "y_pred = knn.predict(X_test)\n",
    "\n",
    "# Making the confusion matrix\n",
    "from sklearn.metrics import confusion_matrix\n",
    "from sklearn.metrics import multilabel_confusion_matrix\n",
    "\n",
    "cm = confusion_matrix(y_test, y_pred)\n",
    "cm2 = multilabel_confusion_matrix(y_test, y_pred)\n",
    "\n",
    "cm"
   ]
  },
  {
   "cell_type": "code",
   "execution_count": 159,
   "metadata": {},
   "outputs": [
    {
     "name": "stdout",
     "output_type": "stream",
     "text": [
      "0.6779711218067381\n"
     ]
    }
   ],
   "source": [
    "# Applying K-Fold Cross Validation\n",
    "\n",
    "from sklearn.model_selection import cross_val_score\n",
    "accuracies = cross_val_score(estimator = knn, X = X_train, y = y_train, cv = 10)\n",
    "print(np.mean(accuracies))"
   ]
  },
  {
   "cell_type": "code",
   "execution_count": 18,
   "metadata": {},
   "outputs": [
    {
     "name": "stdout",
     "output_type": "stream",
     "text": [
      "0.68\n",
      "{'metric': 'minkowski', 'n_neighbors': 25, 'p': 3, 'weights': 'distance'}\n"
     ]
    }
   ],
   "source": [
    "# Applying Grid Search to Find the Best Hyperparameter\n",
    "\n",
    "from sklearn.model_selection import GridSearchCV\n",
    "parameters = [\n",
    "    {'n_neighbors': [21, 23, 25, 27, 29], 'weights': ['uniform', 'distance'], 'p': [1, 2, 3], 'metric': ['minkowski']},\n",
    "]\n",
    "\n",
    "grid_search = GridSearchCV(estimator = knn, param_grid = parameters, scoring = 'accuracy', cv = 10, n_jobs = -1)\n",
    "grid_search = grid_search.fit(X_train, y_train)\n",
    "\n",
    "best_accuracy = grid_search.best_score_\n",
    "best_parameters = grid_search.best_params_\n",
    "\n",
    "print(round(best_accuracy, 2))\n",
    "print(best_parameters)"
   ]
  },
  {
   "cell_type": "code",
   "execution_count": 160,
   "metadata": {},
   "outputs": [
    {
     "name": "stdout",
     "output_type": "stream",
     "text": [
      "              precision    recall  f1-score   support\n",
      "\n",
      "           1       0.73      0.90      0.81        40\n",
      "           2       0.56      0.56      0.56        32\n",
      "           3       0.58      0.33      0.42        21\n",
      "\n",
      "    accuracy                           0.66        93\n",
      "   macro avg       0.63      0.60      0.60        93\n",
      "weighted avg       0.64      0.66      0.64        93\n",
      "\n",
      "              precision    recall  f1-score   support\n",
      "\n",
      "           1       0.72      0.92      0.81        39\n",
      "           2       0.83      0.76      0.79        33\n",
      "           3       0.67      0.40      0.50        20\n",
      "\n",
      "    accuracy                           0.75        92\n",
      "   macro avg       0.74      0.69      0.70        92\n",
      "weighted avg       0.75      0.75      0.74        92\n",
      "\n",
      "              precision    recall  f1-score   support\n",
      "\n",
      "           1       0.79      0.87      0.83        39\n",
      "           2       0.71      0.73      0.72        33\n",
      "           3       0.53      0.40      0.46        20\n",
      "\n",
      "    accuracy                           0.72        92\n",
      "   macro avg       0.68      0.67      0.67        92\n",
      "weighted avg       0.70      0.72      0.71        92\n",
      "\n",
      "              precision    recall  f1-score   support\n",
      "\n",
      "           1       0.71      0.92      0.80        39\n",
      "           2       0.63      0.67      0.65        33\n",
      "           3       0.67      0.20      0.31        20\n",
      "\n",
      "    accuracy                           0.67        92\n",
      "   macro avg       0.67      0.60      0.58        92\n",
      "weighted avg       0.67      0.67      0.64        92\n",
      "\n",
      "              precision    recall  f1-score   support\n",
      "\n",
      "           1       0.77      0.69      0.73        39\n",
      "           2       0.63      0.81      0.71        32\n",
      "           3       0.50      0.38      0.43        21\n",
      "\n",
      "    accuracy                           0.66        92\n",
      "   macro avg       0.64      0.63      0.62        92\n",
      "weighted avg       0.66      0.66      0.66        92\n",
      "\n",
      "              precision    recall  f1-score   support\n",
      "\n",
      "           1       0.76      0.90      0.82        39\n",
      "           2       0.70      0.72      0.71        32\n",
      "           3       0.69      0.43      0.53        21\n",
      "\n",
      "    accuracy                           0.73        92\n",
      "   macro avg       0.72      0.68      0.69        92\n",
      "weighted avg       0.72      0.73      0.72        92\n",
      "\n",
      "              precision    recall  f1-score   support\n",
      "\n",
      "           1       0.67      0.97      0.79        39\n",
      "           2       0.68      0.47      0.56        32\n",
      "           3       0.46      0.29      0.35        21\n",
      "\n",
      "    accuracy                           0.64        92\n",
      "   macro avg       0.60      0.58      0.57        92\n",
      "weighted avg       0.63      0.64      0.61        92\n",
      "\n",
      "              precision    recall  f1-score   support\n",
      "\n",
      "           1       0.74      0.87      0.80        39\n",
      "           2       0.68      0.59      0.63        32\n",
      "           3       0.61      0.52      0.56        21\n",
      "\n",
      "    accuracy                           0.70        92\n",
      "   macro avg       0.68      0.66      0.67        92\n",
      "weighted avg       0.69      0.70      0.69        92\n",
      "\n",
      "              precision    recall  f1-score   support\n",
      "\n",
      "           1       0.85      0.85      0.85        39\n",
      "           2       0.64      0.84      0.73        32\n",
      "           3       0.64      0.33      0.44        21\n",
      "\n",
      "    accuracy                           0.73        92\n",
      "   macro avg       0.71      0.67      0.67        92\n",
      "weighted avg       0.73      0.73      0.71        92\n",
      "\n",
      "              precision    recall  f1-score   support\n",
      "\n",
      "           1       0.71      0.82      0.76        39\n",
      "           2       0.55      0.56      0.55        32\n",
      "           3       0.36      0.24      0.29        21\n",
      "\n",
      "    accuracy                           0.60        92\n",
      "   macro avg       0.54      0.54      0.53        92\n",
      "weighted avg       0.57      0.60      0.58        92\n",
      "\n"
     ]
    }
   ],
   "source": [
    "# Calculating the accuracy and other metrics\n",
    "\n",
    "from sklearn.metrics import f1_score, accuracy_score, precision_score, recall_score, make_scorer\n",
    "from sklearn.metrics import accuracy_score\n",
    "from sklearn.metrics import classification_report\n",
    "from sklearn.model_selection import cross_val_score\n",
    "from sklearn.model_selection import StratifiedKFold, KFold\n",
    "\n",
    "target_names = ['melanoma', 'bcc', 'scc']\n",
    "\n",
    "# Variables for average classification report\n",
    "originalclass = []\n",
    "predictedclass = []\n",
    "\n",
    "#Make our customer score\n",
    "def classification_report_with_accuracy_score(y_test, y_pred):\n",
    "    originalclass.extend(y_test)\n",
    "    predictedclass.extend(y_pred)\n",
    "    print(classification_report(y_test, y_pred))\n",
    "    return accuracy_score(y_test, y_pred) # return accuracy score\n",
    "\n",
    "outer_cv = StratifiedKFold(n_splits=10, shuffle=True, random_state=0)\n",
    "\n",
    "# Nested CV with parameter optimization\n",
    "nested_score = cross_val_score(estimator = knn, X = X, y = Y, cv=outer_cv, scoring=make_scorer(classification_report_with_accuracy_score))"
   ]
  },
  {
   "cell_type": "code",
   "execution_count": 161,
   "metadata": {},
   "outputs": [
    {
     "name": "stdout",
     "output_type": "stream",
     "text": [
      "              precision    recall  f1-score   support\n",
      "\n",
      "    melanoma       0.74      0.87      0.80       391\n",
      "         bcc       0.66      0.67      0.66       323\n",
      "         scc       0.56      0.35      0.43       207\n",
      "\n",
      "    accuracy                           0.69       921\n",
      "   macro avg       0.65      0.63      0.63       921\n",
      "weighted avg       0.67      0.69      0.67       921\n",
      "\n"
     ]
    }
   ],
   "source": [
    "# Average values in classification report for all folds in a K-fold Cross-validation  \n",
    "print(classification_report(originalclass, predictedclass, target_names=target_names))"
   ]
  },
  {
   "cell_type": "markdown",
   "metadata": {},
   "source": [
    "# Support Vector Machine (SVM)"
   ]
  },
  {
   "cell_type": "code",
   "execution_count": 162,
   "metadata": {},
   "outputs": [
    {
     "data": {
      "text/plain": [
       "SVC(C=100, break_ties=False, cache_size=200, class_weight=None, coef0=0.0,\n",
       "    decision_function_shape='ovr', degree=3, gamma=0.001, kernel='rbf',\n",
       "    max_iter=-1, probability=False, random_state=0, shrinking=True, tol=0.001,\n",
       "    verbose=False)"
      ]
     },
     "execution_count": 162,
     "metadata": {},
     "output_type": "execute_result"
    }
   ],
   "source": [
    "# Implementation of Support Vector Machine (SVM)\n",
    "# Fitting SVM to the training set\n",
    "\n",
    "from sklearn.svm import SVC\n",
    "svm = SVC(C = 100, kernel = 'rbf', gamma = 0.001, random_state = 0)\n",
    "#classifier = SVC(C = 1, kernel = 'poly', degree = 30, random_state = 0)\n",
    "svm.fit(X_train, y_train)"
   ]
  },
  {
   "cell_type": "code",
   "execution_count": 163,
   "metadata": {},
   "outputs": [
    {
     "data": {
      "text/plain": [
       "array([[75,  2,  2],\n",
       "       [ 4, 49,  7],\n",
       "       [ 6, 20, 20]], dtype=int64)"
      ]
     },
     "execution_count": 163,
     "metadata": {},
     "output_type": "execute_result"
    }
   ],
   "source": [
    "# Predicting the test set result\n",
    "y_pred = svm.predict(X_test)\n",
    "\n",
    "# Making the confusion matrix\n",
    "from sklearn.metrics import confusion_matrix\n",
    "from sklearn.metrics import multilabel_confusion_matrix\n",
    "\n",
    "cm = confusion_matrix(y_test, y_pred)\n",
    "cm2 = multilabel_confusion_matrix(y_test, y_pred)\n",
    "\n",
    "cm"
   ]
  },
  {
   "cell_type": "code",
   "execution_count": 164,
   "metadata": {},
   "outputs": [
    {
     "name": "stdout",
     "output_type": "stream",
     "text": [
      "0.7580525731210662\n"
     ]
    }
   ],
   "source": [
    "# Applying K-Fold Cross Validation\n",
    "\n",
    "from sklearn.model_selection import cross_val_score\n",
    "accuracies = cross_val_score(estimator = svm, X = X_train, y = y_train, cv = 10)\n",
    "print(np.mean(accuracies))"
   ]
  },
  {
   "cell_type": "code",
   "execution_count": 54,
   "metadata": {},
   "outputs": [
    {
     "name": "stdout",
     "output_type": "stream",
     "text": [
      "0.76\n",
      "{'C': 100, 'gamma': 0.001, 'kernel': 'rbf'}\n"
     ]
    }
   ],
   "source": [
    "# Applying Grid Search to Find the Best Hyperparameter\n",
    "\n",
    "from sklearn.model_selection import GridSearchCV\n",
    "parameters = [\n",
    "    {'C': [1, 10, 100], 'kernel': ['rbf', 'sigmoid', 'poly'], 'gamma': [0.001, 0.01, 0.1, 10]},\n",
    "]\n",
    "\n",
    "grid_search = GridSearchCV(estimator = svm, param_grid = parameters, scoring = 'accuracy', cv = 10, n_jobs = -1)\n",
    "grid_search = grid_search.fit(X_train, y_train)\n",
    "\n",
    "best_accuracy = grid_search.best_score_\n",
    "best_parameters = grid_search.best_params_\n",
    "\n",
    "print(round(best_accuracy, 2))\n",
    "print(best_parameters)"
   ]
  },
  {
   "cell_type": "code",
   "execution_count": 166,
   "metadata": {},
   "outputs": [
    {
     "name": "stdout",
     "output_type": "stream",
     "text": [
      "              precision    recall  f1-score   support\n",
      "\n",
      "           1       0.86      0.95      0.90        40\n",
      "           2       0.67      0.69      0.68        32\n",
      "           3       0.50      0.38      0.43        21\n",
      "\n",
      "    accuracy                           0.73        93\n",
      "   macro avg       0.68      0.67      0.67        93\n",
      "weighted avg       0.71      0.73      0.72        93\n",
      "\n",
      "              precision    recall  f1-score   support\n",
      "\n",
      "           1       0.95      0.97      0.96        39\n",
      "           2       0.80      0.85      0.82        33\n",
      "           3       0.71      0.60      0.65        20\n",
      "\n",
      "    accuracy                           0.85        92\n",
      "   macro avg       0.82      0.81      0.81        92\n",
      "weighted avg       0.84      0.85      0.84        92\n",
      "\n",
      "              precision    recall  f1-score   support\n",
      "\n",
      "           1       0.95      0.92      0.94        39\n",
      "           2       0.74      0.85      0.79        33\n",
      "           3       0.75      0.60      0.67        20\n",
      "\n",
      "    accuracy                           0.83        92\n",
      "   macro avg       0.81      0.79      0.80        92\n",
      "weighted avg       0.83      0.83      0.82        92\n",
      "\n",
      "              precision    recall  f1-score   support\n",
      "\n",
      "           1       0.88      0.92      0.90        39\n",
      "           2       0.68      0.70      0.69        33\n",
      "           3       0.53      0.45      0.49        20\n",
      "\n",
      "    accuracy                           0.74        92\n",
      "   macro avg       0.69      0.69      0.69        92\n",
      "weighted avg       0.73      0.74      0.73        92\n",
      "\n",
      "              precision    recall  f1-score   support\n",
      "\n",
      "           1       0.94      0.85      0.89        39\n",
      "           2       0.65      0.75      0.70        32\n",
      "           3       0.50      0.48      0.49        21\n",
      "\n",
      "    accuracy                           0.73        92\n",
      "   macro avg       0.70      0.69      0.69        92\n",
      "weighted avg       0.74      0.73      0.73        92\n",
      "\n",
      "              precision    recall  f1-score   support\n",
      "\n",
      "           1       0.90      0.92      0.91        39\n",
      "           2       0.77      0.75      0.76        32\n",
      "           3       0.57      0.57      0.57        21\n",
      "\n",
      "    accuracy                           0.78        92\n",
      "   macro avg       0.75      0.75      0.75        92\n",
      "weighted avg       0.78      0.78      0.78        92\n",
      "\n",
      "              precision    recall  f1-score   support\n",
      "\n",
      "           1       0.84      0.95      0.89        39\n",
      "           2       0.69      0.69      0.69        32\n",
      "           3       0.44      0.33      0.38        21\n",
      "\n",
      "    accuracy                           0.72        92\n",
      "   macro avg       0.66      0.66      0.65        92\n",
      "weighted avg       0.70      0.72      0.70        92\n",
      "\n",
      "              precision    recall  f1-score   support\n",
      "\n",
      "           1       0.93      0.97      0.95        39\n",
      "           2       0.76      0.78      0.77        32\n",
      "           3       0.67      0.57      0.62        21\n",
      "\n",
      "    accuracy                           0.82        92\n",
      "   macro avg       0.78      0.78      0.78        92\n",
      "weighted avg       0.81      0.82      0.81        92\n",
      "\n",
      "              precision    recall  f1-score   support\n",
      "\n",
      "           1       0.90      0.95      0.92        39\n",
      "           2       0.82      0.84      0.83        32\n",
      "           3       0.78      0.67      0.72        21\n",
      "\n",
      "    accuracy                           0.85        92\n",
      "   macro avg       0.83      0.82      0.82        92\n",
      "weighted avg       0.84      0.85      0.84        92\n",
      "\n",
      "              precision    recall  f1-score   support\n",
      "\n",
      "           1       0.92      0.90      0.91        39\n",
      "           2       0.74      0.81      0.78        32\n",
      "           3       0.63      0.57      0.60        21\n",
      "\n",
      "    accuracy                           0.79        92\n",
      "   macro avg       0.77      0.76      0.76        92\n",
      "weighted avg       0.79      0.79      0.79        92\n",
      "\n"
     ]
    }
   ],
   "source": [
    "# Calculating the accuracy and other metrics\n",
    "\n",
    "from sklearn.metrics import f1_score, accuracy_score, precision_score, recall_score, make_scorer\n",
    "from sklearn.metrics import accuracy_score\n",
    "from sklearn.metrics import classification_report\n",
    "from sklearn.model_selection import cross_val_score\n",
    "from sklearn.model_selection import StratifiedKFold, KFold\n",
    "\n",
    "target_names = ['melanoma', 'bcc', 'scc']\n",
    "\n",
    "# Variables for average classification report\n",
    "originalclass = []\n",
    "predictedclass = []\n",
    "\n",
    "#Make our customer score\n",
    "def classification_report_with_accuracy_score(y_test, y_pred):\n",
    "    originalclass.extend(y_test)\n",
    "    predictedclass.extend(y_pred)\n",
    "    print(classification_report(y_test, y_pred))\n",
    "    return accuracy_score(y_test, y_pred) # return accuracy score\n",
    "\n",
    "outer_cv = StratifiedKFold(n_splits=10, shuffle=True, random_state=0)\n",
    "\n",
    "# Nested CV with parameter optimization\n",
    "nested_score = cross_val_score(estimator = svm, X = X, y = Y, cv=outer_cv, scoring=make_scorer(classification_report_with_accuracy_score))"
   ]
  },
  {
   "cell_type": "code",
   "execution_count": 167,
   "metadata": {},
   "outputs": [
    {
     "name": "stdout",
     "output_type": "stream",
     "text": [
      "              precision    recall  f1-score   support\n",
      "\n",
      "    melanoma       0.91      0.93      0.92       391\n",
      "         bcc       0.73      0.77      0.75       323\n",
      "         scc       0.61      0.52      0.56       207\n",
      "\n",
      "    accuracy                           0.78       921\n",
      "   macro avg       0.75      0.74      0.74       921\n",
      "weighted avg       0.78      0.78      0.78       921\n",
      "\n"
     ]
    }
   ],
   "source": [
    "# Average values in classification report for all folds in a K-fold Cross-validation  \n",
    "print(classification_report(originalclass, predictedclass, target_names=target_names))"
   ]
  },
  {
   "cell_type": "markdown",
   "metadata": {},
   "source": [
    "# Decision Trees"
   ]
  },
  {
   "cell_type": "code",
   "execution_count": 168,
   "metadata": {},
   "outputs": [
    {
     "data": {
      "text/plain": [
       "DecisionTreeClassifier(ccp_alpha=0.0, class_weight=None, criterion='entropy',\n",
       "                       max_depth=20, max_features=None, max_leaf_nodes=None,\n",
       "                       min_impurity_decrease=0.0, min_impurity_split=None,\n",
       "                       min_samples_leaf=1, min_samples_split=2,\n",
       "                       min_weight_fraction_leaf=0.0, presort='deprecated',\n",
       "                       random_state=0, splitter='best')"
      ]
     },
     "execution_count": 168,
     "metadata": {},
     "output_type": "execute_result"
    }
   ],
   "source": [
    "# Some important notes here, before running the Decision Tree Classifier, it's ok to not scale the features, as this model\n",
    "# does not work using euclidian distance, so it's fine as it is\n",
    "\n",
    "from sklearn.tree import DecisionTreeClassifier\n",
    "tree = DecisionTreeClassifier(criterion = 'entropy', max_depth = 20, random_state = 0, splitter = 'best')\n",
    "tree.fit(X_train, y_train)"
   ]
  },
  {
   "cell_type": "code",
   "execution_count": 169,
   "metadata": {},
   "outputs": [
    {
     "data": {
      "text/plain": [
       "array([[69,  7,  3],\n",
       "       [10, 41,  9],\n",
       "       [14, 18, 14]], dtype=int64)"
      ]
     },
     "execution_count": 169,
     "metadata": {},
     "output_type": "execute_result"
    }
   ],
   "source": [
    "# Predicting the test set result\n",
    "y_pred = tree.predict(X_test)\n",
    "\n",
    "# Making the confusion matrix\n",
    "from sklearn.metrics import confusion_matrix\n",
    "from sklearn.metrics import multilabel_confusion_matrix\n",
    "\n",
    "cm = confusion_matrix(y_test, y_pred)\n",
    "cm2 = multilabel_confusion_matrix(y_test, y_pred)\n",
    "\n",
    "cm"
   ]
  },
  {
   "cell_type": "code",
   "execution_count": 170,
   "metadata": {},
   "outputs": [
    {
     "name": "stdout",
     "output_type": "stream",
     "text": [
      "0.6345057386153277\n"
     ]
    }
   ],
   "source": [
    "# Applying K-Fold Cross Validation\n",
    "\n",
    "from sklearn.model_selection import cross_val_score\n",
    "accuracies = cross_val_score(estimator = tree, X = X_train, y = y_train, cv = 10)\n",
    "print(np.mean(accuracies))"
   ]
  },
  {
   "cell_type": "code",
   "execution_count": 171,
   "metadata": {},
   "outputs": [
    {
     "name": "stdout",
     "output_type": "stream",
     "text": [
      "0.63\n",
      "{'ccp_alpha': 0.0, 'criterion': 'entropy', 'max_depth': 20, 'splitter': 'best'}\n"
     ]
    }
   ],
   "source": [
    "# Applying Grid Search to Find the Best Hyperparameter\n",
    "\n",
    "from sklearn.model_selection import GridSearchCV\n",
    "parameters = [\n",
    "    {'criterion': ['entropy', 'gini'], 'splitter': ['best', 'random'], 'ccp_alpha': [0.0, 0.05, 0.1], 'max_depth': [10, 20, 30]}\n",
    "]\n",
    "\n",
    "grid_search = GridSearchCV(estimator = tree, param_grid = parameters, scoring = 'accuracy', cv = 10, n_jobs = -1)\n",
    "grid_search = grid_search.fit(X_train, y_train)\n",
    "\n",
    "best_accuracy = grid_search.best_score_\n",
    "best_parameters = grid_search.best_params_\n",
    "\n",
    "print(round(best_accuracy, 2))\n",
    "print(best_parameters)"
   ]
  },
  {
   "cell_type": "code",
   "execution_count": 172,
   "metadata": {},
   "outputs": [
    {
     "name": "stdout",
     "output_type": "stream",
     "text": [
      "              precision    recall  f1-score   support\n",
      "\n",
      "           1       0.80      0.80      0.80        40\n",
      "           2       0.65      0.53      0.59        32\n",
      "           3       0.41      0.52      0.46        21\n",
      "\n",
      "    accuracy                           0.65        93\n",
      "   macro avg       0.62      0.62      0.61        93\n",
      "weighted avg       0.66      0.65      0.65        93\n",
      "\n",
      "              precision    recall  f1-score   support\n",
      "\n",
      "           1       0.83      0.74      0.78        39\n",
      "           2       0.68      0.70      0.69        33\n",
      "           3       0.39      0.45      0.42        20\n",
      "\n",
      "    accuracy                           0.66        92\n",
      "   macro avg       0.63      0.63      0.63        92\n",
      "weighted avg       0.68      0.66      0.67        92\n",
      "\n",
      "              precision    recall  f1-score   support\n",
      "\n",
      "           1       0.70      0.79      0.75        39\n",
      "           2       0.71      0.67      0.69        33\n",
      "           3       0.47      0.40      0.43        20\n",
      "\n",
      "    accuracy                           0.66        92\n",
      "   macro avg       0.63      0.62      0.62        92\n",
      "weighted avg       0.66      0.66      0.66        92\n",
      "\n",
      "              precision    recall  f1-score   support\n",
      "\n",
      "           1       0.76      0.79      0.77        39\n",
      "           2       0.56      0.45      0.50        33\n",
      "           3       0.33      0.40      0.36        20\n",
      "\n",
      "    accuracy                           0.59        92\n",
      "   macro avg       0.55      0.55      0.55        92\n",
      "weighted avg       0.59      0.59      0.59        92\n",
      "\n",
      "              precision    recall  f1-score   support\n",
      "\n",
      "           1       0.77      0.77      0.77        39\n",
      "           2       0.63      0.69      0.66        32\n",
      "           3       0.33      0.29      0.31        21\n",
      "\n",
      "    accuracy                           0.63        92\n",
      "   macro avg       0.58      0.58      0.58        92\n",
      "weighted avg       0.62      0.63      0.62        92\n",
      "\n",
      "              precision    recall  f1-score   support\n",
      "\n",
      "           1       0.79      0.79      0.79        39\n",
      "           2       0.58      0.56      0.57        32\n",
      "           3       0.27      0.29      0.28        21\n",
      "\n",
      "    accuracy                           0.60        92\n",
      "   macro avg       0.55      0.55      0.55        92\n",
      "weighted avg       0.60      0.60      0.60        92\n",
      "\n",
      "              precision    recall  f1-score   support\n",
      "\n",
      "           1       0.71      0.82      0.76        39\n",
      "           2       0.42      0.31      0.36        32\n",
      "           3       0.26      0.29      0.27        21\n",
      "\n",
      "    accuracy                           0.52        92\n",
      "   macro avg       0.46      0.47      0.46        92\n",
      "weighted avg       0.51      0.52      0.51        92\n",
      "\n",
      "              precision    recall  f1-score   support\n",
      "\n",
      "           1       0.74      0.79      0.77        39\n",
      "           2       0.52      0.44      0.47        32\n",
      "           3       0.26      0.29      0.27        21\n",
      "\n",
      "    accuracy                           0.55        92\n",
      "   macro avg       0.51      0.51      0.50        92\n",
      "weighted avg       0.55      0.55      0.55        92\n",
      "\n",
      "              precision    recall  f1-score   support\n",
      "\n",
      "           1       0.97      0.77      0.86        39\n",
      "           2       0.71      0.75      0.73        32\n",
      "           3       0.52      0.67      0.58        21\n",
      "\n",
      "    accuracy                           0.74        92\n",
      "   macro avg       0.73      0.73      0.72        92\n",
      "weighted avg       0.77      0.74      0.75        92\n",
      "\n",
      "              precision    recall  f1-score   support\n",
      "\n",
      "           1       0.69      0.69      0.69        39\n",
      "           2       0.54      0.47      0.50        32\n",
      "           3       0.36      0.43      0.39        21\n",
      "\n",
      "    accuracy                           0.55        92\n",
      "   macro avg       0.53      0.53      0.53        92\n",
      "weighted avg       0.56      0.55      0.56        92\n",
      "\n"
     ]
    }
   ],
   "source": [
    "# Calculating the accuracy and other metrics\n",
    "\n",
    "from sklearn.metrics import f1_score, accuracy_score, precision_score, recall_score, make_scorer\n",
    "from sklearn.metrics import accuracy_score\n",
    "from sklearn.metrics import classification_report\n",
    "from sklearn.model_selection import cross_val_score\n",
    "from sklearn.model_selection import StratifiedKFold, KFold\n",
    "\n",
    "target_names = ['melanoma', 'bcc', 'scc']\n",
    "\n",
    "# Variables for average classification report\n",
    "originalclass = []\n",
    "predictedclass = []\n",
    "\n",
    "#Make our customer score\n",
    "def classification_report_with_accuracy_score(y_test, y_pred):\n",
    "    originalclass.extend(y_test)\n",
    "    predictedclass.extend(y_pred)\n",
    "    print(classification_report(y_test, y_pred))\n",
    "    return accuracy_score(y_test, y_pred) # return accuracy score\n",
    "\n",
    "outer_cv = StratifiedKFold(n_splits=10, shuffle=True, random_state=0)\n",
    "\n",
    "# Nested CV with parameter optimization\n",
    "nested_score = cross_val_score(estimator = tree, X = X, y = Y, cv=outer_cv, scoring=make_scorer(classification_report_with_accuracy_score))"
   ]
  },
  {
   "cell_type": "code",
   "execution_count": 173,
   "metadata": {},
   "outputs": [
    {
     "name": "stdout",
     "output_type": "stream",
     "text": [
      "              precision    recall  f1-score   support\n",
      "\n",
      "    melanoma       0.77      0.78      0.77       391\n",
      "         bcc       0.61      0.56      0.58       323\n",
      "         scc       0.36      0.40      0.38       207\n",
      "\n",
      "    accuracy                           0.62       921\n",
      "   macro avg       0.58      0.58      0.58       921\n",
      "weighted avg       0.62      0.62      0.62       921\n",
      "\n"
     ]
    }
   ],
   "source": [
    "# Average values in classification report for all folds in a K-fold Cross-validation  \n",
    "print(classification_report(originalclass, predictedclass, target_names=target_names))"
   ]
  },
  {
   "cell_type": "markdown",
   "metadata": {},
   "source": [
    "# Random Forest (Ensemble)"
   ]
  },
  {
   "cell_type": "code",
   "execution_count": 174,
   "metadata": {},
   "outputs": [
    {
     "data": {
      "text/plain": [
       "RandomForestClassifier(bootstrap=True, ccp_alpha=0.0, class_weight='balanced',\n",
       "                       criterion='entropy', max_depth=10, max_features='auto',\n",
       "                       max_leaf_nodes=None, max_samples=None,\n",
       "                       min_impurity_decrease=0.0, min_impurity_split=None,\n",
       "                       min_samples_leaf=1, min_samples_split=2,\n",
       "                       min_weight_fraction_leaf=0.0, n_estimators=150,\n",
       "                       n_jobs=None, oob_score=False, random_state=0, verbose=0,\n",
       "                       warm_start=False)"
      ]
     },
     "execution_count": 174,
     "metadata": {},
     "output_type": "execute_result"
    }
   ],
   "source": [
    "from sklearn.ensemble import RandomForestClassifier\n",
    "forest = RandomForestClassifier(n_estimators = 150, max_depth = 10, criterion = 'entropy', class_weight = 'balanced', random_state = 0)\n",
    "forest.fit(X_train, y_train)"
   ]
  },
  {
   "cell_type": "code",
   "execution_count": 175,
   "metadata": {},
   "outputs": [
    {
     "data": {
      "text/plain": [
       "array([[71,  7,  1],\n",
       "       [ 7, 47,  6],\n",
       "       [ 9, 20, 17]], dtype=int64)"
      ]
     },
     "execution_count": 175,
     "metadata": {},
     "output_type": "execute_result"
    }
   ],
   "source": [
    "# Predicting the test set result\n",
    "y_pred = forest.predict(X_test)\n",
    "\n",
    "# Making the confusion matrix\n",
    "from sklearn.metrics import confusion_matrix\n",
    "from sklearn.metrics import multilabel_confusion_matrix\n",
    "\n",
    "cm = confusion_matrix(y_test, y_pred)\n",
    "cm2 = multilabel_confusion_matrix(y_test, y_pred)\n",
    "\n",
    "cm"
   ]
  },
  {
   "cell_type": "code",
   "execution_count": 176,
   "metadata": {},
   "outputs": [
    {
     "name": "stdout",
     "output_type": "stream",
     "text": [
      "0.7337652721214365\n"
     ]
    }
   ],
   "source": [
    "# Applying K-Fold Cross Validation\n",
    "\n",
    "from sklearn.model_selection import cross_val_score\n",
    "accuracies = cross_val_score(estimator = forest, X = X_train, y = y_train, cv = 10, n_jobs = -1)\n",
    "print(np.mean(accuracies))"
   ]
  },
  {
   "cell_type": "code",
   "execution_count": 44,
   "metadata": {},
   "outputs": [
    {
     "name": "stdout",
     "output_type": "stream",
     "text": [
      "0.73\n",
      "{'class_weight': 'balanced', 'criterion': 'entropy', 'max_depth': 10, 'n_estimators': 150}\n"
     ]
    }
   ],
   "source": [
    "# Applying Grid Search to Find the Best Hyperparameter\n",
    "\n",
    "from sklearn.model_selection import GridSearchCV\n",
    "parameters = [\n",
    "    {'criterion': ['entropy'], 'max_depth': [None, 10], 'n_estimators': [150, 200, 250], 'class_weight': [None, 'balanced', 'balanced_subsample']},\n",
    "    {'criterion': ['gini'], 'max_depth': [None, 10], 'n_estimators': [150, 200, 250], 'class_weight': [None, 'balanced', 'balanced_subsample']}\n",
    "]\n",
    "\n",
    "grid_search = GridSearchCV(estimator = forest, param_grid = parameters, scoring = 'accuracy', cv = 10, n_jobs = -1)\n",
    "grid_search = grid_search.fit(X_train, y_train)\n",
    "\n",
    "best_accuracy = grid_search.best_score_\n",
    "best_parameters = grid_search.best_params_\n",
    "\n",
    "print(round(best_accuracy, 2))\n",
    "print(best_parameters)"
   ]
  },
  {
   "cell_type": "code",
   "execution_count": 177,
   "metadata": {},
   "outputs": [
    {
     "name": "stdout",
     "output_type": "stream",
     "text": [
      "              precision    recall  f1-score   support\n",
      "\n",
      "           1       0.80      0.90      0.85        40\n",
      "           2       0.57      0.62      0.60        32\n",
      "           3       0.46      0.29      0.35        21\n",
      "\n",
      "    accuracy                           0.67        93\n",
      "   macro avg       0.61      0.60      0.60        93\n",
      "weighted avg       0.64      0.67      0.65        93\n",
      "\n",
      "              precision    recall  f1-score   support\n",
      "\n",
      "           1       0.83      0.87      0.85        39\n",
      "           2       0.74      0.79      0.76        33\n",
      "           3       0.69      0.55      0.61        20\n",
      "\n",
      "    accuracy                           0.77        92\n",
      "   macro avg       0.75      0.74      0.74        92\n",
      "weighted avg       0.77      0.77      0.77        92\n",
      "\n",
      "              precision    recall  f1-score   support\n",
      "\n",
      "           1       0.86      0.82      0.84        39\n",
      "           2       0.64      0.82      0.72        33\n",
      "           3       0.62      0.40      0.48        20\n",
      "\n",
      "    accuracy                           0.73        92\n",
      "   macro avg       0.71      0.68      0.68        92\n",
      "weighted avg       0.73      0.73      0.72        92\n",
      "\n",
      "              precision    recall  f1-score   support\n",
      "\n",
      "           1       0.83      0.90      0.86        39\n",
      "           2       0.68      0.70      0.69        33\n",
      "           3       0.56      0.45      0.50        20\n",
      "\n",
      "    accuracy                           0.73        92\n",
      "   macro avg       0.69      0.68      0.68        92\n",
      "weighted avg       0.72      0.73      0.72        92\n",
      "\n",
      "              precision    recall  f1-score   support\n",
      "\n",
      "           1       0.84      0.79      0.82        39\n",
      "           2       0.61      0.84      0.71        32\n",
      "           3       0.45      0.24      0.31        21\n",
      "\n",
      "    accuracy                           0.68        92\n",
      "   macro avg       0.64      0.63      0.61        92\n",
      "weighted avg       0.67      0.68      0.66        92\n",
      "\n",
      "              precision    recall  f1-score   support\n",
      "\n",
      "           1       0.86      0.82      0.84        39\n",
      "           2       0.69      0.62      0.66        32\n",
      "           3       0.50      0.62      0.55        21\n",
      "\n",
      "    accuracy                           0.71        92\n",
      "   macro avg       0.68      0.69      0.68        92\n",
      "weighted avg       0.72      0.71      0.71        92\n",
      "\n",
      "              precision    recall  f1-score   support\n",
      "\n",
      "           1       0.85      0.90      0.88        39\n",
      "           2       0.55      0.66      0.60        32\n",
      "           3       0.38      0.24      0.29        21\n",
      "\n",
      "    accuracy                           0.66        92\n",
      "   macro avg       0.60      0.60      0.59        92\n",
      "weighted avg       0.64      0.66      0.65        92\n",
      "\n",
      "              precision    recall  f1-score   support\n",
      "\n",
      "           1       0.81      0.87      0.84        39\n",
      "           2       0.72      0.81      0.76        32\n",
      "           3       0.57      0.38      0.46        21\n",
      "\n",
      "    accuracy                           0.74        92\n",
      "   macro avg       0.70      0.69      0.69        92\n",
      "weighted avg       0.72      0.74      0.73        92\n",
      "\n",
      "              precision    recall  f1-score   support\n",
      "\n",
      "           1       0.81      0.90      0.85        39\n",
      "           2       0.76      0.91      0.83        32\n",
      "           3       0.73      0.38      0.50        21\n",
      "\n",
      "    accuracy                           0.78        92\n",
      "   macro avg       0.77      0.73      0.73        92\n",
      "weighted avg       0.78      0.78      0.76        92\n",
      "\n",
      "              precision    recall  f1-score   support\n",
      "\n",
      "           1       0.80      0.85      0.83        39\n",
      "           2       0.67      0.75      0.71        32\n",
      "           3       0.60      0.43      0.50        21\n",
      "\n",
      "    accuracy                           0.72        92\n",
      "   macro avg       0.69      0.67      0.68        92\n",
      "weighted avg       0.71      0.72      0.71        92\n",
      "\n"
     ]
    }
   ],
   "source": [
    "# Calculating the accuracy and other metrics\n",
    "\n",
    "from sklearn.metrics import f1_score, accuracy_score, precision_score, recall_score, make_scorer\n",
    "from sklearn.metrics import accuracy_score\n",
    "from sklearn.metrics import classification_report\n",
    "from sklearn.model_selection import cross_val_score\n",
    "from sklearn.model_selection import StratifiedKFold, KFold\n",
    "\n",
    "target_names = ['melanoma', 'bcc', 'scc']\n",
    "\n",
    "# Variables for average classification report\n",
    "originalclass = []\n",
    "predictedclass = []\n",
    "\n",
    "#Make our customer score\n",
    "def classification_report_with_accuracy_score(y_test, y_pred):\n",
    "    originalclass.extend(y_test)\n",
    "    predictedclass.extend(y_pred)\n",
    "    print(classification_report(y_test, y_pred))\n",
    "    return accuracy_score(y_test, y_pred) # return accuracy score\n",
    "\n",
    "outer_cv = StratifiedKFold(n_splits=10, shuffle=True, random_state=0)\n",
    "\n",
    "# Nested CV with parameter optimization\n",
    "nested_score = cross_val_score(estimator = forest, X = X, y = Y, cv=outer_cv, scoring=make_scorer(classification_report_with_accuracy_score))"
   ]
  },
  {
   "cell_type": "code",
   "execution_count": 178,
   "metadata": {},
   "outputs": [
    {
     "name": "stdout",
     "output_type": "stream",
     "text": [
      "              precision    recall  f1-score   support\n",
      "\n",
      "    melanoma       0.83      0.86      0.85       391\n",
      "         bcc       0.66      0.75      0.70       323\n",
      "         scc       0.55      0.40      0.46       207\n",
      "\n",
      "    accuracy                           0.72       921\n",
      "   macro avg       0.68      0.67      0.67       921\n",
      "weighted avg       0.71      0.72      0.71       921\n",
      "\n"
     ]
    }
   ],
   "source": [
    "# Average values in classification report for all folds in a K-fold Cross-validation  \n",
    "print(classification_report(originalclass, predictedclass, target_names=target_names))"
   ]
  },
  {
   "cell_type": "markdown",
   "metadata": {},
   "source": [
    "# Artificial Neural Network"
   ]
  },
  {
   "cell_type": "code",
   "execution_count": 184,
   "metadata": {},
   "outputs": [],
   "source": [
    "# Importing the Keras libraries and packages\n",
    "import keras\n",
    "import sys\n",
    "from keras.models import Sequential\n",
    "from keras.layers import Dense\n",
    "from keras.utils import to_categorical\n",
    "from keras.callbacks import EarlyStopping, ModelCheckpoint"
   ]
  },
  {
   "cell_type": "code",
   "execution_count": 194,
   "metadata": {},
   "outputs": [],
   "source": [
    "# Create categorical input for predictor\n",
    "\n",
    "from sklearn.preprocessing import OneHotEncoder\n",
    "onehotencoder = OneHotEncoder(handle_unknown='ignore')\n",
    "Y = Y.reshape(-1, 1)\n",
    "y_train = y_train.reshape(-1, 1)\n",
    "y_test = y_test.reshape(-1, 1)\n",
    "y_use = onehotencoder.fit_transform(Y).toarray()\n",
    "y_binary = onehotencoder.fit_transform(y_train).toarray()\n",
    "y_compare = onehotencoder.fit_transform(y_test).toarray()"
   ]
  },
  {
   "cell_type": "code",
   "execution_count": 186,
   "metadata": {},
   "outputs": [
    {
     "name": "stdout",
     "output_type": "stream",
     "text": [
      "Train on 736 samples, validate on 185 samples\n",
      "Epoch 1/100\n",
      "736/736 [==============================] - 13s 17ms/step - loss: 1.0643 - accuracy: 0.4606 - categorical_accuracy: 0.4606 - val_loss: 0.9918 - val_accuracy: 0.5027 - val_categorical_accuracy: 0.5027\n",
      "Epoch 2/100\n",
      "736/736 [==============================] - 0s 99us/step - loss: 0.9065 - accuracy: 0.5883 - categorical_accuracy: 0.5883 - val_loss: 0.9233 - val_accuracy: 0.5622 - val_categorical_accuracy: 0.5622\n",
      "Epoch 3/100\n",
      "736/736 [==============================] - 0s 287us/step - loss: 0.8365 - accuracy: 0.6182 - categorical_accuracy: 0.6182 - val_loss: 0.8787 - val_accuracy: 0.5514 - val_categorical_accuracy: 0.5514\n",
      "Epoch 4/100\n",
      "736/736 [==============================] - 0s 171us/step - loss: 0.7792 - accuracy: 0.6576 - categorical_accuracy: 0.6576 - val_loss: 0.8373 - val_accuracy: 0.5784 - val_categorical_accuracy: 0.5784\n",
      "Epoch 5/100\n",
      "736/736 [==============================] - 0s 101us/step - loss: 0.7330 - accuracy: 0.6807 - categorical_accuracy: 0.6807 - val_loss: 0.8098 - val_accuracy: 0.6216 - val_categorical_accuracy: 0.6216\n",
      "Epoch 6/100\n",
      "736/736 [==============================] - 0s 100us/step - loss: 0.6899 - accuracy: 0.7011 - categorical_accuracy: 0.7011 - val_loss: 0.7896 - val_accuracy: 0.6216 - val_categorical_accuracy: 0.6216\n",
      "Epoch 7/100\n",
      "736/736 [==============================] - 0s 95us/step - loss: 0.6546 - accuracy: 0.7174 - categorical_accuracy: 0.7174 - val_loss: 0.7511 - val_accuracy: 0.6703 - val_categorical_accuracy: 0.6703\n",
      "Epoch 8/100\n",
      "736/736 [==============================] - 0s 96us/step - loss: 0.6181 - accuracy: 0.7296 - categorical_accuracy: 0.7296 - val_loss: 0.7201 - val_accuracy: 0.7027 - val_categorical_accuracy: 0.7027\n",
      "Epoch 9/100\n",
      "736/736 [==============================] - 0s 98us/step - loss: 0.5765 - accuracy: 0.7527 - categorical_accuracy: 0.7527 - val_loss: 0.6886 - val_accuracy: 0.6973 - val_categorical_accuracy: 0.6973\n",
      "Epoch 10/100\n",
      "736/736 [==============================] - 0s 98us/step - loss: 0.5478 - accuracy: 0.7717 - categorical_accuracy: 0.7717 - val_loss: 0.6606 - val_accuracy: 0.7243 - val_categorical_accuracy: 0.7243\n",
      "Epoch 11/100\n",
      "736/736 [==============================] - 0s 98us/step - loss: 0.5205 - accuracy: 0.7785 - categorical_accuracy: 0.7785 - val_loss: 0.6434 - val_accuracy: 0.7297 - val_categorical_accuracy: 0.7297\n",
      "Epoch 12/100\n",
      "736/736 [==============================] - 0s 94us/step - loss: 0.4963 - accuracy: 0.7880 - categorical_accuracy: 0.7880 - val_loss: 0.6301 - val_accuracy: 0.7459 - val_categorical_accuracy: 0.7459\n",
      "Epoch 13/100\n",
      "736/736 [==============================] - 0s 105us/step - loss: 0.4773 - accuracy: 0.7948 - categorical_accuracy: 0.7948 - val_loss: 0.6099 - val_accuracy: 0.7405 - val_categorical_accuracy: 0.7405\n",
      "Epoch 14/100\n",
      "736/736 [==============================] - 0s 95us/step - loss: 0.4539 - accuracy: 0.8003 - categorical_accuracy: 0.8003 - val_loss: 0.6045 - val_accuracy: 0.7514 - val_categorical_accuracy: 0.7514\n",
      "Epoch 15/100\n",
      "736/736 [==============================] - 0s 98us/step - loss: 0.4474 - accuracy: 0.8003 - categorical_accuracy: 0.8003 - val_loss: 0.5954 - val_accuracy: 0.7514 - val_categorical_accuracy: 0.7514\n",
      "Epoch 16/100\n",
      "736/736 [==============================] - 0s 116us/step - loss: 0.4309 - accuracy: 0.8071 - categorical_accuracy: 0.8071 - val_loss: 0.5964 - val_accuracy: 0.7514 - val_categorical_accuracy: 0.7514\n",
      "Epoch 17/100\n",
      "736/736 [==============================] - 0s 315us/step - loss: 0.4231 - accuracy: 0.8139 - categorical_accuracy: 0.8139 - val_loss: 0.5834 - val_accuracy: 0.7622 - val_categorical_accuracy: 0.7622\n",
      "Epoch 18/100\n",
      "736/736 [==============================] - 0s 99us/step - loss: 0.4107 - accuracy: 0.8193 - categorical_accuracy: 0.8193 - val_loss: 0.5897 - val_accuracy: 0.7622 - val_categorical_accuracy: 0.7622\n",
      "Epoch 19/100\n",
      "736/736 [==============================] - 0s 100us/step - loss: 0.4040 - accuracy: 0.8220 - categorical_accuracy: 0.8220 - val_loss: 0.5915 - val_accuracy: 0.7622 - val_categorical_accuracy: 0.7622\n",
      "Epoch 20/100\n",
      "736/736 [==============================] - 0s 101us/step - loss: 0.3936 - accuracy: 0.8342 - categorical_accuracy: 0.8342 - val_loss: 0.6006 - val_accuracy: 0.7784 - val_categorical_accuracy: 0.7784\n",
      "Epoch 21/100\n",
      "736/736 [==============================] - 0s 94us/step - loss: 0.3885 - accuracy: 0.8179 - categorical_accuracy: 0.8179 - val_loss: 0.5910 - val_accuracy: 0.7568 - val_categorical_accuracy: 0.7568\n",
      "Epoch 22/100\n",
      "736/736 [==============================] - 0s 124us/step - loss: 0.3795 - accuracy: 0.8315 - categorical_accuracy: 0.8315 - val_loss: 0.5966 - val_accuracy: 0.7459 - val_categorical_accuracy: 0.7459\n",
      "Epoch 23/100\n",
      "736/736 [==============================] - 0s 99us/step - loss: 0.3716 - accuracy: 0.8342 - categorical_accuracy: 0.8342 - val_loss: 0.5875 - val_accuracy: 0.7514 - val_categorical_accuracy: 0.7514\n",
      "Epoch 24/100\n",
      "736/736 [==============================] - 0s 97us/step - loss: 0.3680 - accuracy: 0.8410 - categorical_accuracy: 0.8410 - val_loss: 0.5915 - val_accuracy: 0.7676 - val_categorical_accuracy: 0.7676\n",
      "Epoch 25/100\n",
      "736/736 [==============================] - 0s 95us/step - loss: 0.3582 - accuracy: 0.8438 - categorical_accuracy: 0.8438 - val_loss: 0.5739 - val_accuracy: 0.7730 - val_categorical_accuracy: 0.7730\n",
      "Epoch 26/100\n",
      "736/736 [==============================] - 0s 100us/step - loss: 0.3575 - accuracy: 0.8478 - categorical_accuracy: 0.8478 - val_loss: 0.5912 - val_accuracy: 0.7622 - val_categorical_accuracy: 0.7622\n",
      "Epoch 27/100\n",
      "736/736 [==============================] - 0s 118us/step - loss: 0.3499 - accuracy: 0.8519 - categorical_accuracy: 0.8519 - val_loss: 0.5826 - val_accuracy: 0.7730 - val_categorical_accuracy: 0.7730\n",
      "Epoch 28/100\n",
      "736/736 [==============================] - 0s 114us/step - loss: 0.3411 - accuracy: 0.8614 - categorical_accuracy: 0.8614 - val_loss: 0.5887 - val_accuracy: 0.7514 - val_categorical_accuracy: 0.7514\n",
      "Epoch 29/100\n",
      "736/736 [==============================] - 0s 107us/step - loss: 0.3368 - accuracy: 0.8573 - categorical_accuracy: 0.8573 - val_loss: 0.5767 - val_accuracy: 0.7514 - val_categorical_accuracy: 0.7514\n",
      "Epoch 30/100\n",
      "736/736 [==============================] - 0s 112us/step - loss: 0.3305 - accuracy: 0.8628 - categorical_accuracy: 0.8628 - val_loss: 0.5876 - val_accuracy: 0.7622 - val_categorical_accuracy: 0.7622\n",
      "Epoch 31/100\n",
      "736/736 [==============================] - 0s 120us/step - loss: 0.3258 - accuracy: 0.8696 - categorical_accuracy: 0.8696 - val_loss: 0.5871 - val_accuracy: 0.7514 - val_categorical_accuracy: 0.7514\n",
      "Epoch 32/100\n",
      "736/736 [==============================] - 0s 114us/step - loss: 0.3253 - accuracy: 0.8641 - categorical_accuracy: 0.8641 - val_loss: 0.5735 - val_accuracy: 0.7514 - val_categorical_accuracy: 0.7514\n",
      "Epoch 33/100\n",
      "736/736 [==============================] - 0s 106us/step - loss: 0.3157 - accuracy: 0.8764 - categorical_accuracy: 0.8764 - val_loss: 0.5835 - val_accuracy: 0.7622 - val_categorical_accuracy: 0.7622\n",
      "Epoch 34/100\n",
      "736/736 [==============================] - 0s 96us/step - loss: 0.3085 - accuracy: 0.8723 - categorical_accuracy: 0.8723 - val_loss: 0.6044 - val_accuracy: 0.7568 - val_categorical_accuracy: 0.7568\n",
      "Epoch 35/100\n",
      "736/736 [==============================] - 0s 118us/step - loss: 0.3069 - accuracy: 0.8777 - categorical_accuracy: 0.8777 - val_loss: 0.5973 - val_accuracy: 0.7730 - val_categorical_accuracy: 0.7730\n",
      "Epoch 36/100\n",
      "736/736 [==============================] - 0s 118us/step - loss: 0.3041 - accuracy: 0.8804 - categorical_accuracy: 0.8804 - val_loss: 0.6317 - val_accuracy: 0.7568 - val_categorical_accuracy: 0.7568\n",
      "Epoch 37/100\n",
      "736/736 [==============================] - 0s 119us/step - loss: 0.2968 - accuracy: 0.8791 - categorical_accuracy: 0.8791 - val_loss: 0.6131 - val_accuracy: 0.7676 - val_categorical_accuracy: 0.7676\n",
      "Epoch 38/100\n",
      "736/736 [==============================] - 0s 113us/step - loss: 0.3066 - accuracy: 0.8777 - categorical_accuracy: 0.8777 - val_loss: 0.6106 - val_accuracy: 0.7568 - val_categorical_accuracy: 0.7568\n",
      "Epoch 39/100\n",
      "736/736 [==============================] - 0s 112us/step - loss: 0.2946 - accuracy: 0.8764 - categorical_accuracy: 0.8764 - val_loss: 0.6009 - val_accuracy: 0.7622 - val_categorical_accuracy: 0.7622\n",
      "Epoch 40/100\n",
      "736/736 [==============================] - 0s 97us/step - loss: 0.2961 - accuracy: 0.8764 - categorical_accuracy: 0.8764 - val_loss: 0.6080 - val_accuracy: 0.7622 - val_categorical_accuracy: 0.7622\n",
      "Epoch 41/100\n",
      "736/736 [==============================] - 0s 98us/step - loss: 0.2807 - accuracy: 0.8832 - categorical_accuracy: 0.8832 - val_loss: 0.6265 - val_accuracy: 0.7622 - val_categorical_accuracy: 0.7622\n",
      "Epoch 42/100\n",
      "736/736 [==============================] - 0s 95us/step - loss: 0.2763 - accuracy: 0.8845 - categorical_accuracy: 0.8845 - val_loss: 0.6510 - val_accuracy: 0.7405 - val_categorical_accuracy: 0.7405\n",
      "Epoch 43/100\n",
      "736/736 [==============================] - 0s 97us/step - loss: 0.2747 - accuracy: 0.8967 - categorical_accuracy: 0.8967 - val_loss: 0.6336 - val_accuracy: 0.7514 - val_categorical_accuracy: 0.7514\n",
      "Epoch 44/100\n",
      "736/736 [==============================] - 0s 97us/step - loss: 0.2753 - accuracy: 0.8981 - categorical_accuracy: 0.8981 - val_loss: 0.6213 - val_accuracy: 0.7622 - val_categorical_accuracy: 0.7622\n",
      "Epoch 45/100\n",
      "736/736 [==============================] - 0s 135us/step - loss: 0.2750 - accuracy: 0.8859 - categorical_accuracy: 0.8859 - val_loss: 0.6293 - val_accuracy: 0.7568 - val_categorical_accuracy: 0.7568\n",
      "Epoch 46/100\n",
      "736/736 [==============================] - 0s 100us/step - loss: 0.2678 - accuracy: 0.8954 - categorical_accuracy: 0.8954 - val_loss: 0.6460 - val_accuracy: 0.7459 - val_categorical_accuracy: 0.7459\n",
      "Epoch 47/100\n",
      "736/736 [==============================] - 0s 98us/step - loss: 0.2640 - accuracy: 0.8981 - categorical_accuracy: 0.8981 - val_loss: 0.6246 - val_accuracy: 0.7676 - val_categorical_accuracy: 0.7676\n",
      "Epoch 48/100\n",
      "736/736 [==============================] - 0s 96us/step - loss: 0.2573 - accuracy: 0.8927 - categorical_accuracy: 0.8927 - val_loss: 0.6711 - val_accuracy: 0.7568 - val_categorical_accuracy: 0.7568\n",
      "Epoch 49/100\n",
      "736/736 [==============================] - 0s 97us/step - loss: 0.2527 - accuracy: 0.9049 - categorical_accuracy: 0.9049 - val_loss: 0.6396 - val_accuracy: 0.7730 - val_categorical_accuracy: 0.7730\n",
      "Epoch 50/100\n",
      "736/736 [==============================] - 0s 97us/step - loss: 0.2506 - accuracy: 0.9049 - categorical_accuracy: 0.9049 - val_loss: 0.6324 - val_accuracy: 0.7622 - val_categorical_accuracy: 0.7622\n",
      "Epoch 51/100\n",
      "736/736 [==============================] - 0s 96us/step - loss: 0.2462 - accuracy: 0.9049 - categorical_accuracy: 0.9049 - val_loss: 0.6546 - val_accuracy: 0.7514 - val_categorical_accuracy: 0.7514\n",
      "Epoch 52/100\n",
      "736/736 [==============================] - 0s 97us/step - loss: 0.2476 - accuracy: 0.9035 - categorical_accuracy: 0.9035 - val_loss: 0.6540 - val_accuracy: 0.7568 - val_categorical_accuracy: 0.7568\n",
      "Epoch 53/100\n",
      "736/736 [==============================] - 0s 95us/step - loss: 0.2373 - accuracy: 0.9185 - categorical_accuracy: 0.9185 - val_loss: 0.6434 - val_accuracy: 0.7568 - val_categorical_accuracy: 0.7568\n",
      "Epoch 54/100\n",
      "736/736 [==============================] - 0s 97us/step - loss: 0.2404 - accuracy: 0.9049 - categorical_accuracy: 0.9049 - val_loss: 0.6468 - val_accuracy: 0.7622 - val_categorical_accuracy: 0.7622\n",
      "Epoch 55/100\n",
      "736/736 [==============================] - 0s 97us/step - loss: 0.2458 - accuracy: 0.9062 - categorical_accuracy: 0.9062 - val_loss: 0.6832 - val_accuracy: 0.7459 - val_categorical_accuracy: 0.7459\n",
      "Epoch 56/100\n",
      "736/736 [==============================] - 0s 99us/step - loss: 0.2365 - accuracy: 0.9062 - categorical_accuracy: 0.9062 - val_loss: 0.6893 - val_accuracy: 0.7514 - val_categorical_accuracy: 0.7514\n",
      "Epoch 57/100\n",
      "736/736 [==============================] - 0s 98us/step - loss: 0.2273 - accuracy: 0.9103 - categorical_accuracy: 0.9103 - val_loss: 0.6796 - val_accuracy: 0.7784 - val_categorical_accuracy: 0.7784\n",
      "Epoch 58/100\n",
      "736/736 [==============================] - 0s 96us/step - loss: 0.2207 - accuracy: 0.9130 - categorical_accuracy: 0.9130 - val_loss: 0.6506 - val_accuracy: 0.7892 - val_categorical_accuracy: 0.7892\n",
      "Epoch 59/100\n",
      "736/736 [==============================] - 0s 98us/step - loss: 0.2138 - accuracy: 0.9226 - categorical_accuracy: 0.9226 - val_loss: 0.6715 - val_accuracy: 0.7676 - val_categorical_accuracy: 0.7676\n",
      "Epoch 60/100\n",
      "736/736 [==============================] - 0s 96us/step - loss: 0.2157 - accuracy: 0.9185 - categorical_accuracy: 0.9185 - val_loss: 0.6827 - val_accuracy: 0.7622 - val_categorical_accuracy: 0.7622\n",
      "Epoch 61/100\n",
      "736/736 [==============================] - 0s 97us/step - loss: 0.2095 - accuracy: 0.9198 - categorical_accuracy: 0.9198 - val_loss: 0.7096 - val_accuracy: 0.7730 - val_categorical_accuracy: 0.7730\n",
      "Epoch 62/100\n",
      "736/736 [==============================] - 0s 99us/step - loss: 0.2097 - accuracy: 0.9239 - categorical_accuracy: 0.9239 - val_loss: 0.7025 - val_accuracy: 0.7568 - val_categorical_accuracy: 0.7568\n",
      "Epoch 63/100\n",
      "736/736 [==============================] - 0s 97us/step - loss: 0.2105 - accuracy: 0.9226 - categorical_accuracy: 0.9226 - val_loss: 0.6862 - val_accuracy: 0.7622 - val_categorical_accuracy: 0.7622\n",
      "Epoch 64/100\n",
      "736/736 [==============================] - 0s 97us/step - loss: 0.1981 - accuracy: 0.9253 - categorical_accuracy: 0.9253 - val_loss: 0.6866 - val_accuracy: 0.7784 - val_categorical_accuracy: 0.7784\n",
      "Epoch 65/100\n",
      "736/736 [==============================] - 0s 95us/step - loss: 0.1986 - accuracy: 0.9253 - categorical_accuracy: 0.9253 - val_loss: 0.7194 - val_accuracy: 0.7622 - val_categorical_accuracy: 0.7622\n",
      "Epoch 66/100\n",
      "736/736 [==============================] - 0s 97us/step - loss: 0.1922 - accuracy: 0.9280 - categorical_accuracy: 0.9280 - val_loss: 0.7059 - val_accuracy: 0.7676 - val_categorical_accuracy: 0.7676\n",
      "Epoch 67/100\n",
      "736/736 [==============================] - 0s 97us/step - loss: 0.1925 - accuracy: 0.9361 - categorical_accuracy: 0.9361 - val_loss: 0.7373 - val_accuracy: 0.7730 - val_categorical_accuracy: 0.7730\n",
      "Epoch 68/100\n",
      "736/736 [==============================] - 0s 97us/step - loss: 0.1930 - accuracy: 0.9266 - categorical_accuracy: 0.9266 - val_loss: 0.7040 - val_accuracy: 0.7568 - val_categorical_accuracy: 0.7568\n",
      "Epoch 69/100\n",
      "736/736 [==============================] - 0s 117us/step - loss: 0.1874 - accuracy: 0.9321 - categorical_accuracy: 0.9321 - val_loss: 0.7480 - val_accuracy: 0.7730 - val_categorical_accuracy: 0.7730\n",
      "Epoch 70/100\n",
      "736/736 [==============================] - 0s 97us/step - loss: 0.1902 - accuracy: 0.9348 - categorical_accuracy: 0.9348 - val_loss: 0.7592 - val_accuracy: 0.7622 - val_categorical_accuracy: 0.7622\n",
      "Epoch 71/100\n",
      "736/736 [==============================] - 0s 114us/step - loss: 0.1798 - accuracy: 0.9307 - categorical_accuracy: 0.9307 - val_loss: 0.7183 - val_accuracy: 0.7622 - val_categorical_accuracy: 0.7622\n",
      "Epoch 72/100\n",
      "736/736 [==============================] - 0s 114us/step - loss: 0.1804 - accuracy: 0.9334 - categorical_accuracy: 0.9334 - val_loss: 0.7319 - val_accuracy: 0.7676 - val_categorical_accuracy: 0.7676\n",
      "Epoch 73/100\n",
      "736/736 [==============================] - 0s 112us/step - loss: 0.1731 - accuracy: 0.9375 - categorical_accuracy: 0.9375 - val_loss: 0.7509 - val_accuracy: 0.7568 - val_categorical_accuracy: 0.7568\n",
      "Epoch 74/100\n",
      "736/736 [==============================] - 0s 118us/step - loss: 0.1711 - accuracy: 0.9429 - categorical_accuracy: 0.9429 - val_loss: 0.7487 - val_accuracy: 0.7622 - val_categorical_accuracy: 0.7622\n",
      "Epoch 75/100\n",
      "736/736 [==============================] - 0s 99us/step - loss: 0.1658 - accuracy: 0.9402 - categorical_accuracy: 0.9402 - val_loss: 0.7535 - val_accuracy: 0.7676 - val_categorical_accuracy: 0.7676\n",
      "Epoch 76/100\n",
      "736/736 [==============================] - 0s 103us/step - loss: 0.1670 - accuracy: 0.9389 - categorical_accuracy: 0.9389 - val_loss: 0.7596 - val_accuracy: 0.7676 - val_categorical_accuracy: 0.7676\n",
      "Epoch 77/100\n",
      "736/736 [==============================] - 0s 100us/step - loss: 0.1702 - accuracy: 0.9375 - categorical_accuracy: 0.9375 - val_loss: 0.8027 - val_accuracy: 0.7730 - val_categorical_accuracy: 0.7730\n"
     ]
    },
    {
     "name": "stdout",
     "output_type": "stream",
     "text": [
      "Epoch 78/100\n",
      "736/736 [==============================] - 0s 98us/step - loss: 0.1607 - accuracy: 0.9389 - categorical_accuracy: 0.9389 - val_loss: 0.8087 - val_accuracy: 0.7568 - val_categorical_accuracy: 0.7568\n",
      "Epoch 79/100\n",
      "736/736 [==============================] - 0s 99us/step - loss: 0.1545 - accuracy: 0.9416 - categorical_accuracy: 0.9416 - val_loss: 0.8241 - val_accuracy: 0.7514 - val_categorical_accuracy: 0.7514\n",
      "Epoch 80/100\n",
      "736/736 [==============================] - 0s 104us/step - loss: 0.1523 - accuracy: 0.9443 - categorical_accuracy: 0.9443 - val_loss: 0.8386 - val_accuracy: 0.7568 - val_categorical_accuracy: 0.7568\n",
      "Epoch 81/100\n",
      "736/736 [==============================] - 0s 103us/step - loss: 0.1476 - accuracy: 0.9470 - categorical_accuracy: 0.9470 - val_loss: 0.8629 - val_accuracy: 0.7514 - val_categorical_accuracy: 0.7514\n",
      "Epoch 82/100\n",
      "736/736 [==============================] - 0s 99us/step - loss: 0.1425 - accuracy: 0.9538 - categorical_accuracy: 0.9538 - val_loss: 0.8291 - val_accuracy: 0.7514 - val_categorical_accuracy: 0.7514\n",
      "Epoch 83/100\n",
      "736/736 [==============================] - 0s 98us/step - loss: 0.1518 - accuracy: 0.9402 - categorical_accuracy: 0.9402 - val_loss: 0.8222 - val_accuracy: 0.7568 - val_categorical_accuracy: 0.7568\n",
      "Epoch 84/100\n",
      "736/736 [==============================] - 0s 99us/step - loss: 0.1438 - accuracy: 0.9497 - categorical_accuracy: 0.9497 - val_loss: 0.8508 - val_accuracy: 0.7568 - val_categorical_accuracy: 0.7568\n",
      "Epoch 85/100\n",
      "736/736 [==============================] - 0s 100us/step - loss: 0.1410 - accuracy: 0.9457 - categorical_accuracy: 0.9457 - val_loss: 0.8436 - val_accuracy: 0.7784 - val_categorical_accuracy: 0.7784\n",
      "Epoch 86/100\n",
      "736/736 [==============================] - 0s 96us/step - loss: 0.1311 - accuracy: 0.9497 - categorical_accuracy: 0.9497 - val_loss: 0.8830 - val_accuracy: 0.7459 - val_categorical_accuracy: 0.7459\n",
      "Epoch 87/100\n",
      "736/736 [==============================] - 0s 108us/step - loss: 0.1365 - accuracy: 0.9484 - categorical_accuracy: 0.9484 - val_loss: 0.8963 - val_accuracy: 0.7622 - val_categorical_accuracy: 0.7622\n",
      "Epoch 88/100\n",
      "736/736 [==============================] - 0s 120us/step - loss: 0.1332 - accuracy: 0.9579 - categorical_accuracy: 0.9579 - val_loss: 0.9278 - val_accuracy: 0.7622 - val_categorical_accuracy: 0.7622\n",
      "Epoch 89/100\n",
      "736/736 [==============================] - 0s 100us/step - loss: 0.1272 - accuracy: 0.9579 - categorical_accuracy: 0.9579 - val_loss: 0.8715 - val_accuracy: 0.7459 - val_categorical_accuracy: 0.7459\n",
      "Epoch 90/100\n",
      "736/736 [==============================] - 0s 95us/step - loss: 0.1270 - accuracy: 0.9606 - categorical_accuracy: 0.9606 - val_loss: 0.9219 - val_accuracy: 0.7297 - val_categorical_accuracy: 0.7297\n",
      "Epoch 91/100\n",
      "736/736 [==============================] - 0s 97us/step - loss: 0.1435 - accuracy: 0.9470 - categorical_accuracy: 0.9470 - val_loss: 0.8575 - val_accuracy: 0.7568 - val_categorical_accuracy: 0.7568\n",
      "Epoch 92/100\n",
      "736/736 [==============================] - 0s 434us/step - loss: 0.1212 - accuracy: 0.9565 - categorical_accuracy: 0.9565 - val_loss: 0.9393 - val_accuracy: 0.7568 - val_categorical_accuracy: 0.7568\n",
      "Epoch 93/100\n",
      "736/736 [==============================] - 0s 100us/step - loss: 0.1176 - accuracy: 0.9552 - categorical_accuracy: 0.9552 - val_loss: 0.8997 - val_accuracy: 0.7568 - val_categorical_accuracy: 0.7568\n",
      "Epoch 94/100\n",
      "736/736 [==============================] - 0s 101us/step - loss: 0.1127 - accuracy: 0.9592 - categorical_accuracy: 0.9592 - val_loss: 0.9509 - val_accuracy: 0.7459 - val_categorical_accuracy: 0.7459\n",
      "Epoch 95/100\n",
      "736/736 [==============================] - 0s 96us/step - loss: 0.1113 - accuracy: 0.9688 - categorical_accuracy: 0.9688 - val_loss: 0.9228 - val_accuracy: 0.7514 - val_categorical_accuracy: 0.7514\n",
      "Epoch 96/100\n",
      "736/736 [==============================] - 0s 97us/step - loss: 0.1117 - accuracy: 0.9674 - categorical_accuracy: 0.9674 - val_loss: 1.0129 - val_accuracy: 0.7405 - val_categorical_accuracy: 0.7405\n",
      "Epoch 97/100\n",
      "736/736 [==============================] - 0s 98us/step - loss: 0.1143 - accuracy: 0.9647 - categorical_accuracy: 0.9647 - val_loss: 0.9305 - val_accuracy: 0.7568 - val_categorical_accuracy: 0.7568\n",
      "Epoch 98/100\n",
      "736/736 [==============================] - 0s 124us/step - loss: 0.1090 - accuracy: 0.9688 - categorical_accuracy: 0.9688 - val_loss: 0.9487 - val_accuracy: 0.7459 - val_categorical_accuracy: 0.7459\n",
      "Epoch 99/100\n",
      "736/736 [==============================] - 0s 103us/step - loss: 0.1031 - accuracy: 0.9688 - categorical_accuracy: 0.9688 - val_loss: 1.0057 - val_accuracy: 0.7622 - val_categorical_accuracy: 0.7622\n",
      "Epoch 100/100\n",
      "736/736 [==============================] - 0s 100us/step - loss: 0.1057 - accuracy: 0.9633 - categorical_accuracy: 0.9633 - val_loss: 0.9809 - val_accuracy: 0.7297 - val_categorical_accuracy: 0.7297\n"
     ]
    }
   ],
   "source": [
    "# Initializing the ANN\n",
    "ann = Sequential()\n",
    "\n",
    "# Adding the input & hidden layer\n",
    "ann.add(Dense(16, activation = 'relu', input_shape = (61,)))\n",
    "ann.add(Dense(16, activation = 'relu'))\n",
    "ann.add(Dense(3, activation = 'softmax'))\n",
    "ann.compile(loss='categorical_crossentropy', optimizer='adam', metrics=['accuracy', 'categorical_accuracy'])\n",
    "\n",
    "callbacks = [EarlyStopping(monitor = 'val_loss', patience = 2),\n",
    "            ModelCheckpoint(filepath = 'best_model.h5', monitor = 'val_loss', save_best_only = True)]\n",
    "\n",
    "history = ann.fit(X_train, y_binary, batch_size = 10, epochs = 100, validation_data = (X_test, y_compare))"
   ]
  },
  {
   "cell_type": "code",
   "execution_count": 187,
   "metadata": {},
   "outputs": [
    {
     "name": "stdout",
     "output_type": "stream",
     "text": [
      "dict_keys(['val_loss', 'val_accuracy', 'val_categorical_accuracy', 'loss', 'accuracy', 'categorical_accuracy'])\n"
     ]
    }
   ],
   "source": [
    "print(history.history.keys())"
   ]
  },
  {
   "cell_type": "code",
   "execution_count": 188,
   "metadata": {},
   "outputs": [
    {
     "data": {
      "image/png": "[encoded data removed]",
      "text/plain": [
       "<Figure size 432x288 with 1 Axes>"
      ]
     },
     "metadata": {
      "needs_background": "light"
     },
     "output_type": "display_data"
    }
   ],
   "source": [
    "# Summarize history for accuracy\n",
    "plt.plot(history.history['categorical_accuracy'])\n",
    "plt.plot(history.history['val_categorical_accuracy'])\n",
    "plt.title('model accuracy')\n",
    "plt.ylabel('accuracy')\n",
    "plt.xlabel('epoch')\n",
    "plt.legend(['train', 'test'], loc='upper left')\n",
    "plt.show()"
   ]
  },
  {
   "cell_type": "code",
   "execution_count": 189,
   "metadata": {},
   "outputs": [
    {
     "data": {
      "image/png": "[encoded data removed]",
      "text/plain": [
       "<Figure size 432x288 with 1 Axes>"
      ]
     },
     "metadata": {
      "needs_background": "light"
     },
     "output_type": "display_data"
    }
   ],
   "source": [
    "# Summarize history for loss\n",
    "plt.plot(history.history['loss'])\n",
    "plt.plot(history.history['val_loss'])\n",
    "plt.title('model loss')\n",
    "plt.ylabel('loss')\n",
    "plt.xlabel('epoch')\n",
    "plt.legend(['train', 'test'], loc='upper left')\n",
    "plt.show()"
   ]
  },
  {
   "cell_type": "code",
   "execution_count": 190,
   "metadata": {},
   "outputs": [],
   "source": [
    "# Create threshold for multi-predictor\n",
    "y_pred = ann.predict(X_test)\n",
    "y_pred = (y_pred > 0.5)"
   ]
  },
  {
   "cell_type": "code",
   "execution_count": 191,
   "metadata": {},
   "outputs": [
    {
     "data": {
      "text/plain": [
       "array([[76,  2,  1],\n",
       "       [ 6, 39, 15],\n",
       "       [ 7, 20, 19]], dtype=int64)"
      ]
     },
     "execution_count": 191,
     "metadata": {},
     "output_type": "execute_result"
    }
   ],
   "source": [
    "# Making the confusion matrix\n",
    "from sklearn.metrics import confusion_matrix\n",
    "from sklearn.metrics import multilabel_confusion_matrix\n",
    "\n",
    "cm = confusion_matrix(y_compare.argmax(axis=1), y_pred.argmax(axis=1))\n",
    "\n",
    "cm"
   ]
  },
  {
   "cell_type": "code",
   "execution_count": 192,
   "metadata": {},
   "outputs": [
    {
     "name": "stdout",
     "output_type": "stream",
     "text": [
      "              precision    recall  f1-score   support\n",
      "\n",
      "           0       0.86      0.95      0.90        40\n",
      "           1       0.53      0.56      0.55        32\n",
      "           2       0.33      0.24      0.28        21\n",
      "\n",
      "    accuracy                           0.66        93\n",
      "   macro avg       0.58      0.58      0.58        93\n",
      "weighted avg       0.63      0.66      0.64        93\n",
      "\n",
      "              precision    recall  f1-score   support\n",
      "\n",
      "           0       0.90      0.90      0.90        39\n",
      "           1       0.75      0.73      0.74        33\n",
      "           2       0.48      0.50      0.49        20\n",
      "\n",
      "    accuracy                           0.75        92\n",
      "   macro avg       0.71      0.71      0.71        92\n",
      "weighted avg       0.75      0.75      0.75        92\n",
      "\n",
      "              precision    recall  f1-score   support\n",
      "\n",
      "           0       0.88      0.95      0.91        39\n",
      "           1       0.77      0.70      0.73        33\n",
      "           2       0.60      0.60      0.60        20\n",
      "\n",
      "    accuracy                           0.78        92\n",
      "   macro avg       0.75      0.75      0.75        92\n",
      "weighted avg       0.78      0.78      0.78        92\n",
      "\n",
      "              precision    recall  f1-score   support\n",
      "\n",
      "           0       0.89      0.87      0.88        39\n",
      "           1       0.66      0.70      0.68        33\n",
      "           2       0.47      0.45      0.46        20\n",
      "\n",
      "    accuracy                           0.72        92\n",
      "   macro avg       0.68      0.67      0.67        92\n",
      "weighted avg       0.72      0.72      0.72        92\n",
      "\n",
      "              precision    recall  f1-score   support\n",
      "\n",
      "           0       0.91      0.79      0.85        39\n",
      "           1       0.65      0.81      0.72        32\n",
      "           2       0.56      0.48      0.51        21\n",
      "\n",
      "    accuracy                           0.73        92\n",
      "   macro avg       0.71      0.69      0.69        92\n",
      "weighted avg       0.74      0.73      0.73        92\n",
      "\n",
      "              precision    recall  f1-score   support\n",
      "\n",
      "           0       0.90      0.90      0.90        39\n",
      "           1       0.80      0.75      0.77        32\n",
      "           2       0.52      0.57      0.55        21\n",
      "\n",
      "    accuracy                           0.77        92\n",
      "   macro avg       0.74      0.74      0.74        92\n",
      "weighted avg       0.78      0.77      0.77        92\n",
      "\n",
      "              precision    recall  f1-score   support\n",
      "\n",
      "           0       0.85      0.90      0.88        39\n",
      "           1       0.61      0.69      0.65        32\n",
      "           2       0.40      0.29      0.33        21\n",
      "\n",
      "    accuracy                           0.68        92\n",
      "   macro avg       0.62      0.62      0.62        92\n",
      "weighted avg       0.67      0.68      0.67        92\n",
      "\n",
      "              precision    recall  f1-score   support\n",
      "\n",
      "           0       0.95      0.95      0.95        39\n",
      "           1       0.69      0.78      0.74        32\n",
      "           2       0.59      0.48      0.53        21\n",
      "\n",
      "    accuracy                           0.78        92\n",
      "   macro avg       0.74      0.74      0.74        92\n",
      "weighted avg       0.78      0.78      0.78        92\n",
      "\n",
      "              precision    recall  f1-score   support\n",
      "\n",
      "           0       0.94      0.87      0.91        39\n",
      "           1       0.72      0.88      0.79        32\n",
      "           2       0.65      0.52      0.58        21\n",
      "\n",
      "    accuracy                           0.79        92\n",
      "   macro avg       0.77      0.76      0.76        92\n",
      "weighted avg       0.80      0.79      0.79        92\n",
      "\n",
      "              precision    recall  f1-score   support\n",
      "\n",
      "           0       0.88      0.90      0.89        39\n",
      "           1       0.69      0.75      0.72        32\n",
      "           2       0.47      0.38      0.42        21\n",
      "\n",
      "    accuracy                           0.73        92\n",
      "   macro avg       0.68      0.68      0.67        92\n",
      "weighted avg       0.72      0.73      0.72        92\n",
      "\n"
     ]
    }
   ],
   "source": [
    "# Calculating the accuracy and other metrics\n",
    "#, scoring=make_scorer(classification_report_with_accuracy_score)\n",
    "\n",
    "from sklearn.model_selection import StratifiedKFold, cross_val_score\n",
    "from tensorflow.keras.wrappers.scikit_learn import KerasRegressor\n",
    "from sklearn.metrics import accuracy_score\n",
    "from sklearn.metrics import classification_report\n",
    "\n",
    "target_names = ['melanoma', 'bcc', 'scc']\n",
    "\n",
    "# Variables for average classification report\n",
    "originalclass = []\n",
    "predictedclass = []\n",
    "\n",
    "#Build the Model\n",
    "def buildmodel():\n",
    "    ann = Sequential()\n",
    "    ann.add(Dense(16, activation = 'relu', input_shape = (61,)))\n",
    "    ann.add(Dense(16, activation = 'relu'))\n",
    "    ann.add(Dense(3, activation = 'softmax'))\n",
    "    ann.compile(loss='categorical_crossentropy', optimizer='adam', metrics=['accuracy', 'categorical_accuracy'])\n",
    "    return(ann)\n",
    "\n",
    "\n",
    "#Make our customer score\n",
    "def classification_report_with_accuracy_score(y_use, y_pred):\n",
    "    originalclass.extend(y_use)\n",
    "    predictedclass.extend(y_pred.argmax(axis=1))\n",
    "    print(classification_report(y_use, y_pred.argmax(axis=1)))\n",
    "    return accuracy_score(y_use, y_pred.argmax(axis=1)) # return accuracy score\n",
    "\n",
    "outer_cv = StratifiedKFold(n_splits=10, shuffle=True, random_state=0)\n",
    "\n",
    "# Nested CV with parameter optimization\n",
    "ann = KerasRegressor(build_fn=buildmodel, epochs = 100, batch_size = 10, verbose = 0)\n",
    "nested_score = cross_val_score(estimator = ann, X = X, y = y_use.argmax(1), cv=outer_cv, scoring=make_scorer(classification_report_with_accuracy_score))"
   ]
  },
  {
   "cell_type": "code",
   "execution_count": 193,
   "metadata": {},
   "outputs": [
    {
     "name": "stdout",
     "output_type": "stream",
     "text": [
      "              precision    recall  f1-score   support\n",
      "\n",
      "    melanoma       0.90      0.90      0.90       391\n",
      "         bcc       0.68      0.73      0.71       323\n",
      "         scc       0.51      0.45      0.48       207\n",
      "\n",
      "    accuracy                           0.74       921\n",
      "   macro avg       0.70      0.69      0.69       921\n",
      "weighted avg       0.73      0.74      0.74       921\n",
      "\n"
     ]
    }
   ],
   "source": [
    "# Average values in classification report for all folds in a K-fold Cross-validation  \n",
    "print(classification_report(originalclass, predictedclass, target_names=target_names))"
   ]
  },
  {
   "cell_type": "markdown",
   "metadata": {},
   "source": [
    "# XGBoost"
   ]
  },
  {
   "cell_type": "code",
   "execution_count": 179,
   "metadata": {},
   "outputs": [
    {
     "data": {
      "text/plain": [
       "XGBClassifier(base_score=0.5, booster='dart', colsample_bylevel=1,\n",
       "              colsample_bynode=1, colsample_bytree=1, gamma=0,\n",
       "              learning_rate=0.1, max_delta_step=0, max_depth=3,\n",
       "              min_child_weight=1, missing=None, n_estimators=100, n_jobs=1,\n",
       "              normalize_type='forest', nthread=None, objective='multi:softprob',\n",
       "              random_state=0, rate_drop=0.1, reg_alpha=0, reg_lambda=1,\n",
       "              sample_type='uniform', scale_pos_weight=1, seed=None, silent=None,\n",
       "              skip_drop=0, subsample=1, verbosity=1)"
      ]
     },
     "execution_count": 179,
     "metadata": {},
     "output_type": "execute_result"
    }
   ],
   "source": [
    "# Importing the XGB Library and fit it to the data\n",
    "from xgboost import XGBClassifier\n",
    "xgb = XGBClassifier(objective = 'multi:softmax', booster = 'dart', n_estimators = 100, normalize_type = 'forest', rate_drop = 0.1, sample_type = 'uniform', skip_drop = 0)\n",
    "xgb.fit(X_train, y_train)"
   ]
  },
  {
   "cell_type": "code",
   "execution_count": 180,
   "metadata": {},
   "outputs": [
    {
     "data": {
      "text/plain": [
       "array([[75,  3,  1],\n",
       "       [ 6, 48,  6],\n",
       "       [ 8, 24, 14]], dtype=int64)"
      ]
     },
     "execution_count": 180,
     "metadata": {},
     "output_type": "execute_result"
    }
   ],
   "source": [
    "# Predicting the test set result\n",
    "y_pred = xgb.predict(X_test)\n",
    "\n",
    "# Making the confusion matrix\n",
    "from sklearn.metrics import confusion_matrix\n",
    "from sklearn.metrics import multilabel_confusion_matrix\n",
    "\n",
    "cm = confusion_matrix(y_test, y_pred)\n",
    "cm2 = multilabel_confusion_matrix(y_test, y_pred)\n",
    "\n",
    "cm"
   ]
  },
  {
   "cell_type": "code",
   "execution_count": 181,
   "metadata": {},
   "outputs": [
    {
     "name": "stdout",
     "output_type": "stream",
     "text": [
      "0.7310255460940392\n"
     ]
    }
   ],
   "source": [
    "# Applying K-Fold Cross Validation\n",
    "\n",
    "from sklearn.model_selection import cross_val_score\n",
    "accuracies = cross_val_score(estimator = xgb, X = X_train, y = y_train, cv = 10, n_jobs = -1)\n",
    "print(np.mean(accuracies))"
   ]
  },
  {
   "cell_type": "code",
   "execution_count": 12,
   "metadata": {},
   "outputs": [
    {
     "name": "stdout",
     "output_type": "stream",
     "text": [
      "0.75\n",
      "{'booster': 'dart', 'n_estimators': 100, 'normalize_type': 'forest', 'objective': 'multi:softmax', 'rate_drop': 0.1, 'sample_type': 'uniform', 'skip_drop': 0}\n"
     ]
    }
   ],
   "source": [
    "# Applying Grid Search to Find the Best Hyperparameter\n",
    "# {'objective': ['multi:softmax'], 'n_estimators': [25, 50, 100], 'booster': ['gbtree'], 'eta': [0.001, 0.002, 0.004], 'max_depth':[3], 'gamma': [0], 'subsample': [1], 'sampling_method': ['uniform', 'gradient_based']},\n",
    "# {'objective': ['multi:softmax'], 'n_estimators': [109], 'booster': ['dart'], 'sample_type': ['uniform', 'weighted'], 'normalize_type': ['tree', 'forest'], 'rate_drop': [0, 0.1, 0.2], 'skip_drop': [0, 0.1, 0.2]}\n",
    "# {'objective': ['multi:softmax'], 'n_estimators': [10, 25, 50], 'booster': ['gblinear'], 'feature_selector': ['greedy', 'cyclic', 'random', 'shuffle', 'thrifty'], 'updater': ['shotgun', 'coord_descent'], 'lambda': [0, 0.5, 1], 'alpha': [0, 0.5, 1]}\n",
    "\n",
    "from sklearn.model_selection import GridSearchCV\n",
    "parameters = [\n",
    "    {'objective': ['multi:softmax'], 'n_estimators': [25, 50, 100], 'booster': ['gbtree'], 'eta': [0.001, 0.002, 0.004], 'max_depth':[3], 'gamma': [0], 'subsample': [1], 'sampling_method': ['uniform', 'gradient_based']},\n",
    "    {'objective': ['multi:softmax'], 'n_estimators': [25, 50, 100], 'booster': ['dart'], 'sample_type': ['uniform', 'weighted'], 'normalize_type': ['tree', 'forest'], 'rate_drop': [0, 0.1, 0.2], 'skip_drop': [0, 0.1, 0.2]}\n",
    "]\n",
    "\n",
    "grid_search = GridSearchCV(estimator = xgb, param_grid = parameters, scoring = 'accuracy', cv = 5, n_jobs = -1)\n",
    "grid_search = grid_search.fit(X_train, y_train)\n",
    "\n",
    "best_accuracy = grid_search.best_score_\n",
    "best_parameters = grid_search.best_params_\n",
    "\n",
    "print(round(best_accuracy, 2))\n",
    "print(best_parameters)"
   ]
  },
  {
   "cell_type": "code",
   "execution_count": 182,
   "metadata": {},
   "outputs": [
    {
     "name": "stdout",
     "output_type": "stream",
     "text": [
      "              precision    recall  f1-score   support\n",
      "\n",
      "           1       0.84      0.93      0.88        40\n",
      "           2       0.57      0.62      0.60        32\n",
      "           3       0.36      0.24      0.29        21\n",
      "\n",
      "    accuracy                           0.67        93\n",
      "   macro avg       0.59      0.60      0.59        93\n",
      "weighted avg       0.64      0.67      0.65        93\n",
      "\n",
      "              precision    recall  f1-score   support\n",
      "\n",
      "           1       0.87      0.87      0.87        39\n",
      "           2       0.81      0.88      0.84        33\n",
      "           3       0.71      0.60      0.65        20\n",
      "\n",
      "    accuracy                           0.82        92\n",
      "   macro avg       0.79      0.78      0.79        92\n",
      "weighted avg       0.81      0.82      0.81        92\n",
      "\n",
      "              precision    recall  f1-score   support\n",
      "\n",
      "           1       0.83      0.90      0.86        39\n",
      "           2       0.67      0.79      0.72        33\n",
      "           3       0.55      0.30      0.39        20\n",
      "\n",
      "    accuracy                           0.73        92\n",
      "   macro avg       0.68      0.66      0.66        92\n",
      "weighted avg       0.71      0.73      0.71        92\n",
      "\n",
      "              precision    recall  f1-score   support\n",
      "\n",
      "           1       0.82      0.92      0.87        39\n",
      "           2       0.66      0.70      0.68        33\n",
      "           3       0.46      0.30      0.36        20\n",
      "\n",
      "    accuracy                           0.71        92\n",
      "   macro avg       0.65      0.64      0.64        92\n",
      "weighted avg       0.68      0.71      0.69        92\n",
      "\n",
      "              precision    recall  f1-score   support\n",
      "\n",
      "           1       0.84      0.82      0.83        39\n",
      "           2       0.63      0.84      0.72        32\n",
      "           3       0.27      0.14      0.19        21\n",
      "\n",
      "    accuracy                           0.67        92\n",
      "   macro avg       0.58      0.60      0.58        92\n",
      "weighted avg       0.64      0.67      0.65        92\n",
      "\n",
      "              precision    recall  f1-score   support\n",
      "\n",
      "           1       0.85      0.87      0.86        39\n",
      "           2       0.71      0.78      0.75        32\n",
      "           3       0.47      0.38      0.42        21\n",
      "\n",
      "    accuracy                           0.73        92\n",
      "   macro avg       0.68      0.68      0.68        92\n",
      "weighted avg       0.72      0.73      0.72        92\n",
      "\n",
      "              precision    recall  f1-score   support\n",
      "\n",
      "           1       0.84      0.97      0.90        39\n",
      "           2       0.69      0.75      0.72        32\n",
      "           3       0.67      0.38      0.48        21\n",
      "\n",
      "    accuracy                           0.76        92\n",
      "   macro avg       0.73      0.70      0.70        92\n",
      "weighted avg       0.75      0.76      0.74        92\n",
      "\n",
      "              precision    recall  f1-score   support\n",
      "\n",
      "           1       0.92      0.90      0.91        39\n",
      "           2       0.69      0.69      0.69        32\n",
      "           3       0.45      0.48      0.47        21\n",
      "\n",
      "    accuracy                           0.73        92\n",
      "   macro avg       0.69      0.69      0.69        92\n",
      "weighted avg       0.73      0.73      0.73        92\n",
      "\n",
      "              precision    recall  f1-score   support\n",
      "\n",
      "           1       0.90      0.95      0.92        39\n",
      "           2       0.75      0.94      0.83        32\n",
      "           3       0.82      0.43      0.56        21\n",
      "\n",
      "    accuracy                           0.83        92\n",
      "   macro avg       0.82      0.77      0.77        92\n",
      "weighted avg       0.83      0.83      0.81        92\n",
      "\n",
      "              precision    recall  f1-score   support\n",
      "\n",
      "           1       0.85      0.87      0.86        39\n",
      "           2       0.68      0.81      0.74        32\n",
      "           3       0.64      0.43      0.51        21\n",
      "\n",
      "    accuracy                           0.75        92\n",
      "   macro avg       0.73      0.70      0.71        92\n",
      "weighted avg       0.75      0.75      0.74        92\n",
      "\n"
     ]
    }
   ],
   "source": [
    "# Calculating the accuracy and other metrics\n",
    "\n",
    "from sklearn.metrics import f1_score, accuracy_score, precision_score, recall_score, make_scorer\n",
    "from sklearn.metrics import accuracy_score\n",
    "from sklearn.metrics import classification_report\n",
    "from sklearn.model_selection import cross_val_score\n",
    "from sklearn.model_selection import StratifiedKFold, KFold\n",
    "\n",
    "target_names = ['melanoma', 'bcc', 'scc']\n",
    "\n",
    "# Variables for average classification report\n",
    "originalclass = []\n",
    "predictedclass = []\n",
    "\n",
    "#Make our customer score\n",
    "def classification_report_with_accuracy_score(y_test, y_pred):\n",
    "    originalclass.extend(y_test)\n",
    "    predictedclass.extend(y_pred)\n",
    "    print(classification_report(y_test, y_pred))\n",
    "    return accuracy_score(y_test, y_pred) # return accuracy score\n",
    "\n",
    "outer_cv = StratifiedKFold(n_splits=10, shuffle=True, random_state=0)\n",
    "\n",
    "# Nested CV with parameter optimization\n",
    "nested_score = cross_val_score(estimator = xgb, X = X, y = Y, cv=outer_cv, scoring=make_scorer(classification_report_with_accuracy_score))"
   ]
  },
  {
   "cell_type": "code",
   "execution_count": 183,
   "metadata": {},
   "outputs": [
    {
     "name": "stdout",
     "output_type": "stream",
     "text": [
      "              precision    recall  f1-score   support\n",
      "\n",
      "    melanoma       0.86      0.90      0.88       391\n",
      "         bcc       0.68      0.78      0.73       323\n",
      "         scc       0.54      0.37      0.44       207\n",
      "\n",
      "    accuracy                           0.74       921\n",
      "   macro avg       0.69      0.68      0.68       921\n",
      "weighted avg       0.72      0.74      0.73       921\n",
      "\n"
     ]
    }
   ],
   "source": [
    "# Average values in classification report for all folds in a K-fold Cross-validation  \n",
    "print(classification_report(originalclass, predictedclass, target_names=target_names))"
   ]
  },
  {
   "cell_type": "code",
   "execution_count": null,
   "metadata": {},
   "outputs": [],
   "source": []
  }
 ],
 "metadata": {
  "kernelspec": {
   "display_name": "Python 3",
   "language": "python",
   "name": "python3"
  },
  "language_info": {
   "codemirror_mode": {
    "name": "ipython",
    "version": 3
   },
   "file_extension": ".py",
   "mimetype": "text/x-python",
   "name": "python",
   "nbconvert_exporter": "python",
   "pygments_lexer": "ipython3",
   "version": "3.7.6"
  }
 },
 "nbformat": 4,
 "nbformat_minor": 4
}
