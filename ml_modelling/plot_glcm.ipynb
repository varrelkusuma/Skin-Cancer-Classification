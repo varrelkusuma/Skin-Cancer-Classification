{
 "cells": [
  {
   "cell_type": "code",
   "execution_count": null,
   "metadata": {},
   "outputs": [],
   "source": [
    "%matplotlib inline"
   ]
  },
  {
   "cell_type": "markdown",
   "metadata": {},
   "source": [
    "\n",
    "# GLCM Texture Features\n",
    "\n",
    "\n",
    "This example illustrates texture classification using grey level\n",
    "co-occurrence matrices (GLCMs) [1]_. A GLCM is a histogram of co-occurring\n",
    "greyscale values at a given offset over an image.\n",
    "\n",
    "In this example, samples of two different textures are extracted from\n",
    "an image: grassy areas and sky areas. For each patch, a GLCM with\n",
    "a horizontal offset of 5 (`distance=[5]` and `angles=[0]`) is computed.\n",
    "Next, two features of the GLCM matrices are computed: dissimilarity and\n",
    "correlation. These are plotted to illustrate that the classes form\n",
    "clusters in feature space.\n",
    "In a typical classification problem, the final step (not included in\n",
    "this example) would be to train a classifier, such as logistic\n",
    "regression, to label image patches from new images.\n",
    "\n",
    "References\n",
    "----------\n",
    ".. [1] Haralick, RM.; Shanmugam, K.,\n",
    "       \"Textural features for image classification\"\n",
    "       IEEE Transactions on systems, man, and cybernetics 6 (1973): 610-621.\n",
    "       :DOI:`10.1109/TSMC.1973.4309314` \n"
   ]
  },
  {
   "cell_type": "code",
   "execution_count": 1,
   "metadata": {},
   "outputs": [
    {
     "data": {
      "text/plain": [
       "<Figure size 800x800 with 10 Axes>"
      ]
     },
     "metadata": {},
     "output_type": "display_data"
    }
   ],
   "source": [
    "import matplotlib.pyplot as plt\n",
    "\n",
    "from skimage.feature import greycomatrix, greycoprops\n",
    "from skimage import data\n",
    "\n",
    "\n",
    "PATCH_SIZE = 21\n",
    "\n",
    "# open the camera image\n",
    "image = data.camera()\n",
    "\n",
    "# select some patches from grassy areas of the image\n",
    "grass_locations = [(474, 291), (440, 433), (466, 18), (462, 236)]\n",
    "grass_patches = []\n",
    "for loc in grass_locations:\n",
    "    grass_patches.append(image[loc[0]:loc[0] + PATCH_SIZE,\n",
    "                               loc[1]:loc[1] + PATCH_SIZE])\n",
    "\n",
    "# select some patches from sky areas of the image\n",
    "sky_locations = [(54, 48), (21, 233), (90, 380), (195, 330)]\n",
    "sky_patches = []\n",
    "for loc in sky_locations:\n",
    "    sky_patches.append(image[loc[0]:loc[0] + PATCH_SIZE,\n",
    "                             loc[1]:loc[1] + PATCH_SIZE])\n",
    "\n",
    "# compute some GLCM properties each patch\n",
    "xs = []\n",
    "ys = []\n",
    "for patch in (grass_patches + sky_patches):\n",
    "    glcm = greycomatrix(patch, distances=[5], angles=[0], levels=256,\n",
    "                        symmetric=True, normed=True)\n",
    "    xs.append(greycoprops(glcm, 'dissimilarity')[0, 0])\n",
    "    ys.append(greycoprops(glcm, 'correlation')[0, 0])\n",
    "\n",
    "# create the figure\n",
    "fig = plt.figure(figsize=(8, 8))\n",
    "\n",
    "# display original image with locations of patches\n",
    "ax = fig.add_subplot(3, 2, 1)\n",
    "ax.imshow(image, cmap=plt.cm.gray,\n",
    "          vmin=0, vmax=255)\n",
    "for (y, x) in grass_locations:\n",
    "    ax.plot(x + PATCH_SIZE / 2, y + PATCH_SIZE / 2, 'gs')\n",
    "for (y, x) in sky_locations:\n",
    "    ax.plot(x + PATCH_SIZE / 2, y + PATCH_SIZE / 2, 'bs')\n",
    "ax.set_xlabel('Original Image')\n",
    "ax.set_xticks([])\n",
    "ax.set_yticks([])\n",
    "ax.axis('image')\n",
    "\n",
    "# for each patch, plot (dissimilarity, correlation)\n",
    "ax = fig.add_subplot(3, 2, 2)\n",
    "ax.plot(xs[:len(grass_patches)], ys[:len(grass_patches)], 'go',\n",
    "        label='Grass')\n",
    "ax.plot(xs[len(grass_patches):], ys[len(grass_patches):], 'bo',\n",
    "        label='Sky')\n",
    "ax.set_xlabel('GLCM Dissimilarity')\n",
    "ax.set_ylabel('GLCM Correlation')\n",
    "ax.legend()\n",
    "\n",
    "# display the image patches\n",
    "for i, patch in enumerate(grass_patches):\n",
    "    ax = fig.add_subplot(3, len(grass_patches), len(grass_patches)*1 + i + 1)\n",
    "    ax.imshow(patch, cmap=plt.cm.gray,\n",
    "              vmin=0, vmax=255)\n",
    "    ax.set_xlabel('Grass %d' % (i + 1))\n",
    "\n",
    "for i, patch in enumerate(sky_patches):\n",
    "    ax = fig.add_subplot(3, len(sky_patches), len(sky_patches)*2 + i + 1)\n",
    "    ax.imshow(patch, cmap=plt.cm.gray,\n",
    "              vmin=0, vmax=255)\n",
    "    ax.set_xlabel('Sky %d' % (i + 1))\n",
    "\n",
    "\n",
    "# display the patches and plot\n",
    "fig.suptitle('Grey level co-occurrence matrix features', fontsize=14, y=1.05)\n",
    "plt.tight_layout()\n",
    "plt.show()"
   ]
  },
  {
   "cell_type": "code",
   "execution_count": 2,
   "metadata": {},
   "outputs": [
    {
     "data": {
      "text/plain": [
       "array([[156, 157, 160, ..., 152, 152, 152],\n",
       "       [156, 157, 159, ..., 152, 152, 152],\n",
       "       [158, 157, 156, ..., 152, 152, 152],\n",
       "       ...,\n",
       "       [121, 123, 126, ..., 121, 113, 111],\n",
       "       [121, 123, 126, ..., 121, 113, 111],\n",
       "       [121, 123, 126, ..., 121, 113, 111]], dtype=uint8)"
      ]
     },
     "execution_count": 2,
     "metadata": {},
     "output_type": "execute_result"
    }
   ],
   "source": [
    "image"
   ]
  },
  {
   "cell_type": "code",
   "execution_count": null,
   "metadata": {},
   "outputs": [],
   "source": []
  }
 ],
 "metadata": {
  "kernelspec": {
   "display_name": "Python 3",
   "language": "python",
   "name": "python3"
  },
  "language_info": {
   "codemirror_mode": {
    "name": "ipython",
    "version": 3
   },
   "file_extension": ".py",
   "mimetype": "text/x-python",
   "name": "python",
   "nbconvert_exporter": "python",
   "pygments_lexer": "ipython3",
   "version": "3.7.4"
  }
 },
 "nbformat": 4,
 "nbformat_minor": 1
}
