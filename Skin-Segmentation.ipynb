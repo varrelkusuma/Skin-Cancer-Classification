{
 "cells": [
  {
   "cell_type": "code",
   "execution_count": 1,
   "metadata": {},
   "outputs": [],
   "source": [
    "# Built-in imports\n",
    "import os\n",
    "\n",
    "# third-party imports\n",
    "import cv2\n",
    "import numpy as np"
   ]
  },
  {
   "cell_type": "code",
   "execution_count": 3,
   "metadata": {},
   "outputs": [],
   "source": [
    "# optional argument\n",
    "def nothing(x):\n",
    "    pass"
   ]
  },
  {
   "cell_type": "code",
   "execution_count": 4,
   "metadata": {},
   "outputs": [],
   "source": [
    "# easy assigments\n",
    "hh = 'Hue High'\n",
    "hl = 'Hue Low'\n",
    "sh = 'Saturation High'\n",
    "sl = 'Saturation Low'\n",
    "vh = 'Value High'\n",
    "vl = 'Value Low'\n",
    "\n",
    "cv2.createTrackbar(hl, 'image', 140, 255, nothing)\n",
    "cv2.createTrackbar(hh, 'image', 165, 255, nothing)\n",
    "cv2.createTrackbar(sl, 'image', 135, 255, nothing)\n",
    "cv2.createTrackbar(sh, 'image', 255, 255, nothing)\n",
    "cv2.createTrackbar(vl, 'image', 125, 255, nothing)\n",
    "cv2.createTrackbar(vh, 'image', 215, 255, nothing)"
   ]
  },
  {
   "cell_type": "code",
   "execution_count": null,
   "metadata": {},
   "outputs": [],
   "source": []
  }
 ],
 "metadata": {
  "kernelspec": {
   "display_name": "Python 3",
   "language": "python",
   "name": "python3"
  },
  "language_info": {
   "codemirror_mode": {
    "name": "ipython",
    "version": 3
   },
   "file_extension": ".py",
   "mimetype": "text/x-python",
   "name": "python",
   "nbconvert_exporter": "python",
   "pygments_lexer": "ipython3",
   "version": "3.7.4"
  }
 },
 "nbformat": 4,
 "nbformat_minor": 2
}
